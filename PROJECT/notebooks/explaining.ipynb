{
 "cells": [
  {
   "cell_type": "code",
   "execution_count": 31,
   "metadata": {},
   "outputs": [
    {
     "name": "stdout",
     "output_type": "stream",
     "text": [
      "The lab_black extension is already loaded. To reload it, use:\n",
      "  %reload_ext lab_black\n"
     ]
    }
   ],
   "source": [
    "%load_ext lab_black"
   ]
  },
  {
   "cell_type": "markdown",
   "metadata": {},
   "source": [
    "# Explaining part"
   ]
  },
  {
   "cell_type": "code",
   "execution_count": 1,
   "metadata": {},
   "outputs": [],
   "source": [
    "import os\n",
    "import sys\n",
    "\n",
    "sys.path.append('../')\n",
    "os.chdir('../')\n"
   ]
  },
  {
   "cell_type": "code",
   "execution_count": 3,
   "metadata": {},
   "outputs": [],
   "source": [
    "from pipelines.config import *"
   ]
  },
  {
   "cell_type": "code",
   "execution_count": 44,
   "metadata": {},
   "outputs": [],
   "source": [
    "import dalex as dx\n",
    "import pandas as pd\n",
    "import pickle as pkl\n",
    "import seaborn as sns"
   ]
  },
  {
   "cell_type": "code",
   "execution_count": 10,
   "metadata": {},
   "outputs": [],
   "source": [
    "def create_explainer(data_path: str, model_path: str, target: str, label: str):\n",
    "\n",
    "    df = pd.read_csv(data_path)\n",
    "    X = df.drop(columns=[target])\n",
    "    y = df[target]\n",
    "\n",
    "    with open(model_path, \"rb\") as f:\n",
    "        model = pkl.load(f)\n",
    "    explainer = dx.Explainer(model, X, y, label=label)\n",
    "    return explainer"
   ]
  },
  {
   "cell_type": "markdown",
   "metadata": {},
   "source": [
    "## Example of usage"
   ]
  },
  {
   "cell_type": "code",
   "execution_count": 32,
   "metadata": {},
   "outputs": [],
   "source": [
    "%%capture\n",
    "\n",
    "exp_ordinal = create_explainer(raw_data_full_path, os.path.join(model_path, 'ordinal.pkl'), 'median_house_value', 'MLP with ordinal encoding')\n",
    "exp_ordinal_power = create_explainer(raw_data_full_path, os.path.join(model_path, 'ordinal_power.pkl'), 'median_house_value', 'MLP with ordinal encoding and power transformation')\n",
    "exp_hot = create_explainer(raw_data_full_path, os.path.join(model_path, 'onehot.pkl'), 'median_house_value', 'MLP with onehot encoding')\n",
    "exp_hot_power = create_explainer(raw_data_full_path, os.path.join(model_path, 'onehot_power.pkl'), 'median_house_value', 'MLP with onehot encoding and power transformaiton')"
   ]
  },
  {
   "cell_type": "code",
   "execution_count": null,
   "metadata": {},
   "outputs": [],
   "source": [
    "# random obervation\n",
    "\n",
    "observation = pd.Series(\n",
    "    {\n",
    "        \"longitude\": -122.22,\n",
    "        \"latitude\": 37.86,\n",
    "        \"housing_median_age\": 21.0,\n",
    "        \"total_rooms\": 7099.0,\n",
    "        \"total_bedrooms\": 1106.0,\n",
    "        \"population\": 2401.0,\n",
    "        \"households\": 1138.0,\n",
    "        \"median_income\": 8.3014,\n",
    "        \"ocean_proximity\": \"NEAR BAY\",\n",
    "    }\n",
    ")"
   ]
  },
  {
   "cell_type": "markdown",
   "metadata": {},
   "source": [
    "## Comparing models behavior"
   ]
  },
  {
   "cell_type": "code",
   "execution_count": 34,
   "metadata": {},
   "outputs": [
    {
     "name": "stderr",
     "output_type": "stream",
     "text": [
      "Calculating ceteris paribus: 100%|██████████| 9/9 [00:00<00:00, 102.20it/s]\n",
      "Calculating ceteris paribus: 100%|██████████| 9/9 [00:00<00:00, 66.21it/s]\n",
      "Calculating ceteris paribus: 100%|██████████| 9/9 [00:00<00:00, 92.00it/s]\n",
      "Calculating ceteris paribus: 100%|██████████| 9/9 [00:00<00:00, 80.88it/s]\n"
     ]
    }
   ],
   "source": [
    "cp_ordinal = exp_ordinal.predict_profile(observation)\n",
    "cp_ordinal_power = exp_ordinal_power.predict_profile(observation)\n",
    "cp_hot = exp_hot.predict_profile(observation)\n",
    "cp_hot_power = exp_hot_power.predict_profile(observation)"
   ]
  },
  {
   "cell_type": "code",
   "execution_count": 37,
   "metadata": {},
   "outputs": [
    {
     "data": {
      "application/vnd.plotly.v1+json": {
       "config": {
        "displaylogo": false,
        "modeBarButtonsToRemove": [
         "sendDataToCloud",
         "lasso2d",
         "autoScale2d",
         "select2d",
         "zoom2d",
         "pan2d",
         "zoomIn2d",
         "zoomOut2d",
         "resetScale2d",
         "toggleSpikelines",
         "hoverCompareCartesian",
         "hoverClosestCartesian"
        ],
        "plotlyServerURL": "https://plot.ly",
        "staticPlot": false,
        "toImageButtonOptions": {
         "height": null,
         "width": null
        }
       },
       "data": [
        {
         "customdata": [
          [
           "</br>id: 0</br>prediction: 520016.925</br>total_bedrooms: 1.0</br></br>longitude: -122.22</br>latitude: 37.86</br>housing_median_age: 21.0</br>total_rooms: 7099.0</br>population: 2401.0</br>households: 1138.0</br>median_income: 8.3014</br>ocean_proximity: NEAR BAY</br>_original_yhat_: 456419.6510733085</br>"
          ],
          [
           "</br>id: 0</br>prediction: 510816.643</br>total_bedrooms: 65.44</br></br>longitude: -122.22</br>latitude: 37.86</br>housing_median_age: 21.0</br>total_rooms: 7099.0</br>population: 2401.0</br>households: 1138.0</br>median_income: 8.3014</br>ocean_proximity: NEAR BAY</br>_original_yhat_: 456419.6510733085</br>"
          ],
          [
           "</br>id: 0</br>prediction: 501616.361</br>total_bedrooms: 129.88</br></br>longitude: -122.22</br>latitude: 37.86</br>housing_median_age: 21.0</br>total_rooms: 7099.0</br>population: 2401.0</br>households: 1138.0</br>median_income: 8.3014</br>ocean_proximity: NEAR BAY</br>_original_yhat_: 456419.6510733085</br>"
          ],
          [
           "</br>id: 0</br>prediction: 492416.079</br>total_bedrooms: 194.32</br></br>longitude: -122.22</br>latitude: 37.86</br>housing_median_age: 21.0</br>total_rooms: 7099.0</br>population: 2401.0</br>households: 1138.0</br>median_income: 8.3014</br>ocean_proximity: NEAR BAY</br>_original_yhat_: 456419.6510733085</br>"
          ],
          [
           "</br>id: 0</br>prediction: 483215.798</br>total_bedrooms: 258.76</br></br>longitude: -122.22</br>latitude: 37.86</br>housing_median_age: 21.0</br>total_rooms: 7099.0</br>population: 2401.0</br>households: 1138.0</br>median_income: 8.3014</br>ocean_proximity: NEAR BAY</br>_original_yhat_: 456419.6510733085</br>"
          ],
          [
           "</br>id: 0</br>prediction: 476374.72</br>total_bedrooms: 323.2</br></br>longitude: -122.22</br>latitude: 37.86</br>housing_median_age: 21.0</br>total_rooms: 7099.0</br>population: 2401.0</br>households: 1138.0</br>median_income: 8.3014</br>ocean_proximity: NEAR BAY</br>_original_yhat_: 456419.6510733085</br>"
          ],
          [
           "</br>id: 0</br>prediction: 472811.632</br>total_bedrooms: 387.64</br></br>longitude: -122.22</br>latitude: 37.86</br>housing_median_age: 21.0</br>total_rooms: 7099.0</br>population: 2401.0</br>households: 1138.0</br>median_income: 8.3014</br>ocean_proximity: NEAR BAY</br>_original_yhat_: 456419.6510733085</br>"
          ],
          [
           "</br>id: 0</br>prediction: 469248.544</br>total_bedrooms: 452.08</br></br>longitude: -122.22</br>latitude: 37.86</br>housing_median_age: 21.0</br>total_rooms: 7099.0</br>population: 2401.0</br>households: 1138.0</br>median_income: 8.3014</br>ocean_proximity: NEAR BAY</br>_original_yhat_: 456419.6510733085</br>"
          ],
          [
           "</br>id: 0</br>prediction: 465685.456</br>total_bedrooms: 516.52</br></br>longitude: -122.22</br>latitude: 37.86</br>housing_median_age: 21.0</br>total_rooms: 7099.0</br>population: 2401.0</br>households: 1138.0</br>median_income: 8.3014</br>ocean_proximity: NEAR BAY</br>_original_yhat_: 456419.6510733085</br>"
          ],
          [
           "</br>id: 0</br>prediction: 462122.368</br>total_bedrooms: 580.96</br></br>longitude: -122.22</br>latitude: 37.86</br>housing_median_age: 21.0</br>total_rooms: 7099.0</br>population: 2401.0</br>households: 1138.0</br>median_income: 8.3014</br>ocean_proximity: NEAR BAY</br>_original_yhat_: 456419.6510733085</br>"
          ],
          [
           "</br>id: 0</br>prediction: 458559.28</br>total_bedrooms: 645.4</br></br>longitude: -122.22</br>latitude: 37.86</br>housing_median_age: 21.0</br>total_rooms: 7099.0</br>population: 2401.0</br>households: 1138.0</br>median_income: 8.3014</br>ocean_proximity: NEAR BAY</br>_original_yhat_: 456419.6510733085</br>"
          ],
          [
           "</br>id: 0</br>prediction: 456952.739</br>total_bedrooms: 709.8399999999999</br></br>longitude: -122.22</br>latitude: 37.86</br>housing_median_age: 21.0</br>total_rooms: 7099.0</br>population: 2401.0</br>households: 1138.0</br>median_income: 8.3014</br>ocean_proximity: NEAR BAY</br>_original_yhat_: 456419.6510733085</br>"
          ],
          [
           "</br>id: 0</br>prediction: 455149.869</br>total_bedrooms: 774.28</br></br>longitude: -122.22</br>latitude: 37.86</br>housing_median_age: 21.0</br>total_rooms: 7099.0</br>population: 2401.0</br>households: 1138.0</br>median_income: 8.3014</br>ocean_proximity: NEAR BAY</br>_original_yhat_: 456419.6510733085</br>"
          ],
          [
           "</br>id: 0</br>prediction: 453346.999</br>total_bedrooms: 838.72</br></br>longitude: -122.22</br>latitude: 37.86</br>housing_median_age: 21.0</br>total_rooms: 7099.0</br>population: 2401.0</br>households: 1138.0</br>median_income: 8.3014</br>ocean_proximity: NEAR BAY</br>_original_yhat_: 456419.6510733085</br>"
          ],
          [
           "</br>id: 0</br>prediction: 451544.13</br>total_bedrooms: 903.16</br></br>longitude: -122.22</br>latitude: 37.86</br>housing_median_age: 21.0</br>total_rooms: 7099.0</br>population: 2401.0</br>households: 1138.0</br>median_income: 8.3014</br>ocean_proximity: NEAR BAY</br>_original_yhat_: 456419.6510733085</br>"
          ],
          [
           "</br>id: 0</br>prediction: 449741.26</br>total_bedrooms: 967.5999999999999</br></br>longitude: -122.22</br>latitude: 37.86</br>housing_median_age: 21.0</br>total_rooms: 7099.0</br>population: 2401.0</br>households: 1138.0</br>median_income: 8.3014</br>ocean_proximity: NEAR BAY</br>_original_yhat_: 456419.6510733085</br>"
          ],
          [
           "</br>id: 0</br>prediction: 449767.396</br>total_bedrooms: 1032.04</br></br>longitude: -122.22</br>latitude: 37.86</br>housing_median_age: 21.0</br>total_rooms: 7099.0</br>population: 2401.0</br>households: 1138.0</br>median_income: 8.3014</br>ocean_proximity: NEAR BAY</br>_original_yhat_: 456419.6510733085</br>"
          ],
          [
           "</br>id: 0</br>prediction: 455021.175</br>total_bedrooms: 1096.48</br></br>longitude: -122.22</br>latitude: 37.86</br>housing_median_age: 21.0</br>total_rooms: 7099.0</br>population: 2401.0</br>households: 1138.0</br>median_income: 8.3014</br>ocean_proximity: NEAR BAY</br>_original_yhat_: 456419.6510733085</br>"
          ],
          [
           "</br>id: 0</br>prediction: 456419.651</br>total_bedrooms: 1106.0</br></br>longitude: -122.22</br>latitude: 37.86</br>housing_median_age: 21.0</br>total_rooms: 7099.0</br>population: 2401.0</br>households: 1138.0</br>median_income: 8.3014</br>ocean_proximity: NEAR BAY</br>_original_yhat_: 456419.6510733085</br>"
          ],
          [
           "</br>id: 0</br>prediction: 464487.328</br>total_bedrooms: 1160.92</br></br>longitude: -122.22</br>latitude: 37.86</br>housing_median_age: 21.0</br>total_rooms: 7099.0</br>population: 2401.0</br>households: 1138.0</br>median_income: 8.3014</br>ocean_proximity: NEAR BAY</br>_original_yhat_: 456419.6510733085</br>"
          ],
          [
           "</br>id: 0</br>prediction: 473953.481</br>total_bedrooms: 1225.36</br></br>longitude: -122.22</br>latitude: 37.86</br>housing_median_age: 21.0</br>total_rooms: 7099.0</br>population: 2401.0</br>households: 1138.0</br>median_income: 8.3014</br>ocean_proximity: NEAR BAY</br>_original_yhat_: 456419.6510733085</br>"
          ],
          [
           "</br>id: 0</br>prediction: 474424.347</br>total_bedrooms: 1289.8</br></br>longitude: -122.22</br>latitude: 37.86</br>housing_median_age: 21.0</br>total_rooms: 7099.0</br>population: 2401.0</br>households: 1138.0</br>median_income: 8.3014</br>ocean_proximity: NEAR BAY</br>_original_yhat_: 456419.6510733085</br>"
          ],
          [
           "</br>id: 0</br>prediction: 473012.327</br>total_bedrooms: 1354.24</br></br>longitude: -122.22</br>latitude: 37.86</br>housing_median_age: 21.0</br>total_rooms: 7099.0</br>population: 2401.0</br>households: 1138.0</br>median_income: 8.3014</br>ocean_proximity: NEAR BAY</br>_original_yhat_: 456419.6510733085</br>"
          ],
          [
           "</br>id: 0</br>prediction: 471600.308</br>total_bedrooms: 1418.6799999999998</br></br>longitude: -122.22</br>latitude: 37.86</br>housing_median_age: 21.0</br>total_rooms: 7099.0</br>population: 2401.0</br>households: 1138.0</br>median_income: 8.3014</br>ocean_proximity: NEAR BAY</br>_original_yhat_: 456419.6510733085</br>"
          ],
          [
           "</br>id: 0</br>prediction: 470188.289</br>total_bedrooms: 1483.12</br></br>longitude: -122.22</br>latitude: 37.86</br>housing_median_age: 21.0</br>total_rooms: 7099.0</br>population: 2401.0</br>households: 1138.0</br>median_income: 8.3014</br>ocean_proximity: NEAR BAY</br>_original_yhat_: 456419.6510733085</br>"
          ],
          [
           "</br>id: 0</br>prediction: 468776.27</br>total_bedrooms: 1547.56</br></br>longitude: -122.22</br>latitude: 37.86</br>housing_median_age: 21.0</br>total_rooms: 7099.0</br>population: 2401.0</br>households: 1138.0</br>median_income: 8.3014</br>ocean_proximity: NEAR BAY</br>_original_yhat_: 456419.6510733085</br>"
          ],
          [
           "</br>id: 0</br>prediction: 467364.251</br>total_bedrooms: 1612.0</br></br>longitude: -122.22</br>latitude: 37.86</br>housing_median_age: 21.0</br>total_rooms: 7099.0</br>population: 2401.0</br>households: 1138.0</br>median_income: 8.3014</br>ocean_proximity: NEAR BAY</br>_original_yhat_: 456419.6510733085</br>"
          ],
          [
           "</br>id: 0</br>prediction: 465952.231</br>total_bedrooms: 1676.44</br></br>longitude: -122.22</br>latitude: 37.86</br>housing_median_age: 21.0</br>total_rooms: 7099.0</br>population: 2401.0</br>households: 1138.0</br>median_income: 8.3014</br>ocean_proximity: NEAR BAY</br>_original_yhat_: 456419.6510733085</br>"
          ],
          [
           "</br>id: 0</br>prediction: 464540.212</br>total_bedrooms: 1740.8799999999999</br></br>longitude: -122.22</br>latitude: 37.86</br>housing_median_age: 21.0</br>total_rooms: 7099.0</br>population: 2401.0</br>households: 1138.0</br>median_income: 8.3014</br>ocean_proximity: NEAR BAY</br>_original_yhat_: 456419.6510733085</br>"
          ],
          [
           "</br>id: 0</br>prediction: 463025.53</br>total_bedrooms: 1805.32</br></br>longitude: -122.22</br>latitude: 37.86</br>housing_median_age: 21.0</br>total_rooms: 7099.0</br>population: 2401.0</br>households: 1138.0</br>median_income: 8.3014</br>ocean_proximity: NEAR BAY</br>_original_yhat_: 456419.6510733085</br>"
          ],
          [
           "</br>id: 0</br>prediction: 457248.294</br>total_bedrooms: 1869.76</br></br>longitude: -122.22</br>latitude: 37.86</br>housing_median_age: 21.0</br>total_rooms: 7099.0</br>population: 2401.0</br>households: 1138.0</br>median_income: 8.3014</br>ocean_proximity: NEAR BAY</br>_original_yhat_: 456419.6510733085</br>"
          ],
          [
           "</br>id: 0</br>prediction: 450701.166</br>total_bedrooms: 1934.1999999999998</br></br>longitude: -122.22</br>latitude: 37.86</br>housing_median_age: 21.0</br>total_rooms: 7099.0</br>population: 2401.0</br>households: 1138.0</br>median_income: 8.3014</br>ocean_proximity: NEAR BAY</br>_original_yhat_: 456419.6510733085</br>"
          ],
          [
           "</br>id: 0</br>prediction: 444154.038</br>total_bedrooms: 1998.6399999999999</br></br>longitude: -122.22</br>latitude: 37.86</br>housing_median_age: 21.0</br>total_rooms: 7099.0</br>population: 2401.0</br>households: 1138.0</br>median_income: 8.3014</br>ocean_proximity: NEAR BAY</br>_original_yhat_: 456419.6510733085</br>"
          ],
          [
           "</br>id: 0</br>prediction: 437606.91</br>total_bedrooms: 2063.08</br></br>longitude: -122.22</br>latitude: 37.86</br>housing_median_age: 21.0</br>total_rooms: 7099.0</br>population: 2401.0</br>households: 1138.0</br>median_income: 8.3014</br>ocean_proximity: NEAR BAY</br>_original_yhat_: 456419.6510733085</br>"
          ],
          [
           "</br>id: 0</br>prediction: 431059.782</br>total_bedrooms: 2127.52</br></br>longitude: -122.22</br>latitude: 37.86</br>housing_median_age: 21.0</br>total_rooms: 7099.0</br>population: 2401.0</br>households: 1138.0</br>median_income: 8.3014</br>ocean_proximity: NEAR BAY</br>_original_yhat_: 456419.6510733085</br>"
          ],
          [
           "</br>id: 0</br>prediction: 424512.653</br>total_bedrooms: 2191.96</br></br>longitude: -122.22</br>latitude: 37.86</br>housing_median_age: 21.0</br>total_rooms: 7099.0</br>population: 2401.0</br>households: 1138.0</br>median_income: 8.3014</br>ocean_proximity: NEAR BAY</br>_original_yhat_: 456419.6510733085</br>"
          ],
          [
           "</br>id: 0</br>prediction: 417965.525</br>total_bedrooms: 2256.4</br></br>longitude: -122.22</br>latitude: 37.86</br>housing_median_age: 21.0</br>total_rooms: 7099.0</br>population: 2401.0</br>households: 1138.0</br>median_income: 8.3014</br>ocean_proximity: NEAR BAY</br>_original_yhat_: 456419.6510733085</br>"
          ],
          [
           "</br>id: 0</br>prediction: 411418.397</br>total_bedrooms: 2320.84</br></br>longitude: -122.22</br>latitude: 37.86</br>housing_median_age: 21.0</br>total_rooms: 7099.0</br>population: 2401.0</br>households: 1138.0</br>median_income: 8.3014</br>ocean_proximity: NEAR BAY</br>_original_yhat_: 456419.6510733085</br>"
          ],
          [
           "</br>id: 0</br>prediction: 404871.269</br>total_bedrooms: 2385.2799999999997</br></br>longitude: -122.22</br>latitude: 37.86</br>housing_median_age: 21.0</br>total_rooms: 7099.0</br>population: 2401.0</br>households: 1138.0</br>median_income: 8.3014</br>ocean_proximity: NEAR BAY</br>_original_yhat_: 456419.6510733085</br>"
          ],
          [
           "</br>id: 0</br>prediction: 398324.141</br>total_bedrooms: 2449.72</br></br>longitude: -122.22</br>latitude: 37.86</br>housing_median_age: 21.0</br>total_rooms: 7099.0</br>population: 2401.0</br>households: 1138.0</br>median_income: 8.3014</br>ocean_proximity: NEAR BAY</br>_original_yhat_: 456419.6510733085</br>"
          ],
          [
           "</br>id: 0</br>prediction: 391777.013</br>total_bedrooms: 2514.16</br></br>longitude: -122.22</br>latitude: 37.86</br>housing_median_age: 21.0</br>total_rooms: 7099.0</br>population: 2401.0</br>households: 1138.0</br>median_income: 8.3014</br>ocean_proximity: NEAR BAY</br>_original_yhat_: 456419.6510733085</br>"
          ],
          [
           "</br>id: 0</br>prediction: 385229.885</br>total_bedrooms: 2578.6</br></br>longitude: -122.22</br>latitude: 37.86</br>housing_median_age: 21.0</br>total_rooms: 7099.0</br>population: 2401.0</br>households: 1138.0</br>median_income: 8.3014</br>ocean_proximity: NEAR BAY</br>_original_yhat_: 456419.6510733085</br>"
          ],
          [
           "</br>id: 0</br>prediction: 378682.757</br>total_bedrooms: 2643.04</br></br>longitude: -122.22</br>latitude: 37.86</br>housing_median_age: 21.0</br>total_rooms: 7099.0</br>population: 2401.0</br>households: 1138.0</br>median_income: 8.3014</br>ocean_proximity: NEAR BAY</br>_original_yhat_: 456419.6510733085</br>"
          ],
          [
           "</br>id: 0</br>prediction: 372135.629</br>total_bedrooms: 2707.48</br></br>longitude: -122.22</br>latitude: 37.86</br>housing_median_age: 21.0</br>total_rooms: 7099.0</br>population: 2401.0</br>households: 1138.0</br>median_income: 8.3014</br>ocean_proximity: NEAR BAY</br>_original_yhat_: 456419.6510733085</br>"
          ],
          [
           "</br>id: 0</br>prediction: 365588.501</br>total_bedrooms: 2771.92</br></br>longitude: -122.22</br>latitude: 37.86</br>housing_median_age: 21.0</br>total_rooms: 7099.0</br>population: 2401.0</br>households: 1138.0</br>median_income: 8.3014</br>ocean_proximity: NEAR BAY</br>_original_yhat_: 456419.6510733085</br>"
          ],
          [
           "</br>id: 0</br>prediction: 359041.373</br>total_bedrooms: 2836.3599999999997</br></br>longitude: -122.22</br>latitude: 37.86</br>housing_median_age: 21.0</br>total_rooms: 7099.0</br>population: 2401.0</br>households: 1138.0</br>median_income: 8.3014</br>ocean_proximity: NEAR BAY</br>_original_yhat_: 456419.6510733085</br>"
          ],
          [
           "</br>id: 0</br>prediction: 352494.245</br>total_bedrooms: 2900.7999999999997</br></br>longitude: -122.22</br>latitude: 37.86</br>housing_median_age: 21.0</br>total_rooms: 7099.0</br>population: 2401.0</br>households: 1138.0</br>median_income: 8.3014</br>ocean_proximity: NEAR BAY</br>_original_yhat_: 456419.6510733085</br>"
          ],
          [
           "</br>id: 0</br>prediction: 345947.117</br>total_bedrooms: 2965.24</br></br>longitude: -122.22</br>latitude: 37.86</br>housing_median_age: 21.0</br>total_rooms: 7099.0</br>population: 2401.0</br>households: 1138.0</br>median_income: 8.3014</br>ocean_proximity: NEAR BAY</br>_original_yhat_: 456419.6510733085</br>"
          ],
          [
           "</br>id: 0</br>prediction: 350030.642</br>total_bedrooms: 3029.68</br></br>longitude: -122.22</br>latitude: 37.86</br>housing_median_age: 21.0</br>total_rooms: 7099.0</br>population: 2401.0</br>households: 1138.0</br>median_income: 8.3014</br>ocean_proximity: NEAR BAY</br>_original_yhat_: 456419.6510733085</br>"
          ],
          [
           "</br>id: 0</br>prediction: 358363.39</br>total_bedrooms: 3094.12</br></br>longitude: -122.22</br>latitude: 37.86</br>housing_median_age: 21.0</br>total_rooms: 7099.0</br>population: 2401.0</br>households: 1138.0</br>median_income: 8.3014</br>ocean_proximity: NEAR BAY</br>_original_yhat_: 456419.6510733085</br>"
          ],
          [
           "</br>id: 0</br>prediction: 366696.137</br>total_bedrooms: 3158.56</br></br>longitude: -122.22</br>latitude: 37.86</br>housing_median_age: 21.0</br>total_rooms: 7099.0</br>population: 2401.0</br>households: 1138.0</br>median_income: 8.3014</br>ocean_proximity: NEAR BAY</br>_original_yhat_: 456419.6510733085</br>"
          ],
          [
           "</br>id: 0</br>prediction: 375028.885</br>total_bedrooms: 3223.0</br></br>longitude: -122.22</br>latitude: 37.86</br>housing_median_age: 21.0</br>total_rooms: 7099.0</br>population: 2401.0</br>households: 1138.0</br>median_income: 8.3014</br>ocean_proximity: NEAR BAY</br>_original_yhat_: 456419.6510733085</br>"
          ],
          [
           "</br>id: 0</br>prediction: 383361.632</br>total_bedrooms: 3287.44</br></br>longitude: -122.22</br>latitude: 37.86</br>housing_median_age: 21.0</br>total_rooms: 7099.0</br>population: 2401.0</br>households: 1138.0</br>median_income: 8.3014</br>ocean_proximity: NEAR BAY</br>_original_yhat_: 456419.6510733085</br>"
          ],
          [
           "</br>id: 0</br>prediction: 391694.38</br>total_bedrooms: 3351.88</br></br>longitude: -122.22</br>latitude: 37.86</br>housing_median_age: 21.0</br>total_rooms: 7099.0</br>population: 2401.0</br>households: 1138.0</br>median_income: 8.3014</br>ocean_proximity: NEAR BAY</br>_original_yhat_: 456419.6510733085</br>"
          ],
          [
           "</br>id: 0</br>prediction: 400027.127</br>total_bedrooms: 3416.3199999999997</br></br>longitude: -122.22</br>latitude: 37.86</br>housing_median_age: 21.0</br>total_rooms: 7099.0</br>population: 2401.0</br>households: 1138.0</br>median_income: 8.3014</br>ocean_proximity: NEAR BAY</br>_original_yhat_: 456419.6510733085</br>"
          ],
          [
           "</br>id: 0</br>prediction: 408355.101</br>total_bedrooms: 3480.7599999999998</br></br>longitude: -122.22</br>latitude: 37.86</br>housing_median_age: 21.0</br>total_rooms: 7099.0</br>population: 2401.0</br>households: 1138.0</br>median_income: 8.3014</br>ocean_proximity: NEAR BAY</br>_original_yhat_: 456419.6510733085</br>"
          ],
          [
           "</br>id: 0</br>prediction: 416680.217</br>total_bedrooms: 3545.2</br></br>longitude: -122.22</br>latitude: 37.86</br>housing_median_age: 21.0</br>total_rooms: 7099.0</br>population: 2401.0</br>households: 1138.0</br>median_income: 8.3014</br>ocean_proximity: NEAR BAY</br>_original_yhat_: 456419.6510733085</br>"
          ],
          [
           "</br>id: 0</br>prediction: 425005.332</br>total_bedrooms: 3609.64</br></br>longitude: -122.22</br>latitude: 37.86</br>housing_median_age: 21.0</br>total_rooms: 7099.0</br>population: 2401.0</br>households: 1138.0</br>median_income: 8.3014</br>ocean_proximity: NEAR BAY</br>_original_yhat_: 456419.6510733085</br>"
          ],
          [
           "</br>id: 0</br>prediction: 433330.448</br>total_bedrooms: 3674.08</br></br>longitude: -122.22</br>latitude: 37.86</br>housing_median_age: 21.0</br>total_rooms: 7099.0</br>population: 2401.0</br>households: 1138.0</br>median_income: 8.3014</br>ocean_proximity: NEAR BAY</br>_original_yhat_: 456419.6510733085</br>"
          ],
          [
           "</br>id: 0</br>prediction: 441655.564</br>total_bedrooms: 3738.52</br></br>longitude: -122.22</br>latitude: 37.86</br>housing_median_age: 21.0</br>total_rooms: 7099.0</br>population: 2401.0</br>households: 1138.0</br>median_income: 8.3014</br>ocean_proximity: NEAR BAY</br>_original_yhat_: 456419.6510733085</br>"
          ],
          [
           "</br>id: 0</br>prediction: 449980.679</br>total_bedrooms: 3802.96</br></br>longitude: -122.22</br>latitude: 37.86</br>housing_median_age: 21.0</br>total_rooms: 7099.0</br>population: 2401.0</br>households: 1138.0</br>median_income: 8.3014</br>ocean_proximity: NEAR BAY</br>_original_yhat_: 456419.6510733085</br>"
          ],
          [
           "</br>id: 0</br>prediction: 458301.634</br>total_bedrooms: 3867.3999999999996</br></br>longitude: -122.22</br>latitude: 37.86</br>housing_median_age: 21.0</br>total_rooms: 7099.0</br>population: 2401.0</br>households: 1138.0</br>median_income: 8.3014</br>ocean_proximity: NEAR BAY</br>_original_yhat_: 456419.6510733085</br>"
          ],
          [
           "</br>id: 0</br>prediction: 466620.807</br>total_bedrooms: 3931.8399999999997</br></br>longitude: -122.22</br>latitude: 37.86</br>housing_median_age: 21.0</br>total_rooms: 7099.0</br>population: 2401.0</br>households: 1138.0</br>median_income: 8.3014</br>ocean_proximity: NEAR BAY</br>_original_yhat_: 456419.6510733085</br>"
          ],
          [
           "</br>id: 0</br>prediction: 474939.981</br>total_bedrooms: 3996.2799999999997</br></br>longitude: -122.22</br>latitude: 37.86</br>housing_median_age: 21.0</br>total_rooms: 7099.0</br>population: 2401.0</br>households: 1138.0</br>median_income: 8.3014</br>ocean_proximity: NEAR BAY</br>_original_yhat_: 456419.6510733085</br>"
          ],
          [
           "</br>id: 0</br>prediction: 483259.155</br>total_bedrooms: 4060.72</br></br>longitude: -122.22</br>latitude: 37.86</br>housing_median_age: 21.0</br>total_rooms: 7099.0</br>population: 2401.0</br>households: 1138.0</br>median_income: 8.3014</br>ocean_proximity: NEAR BAY</br>_original_yhat_: 456419.6510733085</br>"
          ],
          [
           "</br>id: 0</br>prediction: 491578.328</br>total_bedrooms: 4125.16</br></br>longitude: -122.22</br>latitude: 37.86</br>housing_median_age: 21.0</br>total_rooms: 7099.0</br>population: 2401.0</br>households: 1138.0</br>median_income: 8.3014</br>ocean_proximity: NEAR BAY</br>_original_yhat_: 456419.6510733085</br>"
          ],
          [
           "</br>id: 0</br>prediction: 499897.502</br>total_bedrooms: 4189.599999999999</br></br>longitude: -122.22</br>latitude: 37.86</br>housing_median_age: 21.0</br>total_rooms: 7099.0</br>population: 2401.0</br>households: 1138.0</br>median_income: 8.3014</br>ocean_proximity: NEAR BAY</br>_original_yhat_: 456419.6510733085</br>"
          ],
          [
           "</br>id: 0</br>prediction: 508216.676</br>total_bedrooms: 4254.04</br></br>longitude: -122.22</br>latitude: 37.86</br>housing_median_age: 21.0</br>total_rooms: 7099.0</br>population: 2401.0</br>households: 1138.0</br>median_income: 8.3014</br>ocean_proximity: NEAR BAY</br>_original_yhat_: 456419.6510733085</br>"
          ],
          [
           "</br>id: 0</br>prediction: 516535.849</br>total_bedrooms: 4318.48</br></br>longitude: -122.22</br>latitude: 37.86</br>housing_median_age: 21.0</br>total_rooms: 7099.0</br>population: 2401.0</br>households: 1138.0</br>median_income: 8.3014</br>ocean_proximity: NEAR BAY</br>_original_yhat_: 456419.6510733085</br>"
          ],
          [
           "</br>id: 0</br>prediction: 524855.023</br>total_bedrooms: 4382.92</br></br>longitude: -122.22</br>latitude: 37.86</br>housing_median_age: 21.0</br>total_rooms: 7099.0</br>population: 2401.0</br>households: 1138.0</br>median_income: 8.3014</br>ocean_proximity: NEAR BAY</br>_original_yhat_: 456419.6510733085</br>"
          ],
          [
           "</br>id: 0</br>prediction: 533174.197</br>total_bedrooms: 4447.36</br></br>longitude: -122.22</br>latitude: 37.86</br>housing_median_age: 21.0</br>total_rooms: 7099.0</br>population: 2401.0</br>households: 1138.0</br>median_income: 8.3014</br>ocean_proximity: NEAR BAY</br>_original_yhat_: 456419.6510733085</br>"
          ],
          [
           "</br>id: 0</br>prediction: 541493.371</br>total_bedrooms: 4511.8</br></br>longitude: -122.22</br>latitude: 37.86</br>housing_median_age: 21.0</br>total_rooms: 7099.0</br>population: 2401.0</br>households: 1138.0</br>median_income: 8.3014</br>ocean_proximity: NEAR BAY</br>_original_yhat_: 456419.6510733085</br>"
          ],
          [
           "</br>id: 0</br>prediction: 549812.544</br>total_bedrooms: 4576.24</br></br>longitude: -122.22</br>latitude: 37.86</br>housing_median_age: 21.0</br>total_rooms: 7099.0</br>population: 2401.0</br>households: 1138.0</br>median_income: 8.3014</br>ocean_proximity: NEAR BAY</br>_original_yhat_: 456419.6510733085</br>"
          ],
          [
           "</br>id: 0</br>prediction: 558131.718</br>total_bedrooms: 4640.68</br></br>longitude: -122.22</br>latitude: 37.86</br>housing_median_age: 21.0</br>total_rooms: 7099.0</br>population: 2401.0</br>households: 1138.0</br>median_income: 8.3014</br>ocean_proximity: NEAR BAY</br>_original_yhat_: 456419.6510733085</br>"
          ],
          [
           "</br>id: 0</br>prediction: 563931.18</br>total_bedrooms: 4705.12</br></br>longitude: -122.22</br>latitude: 37.86</br>housing_median_age: 21.0</br>total_rooms: 7099.0</br>population: 2401.0</br>households: 1138.0</br>median_income: 8.3014</br>ocean_proximity: NEAR BAY</br>_original_yhat_: 456419.6510733085</br>"
          ],
          [
           "</br>id: 0</br>prediction: 568733.576</br>total_bedrooms: 4769.5599999999995</br></br>longitude: -122.22</br>latitude: 37.86</br>housing_median_age: 21.0</br>total_rooms: 7099.0</br>population: 2401.0</br>households: 1138.0</br>median_income: 8.3014</br>ocean_proximity: NEAR BAY</br>_original_yhat_: 456419.6510733085</br>"
          ],
          [
           "</br>id: 0</br>prediction: 573535.972</br>total_bedrooms: 4834.0</br></br>longitude: -122.22</br>latitude: 37.86</br>housing_median_age: 21.0</br>total_rooms: 7099.0</br>population: 2401.0</br>households: 1138.0</br>median_income: 8.3014</br>ocean_proximity: NEAR BAY</br>_original_yhat_: 456419.6510733085</br>"
          ],
          [
           "</br>id: 0</br>prediction: 578338.368</br>total_bedrooms: 4898.44</br></br>longitude: -122.22</br>latitude: 37.86</br>housing_median_age: 21.0</br>total_rooms: 7099.0</br>population: 2401.0</br>households: 1138.0</br>median_income: 8.3014</br>ocean_proximity: NEAR BAY</br>_original_yhat_: 456419.6510733085</br>"
          ],
          [
           "</br>id: 0</br>prediction: 583140.764</br>total_bedrooms: 4962.88</br></br>longitude: -122.22</br>latitude: 37.86</br>housing_median_age: 21.0</br>total_rooms: 7099.0</br>population: 2401.0</br>households: 1138.0</br>median_income: 8.3014</br>ocean_proximity: NEAR BAY</br>_original_yhat_: 456419.6510733085</br>"
          ],
          [
           "</br>id: 0</br>prediction: 587943.161</br>total_bedrooms: 5027.32</br></br>longitude: -122.22</br>latitude: 37.86</br>housing_median_age: 21.0</br>total_rooms: 7099.0</br>population: 2401.0</br>households: 1138.0</br>median_income: 8.3014</br>ocean_proximity: NEAR BAY</br>_original_yhat_: 456419.6510733085</br>"
          ],
          [
           "</br>id: 0</br>prediction: 592745.557</br>total_bedrooms: 5091.76</br></br>longitude: -122.22</br>latitude: 37.86</br>housing_median_age: 21.0</br>total_rooms: 7099.0</br>population: 2401.0</br>households: 1138.0</br>median_income: 8.3014</br>ocean_proximity: NEAR BAY</br>_original_yhat_: 456419.6510733085</br>"
          ],
          [
           "</br>id: 0</br>prediction: 597547.953</br>total_bedrooms: 5156.2</br></br>longitude: -122.22</br>latitude: 37.86</br>housing_median_age: 21.0</br>total_rooms: 7099.0</br>population: 2401.0</br>households: 1138.0</br>median_income: 8.3014</br>ocean_proximity: NEAR BAY</br>_original_yhat_: 456419.6510733085</br>"
          ],
          [
           "</br>id: 0</br>prediction: 602350.349</br>total_bedrooms: 5220.639999999999</br></br>longitude: -122.22</br>latitude: 37.86</br>housing_median_age: 21.0</br>total_rooms: 7099.0</br>population: 2401.0</br>households: 1138.0</br>median_income: 8.3014</br>ocean_proximity: NEAR BAY</br>_original_yhat_: 456419.6510733085</br>"
          ],
          [
           "</br>id: 0</br>prediction: 607152.745</br>total_bedrooms: 5285.08</br></br>longitude: -122.22</br>latitude: 37.86</br>housing_median_age: 21.0</br>total_rooms: 7099.0</br>population: 2401.0</br>households: 1138.0</br>median_income: 8.3014</br>ocean_proximity: NEAR BAY</br>_original_yhat_: 456419.6510733085</br>"
          ],
          [
           "</br>id: 0</br>prediction: 611955.141</br>total_bedrooms: 5349.5199999999995</br></br>longitude: -122.22</br>latitude: 37.86</br>housing_median_age: 21.0</br>total_rooms: 7099.0</br>population: 2401.0</br>households: 1138.0</br>median_income: 8.3014</br>ocean_proximity: NEAR BAY</br>_original_yhat_: 456419.6510733085</br>"
          ],
          [
           "</br>id: 0</br>prediction: 616757.537</br>total_bedrooms: 5413.96</br></br>longitude: -122.22</br>latitude: 37.86</br>housing_median_age: 21.0</br>total_rooms: 7099.0</br>population: 2401.0</br>households: 1138.0</br>median_income: 8.3014</br>ocean_proximity: NEAR BAY</br>_original_yhat_: 456419.6510733085</br>"
          ],
          [
           "</br>id: 0</br>prediction: 621559.933</br>total_bedrooms: 5478.4</br></br>longitude: -122.22</br>latitude: 37.86</br>housing_median_age: 21.0</br>total_rooms: 7099.0</br>population: 2401.0</br>households: 1138.0</br>median_income: 8.3014</br>ocean_proximity: NEAR BAY</br>_original_yhat_: 456419.6510733085</br>"
          ],
          [
           "</br>id: 0</br>prediction: 626362.329</br>total_bedrooms: 5542.84</br></br>longitude: -122.22</br>latitude: 37.86</br>housing_median_age: 21.0</br>total_rooms: 7099.0</br>population: 2401.0</br>households: 1138.0</br>median_income: 8.3014</br>ocean_proximity: NEAR BAY</br>_original_yhat_: 456419.6510733085</br>"
          ],
          [
           "</br>id: 0</br>prediction: 631164.725</br>total_bedrooms: 5607.28</br></br>longitude: -122.22</br>latitude: 37.86</br>housing_median_age: 21.0</br>total_rooms: 7099.0</br>population: 2401.0</br>households: 1138.0</br>median_income: 8.3014</br>ocean_proximity: NEAR BAY</br>_original_yhat_: 456419.6510733085</br>"
          ],
          [
           "</br>id: 0</br>prediction: 635967.121</br>total_bedrooms: 5671.719999999999</br></br>longitude: -122.22</br>latitude: 37.86</br>housing_median_age: 21.0</br>total_rooms: 7099.0</br>population: 2401.0</br>households: 1138.0</br>median_income: 8.3014</br>ocean_proximity: NEAR BAY</br>_original_yhat_: 456419.6510733085</br>"
          ],
          [
           "</br>id: 0</br>prediction: 640769.518</br>total_bedrooms: 5736.16</br></br>longitude: -122.22</br>latitude: 37.86</br>housing_median_age: 21.0</br>total_rooms: 7099.0</br>population: 2401.0</br>households: 1138.0</br>median_income: 8.3014</br>ocean_proximity: NEAR BAY</br>_original_yhat_: 456419.6510733085</br>"
          ],
          [
           "</br>id: 0</br>prediction: 645571.914</br>total_bedrooms: 5800.599999999999</br></br>longitude: -122.22</br>latitude: 37.86</br>housing_median_age: 21.0</br>total_rooms: 7099.0</br>population: 2401.0</br>households: 1138.0</br>median_income: 8.3014</br>ocean_proximity: NEAR BAY</br>_original_yhat_: 456419.6510733085</br>"
          ],
          [
           "</br>id: 0</br>prediction: 650374.31</br>total_bedrooms: 5865.04</br></br>longitude: -122.22</br>latitude: 37.86</br>housing_median_age: 21.0</br>total_rooms: 7099.0</br>population: 2401.0</br>households: 1138.0</br>median_income: 8.3014</br>ocean_proximity: NEAR BAY</br>_original_yhat_: 456419.6510733085</br>"
          ],
          [
           "</br>id: 0</br>prediction: 655176.706</br>total_bedrooms: 5929.48</br></br>longitude: -122.22</br>latitude: 37.86</br>housing_median_age: 21.0</br>total_rooms: 7099.0</br>population: 2401.0</br>households: 1138.0</br>median_income: 8.3014</br>ocean_proximity: NEAR BAY</br>_original_yhat_: 456419.6510733085</br>"
          ],
          [
           "</br>id: 0</br>prediction: 659979.102</br>total_bedrooms: 5993.92</br></br>longitude: -122.22</br>latitude: 37.86</br>housing_median_age: 21.0</br>total_rooms: 7099.0</br>population: 2401.0</br>households: 1138.0</br>median_income: 8.3014</br>ocean_proximity: NEAR BAY</br>_original_yhat_: 456419.6510733085</br>"
          ],
          [
           "</br>id: 0</br>prediction: 664781.498</br>total_bedrooms: 6058.36</br></br>longitude: -122.22</br>latitude: 37.86</br>housing_median_age: 21.0</br>total_rooms: 7099.0</br>population: 2401.0</br>households: 1138.0</br>median_income: 8.3014</br>ocean_proximity: NEAR BAY</br>_original_yhat_: 456419.6510733085</br>"
          ],
          [
           "</br>id: 0</br>prediction: 669583.894</br>total_bedrooms: 6122.8</br></br>longitude: -122.22</br>latitude: 37.86</br>housing_median_age: 21.0</br>total_rooms: 7099.0</br>population: 2401.0</br>households: 1138.0</br>median_income: 8.3014</br>ocean_proximity: NEAR BAY</br>_original_yhat_: 456419.6510733085</br>"
          ],
          [
           "</br>id: 0</br>prediction: 674386.29</br>total_bedrooms: 6187.24</br></br>longitude: -122.22</br>latitude: 37.86</br>housing_median_age: 21.0</br>total_rooms: 7099.0</br>population: 2401.0</br>households: 1138.0</br>median_income: 8.3014</br>ocean_proximity: NEAR BAY</br>_original_yhat_: 456419.6510733085</br>"
          ],
          [
           "</br>id: 0</br>prediction: 679188.686</br>total_bedrooms: 6251.679999999999</br></br>longitude: -122.22</br>latitude: 37.86</br>housing_median_age: 21.0</br>total_rooms: 7099.0</br>population: 2401.0</br>households: 1138.0</br>median_income: 8.3014</br>ocean_proximity: NEAR BAY</br>_original_yhat_: 456419.6510733085</br>"
          ],
          [
           "</br>id: 0</br>prediction: 683991.082</br>total_bedrooms: 6316.12</br></br>longitude: -122.22</br>latitude: 37.86</br>housing_median_age: 21.0</br>total_rooms: 7099.0</br>population: 2401.0</br>households: 1138.0</br>median_income: 8.3014</br>ocean_proximity: NEAR BAY</br>_original_yhat_: 456419.6510733085</br>"
          ],
          [
           "</br>id: 0</br>prediction: 688793.479</br>total_bedrooms: 6380.5599999999995</br></br>longitude: -122.22</br>latitude: 37.86</br>housing_median_age: 21.0</br>total_rooms: 7099.0</br>population: 2401.0</br>households: 1138.0</br>median_income: 8.3014</br>ocean_proximity: NEAR BAY</br>_original_yhat_: 456419.6510733085</br>"
          ],
          [
           "</br>id: 0</br>prediction: 693595.875</br>total_bedrooms: 6445.0</br></br>longitude: -122.22</br>latitude: 37.86</br>housing_median_age: 21.0</br>total_rooms: 7099.0</br>population: 2401.0</br>households: 1138.0</br>median_income: 8.3014</br>ocean_proximity: NEAR BAY</br>_original_yhat_: 456419.6510733085</br>"
          ]
         ],
         "hovertemplate": "%{customdata[0]}<extra></extra>",
         "legendgroup": "MLP with ordinal encoding",
         "line": {
          "color": "#8bdcbe",
          "dash": "solid",
          "width": 2
         },
         "marker": {
          "symbol": "circle"
         },
         "mode": "lines",
         "name": "MLP with ordinal encoding",
         "opacity": 1,
         "orientation": "v",
         "showlegend": true,
         "type": "scatter",
         "x": [
          1,
          65.44,
          129.88,
          194.32,
          258.76,
          323.2,
          387.64,
          452.08,
          516.52,
          580.96,
          645.4,
          709.8399999999999,
          774.28,
          838.72,
          903.16,
          967.5999999999999,
          1032.04,
          1096.48,
          1106,
          1160.92,
          1225.36,
          1289.8,
          1354.24,
          1418.6799999999998,
          1483.12,
          1547.56,
          1612,
          1676.44,
          1740.8799999999999,
          1805.32,
          1869.76,
          1934.1999999999998,
          1998.6399999999999,
          2063.08,
          2127.52,
          2191.96,
          2256.4,
          2320.84,
          2385.2799999999997,
          2449.72,
          2514.16,
          2578.6,
          2643.04,
          2707.48,
          2771.92,
          2836.3599999999997,
          2900.7999999999997,
          2965.24,
          3029.68,
          3094.12,
          3158.56,
          3223,
          3287.44,
          3351.88,
          3416.3199999999997,
          3480.7599999999998,
          3545.2,
          3609.64,
          3674.08,
          3738.52,
          3802.96,
          3867.3999999999996,
          3931.8399999999997,
          3996.2799999999997,
          4060.72,
          4125.16,
          4189.599999999999,
          4254.04,
          4318.48,
          4382.92,
          4447.36,
          4511.8,
          4576.24,
          4640.68,
          4705.12,
          4769.5599999999995,
          4834,
          4898.44,
          4962.88,
          5027.32,
          5091.76,
          5156.2,
          5220.639999999999,
          5285.08,
          5349.5199999999995,
          5413.96,
          5478.4,
          5542.84,
          5607.28,
          5671.719999999999,
          5736.16,
          5800.599999999999,
          5865.04,
          5929.48,
          5993.92,
          6058.36,
          6122.8,
          6187.24,
          6251.679999999999,
          6316.12,
          6380.5599999999995,
          6445
         ],
         "xaxis": "x",
         "y": [
          520016.9245979336,
          510816.64289378916,
          501616.3611896449,
          492416.0794855009,
          483215.7977813563,
          476374.71962777706,
          472811.6316412574,
          469248.5436547378,
          465685.45566821826,
          462122.3676816987,
          458559.2796951792,
          456952.73879687797,
          455149.8690610637,
          453346.9993252498,
          451544.1295894356,
          449741.2598536213,
          449767.39582763,
          455021.1753299578,
          456419.65107330855,
          464487.3283658309,
          473953.48140170384,
          474424.34659623605,
          473012.3273918782,
          471600.30818751996,
          470188.2889831621,
          468776.2697788043,
          467364.2505744464,
          465952.23137008864,
          464540.2121657307,
          463025.53016430396,
          457248.293622485,
          450701.16559528414,
          444154.0375680834,
          437606.90954088233,
          431059.7815136811,
          424512.65348648006,
          417965.52545927925,
          411418.3974320785,
          404871.2694048775,
          398324.14137767657,
          391777.01335047546,
          385229.8853232745,
          378682.75729607366,
          372135.6292688727,
          365588.5012416718,
          359041.373214471,
          352494.2451872698,
          345947.11716006894,
          350030.64243632,
          358363.38994670316,
          366696.1374570862,
          375028.8849674694,
          383361.6324778527,
          391694.37998823577,
          400027.12749861885,
          408355.1009891246,
          416680.21664804686,
          425005.3323069687,
          433330.4479658908,
          441655.5636248128,
          449980.67928373476,
          458301.6336665258,
          466620.8073567644,
          474939.9810470026,
          483259.1547372412,
          491578.32842747966,
          499897.502117718,
          508216.6758079562,
          516535.8494981949,
          524855.0231884335,
          533174.196878672,
          541493.3705689103,
          549812.5442591488,
          558131.717949387,
          563931.1800193484,
          568733.5761164861,
          573535.972213624,
          578338.3683107619,
          583140.7644078993,
          587943.1605050375,
          592745.556602175,
          597547.9526993128,
          602350.3487964509,
          607152.7448935888,
          611955.1409907263,
          616757.5370878644,
          621559.9331850017,
          626362.3292821397,
          631164.7253792776,
          635967.1214764152,
          640769.5175735531,
          645571.913670691,
          650374.3097678287,
          655176.7058649665,
          659979.1019621043,
          664781.4980592421,
          669583.8941563796,
          674386.2902535176,
          679188.6863506553,
          683991.0824477932,
          688793.4785449306,
          693595.874642069
         ],
         "yaxis": "y"
        },
        {
         "customdata": [
          [
           "</br>id: 0</br>prediction: 459841.195</br>total_rooms: 2.0</br></br>longitude: -122.22</br>latitude: 37.86</br>housing_median_age: 21.0</br>total_bedrooms: 1106.0</br>population: 2401.0</br>households: 1138.0</br>median_income: 8.3014</br>ocean_proximity: NEAR BAY</br>_original_yhat_: 456419.6510733085</br>"
          ],
          [
           "</br>id: 0</br>prediction: 447723.233</br>total_rooms: 395.18</br></br>longitude: -122.22</br>latitude: 37.86</br>housing_median_age: 21.0</br>total_bedrooms: 1106.0</br>population: 2401.0</br>households: 1138.0</br>median_income: 8.3014</br>ocean_proximity: NEAR BAY</br>_original_yhat_: 456419.6510733085</br>"
          ],
          [
           "</br>id: 0</br>prediction: 432271.411</br>total_rooms: 788.36</br></br>longitude: -122.22</br>latitude: 37.86</br>housing_median_age: 21.0</br>total_bedrooms: 1106.0</br>population: 2401.0</br>households: 1138.0</br>median_income: 8.3014</br>ocean_proximity: NEAR BAY</br>_original_yhat_: 456419.6510733085</br>"
          ],
          [
           "</br>id: 0</br>prediction: 474904.111</br>total_rooms: 1181.54</br></br>longitude: -122.22</br>latitude: 37.86</br>housing_median_age: 21.0</br>total_bedrooms: 1106.0</br>population: 2401.0</br>households: 1138.0</br>median_income: 8.3014</br>ocean_proximity: NEAR BAY</br>_original_yhat_: 456419.6510733085</br>"
          ],
          [
           "</br>id: 0</br>prediction: 503605.523</br>total_rooms: 1574.72</br></br>longitude: -122.22</br>latitude: 37.86</br>housing_median_age: 21.0</br>total_bedrooms: 1106.0</br>population: 2401.0</br>households: 1138.0</br>median_income: 8.3014</br>ocean_proximity: NEAR BAY</br>_original_yhat_: 456419.6510733085</br>"
          ],
          [
           "</br>id: 0</br>prediction: 520964.236</br>total_rooms: 1967.9</br></br>longitude: -122.22</br>latitude: 37.86</br>housing_median_age: 21.0</br>total_bedrooms: 1106.0</br>population: 2401.0</br>households: 1138.0</br>median_income: 8.3014</br>ocean_proximity: NEAR BAY</br>_original_yhat_: 456419.6510733085</br>"
          ],
          [
           "</br>id: 0</br>prediction: 526531.036</br>total_rooms: 2361.08</br></br>longitude: -122.22</br>latitude: 37.86</br>housing_median_age: 21.0</br>total_bedrooms: 1106.0</br>population: 2401.0</br>households: 1138.0</br>median_income: 8.3014</br>ocean_proximity: NEAR BAY</br>_original_yhat_: 456419.6510733085</br>"
          ],
          [
           "</br>id: 0</br>prediction: 526210.08</br>total_rooms: 2754.26</br></br>longitude: -122.22</br>latitude: 37.86</br>housing_median_age: 21.0</br>total_bedrooms: 1106.0</br>population: 2401.0</br>households: 1138.0</br>median_income: 8.3014</br>ocean_proximity: NEAR BAY</br>_original_yhat_: 456419.6510733085</br>"
          ],
          [
           "</br>id: 0</br>prediction: 515382.674</br>total_rooms: 3147.44</br></br>longitude: -122.22</br>latitude: 37.86</br>housing_median_age: 21.0</br>total_bedrooms: 1106.0</br>population: 2401.0</br>households: 1138.0</br>median_income: 8.3014</br>ocean_proximity: NEAR BAY</br>_original_yhat_: 456419.6510733085</br>"
          ],
          [
           "</br>id: 0</br>prediction: 499311.974</br>total_rooms: 3540.62</br></br>longitude: -122.22</br>latitude: 37.86</br>housing_median_age: 21.0</br>total_bedrooms: 1106.0</br>population: 2401.0</br>households: 1138.0</br>median_income: 8.3014</br>ocean_proximity: NEAR BAY</br>_original_yhat_: 456419.6510733085</br>"
          ],
          [
           "</br>id: 0</br>prediction: 476366.638</br>total_rooms: 3933.8</br></br>longitude: -122.22</br>latitude: 37.86</br>housing_median_age: 21.0</br>total_bedrooms: 1106.0</br>population: 2401.0</br>households: 1138.0</br>median_income: 8.3014</br>ocean_proximity: NEAR BAY</br>_original_yhat_: 456419.6510733085</br>"
          ],
          [
           "</br>id: 0</br>prediction: 456020.832</br>total_rooms: 4326.9800000000005</br></br>longitude: -122.22</br>latitude: 37.86</br>housing_median_age: 21.0</br>total_bedrooms: 1106.0</br>population: 2401.0</br>households: 1138.0</br>median_income: 8.3014</br>ocean_proximity: NEAR BAY</br>_original_yhat_: 456419.6510733085</br>"
          ],
          [
           "</br>id: 0</br>prediction: 471203.773</br>total_rooms: 4720.16</br></br>longitude: -122.22</br>latitude: 37.86</br>housing_median_age: 21.0</br>total_bedrooms: 1106.0</br>population: 2401.0</br>households: 1138.0</br>median_income: 8.3014</br>ocean_proximity: NEAR BAY</br>_original_yhat_: 456419.6510733085</br>"
          ],
          [
           "</br>id: 0</br>prediction: 483232.547</br>total_rooms: 5113.34</br></br>longitude: -122.22</br>latitude: 37.86</br>housing_median_age: 21.0</br>total_bedrooms: 1106.0</br>population: 2401.0</br>households: 1138.0</br>median_income: 8.3014</br>ocean_proximity: NEAR BAY</br>_original_yhat_: 456419.6510733085</br>"
          ],
          [
           "</br>id: 0</br>prediction: 490574.254</br>total_rooms: 5506.52</br></br>longitude: -122.22</br>latitude: 37.86</br>housing_median_age: 21.0</br>total_bedrooms: 1106.0</br>population: 2401.0</br>households: 1138.0</br>median_income: 8.3014</br>ocean_proximity: NEAR BAY</br>_original_yhat_: 456419.6510733085</br>"
          ],
          [
           "</br>id: 0</br>prediction: 496471.276</br>total_rooms: 5899.7</br></br>longitude: -122.22</br>latitude: 37.86</br>housing_median_age: 21.0</br>total_bedrooms: 1106.0</br>population: 2401.0</br>households: 1138.0</br>median_income: 8.3014</br>ocean_proximity: NEAR BAY</br>_original_yhat_: 456419.6510733085</br>"
          ],
          [
           "</br>id: 0</br>prediction: 493839.482</br>total_rooms: 6292.88</br></br>longitude: -122.22</br>latitude: 37.86</br>housing_median_age: 21.0</br>total_bedrooms: 1106.0</br>population: 2401.0</br>households: 1138.0</br>median_income: 8.3014</br>ocean_proximity: NEAR BAY</br>_original_yhat_: 456419.6510733085</br>"
          ],
          [
           "</br>id: 0</br>prediction: 475588.193</br>total_rooms: 6686.06</br></br>longitude: -122.22</br>latitude: 37.86</br>housing_median_age: 21.0</br>total_bedrooms: 1106.0</br>population: 2401.0</br>households: 1138.0</br>median_income: 8.3014</br>ocean_proximity: NEAR BAY</br>_original_yhat_: 456419.6510733085</br>"
          ],
          [
           "</br>id: 0</br>prediction: 457336.904</br>total_rooms: 7079.24</br></br>longitude: -122.22</br>latitude: 37.86</br>housing_median_age: 21.0</br>total_bedrooms: 1106.0</br>population: 2401.0</br>households: 1138.0</br>median_income: 8.3014</br>ocean_proximity: NEAR BAY</br>_original_yhat_: 456419.6510733085</br>"
          ],
          [
           "</br>id: 0</br>prediction: 456419.651</br>total_rooms: 7099.0</br></br>longitude: -122.22</br>latitude: 37.86</br>housing_median_age: 21.0</br>total_bedrooms: 1106.0</br>population: 2401.0</br>households: 1138.0</br>median_income: 8.3014</br>ocean_proximity: NEAR BAY</br>_original_yhat_: 456419.6510733085</br>"
          ],
          [
           "</br>id: 0</br>prediction: 449285.162</br>total_rooms: 7472.42</br></br>longitude: -122.22</br>latitude: 37.86</br>housing_median_age: 21.0</br>total_bedrooms: 1106.0</br>population: 2401.0</br>households: 1138.0</br>median_income: 8.3014</br>ocean_proximity: NEAR BAY</br>_original_yhat_: 456419.6510733085</br>"
          ],
          [
           "</br>id: 0</br>prediction: 451582.543</br>total_rooms: 7865.6</br></br>longitude: -122.22</br>latitude: 37.86</br>housing_median_age: 21.0</br>total_bedrooms: 1106.0</br>population: 2401.0</br>households: 1138.0</br>median_income: 8.3014</br>ocean_proximity: NEAR BAY</br>_original_yhat_: 456419.6510733085</br>"
          ],
          [
           "</br>id: 0</br>prediction: 453461.497</br>total_rooms: 8258.78</br></br>longitude: -122.22</br>latitude: 37.86</br>housing_median_age: 21.0</br>total_bedrooms: 1106.0</br>population: 2401.0</br>households: 1138.0</br>median_income: 8.3014</br>ocean_proximity: NEAR BAY</br>_original_yhat_: 456419.6510733085</br>"
          ],
          [
           "</br>id: 0</br>prediction: 457527.683</br>total_rooms: 8651.960000000001</br></br>longitude: -122.22</br>latitude: 37.86</br>housing_median_age: 21.0</br>total_bedrooms: 1106.0</br>population: 2401.0</br>households: 1138.0</br>median_income: 8.3014</br>ocean_proximity: NEAR BAY</br>_original_yhat_: 456419.6510733085</br>"
          ],
          [
           "</br>id: 0</br>prediction: 463714.518</br>total_rooms: 9045.14</br></br>longitude: -122.22</br>latitude: 37.86</br>housing_median_age: 21.0</br>total_bedrooms: 1106.0</br>population: 2401.0</br>households: 1138.0</br>median_income: 8.3014</br>ocean_proximity: NEAR BAY</br>_original_yhat_: 456419.6510733085</br>"
          ],
          [
           "</br>id: 0</br>prediction: 469901.354</br>total_rooms: 9438.32</br></br>longitude: -122.22</br>latitude: 37.86</br>housing_median_age: 21.0</br>total_bedrooms: 1106.0</br>population: 2401.0</br>households: 1138.0</br>median_income: 8.3014</br>ocean_proximity: NEAR BAY</br>_original_yhat_: 456419.6510733085</br>"
          ],
          [
           "</br>id: 0</br>prediction: 476088.189</br>total_rooms: 9831.5</br></br>longitude: -122.22</br>latitude: 37.86</br>housing_median_age: 21.0</br>total_bedrooms: 1106.0</br>population: 2401.0</br>households: 1138.0</br>median_income: 8.3014</br>ocean_proximity: NEAR BAY</br>_original_yhat_: 456419.6510733085</br>"
          ],
          [
           "</br>id: 0</br>prediction: 482275.024</br>total_rooms: 10224.68</br></br>longitude: -122.22</br>latitude: 37.86</br>housing_median_age: 21.0</br>total_bedrooms: 1106.0</br>population: 2401.0</br>households: 1138.0</br>median_income: 8.3014</br>ocean_proximity: NEAR BAY</br>_original_yhat_: 456419.6510733085</br>"
          ],
          [
           "</br>id: 0</br>prediction: 488461.859</br>total_rooms: 10617.86</br></br>longitude: -122.22</br>latitude: 37.86</br>housing_median_age: 21.0</br>total_bedrooms: 1106.0</br>population: 2401.0</br>households: 1138.0</br>median_income: 8.3014</br>ocean_proximity: NEAR BAY</br>_original_yhat_: 456419.6510733085</br>"
          ],
          [
           "</br>id: 0</br>prediction: 494648.694</br>total_rooms: 11011.04</br></br>longitude: -122.22</br>latitude: 37.86</br>housing_median_age: 21.0</br>total_bedrooms: 1106.0</br>population: 2401.0</br>households: 1138.0</br>median_income: 8.3014</br>ocean_proximity: NEAR BAY</br>_original_yhat_: 456419.6510733085</br>"
          ],
          [
           "</br>id: 0</br>prediction: 500835.529</br>total_rooms: 11404.22</br></br>longitude: -122.22</br>latitude: 37.86</br>housing_median_age: 21.0</br>total_bedrooms: 1106.0</br>population: 2401.0</br>households: 1138.0</br>median_income: 8.3014</br>ocean_proximity: NEAR BAY</br>_original_yhat_: 456419.6510733085</br>"
          ],
          [
           "</br>id: 0</br>prediction: 507022.365</br>total_rooms: 11797.4</br></br>longitude: -122.22</br>latitude: 37.86</br>housing_median_age: 21.0</br>total_bedrooms: 1106.0</br>population: 2401.0</br>households: 1138.0</br>median_income: 8.3014</br>ocean_proximity: NEAR BAY</br>_original_yhat_: 456419.6510733085</br>"
          ],
          [
           "</br>id: 0</br>prediction: 513209.2</br>total_rooms: 12190.58</br></br>longitude: -122.22</br>latitude: 37.86</br>housing_median_age: 21.0</br>total_bedrooms: 1106.0</br>population: 2401.0</br>households: 1138.0</br>median_income: 8.3014</br>ocean_proximity: NEAR BAY</br>_original_yhat_: 456419.6510733085</br>"
          ],
          [
           "</br>id: 0</br>prediction: 519396.035</br>total_rooms: 12583.76</br></br>longitude: -122.22</br>latitude: 37.86</br>housing_median_age: 21.0</br>total_bedrooms: 1106.0</br>population: 2401.0</br>households: 1138.0</br>median_income: 8.3014</br>ocean_proximity: NEAR BAY</br>_original_yhat_: 456419.6510733085</br>"
          ],
          [
           "</br>id: 0</br>prediction: 525582.87</br>total_rooms: 12976.94</br></br>longitude: -122.22</br>latitude: 37.86</br>housing_median_age: 21.0</br>total_bedrooms: 1106.0</br>population: 2401.0</br>households: 1138.0</br>median_income: 8.3014</br>ocean_proximity: NEAR BAY</br>_original_yhat_: 456419.6510733085</br>"
          ],
          [
           "</br>id: 0</br>prediction: 531769.705</br>total_rooms: 13370.12</br></br>longitude: -122.22</br>latitude: 37.86</br>housing_median_age: 21.0</br>total_bedrooms: 1106.0</br>population: 2401.0</br>households: 1138.0</br>median_income: 8.3014</br>ocean_proximity: NEAR BAY</br>_original_yhat_: 456419.6510733085</br>"
          ],
          [
           "</br>id: 0</br>prediction: 537956.541</br>total_rooms: 13763.300000000001</br></br>longitude: -122.22</br>latitude: 37.86</br>housing_median_age: 21.0</br>total_bedrooms: 1106.0</br>population: 2401.0</br>households: 1138.0</br>median_income: 8.3014</br>ocean_proximity: NEAR BAY</br>_original_yhat_: 456419.6510733085</br>"
          ],
          [
           "</br>id: 0</br>prediction: 544849.014</br>total_rooms: 14156.48</br></br>longitude: -122.22</br>latitude: 37.86</br>housing_median_age: 21.0</br>total_bedrooms: 1106.0</br>population: 2401.0</br>households: 1138.0</br>median_income: 8.3014</br>ocean_proximity: NEAR BAY</br>_original_yhat_: 456419.6510733085</br>"
          ],
          [
           "</br>id: 0</br>prediction: 552721.424</br>total_rooms: 14549.66</br></br>longitude: -122.22</br>latitude: 37.86</br>housing_median_age: 21.0</br>total_bedrooms: 1106.0</br>population: 2401.0</br>households: 1138.0</br>median_income: 8.3014</br>ocean_proximity: NEAR BAY</br>_original_yhat_: 456419.6510733085</br>"
          ],
          [
           "</br>id: 0</br>prediction: 560593.835</br>total_rooms: 14942.84</br></br>longitude: -122.22</br>latitude: 37.86</br>housing_median_age: 21.0</br>total_bedrooms: 1106.0</br>population: 2401.0</br>households: 1138.0</br>median_income: 8.3014</br>ocean_proximity: NEAR BAY</br>_original_yhat_: 456419.6510733085</br>"
          ],
          [
           "</br>id: 0</br>prediction: 568466.246</br>total_rooms: 15336.02</br></br>longitude: -122.22</br>latitude: 37.86</br>housing_median_age: 21.0</br>total_bedrooms: 1106.0</br>population: 2401.0</br>households: 1138.0</br>median_income: 8.3014</br>ocean_proximity: NEAR BAY</br>_original_yhat_: 456419.6510733085</br>"
          ],
          [
           "</br>id: 0</br>prediction: 576338.657</br>total_rooms: 15729.2</br></br>longitude: -122.22</br>latitude: 37.86</br>housing_median_age: 21.0</br>total_bedrooms: 1106.0</br>population: 2401.0</br>households: 1138.0</br>median_income: 8.3014</br>ocean_proximity: NEAR BAY</br>_original_yhat_: 456419.6510733085</br>"
          ],
          [
           "</br>id: 0</br>prediction: 584211.068</br>total_rooms: 16122.380000000001</br></br>longitude: -122.22</br>latitude: 37.86</br>housing_median_age: 21.0</br>total_bedrooms: 1106.0</br>population: 2401.0</br>households: 1138.0</br>median_income: 8.3014</br>ocean_proximity: NEAR BAY</br>_original_yhat_: 456419.6510733085</br>"
          ],
          [
           "</br>id: 0</br>prediction: 592083.479</br>total_rooms: 16515.56</br></br>longitude: -122.22</br>latitude: 37.86</br>housing_median_age: 21.0</br>total_bedrooms: 1106.0</br>population: 2401.0</br>households: 1138.0</br>median_income: 8.3014</br>ocean_proximity: NEAR BAY</br>_original_yhat_: 456419.6510733085</br>"
          ],
          [
           "</br>id: 0</br>prediction: 599955.89</br>total_rooms: 16908.74</br></br>longitude: -122.22</br>latitude: 37.86</br>housing_median_age: 21.0</br>total_bedrooms: 1106.0</br>population: 2401.0</br>households: 1138.0</br>median_income: 8.3014</br>ocean_proximity: NEAR BAY</br>_original_yhat_: 456419.6510733085</br>"
          ],
          [
           "</br>id: 0</br>prediction: 607828.301</br>total_rooms: 17301.920000000002</br></br>longitude: -122.22</br>latitude: 37.86</br>housing_median_age: 21.0</br>total_bedrooms: 1106.0</br>population: 2401.0</br>households: 1138.0</br>median_income: 8.3014</br>ocean_proximity: NEAR BAY</br>_original_yhat_: 456419.6510733085</br>"
          ],
          [
           "</br>id: 0</br>prediction: 615700.712</br>total_rooms: 17695.1</br></br>longitude: -122.22</br>latitude: 37.86</br>housing_median_age: 21.0</br>total_bedrooms: 1106.0</br>population: 2401.0</br>households: 1138.0</br>median_income: 8.3014</br>ocean_proximity: NEAR BAY</br>_original_yhat_: 456419.6510733085</br>"
          ],
          [
           "</br>id: 0</br>prediction: 623573.123</br>total_rooms: 18088.28</br></br>longitude: -122.22</br>latitude: 37.86</br>housing_median_age: 21.0</br>total_bedrooms: 1106.0</br>population: 2401.0</br>households: 1138.0</br>median_income: 8.3014</br>ocean_proximity: NEAR BAY</br>_original_yhat_: 456419.6510733085</br>"
          ],
          [
           "</br>id: 0</br>prediction: 631445.534</br>total_rooms: 18481.46</br></br>longitude: -122.22</br>latitude: 37.86</br>housing_median_age: 21.0</br>total_bedrooms: 1106.0</br>population: 2401.0</br>households: 1138.0</br>median_income: 8.3014</br>ocean_proximity: NEAR BAY</br>_original_yhat_: 456419.6510733085</br>"
          ],
          [
           "</br>id: 0</br>prediction: 646005.46</br>total_rooms: 18874.64</br></br>longitude: -122.22</br>latitude: 37.86</br>housing_median_age: 21.0</br>total_bedrooms: 1106.0</br>population: 2401.0</br>households: 1138.0</br>median_income: 8.3014</br>ocean_proximity: NEAR BAY</br>_original_yhat_: 456419.6510733085</br>"
          ],
          [
           "</br>id: 0</br>prediction: 663802.219</br>total_rooms: 19267.82</br></br>longitude: -122.22</br>latitude: 37.86</br>housing_median_age: 21.0</br>total_bedrooms: 1106.0</br>population: 2401.0</br>households: 1138.0</br>median_income: 8.3014</br>ocean_proximity: NEAR BAY</br>_original_yhat_: 456419.6510733085</br>"
          ],
          [
           "</br>id: 0</br>prediction: 681598.978</br>total_rooms: 19661.0</br></br>longitude: -122.22</br>latitude: 37.86</br>housing_median_age: 21.0</br>total_bedrooms: 1106.0</br>population: 2401.0</br>households: 1138.0</br>median_income: 8.3014</br>ocean_proximity: NEAR BAY</br>_original_yhat_: 456419.6510733085</br>"
          ],
          [
           "</br>id: 0</br>prediction: 699395.738</br>total_rooms: 20054.18</br></br>longitude: -122.22</br>latitude: 37.86</br>housing_median_age: 21.0</br>total_bedrooms: 1106.0</br>population: 2401.0</br>households: 1138.0</br>median_income: 8.3014</br>ocean_proximity: NEAR BAY</br>_original_yhat_: 456419.6510733085</br>"
          ],
          [
           "</br>id: 0</br>prediction: 717192.497</br>total_rooms: 20447.36</br></br>longitude: -122.22</br>latitude: 37.86</br>housing_median_age: 21.0</br>total_bedrooms: 1106.0</br>population: 2401.0</br>households: 1138.0</br>median_income: 8.3014</br>ocean_proximity: NEAR BAY</br>_original_yhat_: 456419.6510733085</br>"
          ],
          [
           "</br>id: 0</br>prediction: 734989.256</br>total_rooms: 20840.54</br></br>longitude: -122.22</br>latitude: 37.86</br>housing_median_age: 21.0</br>total_bedrooms: 1106.0</br>population: 2401.0</br>households: 1138.0</br>median_income: 8.3014</br>ocean_proximity: NEAR BAY</br>_original_yhat_: 456419.6510733085</br>"
          ],
          [
           "</br>id: 0</br>prediction: 752786.015</br>total_rooms: 21233.72</br></br>longitude: -122.22</br>latitude: 37.86</br>housing_median_age: 21.0</br>total_bedrooms: 1106.0</br>population: 2401.0</br>households: 1138.0</br>median_income: 8.3014</br>ocean_proximity: NEAR BAY</br>_original_yhat_: 456419.6510733085</br>"
          ],
          [
           "</br>id: 0</br>prediction: 770582.775</br>total_rooms: 21626.9</br></br>longitude: -122.22</br>latitude: 37.86</br>housing_median_age: 21.0</br>total_bedrooms: 1106.0</br>population: 2401.0</br>households: 1138.0</br>median_income: 8.3014</br>ocean_proximity: NEAR BAY</br>_original_yhat_: 456419.6510733085</br>"
          ],
          [
           "</br>id: 0</br>prediction: 788379.534</br>total_rooms: 22020.08</br></br>longitude: -122.22</br>latitude: 37.86</br>housing_median_age: 21.0</br>total_bedrooms: 1106.0</br>population: 2401.0</br>households: 1138.0</br>median_income: 8.3014</br>ocean_proximity: NEAR BAY</br>_original_yhat_: 456419.6510733085</br>"
          ],
          [
           "</br>id: 0</br>prediction: 806176.293</br>total_rooms: 22413.260000000002</br></br>longitude: -122.22</br>latitude: 37.86</br>housing_median_age: 21.0</br>total_bedrooms: 1106.0</br>population: 2401.0</br>households: 1138.0</br>median_income: 8.3014</br>ocean_proximity: NEAR BAY</br>_original_yhat_: 456419.6510733085</br>"
          ],
          [
           "</br>id: 0</br>prediction: 823973.053</br>total_rooms: 22806.44</br></br>longitude: -122.22</br>latitude: 37.86</br>housing_median_age: 21.0</br>total_bedrooms: 1106.0</br>population: 2401.0</br>households: 1138.0</br>median_income: 8.3014</br>ocean_proximity: NEAR BAY</br>_original_yhat_: 456419.6510733085</br>"
          ],
          [
           "</br>id: 0</br>prediction: 841769.812</br>total_rooms: 23199.62</br></br>longitude: -122.22</br>latitude: 37.86</br>housing_median_age: 21.0</br>total_bedrooms: 1106.0</br>population: 2401.0</br>households: 1138.0</br>median_income: 8.3014</br>ocean_proximity: NEAR BAY</br>_original_yhat_: 456419.6510733085</br>"
          ],
          [
           "</br>id: 0</br>prediction: 859566.571</br>total_rooms: 23592.8</br></br>longitude: -122.22</br>latitude: 37.86</br>housing_median_age: 21.0</br>total_bedrooms: 1106.0</br>population: 2401.0</br>households: 1138.0</br>median_income: 8.3014</br>ocean_proximity: NEAR BAY</br>_original_yhat_: 456419.6510733085</br>"
          ],
          [
           "</br>id: 0</br>prediction: 877363.331</br>total_rooms: 23985.98</br></br>longitude: -122.22</br>latitude: 37.86</br>housing_median_age: 21.0</br>total_bedrooms: 1106.0</br>population: 2401.0</br>households: 1138.0</br>median_income: 8.3014</br>ocean_proximity: NEAR BAY</br>_original_yhat_: 456419.6510733085</br>"
          ],
          [
           "</br>id: 0</br>prediction: 895160.09</br>total_rooms: 24379.16</br></br>longitude: -122.22</br>latitude: 37.86</br>housing_median_age: 21.0</br>total_bedrooms: 1106.0</br>population: 2401.0</br>households: 1138.0</br>median_income: 8.3014</br>ocean_proximity: NEAR BAY</br>_original_yhat_: 456419.6510733085</br>"
          ],
          [
           "</br>id: 0</br>prediction: 912956.849</br>total_rooms: 24772.34</br></br>longitude: -122.22</br>latitude: 37.86</br>housing_median_age: 21.0</br>total_bedrooms: 1106.0</br>population: 2401.0</br>households: 1138.0</br>median_income: 8.3014</br>ocean_proximity: NEAR BAY</br>_original_yhat_: 456419.6510733085</br>"
          ],
          [
           "</br>id: 0</br>prediction: 930753.609</br>total_rooms: 25165.52</br></br>longitude: -122.22</br>latitude: 37.86</br>housing_median_age: 21.0</br>total_bedrooms: 1106.0</br>population: 2401.0</br>households: 1138.0</br>median_income: 8.3014</br>ocean_proximity: NEAR BAY</br>_original_yhat_: 456419.6510733085</br>"
          ],
          [
           "</br>id: 0</br>prediction: 948550.368</br>total_rooms: 25558.7</br></br>longitude: -122.22</br>latitude: 37.86</br>housing_median_age: 21.0</br>total_bedrooms: 1106.0</br>population: 2401.0</br>households: 1138.0</br>median_income: 8.3014</br>ocean_proximity: NEAR BAY</br>_original_yhat_: 456419.6510733085</br>"
          ],
          [
           "</br>id: 0</br>prediction: 966347.127</br>total_rooms: 25951.88</br></br>longitude: -122.22</br>latitude: 37.86</br>housing_median_age: 21.0</br>total_bedrooms: 1106.0</br>population: 2401.0</br>households: 1138.0</br>median_income: 8.3014</br>ocean_proximity: NEAR BAY</br>_original_yhat_: 456419.6510733085</br>"
          ],
          [
           "</br>id: 0</br>prediction: 984143.886</br>total_rooms: 26345.06</br></br>longitude: -122.22</br>latitude: 37.86</br>housing_median_age: 21.0</br>total_bedrooms: 1106.0</br>population: 2401.0</br>households: 1138.0</br>median_income: 8.3014</br>ocean_proximity: NEAR BAY</br>_original_yhat_: 456419.6510733085</br>"
          ],
          [
           "</br>id: 0</br>prediction: 1001940.646</br>total_rooms: 26738.24</br></br>longitude: -122.22</br>latitude: 37.86</br>housing_median_age: 21.0</br>total_bedrooms: 1106.0</br>population: 2401.0</br>households: 1138.0</br>median_income: 8.3014</br>ocean_proximity: NEAR BAY</br>_original_yhat_: 456419.6510733085</br>"
          ],
          [
           "</br>id: 0</br>prediction: 1019737.405</br>total_rooms: 27131.420000000002</br></br>longitude: -122.22</br>latitude: 37.86</br>housing_median_age: 21.0</br>total_bedrooms: 1106.0</br>population: 2401.0</br>households: 1138.0</br>median_income: 8.3014</br>ocean_proximity: NEAR BAY</br>_original_yhat_: 456419.6510733085</br>"
          ],
          [
           "</br>id: 0</br>prediction: 1037534.164</br>total_rooms: 27524.600000000002</br></br>longitude: -122.22</br>latitude: 37.86</br>housing_median_age: 21.0</br>total_bedrooms: 1106.0</br>population: 2401.0</br>households: 1138.0</br>median_income: 8.3014</br>ocean_proximity: NEAR BAY</br>_original_yhat_: 456419.6510733085</br>"
          ],
          [
           "</br>id: 0</br>prediction: 1055330.924</br>total_rooms: 27917.78</br></br>longitude: -122.22</br>latitude: 37.86</br>housing_median_age: 21.0</br>total_bedrooms: 1106.0</br>population: 2401.0</br>households: 1138.0</br>median_income: 8.3014</br>ocean_proximity: NEAR BAY</br>_original_yhat_: 456419.6510733085</br>"
          ],
          [
           "</br>id: 0</br>prediction: 1073127.683</br>total_rooms: 28310.96</br></br>longitude: -122.22</br>latitude: 37.86</br>housing_median_age: 21.0</br>total_bedrooms: 1106.0</br>population: 2401.0</br>households: 1138.0</br>median_income: 8.3014</br>ocean_proximity: NEAR BAY</br>_original_yhat_: 456419.6510733085</br>"
          ],
          [
           "</br>id: 0</br>prediction: 1090924.442</br>total_rooms: 28704.14</br></br>longitude: -122.22</br>latitude: 37.86</br>housing_median_age: 21.0</br>total_bedrooms: 1106.0</br>population: 2401.0</br>households: 1138.0</br>median_income: 8.3014</br>ocean_proximity: NEAR BAY</br>_original_yhat_: 456419.6510733085</br>"
          ],
          [
           "</br>id: 0</br>prediction: 1108721.202</br>total_rooms: 29097.32</br></br>longitude: -122.22</br>latitude: 37.86</br>housing_median_age: 21.0</br>total_bedrooms: 1106.0</br>population: 2401.0</br>households: 1138.0</br>median_income: 8.3014</br>ocean_proximity: NEAR BAY</br>_original_yhat_: 456419.6510733085</br>"
          ],
          [
           "</br>id: 0</br>prediction: 1126517.961</br>total_rooms: 29490.5</br></br>longitude: -122.22</br>latitude: 37.86</br>housing_median_age: 21.0</br>total_bedrooms: 1106.0</br>population: 2401.0</br>households: 1138.0</br>median_income: 8.3014</br>ocean_proximity: NEAR BAY</br>_original_yhat_: 456419.6510733085</br>"
          ],
          [
           "</br>id: 0</br>prediction: 1144314.72</br>total_rooms: 29883.68</br></br>longitude: -122.22</br>latitude: 37.86</br>housing_median_age: 21.0</br>total_bedrooms: 1106.0</br>population: 2401.0</br>households: 1138.0</br>median_income: 8.3014</br>ocean_proximity: NEAR BAY</br>_original_yhat_: 456419.6510733085</br>"
          ],
          [
           "</br>id: 0</br>prediction: 1162111.479</br>total_rooms: 30276.86</br></br>longitude: -122.22</br>latitude: 37.86</br>housing_median_age: 21.0</br>total_bedrooms: 1106.0</br>population: 2401.0</br>households: 1138.0</br>median_income: 8.3014</br>ocean_proximity: NEAR BAY</br>_original_yhat_: 456419.6510733085</br>"
          ],
          [
           "</br>id: 0</br>prediction: 1179908.239</br>total_rooms: 30670.04</br></br>longitude: -122.22</br>latitude: 37.86</br>housing_median_age: 21.0</br>total_bedrooms: 1106.0</br>population: 2401.0</br>households: 1138.0</br>median_income: 8.3014</br>ocean_proximity: NEAR BAY</br>_original_yhat_: 456419.6510733085</br>"
          ],
          [
           "</br>id: 0</br>prediction: 1197704.998</br>total_rooms: 31063.22</br></br>longitude: -122.22</br>latitude: 37.86</br>housing_median_age: 21.0</br>total_bedrooms: 1106.0</br>population: 2401.0</br>households: 1138.0</br>median_income: 8.3014</br>ocean_proximity: NEAR BAY</br>_original_yhat_: 456419.6510733085</br>"
          ],
          [
           "</br>id: 0</br>prediction: 1215501.757</br>total_rooms: 31456.4</br></br>longitude: -122.22</br>latitude: 37.86</br>housing_median_age: 21.0</br>total_bedrooms: 1106.0</br>population: 2401.0</br>households: 1138.0</br>median_income: 8.3014</br>ocean_proximity: NEAR BAY</br>_original_yhat_: 456419.6510733085</br>"
          ],
          [
           "</br>id: 0</br>prediction: 1233298.517</br>total_rooms: 31849.58</br></br>longitude: -122.22</br>latitude: 37.86</br>housing_median_age: 21.0</br>total_bedrooms: 1106.0</br>population: 2401.0</br>households: 1138.0</br>median_income: 8.3014</br>ocean_proximity: NEAR BAY</br>_original_yhat_: 456419.6510733085</br>"
          ],
          [
           "</br>id: 0</br>prediction: 1251095.276</br>total_rooms: 32242.760000000002</br></br>longitude: -122.22</br>latitude: 37.86</br>housing_median_age: 21.0</br>total_bedrooms: 1106.0</br>population: 2401.0</br>households: 1138.0</br>median_income: 8.3014</br>ocean_proximity: NEAR BAY</br>_original_yhat_: 456419.6510733085</br>"
          ],
          [
           "</br>id: 0</br>prediction: 1268892.035</br>total_rooms: 32635.940000000002</br></br>longitude: -122.22</br>latitude: 37.86</br>housing_median_age: 21.0</br>total_bedrooms: 1106.0</br>population: 2401.0</br>households: 1138.0</br>median_income: 8.3014</br>ocean_proximity: NEAR BAY</br>_original_yhat_: 456419.6510733085</br>"
          ],
          [
           "</br>id: 0</br>prediction: 1286688.795</br>total_rooms: 33029.12</br></br>longitude: -122.22</br>latitude: 37.86</br>housing_median_age: 21.0</br>total_bedrooms: 1106.0</br>population: 2401.0</br>households: 1138.0</br>median_income: 8.3014</br>ocean_proximity: NEAR BAY</br>_original_yhat_: 456419.6510733085</br>"
          ],
          [
           "</br>id: 0</br>prediction: 1304485.554</br>total_rooms: 33422.3</br></br>longitude: -122.22</br>latitude: 37.86</br>housing_median_age: 21.0</br>total_bedrooms: 1106.0</br>population: 2401.0</br>households: 1138.0</br>median_income: 8.3014</br>ocean_proximity: NEAR BAY</br>_original_yhat_: 456419.6510733085</br>"
          ],
          [
           "</br>id: 0</br>prediction: 1322282.313</br>total_rooms: 33815.48</br></br>longitude: -122.22</br>latitude: 37.86</br>housing_median_age: 21.0</br>total_bedrooms: 1106.0</br>population: 2401.0</br>households: 1138.0</br>median_income: 8.3014</br>ocean_proximity: NEAR BAY</br>_original_yhat_: 456419.6510733085</br>"
          ],
          [
           "</br>id: 0</br>prediction: 1340079.073</br>total_rooms: 34208.66</br></br>longitude: -122.22</br>latitude: 37.86</br>housing_median_age: 21.0</br>total_bedrooms: 1106.0</br>population: 2401.0</br>households: 1138.0</br>median_income: 8.3014</br>ocean_proximity: NEAR BAY</br>_original_yhat_: 456419.6510733085</br>"
          ],
          [
           "</br>id: 0</br>prediction: 1357875.832</br>total_rooms: 34601.840000000004</br></br>longitude: -122.22</br>latitude: 37.86</br>housing_median_age: 21.0</br>total_bedrooms: 1106.0</br>population: 2401.0</br>households: 1138.0</br>median_income: 8.3014</br>ocean_proximity: NEAR BAY</br>_original_yhat_: 456419.6510733085</br>"
          ],
          [
           "</br>id: 0</br>prediction: 1375672.591</br>total_rooms: 34995.020000000004</br></br>longitude: -122.22</br>latitude: 37.86</br>housing_median_age: 21.0</br>total_bedrooms: 1106.0</br>population: 2401.0</br>households: 1138.0</br>median_income: 8.3014</br>ocean_proximity: NEAR BAY</br>_original_yhat_: 456419.6510733085</br>"
          ],
          [
           "</br>id: 0</br>prediction: 1393469.35</br>total_rooms: 35388.2</br></br>longitude: -122.22</br>latitude: 37.86</br>housing_median_age: 21.0</br>total_bedrooms: 1106.0</br>population: 2401.0</br>households: 1138.0</br>median_income: 8.3014</br>ocean_proximity: NEAR BAY</br>_original_yhat_: 456419.6510733085</br>"
          ],
          [
           "</br>id: 0</br>prediction: 1411266.11</br>total_rooms: 35781.38</br></br>longitude: -122.22</br>latitude: 37.86</br>housing_median_age: 21.0</br>total_bedrooms: 1106.0</br>population: 2401.0</br>households: 1138.0</br>median_income: 8.3014</br>ocean_proximity: NEAR BAY</br>_original_yhat_: 456419.6510733085</br>"
          ],
          [
           "</br>id: 0</br>prediction: 1429062.869</br>total_rooms: 36174.56</br></br>longitude: -122.22</br>latitude: 37.86</br>housing_median_age: 21.0</br>total_bedrooms: 1106.0</br>population: 2401.0</br>households: 1138.0</br>median_income: 8.3014</br>ocean_proximity: NEAR BAY</br>_original_yhat_: 456419.6510733085</br>"
          ],
          [
           "</br>id: 0</br>prediction: 1446859.628</br>total_rooms: 36567.74</br></br>longitude: -122.22</br>latitude: 37.86</br>housing_median_age: 21.0</br>total_bedrooms: 1106.0</br>population: 2401.0</br>households: 1138.0</br>median_income: 8.3014</br>ocean_proximity: NEAR BAY</br>_original_yhat_: 456419.6510733085</br>"
          ],
          [
           "</br>id: 0</br>prediction: 1464656.388</br>total_rooms: 36960.92</br></br>longitude: -122.22</br>latitude: 37.86</br>housing_median_age: 21.0</br>total_bedrooms: 1106.0</br>population: 2401.0</br>households: 1138.0</br>median_income: 8.3014</br>ocean_proximity: NEAR BAY</br>_original_yhat_: 456419.6510733085</br>"
          ],
          [
           "</br>id: 0</br>prediction: 1482453.147</br>total_rooms: 37354.1</br></br>longitude: -122.22</br>latitude: 37.86</br>housing_median_age: 21.0</br>total_bedrooms: 1106.0</br>population: 2401.0</br>households: 1138.0</br>median_income: 8.3014</br>ocean_proximity: NEAR BAY</br>_original_yhat_: 456419.6510733085</br>"
          ],
          [
           "</br>id: 0</br>prediction: 1500249.906</br>total_rooms: 37747.28</br></br>longitude: -122.22</br>latitude: 37.86</br>housing_median_age: 21.0</br>total_bedrooms: 1106.0</br>population: 2401.0</br>households: 1138.0</br>median_income: 8.3014</br>ocean_proximity: NEAR BAY</br>_original_yhat_: 456419.6510733085</br>"
          ],
          [
           "</br>id: 0</br>prediction: 1518046.666</br>total_rooms: 38140.46</br></br>longitude: -122.22</br>latitude: 37.86</br>housing_median_age: 21.0</br>total_bedrooms: 1106.0</br>population: 2401.0</br>households: 1138.0</br>median_income: 8.3014</br>ocean_proximity: NEAR BAY</br>_original_yhat_: 456419.6510733085</br>"
          ],
          [
           "</br>id: 0</br>prediction: 1535843.425</br>total_rooms: 38533.64</br></br>longitude: -122.22</br>latitude: 37.86</br>housing_median_age: 21.0</br>total_bedrooms: 1106.0</br>population: 2401.0</br>households: 1138.0</br>median_income: 8.3014</br>ocean_proximity: NEAR BAY</br>_original_yhat_: 456419.6510733085</br>"
          ],
          [
           "</br>id: 0</br>prediction: 1553640.184</br>total_rooms: 38926.82</br></br>longitude: -122.22</br>latitude: 37.86</br>housing_median_age: 21.0</br>total_bedrooms: 1106.0</br>population: 2401.0</br>households: 1138.0</br>median_income: 8.3014</br>ocean_proximity: NEAR BAY</br>_original_yhat_: 456419.6510733085</br>"
          ],
          [
           "</br>id: 0</br>prediction: 1571436.944</br>total_rooms: 39320.0</br></br>longitude: -122.22</br>latitude: 37.86</br>housing_median_age: 21.0</br>total_bedrooms: 1106.0</br>population: 2401.0</br>households: 1138.0</br>median_income: 8.3014</br>ocean_proximity: NEAR BAY</br>_original_yhat_: 456419.6510733085</br>"
          ]
         ],
         "hovertemplate": "%{customdata[0]}<extra></extra>",
         "legendgroup": "MLP with ordinal encoding",
         "line": {
          "color": "#8bdcbe",
          "dash": "solid",
          "width": 2
         },
         "marker": {
          "symbol": "circle"
         },
         "mode": "lines",
         "name": "MLP with ordinal encoding",
         "opacity": 1,
         "orientation": "v",
         "showlegend": false,
         "type": "scatter",
         "x": [
          2,
          395.18,
          788.36,
          1181.54,
          1574.72,
          1967.9,
          2361.08,
          2754.26,
          3147.44,
          3540.62,
          3933.8,
          4326.9800000000005,
          4720.16,
          5113.34,
          5506.52,
          5899.7,
          6292.88,
          6686.06,
          7079.24,
          7099,
          7472.42,
          7865.6,
          8258.78,
          8651.960000000001,
          9045.14,
          9438.32,
          9831.5,
          10224.68,
          10617.86,
          11011.04,
          11404.22,
          11797.4,
          12190.58,
          12583.76,
          12976.94,
          13370.12,
          13763.300000000001,
          14156.48,
          14549.66,
          14942.84,
          15336.02,
          15729.2,
          16122.380000000001,
          16515.56,
          16908.74,
          17301.920000000002,
          17695.1,
          18088.28,
          18481.46,
          18874.64,
          19267.82,
          19661,
          20054.18,
          20447.36,
          20840.54,
          21233.72,
          21626.9,
          22020.08,
          22413.260000000002,
          22806.44,
          23199.62,
          23592.8,
          23985.98,
          24379.16,
          24772.34,
          25165.52,
          25558.7,
          25951.88,
          26345.06,
          26738.24,
          27131.420000000002,
          27524.600000000002,
          27917.78,
          28310.96,
          28704.14,
          29097.32,
          29490.5,
          29883.68,
          30276.86,
          30670.04,
          31063.22,
          31456.4,
          31849.58,
          32242.760000000002,
          32635.940000000002,
          33029.12,
          33422.3,
          33815.48,
          34208.66,
          34601.840000000004,
          34995.020000000004,
          35388.2,
          35781.38,
          36174.56,
          36567.74,
          36960.92,
          37354.1,
          37747.28,
          38140.46,
          38533.64,
          38926.82,
          39320
         ],
         "xaxis": "x2",
         "y": [
          459841.1950085187,
          447723.23262868536,
          432271.4110028133,
          474904.1105395381,
          503605.52279118815,
          520964.2359772598,
          526531.0362790893,
          526210.0795139252,
          515382.67410202697,
          499311.97367873316,
          476366.6384509993,
          456020.8321594829,
          471203.77349658863,
          483232.5466594142,
          490574.25373251544,
          496471.2764061175,
          493839.4818961809,
          475588.19290330523,
          457336.9039104296,
          456419.65107330855,
          449285.161834362,
          451582.54318186024,
          453461.49676810624,
          457527.68312086345,
          463714.51831283263,
          469901.3535048017,
          476088.18869677145,
          482275.0238887404,
          488461.8590807099,
          494648.69427267916,
          500835.5294646486,
          507022.36465661786,
          513209.1998485872,
          519396.0350405566,
          525582.8702325257,
          531769.7054244953,
          537956.5406164645,
          544849.013575449,
          552721.4244935695,
          560593.8354116905,
          568466.246329811,
          576338.6572479325,
          584211.0681660533,
          592083.4790841746,
          599955.8900022954,
          607828.3009204165,
          615700.7118385368,
          623573.1227566587,
          631445.5336747791,
          646005.4596147392,
          663802.2189208517,
          681598.9782269645,
          699395.7375330772,
          717192.4968391899,
          734989.256145303,
          752786.0154514157,
          770582.7747575276,
          788379.5340636406,
          806176.2933697532,
          823973.0526758662,
          841769.8119819788,
          859566.5712880911,
          877363.3305942042,
          895160.0899003168,
          912956.849206429,
          930753.6085125421,
          948550.367818655,
          966347.1271247676,
          984143.8864308809,
          1001940.6457369939,
          1019737.4050431063,
          1037534.1643492196,
          1055330.923655331,
          1073127.6829614444,
          1090924.442267557,
          1108721.20157367,
          1126517.9608797822,
          1144314.7201858952,
          1162111.4794920085,
          1179908.2387981205,
          1197704.998104233,
          1215501.7574103458,
          1233298.5167164593,
          1251095.276022571,
          1268892.0353286846,
          1286688.794634797,
          1304485.5539409092,
          1322282.313247023,
          1340079.0725531352,
          1357875.831859247,
          1375672.5911653598,
          1393469.350471472,
          1411266.1097775854,
          1429062.869083698,
          1446859.628389811,
          1464656.387695923,
          1482453.147002036,
          1500249.9063081488,
          1518046.6656142622,
          1535843.4249203743,
          1553640.1842264868,
          1571436.9435325998
         ],
         "yaxis": "y2"
        },
        {
         "customdata": [
          [
           "</br>id: 0</br>prediction: 514984.017</br>total_bedrooms: 1.0</br></br>longitude: -122.22</br>latitude: 37.86</br>housing_median_age: 21.0</br>total_rooms: 7099.0</br>population: 2401.0</br>households: 1138.0</br>median_income: 8.3014</br>ocean_proximity: NEAR BAY</br>_original_yhat_: 477045.9424363552</br>"
          ],
          [
           "</br>id: 0</br>prediction: 459284.965</br>total_bedrooms: 65.44</br></br>longitude: -122.22</br>latitude: 37.86</br>housing_median_age: 21.0</br>total_rooms: 7099.0</br>population: 2401.0</br>households: 1138.0</br>median_income: 8.3014</br>ocean_proximity: NEAR BAY</br>_original_yhat_: 477045.9424363552</br>"
          ],
          [
           "</br>id: 0</br>prediction: 446541.301</br>total_bedrooms: 129.88</br></br>longitude: -122.22</br>latitude: 37.86</br>housing_median_age: 21.0</br>total_rooms: 7099.0</br>population: 2401.0</br>households: 1138.0</br>median_income: 8.3014</br>ocean_proximity: NEAR BAY</br>_original_yhat_: 477045.9424363552</br>"
          ],
          [
           "</br>id: 0</br>prediction: 443198.713</br>total_bedrooms: 194.32</br></br>longitude: -122.22</br>latitude: 37.86</br>housing_median_age: 21.0</br>total_rooms: 7099.0</br>population: 2401.0</br>households: 1138.0</br>median_income: 8.3014</br>ocean_proximity: NEAR BAY</br>_original_yhat_: 477045.9424363552</br>"
          ],
          [
           "</br>id: 0</br>prediction: 447920.161</br>total_bedrooms: 258.76</br></br>longitude: -122.22</br>latitude: 37.86</br>housing_median_age: 21.0</br>total_rooms: 7099.0</br>population: 2401.0</br>households: 1138.0</br>median_income: 8.3014</br>ocean_proximity: NEAR BAY</br>_original_yhat_: 477045.9424363552</br>"
          ],
          [
           "</br>id: 0</br>prediction: 451798.213</br>total_bedrooms: 323.2</br></br>longitude: -122.22</br>latitude: 37.86</br>housing_median_age: 21.0</br>total_rooms: 7099.0</br>population: 2401.0</br>households: 1138.0</br>median_income: 8.3014</br>ocean_proximity: NEAR BAY</br>_original_yhat_: 477045.9424363552</br>"
          ],
          [
           "</br>id: 0</br>prediction: 455113.356</br>total_bedrooms: 387.64</br></br>longitude: -122.22</br>latitude: 37.86</br>housing_median_age: 21.0</br>total_rooms: 7099.0</br>population: 2401.0</br>households: 1138.0</br>median_income: 8.3014</br>ocean_proximity: NEAR BAY</br>_original_yhat_: 477045.9424363552</br>"
          ],
          [
           "</br>id: 0</br>prediction: 458023.045</br>total_bedrooms: 452.08</br></br>longitude: -122.22</br>latitude: 37.86</br>housing_median_age: 21.0</br>total_rooms: 7099.0</br>population: 2401.0</br>households: 1138.0</br>median_income: 8.3014</br>ocean_proximity: NEAR BAY</br>_original_yhat_: 477045.9424363552</br>"
          ],
          [
           "</br>id: 0</br>prediction: 460625.194</br>total_bedrooms: 516.52</br></br>longitude: -122.22</br>latitude: 37.86</br>housing_median_age: 21.0</br>total_rooms: 7099.0</br>population: 2401.0</br>households: 1138.0</br>median_income: 8.3014</br>ocean_proximity: NEAR BAY</br>_original_yhat_: 477045.9424363552</br>"
          ],
          [
           "</br>id: 0</br>prediction: 462985.16</br>total_bedrooms: 580.96</br></br>longitude: -122.22</br>latitude: 37.86</br>housing_median_age: 21.0</br>total_rooms: 7099.0</br>population: 2401.0</br>households: 1138.0</br>median_income: 8.3014</br>ocean_proximity: NEAR BAY</br>_original_yhat_: 477045.9424363552</br>"
          ],
          [
           "</br>id: 0</br>prediction: 465148.903</br>total_bedrooms: 645.4</br></br>longitude: -122.22</br>latitude: 37.86</br>housing_median_age: 21.0</br>total_rooms: 7099.0</br>population: 2401.0</br>households: 1138.0</br>median_income: 8.3014</br>ocean_proximity: NEAR BAY</br>_original_yhat_: 477045.9424363552</br>"
          ],
          [
           "</br>id: 0</br>prediction: 467150.067</br>total_bedrooms: 709.8399999999999</br></br>longitude: -122.22</br>latitude: 37.86</br>housing_median_age: 21.0</br>total_rooms: 7099.0</br>population: 2401.0</br>households: 1138.0</br>median_income: 8.3014</br>ocean_proximity: NEAR BAY</br>_original_yhat_: 477045.9424363552</br>"
          ],
          [
           "</br>id: 0</br>prediction: 469014.072</br>total_bedrooms: 774.28</br></br>longitude: -122.22</br>latitude: 37.86</br>housing_median_age: 21.0</br>total_rooms: 7099.0</br>population: 2401.0</br>households: 1138.0</br>median_income: 8.3014</br>ocean_proximity: NEAR BAY</br>_original_yhat_: 477045.9424363552</br>"
          ],
          [
           "</br>id: 0</br>prediction: 470760.631</br>total_bedrooms: 838.72</br></br>longitude: -122.22</br>latitude: 37.86</br>housing_median_age: 21.0</br>total_rooms: 7099.0</br>population: 2401.0</br>households: 1138.0</br>median_income: 8.3014</br>ocean_proximity: NEAR BAY</br>_original_yhat_: 477045.9424363552</br>"
          ],
          [
           "</br>id: 0</br>prediction: 472405.36</br>total_bedrooms: 903.16</br></br>longitude: -122.22</br>latitude: 37.86</br>housing_median_age: 21.0</br>total_rooms: 7099.0</br>population: 2401.0</br>households: 1138.0</br>median_income: 8.3014</br>ocean_proximity: NEAR BAY</br>_original_yhat_: 477045.9424363552</br>"
          ],
          [
           "</br>id: 0</br>prediction: 473960.859</br>total_bedrooms: 967.5999999999999</br></br>longitude: -122.22</br>latitude: 37.86</br>housing_median_age: 21.0</br>total_rooms: 7099.0</br>population: 2401.0</br>households: 1138.0</br>median_income: 8.3014</br>ocean_proximity: NEAR BAY</br>_original_yhat_: 477045.9424363552</br>"
          ],
          [
           "</br>id: 0</br>prediction: 475437.449</br>total_bedrooms: 1032.04</br></br>longitude: -122.22</br>latitude: 37.86</br>housing_median_age: 21.0</br>total_rooms: 7099.0</br>population: 2401.0</br>households: 1138.0</br>median_income: 8.3014</br>ocean_proximity: NEAR BAY</br>_original_yhat_: 477045.9424363552</br>"
          ],
          [
           "</br>id: 0</br>prediction: 476843.702</br>total_bedrooms: 1096.48</br></br>longitude: -122.22</br>latitude: 37.86</br>housing_median_age: 21.0</br>total_rooms: 7099.0</br>population: 2401.0</br>households: 1138.0</br>median_income: 8.3014</br>ocean_proximity: NEAR BAY</br>_original_yhat_: 477045.9424363552</br>"
          ],
          [
           "</br>id: 0</br>prediction: 477045.942</br>total_bedrooms: 1106.0</br></br>longitude: -122.22</br>latitude: 37.86</br>housing_median_age: 21.0</br>total_rooms: 7099.0</br>population: 2401.0</br>households: 1138.0</br>median_income: 8.3014</br>ocean_proximity: NEAR BAY</br>_original_yhat_: 477045.9424363552</br>"
          ],
          [
           "</br>id: 0</br>prediction: 478186.817</br>total_bedrooms: 1160.92</br></br>longitude: -122.22</br>latitude: 37.86</br>housing_median_age: 21.0</br>total_rooms: 7099.0</br>population: 2401.0</br>households: 1138.0</br>median_income: 8.3014</br>ocean_proximity: NEAR BAY</br>_original_yhat_: 477045.9424363552</br>"
          ],
          [
           "</br>id: 0</br>prediction: 479472.906</br>total_bedrooms: 1225.36</br></br>longitude: -122.22</br>latitude: 37.86</br>housing_median_age: 21.0</br>total_rooms: 7099.0</br>population: 2401.0</br>households: 1138.0</br>median_income: 8.3014</br>ocean_proximity: NEAR BAY</br>_original_yhat_: 477045.9424363552</br>"
          ],
          [
           "</br>id: 0</br>prediction: 480707.206</br>total_bedrooms: 1289.8</br></br>longitude: -122.22</br>latitude: 37.86</br>housing_median_age: 21.0</br>total_rooms: 7099.0</br>population: 2401.0</br>households: 1138.0</br>median_income: 8.3014</br>ocean_proximity: NEAR BAY</br>_original_yhat_: 477045.9424363552</br>"
          ],
          [
           "</br>id: 0</br>prediction: 481894.237</br>total_bedrooms: 1354.24</br></br>longitude: -122.22</br>latitude: 37.86</br>housing_median_age: 21.0</br>total_rooms: 7099.0</br>population: 2401.0</br>households: 1138.0</br>median_income: 8.3014</br>ocean_proximity: NEAR BAY</br>_original_yhat_: 477045.9424363552</br>"
          ],
          [
           "</br>id: 0</br>prediction: 483037.934</br>total_bedrooms: 1418.6799999999998</br></br>longitude: -122.22</br>latitude: 37.86</br>housing_median_age: 21.0</br>total_rooms: 7099.0</br>population: 2401.0</br>households: 1138.0</br>median_income: 8.3014</br>ocean_proximity: NEAR BAY</br>_original_yhat_: 477045.9424363552</br>"
          ],
          [
           "</br>id: 0</br>prediction: 484141.742</br>total_bedrooms: 1483.12</br></br>longitude: -122.22</br>latitude: 37.86</br>housing_median_age: 21.0</br>total_rooms: 7099.0</br>population: 2401.0</br>households: 1138.0</br>median_income: 8.3014</br>ocean_proximity: NEAR BAY</br>_original_yhat_: 477045.9424363552</br>"
          ],
          [
           "</br>id: 0</br>prediction: 485208.697</br>total_bedrooms: 1547.56</br></br>longitude: -122.22</br>latitude: 37.86</br>housing_median_age: 21.0</br>total_rooms: 7099.0</br>population: 2401.0</br>households: 1138.0</br>median_income: 8.3014</br>ocean_proximity: NEAR BAY</br>_original_yhat_: 477045.9424363552</br>"
          ],
          [
           "</br>id: 0</br>prediction: 487423.416</br>total_bedrooms: 1612.0</br></br>longitude: -122.22</br>latitude: 37.86</br>housing_median_age: 21.0</br>total_rooms: 7099.0</br>population: 2401.0</br>households: 1138.0</br>median_income: 8.3014</br>ocean_proximity: NEAR BAY</br>_original_yhat_: 477045.9424363552</br>"
          ],
          [
           "</br>id: 0</br>prediction: 492096.363</br>total_bedrooms: 1676.44</br></br>longitude: -122.22</br>latitude: 37.86</br>housing_median_age: 21.0</br>total_rooms: 7099.0</br>population: 2401.0</br>households: 1138.0</br>median_income: 8.3014</br>ocean_proximity: NEAR BAY</br>_original_yhat_: 477045.9424363552</br>"
          ],
          [
           "</br>id: 0</br>prediction: 496631.02</br>total_bedrooms: 1740.8799999999999</br></br>longitude: -122.22</br>latitude: 37.86</br>housing_median_age: 21.0</br>total_rooms: 7099.0</br>population: 2401.0</br>households: 1138.0</br>median_income: 8.3014</br>ocean_proximity: NEAR BAY</br>_original_yhat_: 477045.9424363552</br>"
          ],
          [
           "</br>id: 0</br>prediction: 501036.374</br>total_bedrooms: 1805.32</br></br>longitude: -122.22</br>latitude: 37.86</br>housing_median_age: 21.0</br>total_rooms: 7099.0</br>population: 2401.0</br>households: 1138.0</br>median_income: 8.3014</br>ocean_proximity: NEAR BAY</br>_original_yhat_: 477045.9424363552</br>"
          ],
          [
           "</br>id: 0</br>prediction: 505320.535</br>total_bedrooms: 1869.76</br></br>longitude: -122.22</br>latitude: 37.86</br>housing_median_age: 21.0</br>total_rooms: 7099.0</br>population: 2401.0</br>households: 1138.0</br>median_income: 8.3014</br>ocean_proximity: NEAR BAY</br>_original_yhat_: 477045.9424363552</br>"
          ],
          [
           "</br>id: 0</br>prediction: 509490.843</br>total_bedrooms: 1934.1999999999998</br></br>longitude: -122.22</br>latitude: 37.86</br>housing_median_age: 21.0</br>total_rooms: 7099.0</br>population: 2401.0</br>households: 1138.0</br>median_income: 8.3014</br>ocean_proximity: NEAR BAY</br>_original_yhat_: 477045.9424363552</br>"
          ],
          [
           "</br>id: 0</br>prediction: 513553.97</br>total_bedrooms: 1998.6399999999999</br></br>longitude: -122.22</br>latitude: 37.86</br>housing_median_age: 21.0</br>total_rooms: 7099.0</br>population: 2401.0</br>households: 1138.0</br>median_income: 8.3014</br>ocean_proximity: NEAR BAY</br>_original_yhat_: 477045.9424363552</br>"
          ],
          [
           "</br>id: 0</br>prediction: 517515.994</br>total_bedrooms: 2063.08</br></br>longitude: -122.22</br>latitude: 37.86</br>housing_median_age: 21.0</br>total_rooms: 7099.0</br>population: 2401.0</br>households: 1138.0</br>median_income: 8.3014</br>ocean_proximity: NEAR BAY</br>_original_yhat_: 477045.9424363552</br>"
          ],
          [
           "</br>id: 0</br>prediction: 521382.474</br>total_bedrooms: 2127.52</br></br>longitude: -122.22</br>latitude: 37.86</br>housing_median_age: 21.0</br>total_rooms: 7099.0</br>population: 2401.0</br>households: 1138.0</br>median_income: 8.3014</br>ocean_proximity: NEAR BAY</br>_original_yhat_: 477045.9424363552</br>"
          ],
          [
           "</br>id: 0</br>prediction: 525158.503</br>total_bedrooms: 2191.96</br></br>longitude: -122.22</br>latitude: 37.86</br>housing_median_age: 21.0</br>total_rooms: 7099.0</br>population: 2401.0</br>households: 1138.0</br>median_income: 8.3014</br>ocean_proximity: NEAR BAY</br>_original_yhat_: 477045.9424363552</br>"
          ],
          [
           "</br>id: 0</br>prediction: 528848.765</br>total_bedrooms: 2256.4</br></br>longitude: -122.22</br>latitude: 37.86</br>housing_median_age: 21.0</br>total_rooms: 7099.0</br>population: 2401.0</br>households: 1138.0</br>median_income: 8.3014</br>ocean_proximity: NEAR BAY</br>_original_yhat_: 477045.9424363552</br>"
          ],
          [
           "</br>id: 0</br>prediction: 532457.575</br>total_bedrooms: 2320.84</br></br>longitude: -122.22</br>latitude: 37.86</br>housing_median_age: 21.0</br>total_rooms: 7099.0</br>population: 2401.0</br>households: 1138.0</br>median_income: 8.3014</br>ocean_proximity: NEAR BAY</br>_original_yhat_: 477045.9424363552</br>"
          ],
          [
           "</br>id: 0</br>prediction: 535988.918</br>total_bedrooms: 2385.2799999999997</br></br>longitude: -122.22</br>latitude: 37.86</br>housing_median_age: 21.0</br>total_rooms: 7099.0</br>population: 2401.0</br>households: 1138.0</br>median_income: 8.3014</br>ocean_proximity: NEAR BAY</br>_original_yhat_: 477045.9424363552</br>"
          ],
          [
           "</br>id: 0</br>prediction: 539446.484</br>total_bedrooms: 2449.72</br></br>longitude: -122.22</br>latitude: 37.86</br>housing_median_age: 21.0</br>total_rooms: 7099.0</br>population: 2401.0</br>households: 1138.0</br>median_income: 8.3014</br>ocean_proximity: NEAR BAY</br>_original_yhat_: 477045.9424363552</br>"
          ],
          [
           "</br>id: 0</br>prediction: 542833.694</br>total_bedrooms: 2514.16</br></br>longitude: -122.22</br>latitude: 37.86</br>housing_median_age: 21.0</br>total_rooms: 7099.0</br>population: 2401.0</br>households: 1138.0</br>median_income: 8.3014</br>ocean_proximity: NEAR BAY</br>_original_yhat_: 477045.9424363552</br>"
          ],
          [
           "</br>id: 0</br>prediction: 546153.729</br>total_bedrooms: 2578.6</br></br>longitude: -122.22</br>latitude: 37.86</br>housing_median_age: 21.0</br>total_rooms: 7099.0</br>population: 2401.0</br>households: 1138.0</br>median_income: 8.3014</br>ocean_proximity: NEAR BAY</br>_original_yhat_: 477045.9424363552</br>"
          ],
          [
           "</br>id: 0</br>prediction: 549409.551</br>total_bedrooms: 2643.04</br></br>longitude: -122.22</br>latitude: 37.86</br>housing_median_age: 21.0</br>total_rooms: 7099.0</br>population: 2401.0</br>households: 1138.0</br>median_income: 8.3014</br>ocean_proximity: NEAR BAY</br>_original_yhat_: 477045.9424363552</br>"
          ],
          [
           "</br>id: 0</br>prediction: 552603.921</br>total_bedrooms: 2707.48</br></br>longitude: -122.22</br>latitude: 37.86</br>housing_median_age: 21.0</br>total_rooms: 7099.0</br>population: 2401.0</br>households: 1138.0</br>median_income: 8.3014</br>ocean_proximity: NEAR BAY</br>_original_yhat_: 477045.9424363552</br>"
          ],
          [
           "</br>id: 0</br>prediction: 555739.421</br>total_bedrooms: 2771.92</br></br>longitude: -122.22</br>latitude: 37.86</br>housing_median_age: 21.0</br>total_rooms: 7099.0</br>population: 2401.0</br>households: 1138.0</br>median_income: 8.3014</br>ocean_proximity: NEAR BAY</br>_original_yhat_: 477045.9424363552</br>"
          ],
          [
           "</br>id: 0</br>prediction: 558818.468</br>total_bedrooms: 2836.3599999999997</br></br>longitude: -122.22</br>latitude: 37.86</br>housing_median_age: 21.0</br>total_rooms: 7099.0</br>population: 2401.0</br>households: 1138.0</br>median_income: 8.3014</br>ocean_proximity: NEAR BAY</br>_original_yhat_: 477045.9424363552</br>"
          ],
          [
           "</br>id: 0</br>prediction: 561843.325</br>total_bedrooms: 2900.7999999999997</br></br>longitude: -122.22</br>latitude: 37.86</br>housing_median_age: 21.0</br>total_rooms: 7099.0</br>population: 2401.0</br>households: 1138.0</br>median_income: 8.3014</br>ocean_proximity: NEAR BAY</br>_original_yhat_: 477045.9424363552</br>"
          ],
          [
           "</br>id: 0</br>prediction: 564816.119</br>total_bedrooms: 2965.24</br></br>longitude: -122.22</br>latitude: 37.86</br>housing_median_age: 21.0</br>total_rooms: 7099.0</br>population: 2401.0</br>households: 1138.0</br>median_income: 8.3014</br>ocean_proximity: NEAR BAY</br>_original_yhat_: 477045.9424363552</br>"
          ],
          [
           "</br>id: 0</br>prediction: 567738.849</br>total_bedrooms: 3029.68</br></br>longitude: -122.22</br>latitude: 37.86</br>housing_median_age: 21.0</br>total_rooms: 7099.0</br>population: 2401.0</br>households: 1138.0</br>median_income: 8.3014</br>ocean_proximity: NEAR BAY</br>_original_yhat_: 477045.9424363552</br>"
          ],
          [
           "</br>id: 0</br>prediction: 570613.394</br>total_bedrooms: 3094.12</br></br>longitude: -122.22</br>latitude: 37.86</br>housing_median_age: 21.0</br>total_rooms: 7099.0</br>population: 2401.0</br>households: 1138.0</br>median_income: 8.3014</br>ocean_proximity: NEAR BAY</br>_original_yhat_: 477045.9424363552</br>"
          ],
          [
           "</br>id: 0</br>prediction: 573441.53</br>total_bedrooms: 3158.56</br></br>longitude: -122.22</br>latitude: 37.86</br>housing_median_age: 21.0</br>total_rooms: 7099.0</br>population: 2401.0</br>households: 1138.0</br>median_income: 8.3014</br>ocean_proximity: NEAR BAY</br>_original_yhat_: 477045.9424363552</br>"
          ],
          [
           "</br>id: 0</br>prediction: 576224.929</br>total_bedrooms: 3223.0</br></br>longitude: -122.22</br>latitude: 37.86</br>housing_median_age: 21.0</br>total_rooms: 7099.0</br>population: 2401.0</br>households: 1138.0</br>median_income: 8.3014</br>ocean_proximity: NEAR BAY</br>_original_yhat_: 477045.9424363552</br>"
          ],
          [
           "</br>id: 0</br>prediction: 578965.171</br>total_bedrooms: 3287.44</br></br>longitude: -122.22</br>latitude: 37.86</br>housing_median_age: 21.0</br>total_rooms: 7099.0</br>population: 2401.0</br>households: 1138.0</br>median_income: 8.3014</br>ocean_proximity: NEAR BAY</br>_original_yhat_: 477045.9424363552</br>"
          ],
          [
           "</br>id: 0</br>prediction: 581663.753</br>total_bedrooms: 3351.88</br></br>longitude: -122.22</br>latitude: 37.86</br>housing_median_age: 21.0</br>total_rooms: 7099.0</br>population: 2401.0</br>households: 1138.0</br>median_income: 8.3014</br>ocean_proximity: NEAR BAY</br>_original_yhat_: 477045.9424363552</br>"
          ],
          [
           "</br>id: 0</br>prediction: 584322.091</br>total_bedrooms: 3416.3199999999997</br></br>longitude: -122.22</br>latitude: 37.86</br>housing_median_age: 21.0</br>total_rooms: 7099.0</br>population: 2401.0</br>households: 1138.0</br>median_income: 8.3014</br>ocean_proximity: NEAR BAY</br>_original_yhat_: 477045.9424363552</br>"
          ],
          [
           "</br>id: 0</br>prediction: 586941.527</br>total_bedrooms: 3480.7599999999998</br></br>longitude: -122.22</br>latitude: 37.86</br>housing_median_age: 21.0</br>total_rooms: 7099.0</br>population: 2401.0</br>households: 1138.0</br>median_income: 8.3014</br>ocean_proximity: NEAR BAY</br>_original_yhat_: 477045.9424363552</br>"
          ],
          [
           "</br>id: 0</br>prediction: 589523.334</br>total_bedrooms: 3545.2</br></br>longitude: -122.22</br>latitude: 37.86</br>housing_median_age: 21.0</br>total_rooms: 7099.0</br>population: 2401.0</br>households: 1138.0</br>median_income: 8.3014</br>ocean_proximity: NEAR BAY</br>_original_yhat_: 477045.9424363552</br>"
          ],
          [
           "</br>id: 0</br>prediction: 592068.723</br>total_bedrooms: 3609.64</br></br>longitude: -122.22</br>latitude: 37.86</br>housing_median_age: 21.0</br>total_rooms: 7099.0</br>population: 2401.0</br>households: 1138.0</br>median_income: 8.3014</br>ocean_proximity: NEAR BAY</br>_original_yhat_: 477045.9424363552</br>"
          ],
          [
           "</br>id: 0</br>prediction: 594578.844</br>total_bedrooms: 3674.08</br></br>longitude: -122.22</br>latitude: 37.86</br>housing_median_age: 21.0</br>total_rooms: 7099.0</br>population: 2401.0</br>households: 1138.0</br>median_income: 8.3014</br>ocean_proximity: NEAR BAY</br>_original_yhat_: 477045.9424363552</br>"
          ],
          [
           "</br>id: 0</br>prediction: 597054.791</br>total_bedrooms: 3738.52</br></br>longitude: -122.22</br>latitude: 37.86</br>housing_median_age: 21.0</br>total_rooms: 7099.0</br>population: 2401.0</br>households: 1138.0</br>median_income: 8.3014</br>ocean_proximity: NEAR BAY</br>_original_yhat_: 477045.9424363552</br>"
          ],
          [
           "</br>id: 0</br>prediction: 599497.606</br>total_bedrooms: 3802.96</br></br>longitude: -122.22</br>latitude: 37.86</br>housing_median_age: 21.0</br>total_rooms: 7099.0</br>population: 2401.0</br>households: 1138.0</br>median_income: 8.3014</br>ocean_proximity: NEAR BAY</br>_original_yhat_: 477045.9424363552</br>"
          ],
          [
           "</br>id: 0</br>prediction: 601908.283</br>total_bedrooms: 3867.3999999999996</br></br>longitude: -122.22</br>latitude: 37.86</br>housing_median_age: 21.0</br>total_rooms: 7099.0</br>population: 2401.0</br>households: 1138.0</br>median_income: 8.3014</br>ocean_proximity: NEAR BAY</br>_original_yhat_: 477045.9424363552</br>"
          ],
          [
           "</br>id: 0</br>prediction: 604287.77</br>total_bedrooms: 3931.8399999999997</br></br>longitude: -122.22</br>latitude: 37.86</br>housing_median_age: 21.0</br>total_rooms: 7099.0</br>population: 2401.0</br>households: 1138.0</br>median_income: 8.3014</br>ocean_proximity: NEAR BAY</br>_original_yhat_: 477045.9424363552</br>"
          ],
          [
           "</br>id: 0</br>prediction: 606636.972</br>total_bedrooms: 3996.2799999999997</br></br>longitude: -122.22</br>latitude: 37.86</br>housing_median_age: 21.0</br>total_rooms: 7099.0</br>population: 2401.0</br>households: 1138.0</br>median_income: 8.3014</br>ocean_proximity: NEAR BAY</br>_original_yhat_: 477045.9424363552</br>"
          ],
          [
           "</br>id: 0</br>prediction: 608956.752</br>total_bedrooms: 4060.72</br></br>longitude: -122.22</br>latitude: 37.86</br>housing_median_age: 21.0</br>total_rooms: 7099.0</br>population: 2401.0</br>households: 1138.0</br>median_income: 8.3014</br>ocean_proximity: NEAR BAY</br>_original_yhat_: 477045.9424363552</br>"
          ],
          [
           "</br>id: 0</br>prediction: 611247.938</br>total_bedrooms: 4125.16</br></br>longitude: -122.22</br>latitude: 37.86</br>housing_median_age: 21.0</br>total_rooms: 7099.0</br>population: 2401.0</br>households: 1138.0</br>median_income: 8.3014</br>ocean_proximity: NEAR BAY</br>_original_yhat_: 477045.9424363552</br>"
          ],
          [
           "</br>id: 0</br>prediction: 613511.321</br>total_bedrooms: 4189.599999999999</br></br>longitude: -122.22</br>latitude: 37.86</br>housing_median_age: 21.0</br>total_rooms: 7099.0</br>population: 2401.0</br>households: 1138.0</br>median_income: 8.3014</br>ocean_proximity: NEAR BAY</br>_original_yhat_: 477045.9424363552</br>"
          ],
          [
           "</br>id: 0</br>prediction: 615747.657</br>total_bedrooms: 4254.04</br></br>longitude: -122.22</br>latitude: 37.86</br>housing_median_age: 21.0</br>total_rooms: 7099.0</br>population: 2401.0</br>households: 1138.0</br>median_income: 8.3014</br>ocean_proximity: NEAR BAY</br>_original_yhat_: 477045.9424363552</br>"
          ],
          [
           "</br>id: 0</br>prediction: 617957.673</br>total_bedrooms: 4318.48</br></br>longitude: -122.22</br>latitude: 37.86</br>housing_median_age: 21.0</br>total_rooms: 7099.0</br>population: 2401.0</br>households: 1138.0</br>median_income: 8.3014</br>ocean_proximity: NEAR BAY</br>_original_yhat_: 477045.9424363552</br>"
          ],
          [
           "</br>id: 0</br>prediction: 620142.064</br>total_bedrooms: 4382.92</br></br>longitude: -122.22</br>latitude: 37.86</br>housing_median_age: 21.0</br>total_rooms: 7099.0</br>population: 2401.0</br>households: 1138.0</br>median_income: 8.3014</br>ocean_proximity: NEAR BAY</br>_original_yhat_: 477045.9424363552</br>"
          ],
          [
           "</br>id: 0</br>prediction: 622301.497</br>total_bedrooms: 4447.36</br></br>longitude: -122.22</br>latitude: 37.86</br>housing_median_age: 21.0</br>total_rooms: 7099.0</br>population: 2401.0</br>households: 1138.0</br>median_income: 8.3014</br>ocean_proximity: NEAR BAY</br>_original_yhat_: 477045.9424363552</br>"
          ],
          [
           "</br>id: 0</br>prediction: 624436.612</br>total_bedrooms: 4511.8</br></br>longitude: -122.22</br>latitude: 37.86</br>housing_median_age: 21.0</br>total_rooms: 7099.0</br>population: 2401.0</br>households: 1138.0</br>median_income: 8.3014</br>ocean_proximity: NEAR BAY</br>_original_yhat_: 477045.9424363552</br>"
          ],
          [
           "</br>id: 0</br>prediction: 626548.026</br>total_bedrooms: 4576.24</br></br>longitude: -122.22</br>latitude: 37.86</br>housing_median_age: 21.0</br>total_rooms: 7099.0</br>population: 2401.0</br>households: 1138.0</br>median_income: 8.3014</br>ocean_proximity: NEAR BAY</br>_original_yhat_: 477045.9424363552</br>"
          ],
          [
           "</br>id: 0</br>prediction: 628636.329</br>total_bedrooms: 4640.68</br></br>longitude: -122.22</br>latitude: 37.86</br>housing_median_age: 21.0</br>total_rooms: 7099.0</br>population: 2401.0</br>households: 1138.0</br>median_income: 8.3014</br>ocean_proximity: NEAR BAY</br>_original_yhat_: 477045.9424363552</br>"
          ],
          [
           "</br>id: 0</br>prediction: 630702.091</br>total_bedrooms: 4705.12</br></br>longitude: -122.22</br>latitude: 37.86</br>housing_median_age: 21.0</br>total_rooms: 7099.0</br>population: 2401.0</br>households: 1138.0</br>median_income: 8.3014</br>ocean_proximity: NEAR BAY</br>_original_yhat_: 477045.9424363552</br>"
          ],
          [
           "</br>id: 0</br>prediction: 632745.857</br>total_bedrooms: 4769.5599999999995</br></br>longitude: -122.22</br>latitude: 37.86</br>housing_median_age: 21.0</br>total_rooms: 7099.0</br>population: 2401.0</br>households: 1138.0</br>median_income: 8.3014</br>ocean_proximity: NEAR BAY</br>_original_yhat_: 477045.9424363552</br>"
          ],
          [
           "</br>id: 0</br>prediction: 634768.155</br>total_bedrooms: 4834.0</br></br>longitude: -122.22</br>latitude: 37.86</br>housing_median_age: 21.0</br>total_rooms: 7099.0</br>population: 2401.0</br>households: 1138.0</br>median_income: 8.3014</br>ocean_proximity: NEAR BAY</br>_original_yhat_: 477045.9424363552</br>"
          ],
          [
           "</br>id: 0</br>prediction: 636769.492</br>total_bedrooms: 4898.44</br></br>longitude: -122.22</br>latitude: 37.86</br>housing_median_age: 21.0</br>total_rooms: 7099.0</br>population: 2401.0</br>households: 1138.0</br>median_income: 8.3014</br>ocean_proximity: NEAR BAY</br>_original_yhat_: 477045.9424363552</br>"
          ],
          [
           "</br>id: 0</br>prediction: 638750.356</br>total_bedrooms: 4962.88</br></br>longitude: -122.22</br>latitude: 37.86</br>housing_median_age: 21.0</br>total_rooms: 7099.0</br>population: 2401.0</br>households: 1138.0</br>median_income: 8.3014</br>ocean_proximity: NEAR BAY</br>_original_yhat_: 477045.9424363552</br>"
          ],
          [
           "</br>id: 0</br>prediction: 640711.22</br>total_bedrooms: 5027.32</br></br>longitude: -122.22</br>latitude: 37.86</br>housing_median_age: 21.0</br>total_rooms: 7099.0</br>population: 2401.0</br>households: 1138.0</br>median_income: 8.3014</br>ocean_proximity: NEAR BAY</br>_original_yhat_: 477045.9424363552</br>"
          ],
          [
           "</br>id: 0</br>prediction: 642652.536</br>total_bedrooms: 5091.76</br></br>longitude: -122.22</br>latitude: 37.86</br>housing_median_age: 21.0</br>total_rooms: 7099.0</br>population: 2401.0</br>households: 1138.0</br>median_income: 8.3014</br>ocean_proximity: NEAR BAY</br>_original_yhat_: 477045.9424363552</br>"
          ],
          [
           "</br>id: 0</br>prediction: 644574.744</br>total_bedrooms: 5156.2</br></br>longitude: -122.22</br>latitude: 37.86</br>housing_median_age: 21.0</br>total_rooms: 7099.0</br>population: 2401.0</br>households: 1138.0</br>median_income: 8.3014</br>ocean_proximity: NEAR BAY</br>_original_yhat_: 477045.9424363552</br>"
          ],
          [
           "</br>id: 0</br>prediction: 646478.267</br>total_bedrooms: 5220.639999999999</br></br>longitude: -122.22</br>latitude: 37.86</br>housing_median_age: 21.0</br>total_rooms: 7099.0</br>population: 2401.0</br>households: 1138.0</br>median_income: 8.3014</br>ocean_proximity: NEAR BAY</br>_original_yhat_: 477045.9424363552</br>"
          ],
          [
           "</br>id: 0</br>prediction: 648363.514</br>total_bedrooms: 5285.08</br></br>longitude: -122.22</br>latitude: 37.86</br>housing_median_age: 21.0</br>total_rooms: 7099.0</br>population: 2401.0</br>households: 1138.0</br>median_income: 8.3014</br>ocean_proximity: NEAR BAY</br>_original_yhat_: 477045.9424363552</br>"
          ],
          [
           "</br>id: 0</br>prediction: 650230.88</br>total_bedrooms: 5349.5199999999995</br></br>longitude: -122.22</br>latitude: 37.86</br>housing_median_age: 21.0</br>total_rooms: 7099.0</br>population: 2401.0</br>households: 1138.0</br>median_income: 8.3014</br>ocean_proximity: NEAR BAY</br>_original_yhat_: 477045.9424363552</br>"
          ],
          [
           "</br>id: 0</br>prediction: 652080.747</br>total_bedrooms: 5413.96</br></br>longitude: -122.22</br>latitude: 37.86</br>housing_median_age: 21.0</br>total_rooms: 7099.0</br>population: 2401.0</br>households: 1138.0</br>median_income: 8.3014</br>ocean_proximity: NEAR BAY</br>_original_yhat_: 477045.9424363552</br>"
          ],
          [
           "</br>id: 0</br>prediction: 653913.485</br>total_bedrooms: 5478.4</br></br>longitude: -122.22</br>latitude: 37.86</br>housing_median_age: 21.0</br>total_rooms: 7099.0</br>population: 2401.0</br>households: 1138.0</br>median_income: 8.3014</br>ocean_proximity: NEAR BAY</br>_original_yhat_: 477045.9424363552</br>"
          ],
          [
           "</br>id: 0</br>prediction: 655729.45</br>total_bedrooms: 5542.84</br></br>longitude: -122.22</br>latitude: 37.86</br>housing_median_age: 21.0</br>total_rooms: 7099.0</br>population: 2401.0</br>households: 1138.0</br>median_income: 8.3014</br>ocean_proximity: NEAR BAY</br>_original_yhat_: 477045.9424363552</br>"
          ],
          [
           "</br>id: 0</br>prediction: 657528.988</br>total_bedrooms: 5607.28</br></br>longitude: -122.22</br>latitude: 37.86</br>housing_median_age: 21.0</br>total_rooms: 7099.0</br>population: 2401.0</br>households: 1138.0</br>median_income: 8.3014</br>ocean_proximity: NEAR BAY</br>_original_yhat_: 477045.9424363552</br>"
          ],
          [
           "</br>id: 0</br>prediction: 659312.435</br>total_bedrooms: 5671.719999999999</br></br>longitude: -122.22</br>latitude: 37.86</br>housing_median_age: 21.0</br>total_rooms: 7099.0</br>population: 2401.0</br>households: 1138.0</br>median_income: 8.3014</br>ocean_proximity: NEAR BAY</br>_original_yhat_: 477045.9424363552</br>"
          ],
          [
           "</br>id: 0</br>prediction: 661080.114</br>total_bedrooms: 5736.16</br></br>longitude: -122.22</br>latitude: 37.86</br>housing_median_age: 21.0</br>total_rooms: 7099.0</br>population: 2401.0</br>households: 1138.0</br>median_income: 8.3014</br>ocean_proximity: NEAR BAY</br>_original_yhat_: 477045.9424363552</br>"
          ],
          [
           "</br>id: 0</br>prediction: 662832.34</br>total_bedrooms: 5800.599999999999</br></br>longitude: -122.22</br>latitude: 37.86</br>housing_median_age: 21.0</br>total_rooms: 7099.0</br>population: 2401.0</br>households: 1138.0</br>median_income: 8.3014</br>ocean_proximity: NEAR BAY</br>_original_yhat_: 477045.9424363552</br>"
          ],
          [
           "</br>id: 0</br>prediction: 664569.417</br>total_bedrooms: 5865.04</br></br>longitude: -122.22</br>latitude: 37.86</br>housing_median_age: 21.0</br>total_rooms: 7099.0</br>population: 2401.0</br>households: 1138.0</br>median_income: 8.3014</br>ocean_proximity: NEAR BAY</br>_original_yhat_: 477045.9424363552</br>"
          ],
          [
           "</br>id: 0</br>prediction: 666291.64</br>total_bedrooms: 5929.48</br></br>longitude: -122.22</br>latitude: 37.86</br>housing_median_age: 21.0</br>total_rooms: 7099.0</br>population: 2401.0</br>households: 1138.0</br>median_income: 8.3014</br>ocean_proximity: NEAR BAY</br>_original_yhat_: 477045.9424363552</br>"
          ],
          [
           "</br>id: 0</br>prediction: 667999.296</br>total_bedrooms: 5993.92</br></br>longitude: -122.22</br>latitude: 37.86</br>housing_median_age: 21.0</br>total_rooms: 7099.0</br>population: 2401.0</br>households: 1138.0</br>median_income: 8.3014</br>ocean_proximity: NEAR BAY</br>_original_yhat_: 477045.9424363552</br>"
          ],
          [
           "</br>id: 0</br>prediction: 669692.663</br>total_bedrooms: 6058.36</br></br>longitude: -122.22</br>latitude: 37.86</br>housing_median_age: 21.0</br>total_rooms: 7099.0</br>population: 2401.0</br>households: 1138.0</br>median_income: 8.3014</br>ocean_proximity: NEAR BAY</br>_original_yhat_: 477045.9424363552</br>"
          ],
          [
           "</br>id: 0</br>prediction: 671372.01</br>total_bedrooms: 6122.8</br></br>longitude: -122.22</br>latitude: 37.86</br>housing_median_age: 21.0</br>total_rooms: 7099.0</br>population: 2401.0</br>households: 1138.0</br>median_income: 8.3014</br>ocean_proximity: NEAR BAY</br>_original_yhat_: 477045.9424363552</br>"
          ],
          [
           "</br>id: 0</br>prediction: 673037.599</br>total_bedrooms: 6187.24</br></br>longitude: -122.22</br>latitude: 37.86</br>housing_median_age: 21.0</br>total_rooms: 7099.0</br>population: 2401.0</br>households: 1138.0</br>median_income: 8.3014</br>ocean_proximity: NEAR BAY</br>_original_yhat_: 477045.9424363552</br>"
          ],
          [
           "</br>id: 0</br>prediction: 674689.684</br>total_bedrooms: 6251.679999999999</br></br>longitude: -122.22</br>latitude: 37.86</br>housing_median_age: 21.0</br>total_rooms: 7099.0</br>population: 2401.0</br>households: 1138.0</br>median_income: 8.3014</br>ocean_proximity: NEAR BAY</br>_original_yhat_: 477045.9424363552</br>"
          ],
          [
           "</br>id: 0</br>prediction: 676328.512</br>total_bedrooms: 6316.12</br></br>longitude: -122.22</br>latitude: 37.86</br>housing_median_age: 21.0</br>total_rooms: 7099.0</br>population: 2401.0</br>households: 1138.0</br>median_income: 8.3014</br>ocean_proximity: NEAR BAY</br>_original_yhat_: 477045.9424363552</br>"
          ],
          [
           "</br>id: 0</br>prediction: 677954.324</br>total_bedrooms: 6380.5599999999995</br></br>longitude: -122.22</br>latitude: 37.86</br>housing_median_age: 21.0</br>total_rooms: 7099.0</br>population: 2401.0</br>households: 1138.0</br>median_income: 8.3014</br>ocean_proximity: NEAR BAY</br>_original_yhat_: 477045.9424363552</br>"
          ],
          [
           "</br>id: 0</br>prediction: 679567.352</br>total_bedrooms: 6445.0</br></br>longitude: -122.22</br>latitude: 37.86</br>housing_median_age: 21.0</br>total_rooms: 7099.0</br>population: 2401.0</br>households: 1138.0</br>median_income: 8.3014</br>ocean_proximity: NEAR BAY</br>_original_yhat_: 477045.9424363552</br>"
          ]
         ],
         "hovertemplate": "%{customdata[0]}<extra></extra>",
         "legendgroup": "MLP with ordinal encoding and power transformation",
         "line": {
          "color": "#f05a71",
          "dash": "solid",
          "width": 2
         },
         "marker": {
          "symbol": "circle"
         },
         "mode": "lines",
         "name": "MLP with ordinal encoding and power transformation",
         "opacity": 1,
         "orientation": "v",
         "showlegend": true,
         "type": "scatter",
         "x": [
          1,
          65.44,
          129.88,
          194.32,
          258.76,
          323.2,
          387.64,
          452.08,
          516.52,
          580.96,
          645.4,
          709.8399999999999,
          774.28,
          838.72,
          903.16,
          967.5999999999999,
          1032.04,
          1096.48,
          1106,
          1160.92,
          1225.36,
          1289.8,
          1354.24,
          1418.6799999999998,
          1483.12,
          1547.56,
          1612,
          1676.44,
          1740.8799999999999,
          1805.32,
          1869.76,
          1934.1999999999998,
          1998.6399999999999,
          2063.08,
          2127.52,
          2191.96,
          2256.4,
          2320.84,
          2385.2799999999997,
          2449.72,
          2514.16,
          2578.6,
          2643.04,
          2707.48,
          2771.92,
          2836.3599999999997,
          2900.7999999999997,
          2965.24,
          3029.68,
          3094.12,
          3158.56,
          3223,
          3287.44,
          3351.88,
          3416.3199999999997,
          3480.7599999999998,
          3545.2,
          3609.64,
          3674.08,
          3738.52,
          3802.96,
          3867.3999999999996,
          3931.8399999999997,
          3996.2799999999997,
          4060.72,
          4125.16,
          4189.599999999999,
          4254.04,
          4318.48,
          4382.92,
          4447.36,
          4511.8,
          4576.24,
          4640.68,
          4705.12,
          4769.5599999999995,
          4834,
          4898.44,
          4962.88,
          5027.32,
          5091.76,
          5156.2,
          5220.639999999999,
          5285.08,
          5349.5199999999995,
          5413.96,
          5478.4,
          5542.84,
          5607.28,
          5671.719999999999,
          5736.16,
          5800.599999999999,
          5865.04,
          5929.48,
          5993.92,
          6058.36,
          6122.8,
          6187.24,
          6251.679999999999,
          6316.12,
          6380.5599999999995,
          6445
         ],
         "xaxis": "x",
         "y": [
          514984.0169850132,
          459284.9646277199,
          446541.30121612427,
          443198.7125579667,
          447920.16063270374,
          451798.2134409363,
          455113.3563327365,
          458023.04522200493,
          460625.1939741796,
          462985.1596907183,
          465148.90321973246,
          467150.0669675104,
          469014.0721004288,
          470760.6308955324,
          472405.36039436987,
          473960.85918501957,
          475437.44932341756,
          476843.70166326425,
          477045.9424363552,
          478186.8166729747,
          479472.9062061493,
          480707.20577498287,
          481894.2370405376,
          483037.9339798198,
          484141.7421108662,
          485208.6974361139,
          487423.41583020537,
          492096.36346783995,
          496631.01991798397,
          501036.3740720718,
          505320.5346152245,
          509490.843230975,
          513553.9700001428,
          517515.9942727162,
          521382.47360518057,
          525158.5028292726,
          528848.764910809,
          532457.5749394521,
          535988.9183404463,
          539446.4842015152,
          542833.6944503605,
          546153.7294916166,
          549409.5508099117,
          552603.9209626932,
          555739.4213187171,
          558818.467842484,
          561843.325179054,
          564816.1192556547,
          567738.8485848778,
          570613.3944278194,
          573441.529953334,
          576224.9285108744,
          578965.1711185969,
          581663.7532549814,
          584322.0910308084,
          586941.5268085733,
          589523.334328051,
          592068.7233895474,
          594578.8441401718,
          597054.7910031085,
          599497.6062852286,
          601908.283494343,
          604287.7703938887,
          606636.9718197673,
          608956.7522813701,
          611247.9383664688,
          613511.3209675757,
          615747.6573455558,
          617957.6730446581,
          620142.0636717094,
          622301.4965509528,
          624436.6122648867,
          626548.0260904667,
          628636.3293391423,
          630702.0906084055,
          632745.8569518212,
          634768.1549738729,
          636769.4918553892,
          638750.3563148001,
          640711.2195100223,
          642652.5358853426,
          644574.7439673124,
          646478.2671133131,
          648363.5142161562,
          650230.8803678039,
          652080.747485039,
          653913.4848996976,
          655729.4499158545,
          657528.9883361812,
          659312.4349595075,
          661080.1140514779,
          662832.3397900341,
          664569.416687341,
          666291.6399896401,
          667999.2960564164,
          669692.6627201536,
          671372.0096278724,
          673037.5985655503,
          674689.6837664533,
          676328.5122043322,
          677954.3238723734,
          679567.3520487335
         ],
         "yaxis": "y"
        },
        {
         "customdata": [
          [
           "</br>id: 0</br>prediction: 972616.651</br>total_rooms: 2.0</br></br>longitude: -122.22</br>latitude: 37.86</br>housing_median_age: 21.0</br>total_bedrooms: 1106.0</br>population: 2401.0</br>households: 1138.0</br>median_income: 8.3014</br>ocean_proximity: NEAR BAY</br>_original_yhat_: 477045.9424363552</br>"
          ],
          [
           "</br>id: 0</br>prediction: 716064.376</br>total_rooms: 395.18</br></br>longitude: -122.22</br>latitude: 37.86</br>housing_median_age: 21.0</br>total_bedrooms: 1106.0</br>population: 2401.0</br>households: 1138.0</br>median_income: 8.3014</br>ocean_proximity: NEAR BAY</br>_original_yhat_: 477045.9424363552</br>"
          ],
          [
           "</br>id: 0</br>prediction: 649751.692</br>total_rooms: 788.36</br></br>longitude: -122.22</br>latitude: 37.86</br>housing_median_age: 21.0</br>total_bedrooms: 1106.0</br>population: 2401.0</br>households: 1138.0</br>median_income: 8.3014</br>ocean_proximity: NEAR BAY</br>_original_yhat_: 477045.9424363552</br>"
          ],
          [
           "</br>id: 0</br>prediction: 614025.233</br>total_rooms: 1181.54</br></br>longitude: -122.22</br>latitude: 37.86</br>housing_median_age: 21.0</br>total_bedrooms: 1106.0</br>population: 2401.0</br>households: 1138.0</br>median_income: 8.3014</br>ocean_proximity: NEAR BAY</br>_original_yhat_: 477045.9424363552</br>"
          ],
          [
           "</br>id: 0</br>prediction: 588982.52</br>total_rooms: 1574.72</br></br>longitude: -122.22</br>latitude: 37.86</br>housing_median_age: 21.0</br>total_bedrooms: 1106.0</br>population: 2401.0</br>households: 1138.0</br>median_income: 8.3014</br>ocean_proximity: NEAR BAY</br>_original_yhat_: 477045.9424363552</br>"
          ],
          [
           "</br>id: 0</br>prediction: 568432.292</br>total_rooms: 1967.9</br></br>longitude: -122.22</br>latitude: 37.86</br>housing_median_age: 21.0</br>total_bedrooms: 1106.0</br>population: 2401.0</br>households: 1138.0</br>median_income: 8.3014</br>ocean_proximity: NEAR BAY</br>_original_yhat_: 477045.9424363552</br>"
          ],
          [
           "</br>id: 0</br>prediction: 550874.537</br>total_rooms: 2361.08</br></br>longitude: -122.22</br>latitude: 37.86</br>housing_median_age: 21.0</br>total_bedrooms: 1106.0</br>population: 2401.0</br>households: 1138.0</br>median_income: 8.3014</br>ocean_proximity: NEAR BAY</br>_original_yhat_: 477045.9424363552</br>"
          ],
          [
           "</br>id: 0</br>prediction: 535469.494</br>total_rooms: 2754.26</br></br>longitude: -122.22</br>latitude: 37.86</br>housing_median_age: 21.0</br>total_bedrooms: 1106.0</br>population: 2401.0</br>households: 1138.0</br>median_income: 8.3014</br>ocean_proximity: NEAR BAY</br>_original_yhat_: 477045.9424363552</br>"
          ],
          [
           "</br>id: 0</br>prediction: 521695.891</br>total_rooms: 3147.44</br></br>longitude: -122.22</br>latitude: 37.86</br>housing_median_age: 21.0</br>total_bedrooms: 1106.0</br>population: 2401.0</br>households: 1138.0</br>median_income: 8.3014</br>ocean_proximity: NEAR BAY</br>_original_yhat_: 477045.9424363552</br>"
          ],
          [
           "</br>id: 0</br>prediction: 509206.22</br>total_rooms: 3540.62</br></br>longitude: -122.22</br>latitude: 37.86</br>housing_median_age: 21.0</br>total_bedrooms: 1106.0</br>population: 2401.0</br>households: 1138.0</br>median_income: 8.3014</br>ocean_proximity: NEAR BAY</br>_original_yhat_: 477045.9424363552</br>"
          ],
          [
           "</br>id: 0</br>prediction: 497756.334</br>total_rooms: 3933.8</br></br>longitude: -122.22</br>latitude: 37.86</br>housing_median_age: 21.0</br>total_bedrooms: 1106.0</br>population: 2401.0</br>households: 1138.0</br>median_income: 8.3014</br>ocean_proximity: NEAR BAY</br>_original_yhat_: 477045.9424363552</br>"
          ],
          [
           "</br>id: 0</br>prediction: 489004.318</br>total_rooms: 4326.9800000000005</br></br>longitude: -122.22</br>latitude: 37.86</br>housing_median_age: 21.0</br>total_bedrooms: 1106.0</br>population: 2401.0</br>households: 1138.0</br>median_income: 8.3014</br>ocean_proximity: NEAR BAY</br>_original_yhat_: 477045.9424363552</br>"
          ],
          [
           "</br>id: 0</br>prediction: 481531.538</br>total_rooms: 4720.16</br></br>longitude: -122.22</br>latitude: 37.86</br>housing_median_age: 21.0</br>total_bedrooms: 1106.0</br>population: 2401.0</br>households: 1138.0</br>median_income: 8.3014</br>ocean_proximity: NEAR BAY</br>_original_yhat_: 477045.9424363552</br>"
          ],
          [
           "</br>id: 0</br>prediction: 474529.902</br>total_rooms: 5113.34</br></br>longitude: -122.22</br>latitude: 37.86</br>housing_median_age: 21.0</br>total_bedrooms: 1106.0</br>population: 2401.0</br>households: 1138.0</br>median_income: 8.3014</br>ocean_proximity: NEAR BAY</br>_original_yhat_: 477045.9424363552</br>"
          ],
          [
           "</br>id: 0</br>prediction: 471407.324</br>total_rooms: 5506.52</br></br>longitude: -122.22</br>latitude: 37.86</br>housing_median_age: 21.0</br>total_bedrooms: 1106.0</br>population: 2401.0</br>households: 1138.0</br>median_income: 8.3014</br>ocean_proximity: NEAR BAY</br>_original_yhat_: 477045.9424363552</br>"
          ],
          [
           "</br>id: 0</br>prediction: 472907.306</br>total_rooms: 5899.7</br></br>longitude: -122.22</br>latitude: 37.86</br>housing_median_age: 21.0</br>total_bedrooms: 1106.0</br>population: 2401.0</br>households: 1138.0</br>median_income: 8.3014</br>ocean_proximity: NEAR BAY</br>_original_yhat_: 477045.9424363552</br>"
          ],
          [
           "</br>id: 0</br>prediction: 474331.175</br>total_rooms: 6292.88</br></br>longitude: -122.22</br>latitude: 37.86</br>housing_median_age: 21.0</br>total_bedrooms: 1106.0</br>population: 2401.0</br>households: 1138.0</br>median_income: 8.3014</br>ocean_proximity: NEAR BAY</br>_original_yhat_: 477045.9424363552</br>"
          ],
          [
           "</br>id: 0</br>prediction: 475687.206</br>total_rooms: 6686.06</br></br>longitude: -122.22</br>latitude: 37.86</br>housing_median_age: 21.0</br>total_bedrooms: 1106.0</br>population: 2401.0</br>households: 1138.0</br>median_income: 8.3014</br>ocean_proximity: NEAR BAY</br>_original_yhat_: 477045.9424363552</br>"
          ],
          [
           "</br>id: 0</br>prediction: 476982.349</br>total_rooms: 7079.24</br></br>longitude: -122.22</br>latitude: 37.86</br>housing_median_age: 21.0</br>total_bedrooms: 1106.0</br>population: 2401.0</br>households: 1138.0</br>median_income: 8.3014</br>ocean_proximity: NEAR BAY</br>_original_yhat_: 477045.9424363552</br>"
          ],
          [
           "</br>id: 0</br>prediction: 477045.942</br>total_rooms: 7099.0</br></br>longitude: -122.22</br>latitude: 37.86</br>housing_median_age: 21.0</br>total_bedrooms: 1106.0</br>population: 2401.0</br>households: 1138.0</br>median_income: 8.3014</br>ocean_proximity: NEAR BAY</br>_original_yhat_: 477045.9424363552</br>"
          ],
          [
           "</br>id: 0</br>prediction: 478222.503</br>total_rooms: 7472.42</br></br>longitude: -122.22</br>latitude: 37.86</br>housing_median_age: 21.0</br>total_bedrooms: 1106.0</br>population: 2401.0</br>households: 1138.0</br>median_income: 8.3014</br>ocean_proximity: NEAR BAY</br>_original_yhat_: 477045.9424363552</br>"
          ],
          [
           "</br>id: 0</br>prediction: 479412.719</br>total_rooms: 7865.6</br></br>longitude: -122.22</br>latitude: 37.86</br>housing_median_age: 21.0</br>total_bedrooms: 1106.0</br>population: 2401.0</br>households: 1138.0</br>median_income: 8.3014</br>ocean_proximity: NEAR BAY</br>_original_yhat_: 477045.9424363552</br>"
          ],
          [
           "</br>id: 0</br>prediction: 480557.36</br>total_rooms: 8258.78</br></br>longitude: -122.22</br>latitude: 37.86</br>housing_median_age: 21.0</br>total_bedrooms: 1106.0</br>population: 2401.0</br>households: 1138.0</br>median_income: 8.3014</br>ocean_proximity: NEAR BAY</br>_original_yhat_: 477045.9424363552</br>"
          ],
          [
           "</br>id: 0</br>prediction: 481660.222</br>total_rooms: 8651.960000000001</br></br>longitude: -122.22</br>latitude: 37.86</br>housing_median_age: 21.0</br>total_bedrooms: 1106.0</br>population: 2401.0</br>households: 1138.0</br>median_income: 8.3014</br>ocean_proximity: NEAR BAY</br>_original_yhat_: 477045.9424363552</br>"
          ],
          [
           "</br>id: 0</br>prediction: 482724.627</br>total_rooms: 9045.14</br></br>longitude: -122.22</br>latitude: 37.86</br>housing_median_age: 21.0</br>total_bedrooms: 1106.0</br>population: 2401.0</br>households: 1138.0</br>median_income: 8.3014</br>ocean_proximity: NEAR BAY</br>_original_yhat_: 477045.9424363552</br>"
          ],
          [
           "</br>id: 0</br>prediction: 483753.505</br>total_rooms: 9438.32</br></br>longitude: -122.22</br>latitude: 37.86</br>housing_median_age: 21.0</br>total_bedrooms: 1106.0</br>population: 2401.0</br>households: 1138.0</br>median_income: 8.3014</br>ocean_proximity: NEAR BAY</br>_original_yhat_: 477045.9424363552</br>"
          ],
          [
           "</br>id: 0</br>prediction: 484749.449</br>total_rooms: 9831.5</br></br>longitude: -122.22</br>latitude: 37.86</br>housing_median_age: 21.0</br>total_bedrooms: 1106.0</br>population: 2401.0</br>households: 1138.0</br>median_income: 8.3014</br>ocean_proximity: NEAR BAY</br>_original_yhat_: 477045.9424363552</br>"
          ],
          [
           "</br>id: 0</br>prediction: 485714.769</br>total_rooms: 10224.68</br></br>longitude: -122.22</br>latitude: 37.86</br>housing_median_age: 21.0</br>total_bedrooms: 1106.0</br>population: 2401.0</br>households: 1138.0</br>median_income: 8.3014</br>ocean_proximity: NEAR BAY</br>_original_yhat_: 477045.9424363552</br>"
          ],
          [
           "</br>id: 0</br>prediction: 486651.533</br>total_rooms: 10617.86</br></br>longitude: -122.22</br>latitude: 37.86</br>housing_median_age: 21.0</br>total_bedrooms: 1106.0</br>population: 2401.0</br>households: 1138.0</br>median_income: 8.3014</br>ocean_proximity: NEAR BAY</br>_original_yhat_: 477045.9424363552</br>"
          ],
          [
           "</br>id: 0</br>prediction: 487561.597</br>total_rooms: 11011.04</br></br>longitude: -122.22</br>latitude: 37.86</br>housing_median_age: 21.0</br>total_bedrooms: 1106.0</br>population: 2401.0</br>households: 1138.0</br>median_income: 8.3014</br>ocean_proximity: NEAR BAY</br>_original_yhat_: 477045.9424363552</br>"
          ],
          [
           "</br>id: 0</br>prediction: 488446.635</br>total_rooms: 11404.22</br></br>longitude: -122.22</br>latitude: 37.86</br>housing_median_age: 21.0</br>total_bedrooms: 1106.0</br>population: 2401.0</br>households: 1138.0</br>median_income: 8.3014</br>ocean_proximity: NEAR BAY</br>_original_yhat_: 477045.9424363552</br>"
          ],
          [
           "</br>id: 0</br>prediction: 489308.165</br>total_rooms: 11797.4</br></br>longitude: -122.22</br>latitude: 37.86</br>housing_median_age: 21.0</br>total_bedrooms: 1106.0</br>population: 2401.0</br>households: 1138.0</br>median_income: 8.3014</br>ocean_proximity: NEAR BAY</br>_original_yhat_: 477045.9424363552</br>"
          ],
          [
           "</br>id: 0</br>prediction: 490147.563</br>total_rooms: 12190.58</br></br>longitude: -122.22</br>latitude: 37.86</br>housing_median_age: 21.0</br>total_bedrooms: 1106.0</br>population: 2401.0</br>households: 1138.0</br>median_income: 8.3014</br>ocean_proximity: NEAR BAY</br>_original_yhat_: 477045.9424363552</br>"
          ],
          [
           "</br>id: 0</br>prediction: 490966.086</br>total_rooms: 12583.76</br></br>longitude: -122.22</br>latitude: 37.86</br>housing_median_age: 21.0</br>total_bedrooms: 1106.0</br>population: 2401.0</br>households: 1138.0</br>median_income: 8.3014</br>ocean_proximity: NEAR BAY</br>_original_yhat_: 477045.9424363552</br>"
          ],
          [
           "</br>id: 0</br>prediction: 491764.88</br>total_rooms: 12976.94</br></br>longitude: -122.22</br>latitude: 37.86</br>housing_median_age: 21.0</br>total_bedrooms: 1106.0</br>population: 2401.0</br>households: 1138.0</br>median_income: 8.3014</br>ocean_proximity: NEAR BAY</br>_original_yhat_: 477045.9424363552</br>"
          ],
          [
           "</br>id: 0</br>prediction: 492544.999</br>total_rooms: 13370.12</br></br>longitude: -122.22</br>latitude: 37.86</br>housing_median_age: 21.0</br>total_bedrooms: 1106.0</br>population: 2401.0</br>households: 1138.0</br>median_income: 8.3014</br>ocean_proximity: NEAR BAY</br>_original_yhat_: 477045.9424363552</br>"
          ],
          [
           "</br>id: 0</br>prediction: 493307.409</br>total_rooms: 13763.300000000001</br></br>longitude: -122.22</br>latitude: 37.86</br>housing_median_age: 21.0</br>total_bedrooms: 1106.0</br>population: 2401.0</br>households: 1138.0</br>median_income: 8.3014</br>ocean_proximity: NEAR BAY</br>_original_yhat_: 477045.9424363552</br>"
          ],
          [
           "</br>id: 0</br>prediction: 494053.001</br>total_rooms: 14156.48</br></br>longitude: -122.22</br>latitude: 37.86</br>housing_median_age: 21.0</br>total_bedrooms: 1106.0</br>population: 2401.0</br>households: 1138.0</br>median_income: 8.3014</br>ocean_proximity: NEAR BAY</br>_original_yhat_: 477045.9424363552</br>"
          ],
          [
           "</br>id: 0</br>prediction: 494782.599</br>total_rooms: 14549.66</br></br>longitude: -122.22</br>latitude: 37.86</br>housing_median_age: 21.0</br>total_bedrooms: 1106.0</br>population: 2401.0</br>households: 1138.0</br>median_income: 8.3014</br>ocean_proximity: NEAR BAY</br>_original_yhat_: 477045.9424363552</br>"
          ],
          [
           "</br>id: 0</br>prediction: 495496.963</br>total_rooms: 14942.84</br></br>longitude: -122.22</br>latitude: 37.86</br>housing_median_age: 21.0</br>total_bedrooms: 1106.0</br>population: 2401.0</br>households: 1138.0</br>median_income: 8.3014</br>ocean_proximity: NEAR BAY</br>_original_yhat_: 477045.9424363552</br>"
          ],
          [
           "</br>id: 0</br>prediction: 496642.794</br>total_rooms: 15336.02</br></br>longitude: -122.22</br>latitude: 37.86</br>housing_median_age: 21.0</br>total_bedrooms: 1106.0</br>population: 2401.0</br>households: 1138.0</br>median_income: 8.3014</br>ocean_proximity: NEAR BAY</br>_original_yhat_: 477045.9424363552</br>"
          ],
          [
           "</br>id: 0</br>prediction: 498443.344</br>total_rooms: 15729.2</br></br>longitude: -122.22</br>latitude: 37.86</br>housing_median_age: 21.0</br>total_bedrooms: 1106.0</br>population: 2401.0</br>households: 1138.0</br>median_income: 8.3014</br>ocean_proximity: NEAR BAY</br>_original_yhat_: 477045.9424363552</br>"
          ],
          [
           "</br>id: 0</br>prediction: 500209.094</br>total_rooms: 16122.380000000001</br></br>longitude: -122.22</br>latitude: 37.86</br>housing_median_age: 21.0</br>total_bedrooms: 1106.0</br>population: 2401.0</br>households: 1138.0</br>median_income: 8.3014</br>ocean_proximity: NEAR BAY</br>_original_yhat_: 477045.9424363552</br>"
          ],
          [
           "</br>id: 0</br>prediction: 501941.539</br>total_rooms: 16515.56</br></br>longitude: -122.22</br>latitude: 37.86</br>housing_median_age: 21.0</br>total_bedrooms: 1106.0</br>population: 2401.0</br>households: 1138.0</br>median_income: 8.3014</br>ocean_proximity: NEAR BAY</br>_original_yhat_: 477045.9424363552</br>"
          ],
          [
           "</br>id: 0</br>prediction: 503642.081</br>total_rooms: 16908.74</br></br>longitude: -122.22</br>latitude: 37.86</br>housing_median_age: 21.0</br>total_bedrooms: 1106.0</br>population: 2401.0</br>households: 1138.0</br>median_income: 8.3014</br>ocean_proximity: NEAR BAY</br>_original_yhat_: 477045.9424363552</br>"
          ],
          [
           "</br>id: 0</br>prediction: 505312.027</br>total_rooms: 17301.920000000002</br></br>longitude: -122.22</br>latitude: 37.86</br>housing_median_age: 21.0</br>total_bedrooms: 1106.0</br>population: 2401.0</br>households: 1138.0</br>median_income: 8.3014</br>ocean_proximity: NEAR BAY</br>_original_yhat_: 477045.9424363552</br>"
          ],
          [
           "</br>id: 0</br>prediction: 506952.605</br>total_rooms: 17695.1</br></br>longitude: -122.22</br>latitude: 37.86</br>housing_median_age: 21.0</br>total_bedrooms: 1106.0</br>population: 2401.0</br>households: 1138.0</br>median_income: 8.3014</br>ocean_proximity: NEAR BAY</br>_original_yhat_: 477045.9424363552</br>"
          ],
          [
           "</br>id: 0</br>prediction: 510009.833</br>total_rooms: 18088.28</br></br>longitude: -122.22</br>latitude: 37.86</br>housing_median_age: 21.0</br>total_bedrooms: 1106.0</br>population: 2401.0</br>households: 1138.0</br>median_income: 8.3014</br>ocean_proximity: NEAR BAY</br>_original_yhat_: 477045.9424363552</br>"
          ],
          [
           "</br>id: 0</br>prediction: 513564.418</br>total_rooms: 18481.46</br></br>longitude: -122.22</br>latitude: 37.86</br>housing_median_age: 21.0</br>total_bedrooms: 1106.0</br>population: 2401.0</br>households: 1138.0</br>median_income: 8.3014</br>ocean_proximity: NEAR BAY</br>_original_yhat_: 477045.9424363552</br>"
          ],
          [
           "</br>id: 0</br>prediction: 517060.448</br>total_rooms: 18874.64</br></br>longitude: -122.22</br>latitude: 37.86</br>housing_median_age: 21.0</br>total_bedrooms: 1106.0</br>population: 2401.0</br>households: 1138.0</br>median_income: 8.3014</br>ocean_proximity: NEAR BAY</br>_original_yhat_: 477045.9424363552</br>"
          ],
          [
           "</br>id: 0</br>prediction: 520500.08</br>total_rooms: 19267.82</br></br>longitude: -122.22</br>latitude: 37.86</br>housing_median_age: 21.0</br>total_bedrooms: 1106.0</br>population: 2401.0</br>households: 1138.0</br>median_income: 8.3014</br>ocean_proximity: NEAR BAY</br>_original_yhat_: 477045.9424363552</br>"
          ],
          [
           "</br>id: 0</br>prediction: 523885.344</br>total_rooms: 19661.0</br></br>longitude: -122.22</br>latitude: 37.86</br>housing_median_age: 21.0</br>total_bedrooms: 1106.0</br>population: 2401.0</br>households: 1138.0</br>median_income: 8.3014</br>ocean_proximity: NEAR BAY</br>_original_yhat_: 477045.9424363552</br>"
          ],
          [
           "</br>id: 0</br>prediction: 527218.164</br>total_rooms: 20054.18</br></br>longitude: -122.22</br>latitude: 37.86</br>housing_median_age: 21.0</br>total_bedrooms: 1106.0</br>population: 2401.0</br>households: 1138.0</br>median_income: 8.3014</br>ocean_proximity: NEAR BAY</br>_original_yhat_: 477045.9424363552</br>"
          ],
          [
           "</br>id: 0</br>prediction: 530500.356</br>total_rooms: 20447.36</br></br>longitude: -122.22</br>latitude: 37.86</br>housing_median_age: 21.0</br>total_bedrooms: 1106.0</br>population: 2401.0</br>households: 1138.0</br>median_income: 8.3014</br>ocean_proximity: NEAR BAY</br>_original_yhat_: 477045.9424363552</br>"
          ],
          [
           "</br>id: 0</br>prediction: 533733.641</br>total_rooms: 20840.54</br></br>longitude: -122.22</br>latitude: 37.86</br>housing_median_age: 21.0</br>total_bedrooms: 1106.0</br>population: 2401.0</br>households: 1138.0</br>median_income: 8.3014</br>ocean_proximity: NEAR BAY</br>_original_yhat_: 477045.9424363552</br>"
          ],
          [
           "</br>id: 0</br>prediction: 536919.649</br>total_rooms: 21233.72</br></br>longitude: -122.22</br>latitude: 37.86</br>housing_median_age: 21.0</br>total_bedrooms: 1106.0</br>population: 2401.0</br>households: 1138.0</br>median_income: 8.3014</br>ocean_proximity: NEAR BAY</br>_original_yhat_: 477045.9424363552</br>"
          ],
          [
           "</br>id: 0</br>prediction: 540059.929</br>total_rooms: 21626.9</br></br>longitude: -122.22</br>latitude: 37.86</br>housing_median_age: 21.0</br>total_bedrooms: 1106.0</br>population: 2401.0</br>households: 1138.0</br>median_income: 8.3014</br>ocean_proximity: NEAR BAY</br>_original_yhat_: 477045.9424363552</br>"
          ],
          [
           "</br>id: 0</br>prediction: 543155.951</br>total_rooms: 22020.08</br></br>longitude: -122.22</br>latitude: 37.86</br>housing_median_age: 21.0</br>total_bedrooms: 1106.0</br>population: 2401.0</br>households: 1138.0</br>median_income: 8.3014</br>ocean_proximity: NEAR BAY</br>_original_yhat_: 477045.9424363552</br>"
          ],
          [
           "</br>id: 0</br>prediction: 546209.112</br>total_rooms: 22413.260000000002</br></br>longitude: -122.22</br>latitude: 37.86</br>housing_median_age: 21.0</br>total_bedrooms: 1106.0</br>population: 2401.0</br>households: 1138.0</br>median_income: 8.3014</br>ocean_proximity: NEAR BAY</br>_original_yhat_: 477045.9424363552</br>"
          ],
          [
           "</br>id: 0</br>prediction: 549220.743</br>total_rooms: 22806.44</br></br>longitude: -122.22</br>latitude: 37.86</br>housing_median_age: 21.0</br>total_bedrooms: 1106.0</br>population: 2401.0</br>households: 1138.0</br>median_income: 8.3014</br>ocean_proximity: NEAR BAY</br>_original_yhat_: 477045.9424363552</br>"
          ],
          [
           "</br>id: 0</br>prediction: 552192.108</br>total_rooms: 23199.62</br></br>longitude: -122.22</br>latitude: 37.86</br>housing_median_age: 21.0</br>total_bedrooms: 1106.0</br>population: 2401.0</br>households: 1138.0</br>median_income: 8.3014</br>ocean_proximity: NEAR BAY</br>_original_yhat_: 477045.9424363552</br>"
          ],
          [
           "</br>id: 0</br>prediction: 555124.417</br>total_rooms: 23592.8</br></br>longitude: -122.22</br>latitude: 37.86</br>housing_median_age: 21.0</br>total_bedrooms: 1106.0</br>population: 2401.0</br>households: 1138.0</br>median_income: 8.3014</br>ocean_proximity: NEAR BAY</br>_original_yhat_: 477045.9424363552</br>"
          ],
          [
           "</br>id: 0</br>prediction: 558018.82</br>total_rooms: 23985.98</br></br>longitude: -122.22</br>latitude: 37.86</br>housing_median_age: 21.0</br>total_bedrooms: 1106.0</br>population: 2401.0</br>households: 1138.0</br>median_income: 8.3014</br>ocean_proximity: NEAR BAY</br>_original_yhat_: 477045.9424363552</br>"
          ],
          [
           "</br>id: 0</br>prediction: 560876.417</br>total_rooms: 24379.16</br></br>longitude: -122.22</br>latitude: 37.86</br>housing_median_age: 21.0</br>total_bedrooms: 1106.0</br>population: 2401.0</br>households: 1138.0</br>median_income: 8.3014</br>ocean_proximity: NEAR BAY</br>_original_yhat_: 477045.9424363552</br>"
          ],
          [
           "</br>id: 0</br>prediction: 563698.258</br>total_rooms: 24772.34</br></br>longitude: -122.22</br>latitude: 37.86</br>housing_median_age: 21.0</br>total_bedrooms: 1106.0</br>population: 2401.0</br>households: 1138.0</br>median_income: 8.3014</br>ocean_proximity: NEAR BAY</br>_original_yhat_: 477045.9424363552</br>"
          ],
          [
           "</br>id: 0</br>prediction: 566485.347</br>total_rooms: 25165.52</br></br>longitude: -122.22</br>latitude: 37.86</br>housing_median_age: 21.0</br>total_bedrooms: 1106.0</br>population: 2401.0</br>households: 1138.0</br>median_income: 8.3014</br>ocean_proximity: NEAR BAY</br>_original_yhat_: 477045.9424363552</br>"
          ],
          [
           "</br>id: 0</br>prediction: 569238.647</br>total_rooms: 25558.7</br></br>longitude: -122.22</br>latitude: 37.86</br>housing_median_age: 21.0</br>total_bedrooms: 1106.0</br>population: 2401.0</br>households: 1138.0</br>median_income: 8.3014</br>ocean_proximity: NEAR BAY</br>_original_yhat_: 477045.9424363552</br>"
          ],
          [
           "</br>id: 0</br>prediction: 572678.691</br>total_rooms: 25951.88</br></br>longitude: -122.22</br>latitude: 37.86</br>housing_median_age: 21.0</br>total_bedrooms: 1106.0</br>population: 2401.0</br>households: 1138.0</br>median_income: 8.3014</br>ocean_proximity: NEAR BAY</br>_original_yhat_: 477045.9424363552</br>"
          ],
          [
           "</br>id: 0</br>prediction: 576108.706</br>total_rooms: 26345.06</br></br>longitude: -122.22</br>latitude: 37.86</br>housing_median_age: 21.0</br>total_bedrooms: 1106.0</br>population: 2401.0</br>households: 1138.0</br>median_income: 8.3014</br>ocean_proximity: NEAR BAY</br>_original_yhat_: 477045.9424363552</br>"
          ],
          [
           "</br>id: 0</br>prediction: 579498.987</br>total_rooms: 26738.24</br></br>longitude: -122.22</br>latitude: 37.86</br>housing_median_age: 21.0</br>total_bedrooms: 1106.0</br>population: 2401.0</br>households: 1138.0</br>median_income: 8.3014</br>ocean_proximity: NEAR BAY</br>_original_yhat_: 477045.9424363552</br>"
          ],
          [
           "</br>id: 0</br>prediction: 582850.569</br>total_rooms: 27131.420000000002</br></br>longitude: -122.22</br>latitude: 37.86</br>housing_median_age: 21.0</br>total_bedrooms: 1106.0</br>population: 2401.0</br>households: 1138.0</br>median_income: 8.3014</br>ocean_proximity: NEAR BAY</br>_original_yhat_: 477045.9424363552</br>"
          ],
          [
           "</br>id: 0</br>prediction: 586164.445</br>total_rooms: 27524.600000000002</br></br>longitude: -122.22</br>latitude: 37.86</br>housing_median_age: 21.0</br>total_bedrooms: 1106.0</br>population: 2401.0</br>households: 1138.0</br>median_income: 8.3014</br>ocean_proximity: NEAR BAY</br>_original_yhat_: 477045.9424363552</br>"
          ],
          [
           "</br>id: 0</br>prediction: 589441.567</br>total_rooms: 27917.78</br></br>longitude: -122.22</br>latitude: 37.86</br>housing_median_age: 21.0</br>total_bedrooms: 1106.0</br>population: 2401.0</br>households: 1138.0</br>median_income: 8.3014</br>ocean_proximity: NEAR BAY</br>_original_yhat_: 477045.9424363552</br>"
          ],
          [
           "</br>id: 0</br>prediction: 592682.855</br>total_rooms: 28310.96</br></br>longitude: -122.22</br>latitude: 37.86</br>housing_median_age: 21.0</br>total_bedrooms: 1106.0</br>population: 2401.0</br>households: 1138.0</br>median_income: 8.3014</br>ocean_proximity: NEAR BAY</br>_original_yhat_: 477045.9424363552</br>"
          ],
          [
           "</br>id: 0</br>prediction: 595889.188</br>total_rooms: 28704.14</br></br>longitude: -122.22</br>latitude: 37.86</br>housing_median_age: 21.0</br>total_bedrooms: 1106.0</br>population: 2401.0</br>households: 1138.0</br>median_income: 8.3014</br>ocean_proximity: NEAR BAY</br>_original_yhat_: 477045.9424363552</br>"
          ],
          [
           "</br>id: 0</br>prediction: 599061.414</br>total_rooms: 29097.32</br></br>longitude: -122.22</br>latitude: 37.86</br>housing_median_age: 21.0</br>total_bedrooms: 1106.0</br>population: 2401.0</br>households: 1138.0</br>median_income: 8.3014</br>ocean_proximity: NEAR BAY</br>_original_yhat_: 477045.9424363552</br>"
          ],
          [
           "</br>id: 0</br>prediction: 602200.351</br>total_rooms: 29490.5</br></br>longitude: -122.22</br>latitude: 37.86</br>housing_median_age: 21.0</br>total_bedrooms: 1106.0</br>population: 2401.0</br>households: 1138.0</br>median_income: 8.3014</br>ocean_proximity: NEAR BAY</br>_original_yhat_: 477045.9424363552</br>"
          ],
          [
           "</br>id: 0</br>prediction: 605306.784</br>total_rooms: 29883.68</br></br>longitude: -122.22</br>latitude: 37.86</br>housing_median_age: 21.0</br>total_bedrooms: 1106.0</br>population: 2401.0</br>households: 1138.0</br>median_income: 8.3014</br>ocean_proximity: NEAR BAY</br>_original_yhat_: 477045.9424363552</br>"
          ],
          [
           "</br>id: 0</br>prediction: 608542.082</br>total_rooms: 30276.86</br></br>longitude: -122.22</br>latitude: 37.86</br>housing_median_age: 21.0</br>total_bedrooms: 1106.0</br>population: 2401.0</br>households: 1138.0</br>median_income: 8.3014</br>ocean_proximity: NEAR BAY</br>_original_yhat_: 477045.9424363552</br>"
          ],
          [
           "</br>id: 0</br>prediction: 611750.393</br>total_rooms: 30670.04</br></br>longitude: -122.22</br>latitude: 37.86</br>housing_median_age: 21.0</br>total_bedrooms: 1106.0</br>population: 2401.0</br>households: 1138.0</br>median_income: 8.3014</br>ocean_proximity: NEAR BAY</br>_original_yhat_: 477045.9424363552</br>"
          ],
          [
           "</br>id: 0</br>prediction: 614926.753</br>total_rooms: 31063.22</br></br>longitude: -122.22</br>latitude: 37.86</br>housing_median_age: 21.0</br>total_bedrooms: 1106.0</br>population: 2401.0</br>households: 1138.0</br>median_income: 8.3014</br>ocean_proximity: NEAR BAY</br>_original_yhat_: 477045.9424363552</br>"
          ],
          [
           "</br>id: 0</br>prediction: 618071.879</br>total_rooms: 31456.4</br></br>longitude: -122.22</br>latitude: 37.86</br>housing_median_age: 21.0</br>total_bedrooms: 1106.0</br>population: 2401.0</br>households: 1138.0</br>median_income: 8.3014</br>ocean_proximity: NEAR BAY</br>_original_yhat_: 477045.9424363552</br>"
          ],
          [
           "</br>id: 0</br>prediction: 621186.463</br>total_rooms: 31849.58</br></br>longitude: -122.22</br>latitude: 37.86</br>housing_median_age: 21.0</br>total_bedrooms: 1106.0</br>population: 2401.0</br>households: 1138.0</br>median_income: 8.3014</br>ocean_proximity: NEAR BAY</br>_original_yhat_: 477045.9424363552</br>"
          ],
          [
           "</br>id: 0</br>prediction: 624271.173</br>total_rooms: 32242.760000000002</br></br>longitude: -122.22</br>latitude: 37.86</br>housing_median_age: 21.0</br>total_bedrooms: 1106.0</br>population: 2401.0</br>households: 1138.0</br>median_income: 8.3014</br>ocean_proximity: NEAR BAY</br>_original_yhat_: 477045.9424363552</br>"
          ],
          [
           "</br>id: 0</br>prediction: 627326.655</br>total_rooms: 32635.940000000002</br></br>longitude: -122.22</br>latitude: 37.86</br>housing_median_age: 21.0</br>total_bedrooms: 1106.0</br>population: 2401.0</br>households: 1138.0</br>median_income: 8.3014</br>ocean_proximity: NEAR BAY</br>_original_yhat_: 477045.9424363552</br>"
          ],
          [
           "</br>id: 0</br>prediction: 630353.532</br>total_rooms: 33029.12</br></br>longitude: -122.22</br>latitude: 37.86</br>housing_median_age: 21.0</br>total_bedrooms: 1106.0</br>population: 2401.0</br>households: 1138.0</br>median_income: 8.3014</br>ocean_proximity: NEAR BAY</br>_original_yhat_: 477045.9424363552</br>"
          ],
          [
           "</br>id: 0</br>prediction: 633352.409</br>total_rooms: 33422.3</br></br>longitude: -122.22</br>latitude: 37.86</br>housing_median_age: 21.0</br>total_bedrooms: 1106.0</br>population: 2401.0</br>households: 1138.0</br>median_income: 8.3014</br>ocean_proximity: NEAR BAY</br>_original_yhat_: 477045.9424363552</br>"
          ],
          [
           "</br>id: 0</br>prediction: 636323.869</br>total_rooms: 33815.48</br></br>longitude: -122.22</br>latitude: 37.86</br>housing_median_age: 21.0</br>total_bedrooms: 1106.0</br>population: 2401.0</br>households: 1138.0</br>median_income: 8.3014</br>ocean_proximity: NEAR BAY</br>_original_yhat_: 477045.9424363552</br>"
          ],
          [
           "</br>id: 0</br>prediction: 639268.477</br>total_rooms: 34208.66</br></br>longitude: -122.22</br>latitude: 37.86</br>housing_median_age: 21.0</br>total_bedrooms: 1106.0</br>population: 2401.0</br>households: 1138.0</br>median_income: 8.3014</br>ocean_proximity: NEAR BAY</br>_original_yhat_: 477045.9424363552</br>"
          ],
          [
           "</br>id: 0</br>prediction: 642186.781</br>total_rooms: 34601.840000000004</br></br>longitude: -122.22</br>latitude: 37.86</br>housing_median_age: 21.0</br>total_bedrooms: 1106.0</br>population: 2401.0</br>households: 1138.0</br>median_income: 8.3014</br>ocean_proximity: NEAR BAY</br>_original_yhat_: 477045.9424363552</br>"
          ],
          [
           "</br>id: 0</br>prediction: 645079.31</br>total_rooms: 34995.020000000004</br></br>longitude: -122.22</br>latitude: 37.86</br>housing_median_age: 21.0</br>total_bedrooms: 1106.0</br>population: 2401.0</br>households: 1138.0</br>median_income: 8.3014</br>ocean_proximity: NEAR BAY</br>_original_yhat_: 477045.9424363552</br>"
          ],
          [
           "</br>id: 0</br>prediction: 647946.578</br>total_rooms: 35388.2</br></br>longitude: -122.22</br>latitude: 37.86</br>housing_median_age: 21.0</br>total_bedrooms: 1106.0</br>population: 2401.0</br>households: 1138.0</br>median_income: 8.3014</br>ocean_proximity: NEAR BAY</br>_original_yhat_: 477045.9424363552</br>"
          ],
          [
           "</br>id: 0</br>prediction: 650789.082</br>total_rooms: 35781.38</br></br>longitude: -122.22</br>latitude: 37.86</br>housing_median_age: 21.0</br>total_bedrooms: 1106.0</br>population: 2401.0</br>households: 1138.0</br>median_income: 8.3014</br>ocean_proximity: NEAR BAY</br>_original_yhat_: 477045.9424363552</br>"
          ],
          [
           "</br>id: 0</br>prediction: 653607.306</br>total_rooms: 36174.56</br></br>longitude: -122.22</br>latitude: 37.86</br>housing_median_age: 21.0</br>total_bedrooms: 1106.0</br>population: 2401.0</br>households: 1138.0</br>median_income: 8.3014</br>ocean_proximity: NEAR BAY</br>_original_yhat_: 477045.9424363552</br>"
          ],
          [
           "</br>id: 0</br>prediction: 656401.716</br>total_rooms: 36567.74</br></br>longitude: -122.22</br>latitude: 37.86</br>housing_median_age: 21.0</br>total_bedrooms: 1106.0</br>population: 2401.0</br>households: 1138.0</br>median_income: 8.3014</br>ocean_proximity: NEAR BAY</br>_original_yhat_: 477045.9424363552</br>"
          ],
          [
           "</br>id: 0</br>prediction: 659172.767</br>total_rooms: 36960.92</br></br>longitude: -122.22</br>latitude: 37.86</br>housing_median_age: 21.0</br>total_bedrooms: 1106.0</br>population: 2401.0</br>households: 1138.0</br>median_income: 8.3014</br>ocean_proximity: NEAR BAY</br>_original_yhat_: 477045.9424363552</br>"
          ],
          [
           "</br>id: 0</br>prediction: 661920.899</br>total_rooms: 37354.1</br></br>longitude: -122.22</br>latitude: 37.86</br>housing_median_age: 21.0</br>total_bedrooms: 1106.0</br>population: 2401.0</br>households: 1138.0</br>median_income: 8.3014</br>ocean_proximity: NEAR BAY</br>_original_yhat_: 477045.9424363552</br>"
          ],
          [
           "</br>id: 0</br>prediction: 664646.541</br>total_rooms: 37747.28</br></br>longitude: -122.22</br>latitude: 37.86</br>housing_median_age: 21.0</br>total_bedrooms: 1106.0</br>population: 2401.0</br>households: 1138.0</br>median_income: 8.3014</br>ocean_proximity: NEAR BAY</br>_original_yhat_: 477045.9424363552</br>"
          ],
          [
           "</br>id: 0</br>prediction: 667350.108</br>total_rooms: 38140.46</br></br>longitude: -122.22</br>latitude: 37.86</br>housing_median_age: 21.0</br>total_bedrooms: 1106.0</br>population: 2401.0</br>households: 1138.0</br>median_income: 8.3014</br>ocean_proximity: NEAR BAY</br>_original_yhat_: 477045.9424363552</br>"
          ],
          [
           "</br>id: 0</br>prediction: 670032.003</br>total_rooms: 38533.64</br></br>longitude: -122.22</br>latitude: 37.86</br>housing_median_age: 21.0</br>total_bedrooms: 1106.0</br>population: 2401.0</br>households: 1138.0</br>median_income: 8.3014</br>ocean_proximity: NEAR BAY</br>_original_yhat_: 477045.9424363552</br>"
          ],
          [
           "</br>id: 0</br>prediction: 672692.619</br>total_rooms: 38926.82</br></br>longitude: -122.22</br>latitude: 37.86</br>housing_median_age: 21.0</br>total_bedrooms: 1106.0</br>population: 2401.0</br>households: 1138.0</br>median_income: 8.3014</br>ocean_proximity: NEAR BAY</br>_original_yhat_: 477045.9424363552</br>"
          ],
          [
           "</br>id: 0</br>prediction: 675332.336</br>total_rooms: 39320.0</br></br>longitude: -122.22</br>latitude: 37.86</br>housing_median_age: 21.0</br>total_bedrooms: 1106.0</br>population: 2401.0</br>households: 1138.0</br>median_income: 8.3014</br>ocean_proximity: NEAR BAY</br>_original_yhat_: 477045.9424363552</br>"
          ]
         ],
         "hovertemplate": "%{customdata[0]}<extra></extra>",
         "legendgroup": "MLP with ordinal encoding and power transformation",
         "line": {
          "color": "#f05a71",
          "dash": "solid",
          "width": 2
         },
         "marker": {
          "symbol": "circle"
         },
         "mode": "lines",
         "name": "MLP with ordinal encoding and power transformation",
         "opacity": 1,
         "orientation": "v",
         "showlegend": false,
         "type": "scatter",
         "x": [
          2,
          395.18,
          788.36,
          1181.54,
          1574.72,
          1967.9,
          2361.08,
          2754.26,
          3147.44,
          3540.62,
          3933.8,
          4326.9800000000005,
          4720.16,
          5113.34,
          5506.52,
          5899.7,
          6292.88,
          6686.06,
          7079.24,
          7099,
          7472.42,
          7865.6,
          8258.78,
          8651.960000000001,
          9045.14,
          9438.32,
          9831.5,
          10224.68,
          10617.86,
          11011.04,
          11404.22,
          11797.4,
          12190.58,
          12583.76,
          12976.94,
          13370.12,
          13763.300000000001,
          14156.48,
          14549.66,
          14942.84,
          15336.02,
          15729.2,
          16122.380000000001,
          16515.56,
          16908.74,
          17301.920000000002,
          17695.1,
          18088.28,
          18481.46,
          18874.64,
          19267.82,
          19661,
          20054.18,
          20447.36,
          20840.54,
          21233.72,
          21626.9,
          22020.08,
          22413.260000000002,
          22806.44,
          23199.62,
          23592.8,
          23985.98,
          24379.16,
          24772.34,
          25165.52,
          25558.7,
          25951.88,
          26345.06,
          26738.24,
          27131.420000000002,
          27524.600000000002,
          27917.78,
          28310.96,
          28704.14,
          29097.32,
          29490.5,
          29883.68,
          30276.86,
          30670.04,
          31063.22,
          31456.4,
          31849.58,
          32242.760000000002,
          32635.940000000002,
          33029.12,
          33422.3,
          33815.48,
          34208.66,
          34601.840000000004,
          34995.020000000004,
          35388.2,
          35781.38,
          36174.56,
          36567.74,
          36960.92,
          37354.1,
          37747.28,
          38140.46,
          38533.64,
          38926.82,
          39320
         ],
         "xaxis": "x2",
         "y": [
          972616.6514471993,
          716064.3760448876,
          649751.6919560062,
          614025.2333679347,
          588982.520200287,
          568432.291934412,
          550874.537001587,
          535469.4937663703,
          521695.8908305749,
          509206.22037521604,
          497756.33399140264,
          489004.3180636346,
          481531.53751055204,
          474529.9021446206,
          471407.32376379025,
          472907.3056967123,
          474331.17491728946,
          475687.20600664185,
          476982.34918563016,
          477045.9424363552,
          478222.5029048131,
          479412.71913254727,
          480557.3604516274,
          481660.22200642625,
          482724.6273867562,
          483753.5048970002,
          484749.44886406226,
          485714.76939352474,
          486651.53310648707,
          487561.596762047,
          488446.6352150114,
          489308.16482373193,
          490147.56317401846,
          490966.0857979071,
          491764.8804238767,
          492544.99918606953,
          493307.40913573926,
          494053.00133234495,
          494782.59874000173,
          495496.96311404504,
          496642.7940139821,
          498443.3441518959,
          500209.09353376593,
          501941.53935317247,
          503642.08058689546,
          505312.0265536137,
          506952.6045507247,
          510009.8325554343,
          513564.41765510995,
          517060.44844701706,
          520500.07959852804,
          523885.34446651203,
          527218.1641995232,
          530500.3559931659,
          533733.6405920826,
          536919.6491201431,
          540059.9293102457,
          543155.951196391,
          546209.1123231612,
          549220.742521217,
          552192.1082917802,
          555124.4168381665,
          558018.8197781517,
          560876.4165672311,
          563698.2576595612,
          566485.347430501,
          569238.6468821634,
          572678.6912779303,
          576108.7062583606,
          579498.9873512953,
          582850.5690784717,
          586164.4445058415,
          589441.5674701752,
          592682.8546565572,
          595889.1875386826,
          599061.4141927548,
          602200.3509948191,
          605306.7842104553,
          608542.0821915109,
          611750.3928766396,
          614926.7529687302,
          618071.8790803584,
          621186.4630371807,
          624271.1730293055,
          627326.6546958585,
          630353.5321473682,
          633352.4089302367,
          636323.8689372101,
          639268.4772674679,
          642186.7810396585,
          645079.3101609647,
          647946.5780550349,
          650789.0823514175,
          653607.3055389293,
          656401.7155852162,
          659172.7665245989,
          661920.8990161456,
          664646.5408737749,
          667350.1075700687,
          670032.0027153532,
          672692.6185135022,
          675332.3361958178
         ],
         "yaxis": "y2"
        },
        {
         "customdata": [
          [
           "</br>id: 0</br>prediction: 571116.246</br>total_bedrooms: 1.0</br></br>longitude: -122.22</br>latitude: 37.86</br>housing_median_age: 21.0</br>total_rooms: 7099.0</br>population: 2401.0</br>households: 1138.0</br>median_income: 8.3014</br>ocean_proximity: NEAR BAY</br>_original_yhat_: 407689.22668987606</br>"
          ],
          [
           "</br>id: 0</br>prediction: 533834.313</br>total_bedrooms: 65.44</br></br>longitude: -122.22</br>latitude: 37.86</br>housing_median_age: 21.0</br>total_rooms: 7099.0</br>population: 2401.0</br>households: 1138.0</br>median_income: 8.3014</br>ocean_proximity: NEAR BAY</br>_original_yhat_: 407689.22668987606</br>"
          ],
          [
           "</br>id: 0</br>prediction: 497293.958</br>total_bedrooms: 129.88</br></br>longitude: -122.22</br>latitude: 37.86</br>housing_median_age: 21.0</br>total_rooms: 7099.0</br>population: 2401.0</br>households: 1138.0</br>median_income: 8.3014</br>ocean_proximity: NEAR BAY</br>_original_yhat_: 407689.22668987606</br>"
          ],
          [
           "</br>id: 0</br>prediction: 460753.604</br>total_bedrooms: 194.32</br></br>longitude: -122.22</br>latitude: 37.86</br>housing_median_age: 21.0</br>total_rooms: 7099.0</br>population: 2401.0</br>households: 1138.0</br>median_income: 8.3014</br>ocean_proximity: NEAR BAY</br>_original_yhat_: 407689.22668987606</br>"
          ],
          [
           "</br>id: 0</br>prediction: 441400.069</br>total_bedrooms: 258.76</br></br>longitude: -122.22</br>latitude: 37.86</br>housing_median_age: 21.0</br>total_rooms: 7099.0</br>population: 2401.0</br>households: 1138.0</br>median_income: 8.3014</br>ocean_proximity: NEAR BAY</br>_original_yhat_: 407689.22668987606</br>"
          ],
          [
           "</br>id: 0</br>prediction: 428197.638</br>total_bedrooms: 323.2</br></br>longitude: -122.22</br>latitude: 37.86</br>housing_median_age: 21.0</br>total_rooms: 7099.0</br>population: 2401.0</br>households: 1138.0</br>median_income: 8.3014</br>ocean_proximity: NEAR BAY</br>_original_yhat_: 407689.22668987606</br>"
          ],
          [
           "</br>id: 0</br>prediction: 414995.207</br>total_bedrooms: 387.64</br></br>longitude: -122.22</br>latitude: 37.86</br>housing_median_age: 21.0</br>total_rooms: 7099.0</br>population: 2401.0</br>households: 1138.0</br>median_income: 8.3014</br>ocean_proximity: NEAR BAY</br>_original_yhat_: 407689.22668987606</br>"
          ],
          [
           "</br>id: 0</br>prediction: 415783.059</br>total_bedrooms: 452.08</br></br>longitude: -122.22</br>latitude: 37.86</br>housing_median_age: 21.0</br>total_rooms: 7099.0</br>population: 2401.0</br>households: 1138.0</br>median_income: 8.3014</br>ocean_proximity: NEAR BAY</br>_original_yhat_: 407689.22668987606</br>"
          ],
          [
           "</br>id: 0</br>prediction: 416769.305</br>total_bedrooms: 516.52</br></br>longitude: -122.22</br>latitude: 37.86</br>housing_median_age: 21.0</br>total_rooms: 7099.0</br>population: 2401.0</br>households: 1138.0</br>median_income: 8.3014</br>ocean_proximity: NEAR BAY</br>_original_yhat_: 407689.22668987606</br>"
          ],
          [
           "</br>id: 0</br>prediction: 417755.551</br>total_bedrooms: 580.96</br></br>longitude: -122.22</br>latitude: 37.86</br>housing_median_age: 21.0</br>total_rooms: 7099.0</br>population: 2401.0</br>households: 1138.0</br>median_income: 8.3014</br>ocean_proximity: NEAR BAY</br>_original_yhat_: 407689.22668987606</br>"
          ],
          [
           "</br>id: 0</br>prediction: 418827.688</br>total_bedrooms: 645.4</br></br>longitude: -122.22</br>latitude: 37.86</br>housing_median_age: 21.0</br>total_rooms: 7099.0</br>population: 2401.0</br>households: 1138.0</br>median_income: 8.3014</br>ocean_proximity: NEAR BAY</br>_original_yhat_: 407689.22668987606</br>"
          ],
          [
           "</br>id: 0</br>prediction: 420677.245</br>total_bedrooms: 709.8399999999999</br></br>longitude: -122.22</br>latitude: 37.86</br>housing_median_age: 21.0</br>total_rooms: 7099.0</br>population: 2401.0</br>households: 1138.0</br>median_income: 8.3014</br>ocean_proximity: NEAR BAY</br>_original_yhat_: 407689.22668987606</br>"
          ],
          [
           "</br>id: 0</br>prediction: 422526.803</br>total_bedrooms: 774.28</br></br>longitude: -122.22</br>latitude: 37.86</br>housing_median_age: 21.0</br>total_rooms: 7099.0</br>population: 2401.0</br>households: 1138.0</br>median_income: 8.3014</br>ocean_proximity: NEAR BAY</br>_original_yhat_: 407689.22668987606</br>"
          ],
          [
           "</br>id: 0</br>prediction: 422414.468</br>total_bedrooms: 838.72</br></br>longitude: -122.22</br>latitude: 37.86</br>housing_median_age: 21.0</br>total_rooms: 7099.0</br>population: 2401.0</br>households: 1138.0</br>median_income: 8.3014</br>ocean_proximity: NEAR BAY</br>_original_yhat_: 407689.22668987606</br>"
          ],
          [
           "</br>id: 0</br>prediction: 420296.306</br>total_bedrooms: 903.16</br></br>longitude: -122.22</br>latitude: 37.86</br>housing_median_age: 21.0</br>total_rooms: 7099.0</br>population: 2401.0</br>households: 1138.0</br>median_income: 8.3014</br>ocean_proximity: NEAR BAY</br>_original_yhat_: 407689.22668987606</br>"
          ],
          [
           "</br>id: 0</br>prediction: 417842.078</br>total_bedrooms: 967.5999999999999</br></br>longitude: -122.22</br>latitude: 37.86</br>housing_median_age: 21.0</br>total_rooms: 7099.0</br>population: 2401.0</br>households: 1138.0</br>median_income: 8.3014</br>ocean_proximity: NEAR BAY</br>_original_yhat_: 407689.22668987606</br>"
          ],
          [
           "</br>id: 0</br>prediction: 414172.51</br>total_bedrooms: 1032.04</br></br>longitude: -122.22</br>latitude: 37.86</br>housing_median_age: 21.0</br>total_rooms: 7099.0</br>population: 2401.0</br>households: 1138.0</br>median_income: 8.3014</br>ocean_proximity: NEAR BAY</br>_original_yhat_: 407689.22668987606</br>"
          ],
          [
           "</br>id: 0</br>prediction: 408523.743</br>total_bedrooms: 1096.48</br></br>longitude: -122.22</br>latitude: 37.86</br>housing_median_age: 21.0</br>total_rooms: 7099.0</br>population: 2401.0</br>households: 1138.0</br>median_income: 8.3014</br>ocean_proximity: NEAR BAY</br>_original_yhat_: 407689.22668987606</br>"
          ],
          [
           "</br>id: 0</br>prediction: 407689.227</br>total_bedrooms: 1106.0</br></br>longitude: -122.22</br>latitude: 37.86</br>housing_median_age: 21.0</br>total_rooms: 7099.0</br>population: 2401.0</br>households: 1138.0</br>median_income: 8.3014</br>ocean_proximity: NEAR BAY</br>_original_yhat_: 407689.22668987606</br>"
          ],
          [
           "</br>id: 0</br>prediction: 402874.977</br>total_bedrooms: 1160.92</br></br>longitude: -122.22</br>latitude: 37.86</br>housing_median_age: 21.0</br>total_rooms: 7099.0</br>population: 2401.0</br>households: 1138.0</br>median_income: 8.3014</br>ocean_proximity: NEAR BAY</br>_original_yhat_: 407689.22668987606</br>"
          ],
          [
           "</br>id: 0</br>prediction: 397226.21</br>total_bedrooms: 1225.36</br></br>longitude: -122.22</br>latitude: 37.86</br>housing_median_age: 21.0</br>total_rooms: 7099.0</br>population: 2401.0</br>households: 1138.0</br>median_income: 8.3014</br>ocean_proximity: NEAR BAY</br>_original_yhat_: 407689.22668987606</br>"
          ],
          [
           "</br>id: 0</br>prediction: 393065.044</br>total_bedrooms: 1289.8</br></br>longitude: -122.22</br>latitude: 37.86</br>housing_median_age: 21.0</br>total_rooms: 7099.0</br>population: 2401.0</br>households: 1138.0</br>median_income: 8.3014</br>ocean_proximity: NEAR BAY</br>_original_yhat_: 407689.22668987606</br>"
          ],
          [
           "</br>id: 0</br>prediction: 393047.84</br>total_bedrooms: 1354.24</br></br>longitude: -122.22</br>latitude: 37.86</br>housing_median_age: 21.0</br>total_rooms: 7099.0</br>population: 2401.0</br>households: 1138.0</br>median_income: 8.3014</br>ocean_proximity: NEAR BAY</br>_original_yhat_: 407689.22668987606</br>"
          ],
          [
           "</br>id: 0</br>prediction: 398436.049</br>total_bedrooms: 1418.6799999999998</br></br>longitude: -122.22</br>latitude: 37.86</br>housing_median_age: 21.0</br>total_rooms: 7099.0</br>population: 2401.0</br>households: 1138.0</br>median_income: 8.3014</br>ocean_proximity: NEAR BAY</br>_original_yhat_: 407689.22668987606</br>"
          ],
          [
           "</br>id: 0</br>prediction: 404486.214</br>total_bedrooms: 1483.12</br></br>longitude: -122.22</br>latitude: 37.86</br>housing_median_age: 21.0</br>total_rooms: 7099.0</br>population: 2401.0</br>households: 1138.0</br>median_income: 8.3014</br>ocean_proximity: NEAR BAY</br>_original_yhat_: 407689.22668987606</br>"
          ],
          [
           "</br>id: 0</br>prediction: 409331.799</br>total_bedrooms: 1547.56</br></br>longitude: -122.22</br>latitude: 37.86</br>housing_median_age: 21.0</br>total_rooms: 7099.0</br>population: 2401.0</br>households: 1138.0</br>median_income: 8.3014</br>ocean_proximity: NEAR BAY</br>_original_yhat_: 407689.22668987606</br>"
          ],
          [
           "</br>id: 0</br>prediction: 414177.384</br>total_bedrooms: 1612.0</br></br>longitude: -122.22</br>latitude: 37.86</br>housing_median_age: 21.0</br>total_rooms: 7099.0</br>population: 2401.0</br>households: 1138.0</br>median_income: 8.3014</br>ocean_proximity: NEAR BAY</br>_original_yhat_: 407689.22668987606</br>"
          ],
          [
           "</br>id: 0</br>prediction: 415219.344</br>total_bedrooms: 1676.44</br></br>longitude: -122.22</br>latitude: 37.86</br>housing_median_age: 21.0</br>total_rooms: 7099.0</br>population: 2401.0</br>households: 1138.0</br>median_income: 8.3014</br>ocean_proximity: NEAR BAY</br>_original_yhat_: 407689.22668987606</br>"
          ],
          [
           "</br>id: 0</br>prediction: 410893.49</br>total_bedrooms: 1740.8799999999999</br></br>longitude: -122.22</br>latitude: 37.86</br>housing_median_age: 21.0</br>total_rooms: 7099.0</br>population: 2401.0</br>households: 1138.0</br>median_income: 8.3014</br>ocean_proximity: NEAR BAY</br>_original_yhat_: 407689.22668987606</br>"
          ],
          [
           "</br>id: 0</br>prediction: 406567.635</br>total_bedrooms: 1805.32</br></br>longitude: -122.22</br>latitude: 37.86</br>housing_median_age: 21.0</br>total_rooms: 7099.0</br>population: 2401.0</br>households: 1138.0</br>median_income: 8.3014</br>ocean_proximity: NEAR BAY</br>_original_yhat_: 407689.22668987606</br>"
          ],
          [
           "</br>id: 0</br>prediction: 402241.78</br>total_bedrooms: 1869.76</br></br>longitude: -122.22</br>latitude: 37.86</br>housing_median_age: 21.0</br>total_rooms: 7099.0</br>population: 2401.0</br>households: 1138.0</br>median_income: 8.3014</br>ocean_proximity: NEAR BAY</br>_original_yhat_: 407689.22668987606</br>"
          ],
          [
           "</br>id: 0</br>prediction: 397915.925</br>total_bedrooms: 1934.1999999999998</br></br>longitude: -122.22</br>latitude: 37.86</br>housing_median_age: 21.0</br>total_rooms: 7099.0</br>population: 2401.0</br>households: 1138.0</br>median_income: 8.3014</br>ocean_proximity: NEAR BAY</br>_original_yhat_: 407689.22668987606</br>"
          ],
          [
           "</br>id: 0</br>prediction: 393590.07</br>total_bedrooms: 1998.6399999999999</br></br>longitude: -122.22</br>latitude: 37.86</br>housing_median_age: 21.0</br>total_rooms: 7099.0</br>population: 2401.0</br>households: 1138.0</br>median_income: 8.3014</br>ocean_proximity: NEAR BAY</br>_original_yhat_: 407689.22668987606</br>"
          ],
          [
           "</br>id: 0</br>prediction: 389264.215</br>total_bedrooms: 2063.08</br></br>longitude: -122.22</br>latitude: 37.86</br>housing_median_age: 21.0</br>total_rooms: 7099.0</br>population: 2401.0</br>households: 1138.0</br>median_income: 8.3014</br>ocean_proximity: NEAR BAY</br>_original_yhat_: 407689.22668987606</br>"
          ],
          [
           "</br>id: 0</br>prediction: 384938.361</br>total_bedrooms: 2127.52</br></br>longitude: -122.22</br>latitude: 37.86</br>housing_median_age: 21.0</br>total_rooms: 7099.0</br>population: 2401.0</br>households: 1138.0</br>median_income: 8.3014</br>ocean_proximity: NEAR BAY</br>_original_yhat_: 407689.22668987606</br>"
          ],
          [
           "</br>id: 0</br>prediction: 380612.506</br>total_bedrooms: 2191.96</br></br>longitude: -122.22</br>latitude: 37.86</br>housing_median_age: 21.0</br>total_rooms: 7099.0</br>population: 2401.0</br>households: 1138.0</br>median_income: 8.3014</br>ocean_proximity: NEAR BAY</br>_original_yhat_: 407689.22668987606</br>"
          ],
          [
           "</br>id: 0</br>prediction: 376286.651</br>total_bedrooms: 2256.4</br></br>longitude: -122.22</br>latitude: 37.86</br>housing_median_age: 21.0</br>total_rooms: 7099.0</br>population: 2401.0</br>households: 1138.0</br>median_income: 8.3014</br>ocean_proximity: NEAR BAY</br>_original_yhat_: 407689.22668987606</br>"
          ],
          [
           "</br>id: 0</br>prediction: 371960.796</br>total_bedrooms: 2320.84</br></br>longitude: -122.22</br>latitude: 37.86</br>housing_median_age: 21.0</br>total_rooms: 7099.0</br>population: 2401.0</br>households: 1138.0</br>median_income: 8.3014</br>ocean_proximity: NEAR BAY</br>_original_yhat_: 407689.22668987606</br>"
          ],
          [
           "</br>id: 0</br>prediction: 367634.941</br>total_bedrooms: 2385.2799999999997</br></br>longitude: -122.22</br>latitude: 37.86</br>housing_median_age: 21.0</br>total_rooms: 7099.0</br>population: 2401.0</br>households: 1138.0</br>median_income: 8.3014</br>ocean_proximity: NEAR BAY</br>_original_yhat_: 407689.22668987606</br>"
          ],
          [
           "</br>id: 0</br>prediction: 363309.086</br>total_bedrooms: 2449.72</br></br>longitude: -122.22</br>latitude: 37.86</br>housing_median_age: 21.0</br>total_rooms: 7099.0</br>population: 2401.0</br>households: 1138.0</br>median_income: 8.3014</br>ocean_proximity: NEAR BAY</br>_original_yhat_: 407689.22668987606</br>"
          ],
          [
           "</br>id: 0</br>prediction: 358983.232</br>total_bedrooms: 2514.16</br></br>longitude: -122.22</br>latitude: 37.86</br>housing_median_age: 21.0</br>total_rooms: 7099.0</br>population: 2401.0</br>households: 1138.0</br>median_income: 8.3014</br>ocean_proximity: NEAR BAY</br>_original_yhat_: 407689.22668987606</br>"
          ],
          [
           "</br>id: 0</br>prediction: 354657.377</br>total_bedrooms: 2578.6</br></br>longitude: -122.22</br>latitude: 37.86</br>housing_median_age: 21.0</br>total_rooms: 7099.0</br>population: 2401.0</br>households: 1138.0</br>median_income: 8.3014</br>ocean_proximity: NEAR BAY</br>_original_yhat_: 407689.22668987606</br>"
          ],
          [
           "</br>id: 0</br>prediction: 356008.771</br>total_bedrooms: 2643.04</br></br>longitude: -122.22</br>latitude: 37.86</br>housing_median_age: 21.0</br>total_rooms: 7099.0</br>population: 2401.0</br>households: 1138.0</br>median_income: 8.3014</br>ocean_proximity: NEAR BAY</br>_original_yhat_: 407689.22668987606</br>"
          ],
          [
           "</br>id: 0</br>prediction: 381586.496</br>total_bedrooms: 2707.48</br></br>longitude: -122.22</br>latitude: 37.86</br>housing_median_age: 21.0</br>total_rooms: 7099.0</br>population: 2401.0</br>households: 1138.0</br>median_income: 8.3014</br>ocean_proximity: NEAR BAY</br>_original_yhat_: 407689.22668987606</br>"
          ],
          [
           "</br>id: 0</br>prediction: 407164.221</br>total_bedrooms: 2771.92</br></br>longitude: -122.22</br>latitude: 37.86</br>housing_median_age: 21.0</br>total_rooms: 7099.0</br>population: 2401.0</br>households: 1138.0</br>median_income: 8.3014</br>ocean_proximity: NEAR BAY</br>_original_yhat_: 407689.22668987606</br>"
          ],
          [
           "</br>id: 0</br>prediction: 432741.946</br>total_bedrooms: 2836.3599999999997</br></br>longitude: -122.22</br>latitude: 37.86</br>housing_median_age: 21.0</br>total_rooms: 7099.0</br>population: 2401.0</br>households: 1138.0</br>median_income: 8.3014</br>ocean_proximity: NEAR BAY</br>_original_yhat_: 407689.22668987606</br>"
          ],
          [
           "</br>id: 0</br>prediction: 458319.671</br>total_bedrooms: 2900.7999999999997</br></br>longitude: -122.22</br>latitude: 37.86</br>housing_median_age: 21.0</br>total_rooms: 7099.0</br>population: 2401.0</br>households: 1138.0</br>median_income: 8.3014</br>ocean_proximity: NEAR BAY</br>_original_yhat_: 407689.22668987606</br>"
          ],
          [
           "</br>id: 0</br>prediction: 483897.395</br>total_bedrooms: 2965.24</br></br>longitude: -122.22</br>latitude: 37.86</br>housing_median_age: 21.0</br>total_rooms: 7099.0</br>population: 2401.0</br>households: 1138.0</br>median_income: 8.3014</br>ocean_proximity: NEAR BAY</br>_original_yhat_: 407689.22668987606</br>"
          ],
          [
           "</br>id: 0</br>prediction: 509475.12</br>total_bedrooms: 3029.68</br></br>longitude: -122.22</br>latitude: 37.86</br>housing_median_age: 21.0</br>total_rooms: 7099.0</br>population: 2401.0</br>households: 1138.0</br>median_income: 8.3014</br>ocean_proximity: NEAR BAY</br>_original_yhat_: 407689.22668987606</br>"
          ],
          [
           "</br>id: 0</br>prediction: 535052.845</br>total_bedrooms: 3094.12</br></br>longitude: -122.22</br>latitude: 37.86</br>housing_median_age: 21.0</br>total_rooms: 7099.0</br>population: 2401.0</br>households: 1138.0</br>median_income: 8.3014</br>ocean_proximity: NEAR BAY</br>_original_yhat_: 407689.22668987606</br>"
          ],
          [
           "</br>id: 0</br>prediction: 560630.57</br>total_bedrooms: 3158.56</br></br>longitude: -122.22</br>latitude: 37.86</br>housing_median_age: 21.0</br>total_rooms: 7099.0</br>population: 2401.0</br>households: 1138.0</br>median_income: 8.3014</br>ocean_proximity: NEAR BAY</br>_original_yhat_: 407689.22668987606</br>"
          ],
          [
           "</br>id: 0</br>prediction: 586208.295</br>total_bedrooms: 3223.0</br></br>longitude: -122.22</br>latitude: 37.86</br>housing_median_age: 21.0</br>total_rooms: 7099.0</br>population: 2401.0</br>households: 1138.0</br>median_income: 8.3014</br>ocean_proximity: NEAR BAY</br>_original_yhat_: 407689.22668987606</br>"
          ],
          [
           "</br>id: 0</br>prediction: 611786.02</br>total_bedrooms: 3287.44</br></br>longitude: -122.22</br>latitude: 37.86</br>housing_median_age: 21.0</br>total_rooms: 7099.0</br>population: 2401.0</br>households: 1138.0</br>median_income: 8.3014</br>ocean_proximity: NEAR BAY</br>_original_yhat_: 407689.22668987606</br>"
          ],
          [
           "</br>id: 0</br>prediction: 637363.745</br>total_bedrooms: 3351.88</br></br>longitude: -122.22</br>latitude: 37.86</br>housing_median_age: 21.0</br>total_rooms: 7099.0</br>population: 2401.0</br>households: 1138.0</br>median_income: 8.3014</br>ocean_proximity: NEAR BAY</br>_original_yhat_: 407689.22668987606</br>"
          ],
          [
           "</br>id: 0</br>prediction: 662941.47</br>total_bedrooms: 3416.3199999999997</br></br>longitude: -122.22</br>latitude: 37.86</br>housing_median_age: 21.0</br>total_rooms: 7099.0</br>population: 2401.0</br>households: 1138.0</br>median_income: 8.3014</br>ocean_proximity: NEAR BAY</br>_original_yhat_: 407689.22668987606</br>"
          ],
          [
           "</br>id: 0</br>prediction: 688519.195</br>total_bedrooms: 3480.7599999999998</br></br>longitude: -122.22</br>latitude: 37.86</br>housing_median_age: 21.0</br>total_rooms: 7099.0</br>population: 2401.0</br>households: 1138.0</br>median_income: 8.3014</br>ocean_proximity: NEAR BAY</br>_original_yhat_: 407689.22668987606</br>"
          ],
          [
           "</br>id: 0</br>prediction: 714096.919</br>total_bedrooms: 3545.2</br></br>longitude: -122.22</br>latitude: 37.86</br>housing_median_age: 21.0</br>total_rooms: 7099.0</br>population: 2401.0</br>households: 1138.0</br>median_income: 8.3014</br>ocean_proximity: NEAR BAY</br>_original_yhat_: 407689.22668987606</br>"
          ],
          [
           "</br>id: 0</br>prediction: 739674.644</br>total_bedrooms: 3609.64</br></br>longitude: -122.22</br>latitude: 37.86</br>housing_median_age: 21.0</br>total_rooms: 7099.0</br>population: 2401.0</br>households: 1138.0</br>median_income: 8.3014</br>ocean_proximity: NEAR BAY</br>_original_yhat_: 407689.22668987606</br>"
          ],
          [
           "</br>id: 0</br>prediction: 765252.369</br>total_bedrooms: 3674.08</br></br>longitude: -122.22</br>latitude: 37.86</br>housing_median_age: 21.0</br>total_rooms: 7099.0</br>population: 2401.0</br>households: 1138.0</br>median_income: 8.3014</br>ocean_proximity: NEAR BAY</br>_original_yhat_: 407689.22668987606</br>"
          ],
          [
           "</br>id: 0</br>prediction: 790830.094</br>total_bedrooms: 3738.52</br></br>longitude: -122.22</br>latitude: 37.86</br>housing_median_age: 21.0</br>total_rooms: 7099.0</br>population: 2401.0</br>households: 1138.0</br>median_income: 8.3014</br>ocean_proximity: NEAR BAY</br>_original_yhat_: 407689.22668987606</br>"
          ],
          [
           "</br>id: 0</br>prediction: 816407.819</br>total_bedrooms: 3802.96</br></br>longitude: -122.22</br>latitude: 37.86</br>housing_median_age: 21.0</br>total_rooms: 7099.0</br>population: 2401.0</br>households: 1138.0</br>median_income: 8.3014</br>ocean_proximity: NEAR BAY</br>_original_yhat_: 407689.22668987606</br>"
          ],
          [
           "</br>id: 0</br>prediction: 841985.544</br>total_bedrooms: 3867.3999999999996</br></br>longitude: -122.22</br>latitude: 37.86</br>housing_median_age: 21.0</br>total_rooms: 7099.0</br>population: 2401.0</br>households: 1138.0</br>median_income: 8.3014</br>ocean_proximity: NEAR BAY</br>_original_yhat_: 407689.22668987606</br>"
          ],
          [
           "</br>id: 0</br>prediction: 867563.269</br>total_bedrooms: 3931.8399999999997</br></br>longitude: -122.22</br>latitude: 37.86</br>housing_median_age: 21.0</br>total_rooms: 7099.0</br>population: 2401.0</br>households: 1138.0</br>median_income: 8.3014</br>ocean_proximity: NEAR BAY</br>_original_yhat_: 407689.22668987606</br>"
          ],
          [
           "</br>id: 0</br>prediction: 893140.994</br>total_bedrooms: 3996.2799999999997</br></br>longitude: -122.22</br>latitude: 37.86</br>housing_median_age: 21.0</br>total_rooms: 7099.0</br>population: 2401.0</br>households: 1138.0</br>median_income: 8.3014</br>ocean_proximity: NEAR BAY</br>_original_yhat_: 407689.22668987606</br>"
          ],
          [
           "</br>id: 0</br>prediction: 918718.719</br>total_bedrooms: 4060.72</br></br>longitude: -122.22</br>latitude: 37.86</br>housing_median_age: 21.0</br>total_rooms: 7099.0</br>population: 2401.0</br>households: 1138.0</br>median_income: 8.3014</br>ocean_proximity: NEAR BAY</br>_original_yhat_: 407689.22668987606</br>"
          ],
          [
           "</br>id: 0</br>prediction: 944296.443</br>total_bedrooms: 4125.16</br></br>longitude: -122.22</br>latitude: 37.86</br>housing_median_age: 21.0</br>total_rooms: 7099.0</br>population: 2401.0</br>households: 1138.0</br>median_income: 8.3014</br>ocean_proximity: NEAR BAY</br>_original_yhat_: 407689.22668987606</br>"
          ],
          [
           "</br>id: 0</br>prediction: 969874.168</br>total_bedrooms: 4189.599999999999</br></br>longitude: -122.22</br>latitude: 37.86</br>housing_median_age: 21.0</br>total_rooms: 7099.0</br>population: 2401.0</br>households: 1138.0</br>median_income: 8.3014</br>ocean_proximity: NEAR BAY</br>_original_yhat_: 407689.22668987606</br>"
          ],
          [
           "</br>id: 0</br>prediction: 995451.893</br>total_bedrooms: 4254.04</br></br>longitude: -122.22</br>latitude: 37.86</br>housing_median_age: 21.0</br>total_rooms: 7099.0</br>population: 2401.0</br>households: 1138.0</br>median_income: 8.3014</br>ocean_proximity: NEAR BAY</br>_original_yhat_: 407689.22668987606</br>"
          ],
          [
           "</br>id: 0</br>prediction: 1021029.618</br>total_bedrooms: 4318.48</br></br>longitude: -122.22</br>latitude: 37.86</br>housing_median_age: 21.0</br>total_rooms: 7099.0</br>population: 2401.0</br>households: 1138.0</br>median_income: 8.3014</br>ocean_proximity: NEAR BAY</br>_original_yhat_: 407689.22668987606</br>"
          ],
          [
           "</br>id: 0</br>prediction: 1046607.343</br>total_bedrooms: 4382.92</br></br>longitude: -122.22</br>latitude: 37.86</br>housing_median_age: 21.0</br>total_rooms: 7099.0</br>population: 2401.0</br>households: 1138.0</br>median_income: 8.3014</br>ocean_proximity: NEAR BAY</br>_original_yhat_: 407689.22668987606</br>"
          ],
          [
           "</br>id: 0</br>prediction: 1072185.068</br>total_bedrooms: 4447.36</br></br>longitude: -122.22</br>latitude: 37.86</br>housing_median_age: 21.0</br>total_rooms: 7099.0</br>population: 2401.0</br>households: 1138.0</br>median_income: 8.3014</br>ocean_proximity: NEAR BAY</br>_original_yhat_: 407689.22668987606</br>"
          ],
          [
           "</br>id: 0</br>prediction: 1097762.793</br>total_bedrooms: 4511.8</br></br>longitude: -122.22</br>latitude: 37.86</br>housing_median_age: 21.0</br>total_rooms: 7099.0</br>population: 2401.0</br>households: 1138.0</br>median_income: 8.3014</br>ocean_proximity: NEAR BAY</br>_original_yhat_: 407689.22668987606</br>"
          ],
          [
           "</br>id: 0</br>prediction: 1123340.518</br>total_bedrooms: 4576.24</br></br>longitude: -122.22</br>latitude: 37.86</br>housing_median_age: 21.0</br>total_rooms: 7099.0</br>population: 2401.0</br>households: 1138.0</br>median_income: 8.3014</br>ocean_proximity: NEAR BAY</br>_original_yhat_: 407689.22668987606</br>"
          ],
          [
           "</br>id: 0</br>prediction: 1148918.243</br>total_bedrooms: 4640.68</br></br>longitude: -122.22</br>latitude: 37.86</br>housing_median_age: 21.0</br>total_rooms: 7099.0</br>population: 2401.0</br>households: 1138.0</br>median_income: 8.3014</br>ocean_proximity: NEAR BAY</br>_original_yhat_: 407689.22668987606</br>"
          ],
          [
           "</br>id: 0</br>prediction: 1171866.019</br>total_bedrooms: 4705.12</br></br>longitude: -122.22</br>latitude: 37.86</br>housing_median_age: 21.0</br>total_rooms: 7099.0</br>population: 2401.0</br>households: 1138.0</br>median_income: 8.3014</br>ocean_proximity: NEAR BAY</br>_original_yhat_: 407689.22668987606</br>"
          ],
          [
           "</br>id: 0</br>prediction: 1193896.29</br>total_bedrooms: 4769.5599999999995</br></br>longitude: -122.22</br>latitude: 37.86</br>housing_median_age: 21.0</br>total_rooms: 7099.0</br>population: 2401.0</br>households: 1138.0</br>median_income: 8.3014</br>ocean_proximity: NEAR BAY</br>_original_yhat_: 407689.22668987606</br>"
          ],
          [
           "</br>id: 0</br>prediction: 1215926.562</br>total_bedrooms: 4834.0</br></br>longitude: -122.22</br>latitude: 37.86</br>housing_median_age: 21.0</br>total_rooms: 7099.0</br>population: 2401.0</br>households: 1138.0</br>median_income: 8.3014</br>ocean_proximity: NEAR BAY</br>_original_yhat_: 407689.22668987606</br>"
          ],
          [
           "</br>id: 0</br>prediction: 1237956.833</br>total_bedrooms: 4898.44</br></br>longitude: -122.22</br>latitude: 37.86</br>housing_median_age: 21.0</br>total_rooms: 7099.0</br>population: 2401.0</br>households: 1138.0</br>median_income: 8.3014</br>ocean_proximity: NEAR BAY</br>_original_yhat_: 407689.22668987606</br>"
          ],
          [
           "</br>id: 0</br>prediction: 1259042.034</br>total_bedrooms: 4962.88</br></br>longitude: -122.22</br>latitude: 37.86</br>housing_median_age: 21.0</br>total_rooms: 7099.0</br>population: 2401.0</br>households: 1138.0</br>median_income: 8.3014</br>ocean_proximity: NEAR BAY</br>_original_yhat_: 407689.22668987606</br>"
          ],
          [
           "</br>id: 0</br>prediction: 1279330.907</br>total_bedrooms: 5027.32</br></br>longitude: -122.22</br>latitude: 37.86</br>housing_median_age: 21.0</br>total_rooms: 7099.0</br>population: 2401.0</br>households: 1138.0</br>median_income: 8.3014</br>ocean_proximity: NEAR BAY</br>_original_yhat_: 407689.22668987606</br>"
          ],
          [
           "</br>id: 0</br>prediction: 1299619.78</br>total_bedrooms: 5091.76</br></br>longitude: -122.22</br>latitude: 37.86</br>housing_median_age: 21.0</br>total_rooms: 7099.0</br>population: 2401.0</br>households: 1138.0</br>median_income: 8.3014</br>ocean_proximity: NEAR BAY</br>_original_yhat_: 407689.22668987606</br>"
          ],
          [
           "</br>id: 0</br>prediction: 1319908.653</br>total_bedrooms: 5156.2</br></br>longitude: -122.22</br>latitude: 37.86</br>housing_median_age: 21.0</br>total_rooms: 7099.0</br>population: 2401.0</br>households: 1138.0</br>median_income: 8.3014</br>ocean_proximity: NEAR BAY</br>_original_yhat_: 407689.22668987606</br>"
          ],
          [
           "</br>id: 0</br>prediction: 1340197.525</br>total_bedrooms: 5220.639999999999</br></br>longitude: -122.22</br>latitude: 37.86</br>housing_median_age: 21.0</br>total_rooms: 7099.0</br>population: 2401.0</br>households: 1138.0</br>median_income: 8.3014</br>ocean_proximity: NEAR BAY</br>_original_yhat_: 407689.22668987606</br>"
          ],
          [
           "</br>id: 0</br>prediction: 1360486.398</br>total_bedrooms: 5285.08</br></br>longitude: -122.22</br>latitude: 37.86</br>housing_median_age: 21.0</br>total_rooms: 7099.0</br>population: 2401.0</br>households: 1138.0</br>median_income: 8.3014</br>ocean_proximity: NEAR BAY</br>_original_yhat_: 407689.22668987606</br>"
          ],
          [
           "</br>id: 0</br>prediction: 1380775.271</br>total_bedrooms: 5349.5199999999995</br></br>longitude: -122.22</br>latitude: 37.86</br>housing_median_age: 21.0</br>total_rooms: 7099.0</br>population: 2401.0</br>households: 1138.0</br>median_income: 8.3014</br>ocean_proximity: NEAR BAY</br>_original_yhat_: 407689.22668987606</br>"
          ],
          [
           "</br>id: 0</br>prediction: 1401064.143</br>total_bedrooms: 5413.96</br></br>longitude: -122.22</br>latitude: 37.86</br>housing_median_age: 21.0</br>total_rooms: 7099.0</br>population: 2401.0</br>households: 1138.0</br>median_income: 8.3014</br>ocean_proximity: NEAR BAY</br>_original_yhat_: 407689.22668987606</br>"
          ],
          [
           "</br>id: 0</br>prediction: 1421353.016</br>total_bedrooms: 5478.4</br></br>longitude: -122.22</br>latitude: 37.86</br>housing_median_age: 21.0</br>total_rooms: 7099.0</br>population: 2401.0</br>households: 1138.0</br>median_income: 8.3014</br>ocean_proximity: NEAR BAY</br>_original_yhat_: 407689.22668987606</br>"
          ],
          [
           "</br>id: 0</br>prediction: 1441823.564</br>total_bedrooms: 5542.84</br></br>longitude: -122.22</br>latitude: 37.86</br>housing_median_age: 21.0</br>total_rooms: 7099.0</br>population: 2401.0</br>households: 1138.0</br>median_income: 8.3014</br>ocean_proximity: NEAR BAY</br>_original_yhat_: 407689.22668987606</br>"
          ],
          [
           "</br>id: 0</br>prediction: 1462500.313</br>total_bedrooms: 5607.28</br></br>longitude: -122.22</br>latitude: 37.86</br>housing_median_age: 21.0</br>total_rooms: 7099.0</br>population: 2401.0</br>households: 1138.0</br>median_income: 8.3014</br>ocean_proximity: NEAR BAY</br>_original_yhat_: 407689.22668987606</br>"
          ],
          [
           "</br>id: 0</br>prediction: 1489088.544</br>total_bedrooms: 5671.719999999999</br></br>longitude: -122.22</br>latitude: 37.86</br>housing_median_age: 21.0</br>total_rooms: 7099.0</br>population: 2401.0</br>households: 1138.0</br>median_income: 8.3014</br>ocean_proximity: NEAR BAY</br>_original_yhat_: 407689.22668987606</br>"
          ],
          [
           "</br>id: 0</br>prediction: 1525724.269</br>total_bedrooms: 5736.16</br></br>longitude: -122.22</br>latitude: 37.86</br>housing_median_age: 21.0</br>total_rooms: 7099.0</br>population: 2401.0</br>households: 1138.0</br>median_income: 8.3014</br>ocean_proximity: NEAR BAY</br>_original_yhat_: 407689.22668987606</br>"
          ],
          [
           "</br>id: 0</br>prediction: 1562739.628</br>total_bedrooms: 5800.599999999999</br></br>longitude: -122.22</br>latitude: 37.86</br>housing_median_age: 21.0</br>total_rooms: 7099.0</br>population: 2401.0</br>households: 1138.0</br>median_income: 8.3014</br>ocean_proximity: NEAR BAY</br>_original_yhat_: 407689.22668987606</br>"
          ],
          [
           "</br>id: 0</br>prediction: 1599754.988</br>total_bedrooms: 5865.04</br></br>longitude: -122.22</br>latitude: 37.86</br>housing_median_age: 21.0</br>total_rooms: 7099.0</br>population: 2401.0</br>households: 1138.0</br>median_income: 8.3014</br>ocean_proximity: NEAR BAY</br>_original_yhat_: 407689.22668987606</br>"
          ],
          [
           "</br>id: 0</br>prediction: 1636770.347</br>total_bedrooms: 5929.48</br></br>longitude: -122.22</br>latitude: 37.86</br>housing_median_age: 21.0</br>total_rooms: 7099.0</br>population: 2401.0</br>households: 1138.0</br>median_income: 8.3014</br>ocean_proximity: NEAR BAY</br>_original_yhat_: 407689.22668987606</br>"
          ],
          [
           "</br>id: 0</br>prediction: 1673785.707</br>total_bedrooms: 5993.92</br></br>longitude: -122.22</br>latitude: 37.86</br>housing_median_age: 21.0</br>total_rooms: 7099.0</br>population: 2401.0</br>households: 1138.0</br>median_income: 8.3014</br>ocean_proximity: NEAR BAY</br>_original_yhat_: 407689.22668987606</br>"
          ],
          [
           "</br>id: 0</br>prediction: 1710801.066</br>total_bedrooms: 6058.36</br></br>longitude: -122.22</br>latitude: 37.86</br>housing_median_age: 21.0</br>total_rooms: 7099.0</br>population: 2401.0</br>households: 1138.0</br>median_income: 8.3014</br>ocean_proximity: NEAR BAY</br>_original_yhat_: 407689.22668987606</br>"
          ],
          [
           "</br>id: 0</br>prediction: 1747816.426</br>total_bedrooms: 6122.8</br></br>longitude: -122.22</br>latitude: 37.86</br>housing_median_age: 21.0</br>total_rooms: 7099.0</br>population: 2401.0</br>households: 1138.0</br>median_income: 8.3014</br>ocean_proximity: NEAR BAY</br>_original_yhat_: 407689.22668987606</br>"
          ],
          [
           "</br>id: 0</br>prediction: 1784255.967</br>total_bedrooms: 6187.24</br></br>longitude: -122.22</br>latitude: 37.86</br>housing_median_age: 21.0</br>total_rooms: 7099.0</br>population: 2401.0</br>households: 1138.0</br>median_income: 8.3014</br>ocean_proximity: NEAR BAY</br>_original_yhat_: 407689.22668987606</br>"
          ],
          [
           "</br>id: 0</br>prediction: 1819455.771</br>total_bedrooms: 6251.679999999999</br></br>longitude: -122.22</br>latitude: 37.86</br>housing_median_age: 21.0</br>total_rooms: 7099.0</br>population: 2401.0</br>households: 1138.0</br>median_income: 8.3014</br>ocean_proximity: NEAR BAY</br>_original_yhat_: 407689.22668987606</br>"
          ],
          [
           "</br>id: 0</br>prediction: 1853387.419</br>total_bedrooms: 6316.12</br></br>longitude: -122.22</br>latitude: 37.86</br>housing_median_age: 21.0</br>total_rooms: 7099.0</br>population: 2401.0</br>households: 1138.0</br>median_income: 8.3014</br>ocean_proximity: NEAR BAY</br>_original_yhat_: 407689.22668987606</br>"
          ],
          [
           "</br>id: 0</br>prediction: 1887319.066</br>total_bedrooms: 6380.5599999999995</br></br>longitude: -122.22</br>latitude: 37.86</br>housing_median_age: 21.0</br>total_rooms: 7099.0</br>population: 2401.0</br>households: 1138.0</br>median_income: 8.3014</br>ocean_proximity: NEAR BAY</br>_original_yhat_: 407689.22668987606</br>"
          ],
          [
           "</br>id: 0</br>prediction: 1921250.714</br>total_bedrooms: 6445.0</br></br>longitude: -122.22</br>latitude: 37.86</br>housing_median_age: 21.0</br>total_rooms: 7099.0</br>population: 2401.0</br>households: 1138.0</br>median_income: 8.3014</br>ocean_proximity: NEAR BAY</br>_original_yhat_: 407689.22668987606</br>"
          ]
         ],
         "hovertemplate": "%{customdata[0]}<extra></extra>",
         "legendgroup": "MLP with onehot encoding",
         "line": {
          "color": "#4378bf",
          "dash": "solid",
          "width": 2
         },
         "marker": {
          "symbol": "circle"
         },
         "mode": "lines",
         "name": "MLP with onehot encoding",
         "opacity": 1,
         "orientation": "v",
         "showlegend": true,
         "type": "scatter",
         "x": [
          1,
          65.44,
          129.88,
          194.32,
          258.76,
          323.2,
          387.64,
          452.08,
          516.52,
          580.96,
          645.4,
          709.8399999999999,
          774.28,
          838.72,
          903.16,
          967.5999999999999,
          1032.04,
          1096.48,
          1106,
          1160.92,
          1225.36,
          1289.8,
          1354.24,
          1418.6799999999998,
          1483.12,
          1547.56,
          1612,
          1676.44,
          1740.8799999999999,
          1805.32,
          1869.76,
          1934.1999999999998,
          1998.6399999999999,
          2063.08,
          2127.52,
          2191.96,
          2256.4,
          2320.84,
          2385.2799999999997,
          2449.72,
          2514.16,
          2578.6,
          2643.04,
          2707.48,
          2771.92,
          2836.3599999999997,
          2900.7999999999997,
          2965.24,
          3029.68,
          3094.12,
          3158.56,
          3223,
          3287.44,
          3351.88,
          3416.3199999999997,
          3480.7599999999998,
          3545.2,
          3609.64,
          3674.08,
          3738.52,
          3802.96,
          3867.3999999999996,
          3931.8399999999997,
          3996.2799999999997,
          4060.72,
          4125.16,
          4189.599999999999,
          4254.04,
          4318.48,
          4382.92,
          4447.36,
          4511.8,
          4576.24,
          4640.68,
          4705.12,
          4769.5599999999995,
          4834,
          4898.44,
          4962.88,
          5027.32,
          5091.76,
          5156.2,
          5220.639999999999,
          5285.08,
          5349.5199999999995,
          5413.96,
          5478.4,
          5542.84,
          5607.28,
          5671.719999999999,
          5736.16,
          5800.599999999999,
          5865.04,
          5929.48,
          5993.92,
          6058.36,
          6122.8,
          6187.24,
          6251.679999999999,
          6316.12,
          6380.5599999999995,
          6445
         ],
         "xaxis": "x",
         "y": [
          571116.245709358,
          533834.3127390246,
          497293.9583473356,
          460753.6039556463,
          441400.06891796633,
          428197.6380112319,
          414995.2071044973,
          415783.05855162244,
          416769.30470874964,
          417755.55086587626,
          418827.6878223678,
          420677.2454559604,
          422526.803089553,
          422414.46837732283,
          420296.30583740183,
          417842.07824633433,
          414172.51023032697,
          408523.74344629946,
          407689.22668987594,
          402874.9766622726,
          397226.20987824484,
          393065.0444183238,
          393047.83964734676,
          398436.04919473745,
          404486.2141346021,
          409331.7988484816,
          414177.3835623615,
          415219.3443372281,
          410893.48950606654,
          406567.6346749048,
          402241.77984374284,
          397915.92501258105,
          393590.0701814191,
          389264.2153502573,
          384938.36051909544,
          380612.50568793353,
          376286.65085677156,
          371960.7960256097,
          367634.9411944479,
          363309.0863632859,
          358983.23153212405,
          354657.37670096254,
          356008.77092595445,
          381586.4958201222,
          407164.2207142899,
          432741.9456084573,
          458319.67050262494,
          483897.3953967928,
          509475.1202909602,
          535052.8451851278,
          560630.5700792954,
          586208.2949734628,
          611786.0198676304,
          637363.7447617981,
          662941.4696559655,
          688519.1945501331,
          714096.9194443007,
          739674.6443384682,
          765252.369232636,
          790830.0941268036,
          816407.8190209712,
          841985.543915138,
          867563.2688093059,
          893140.9937034738,
          918718.7185976411,
          944296.4434918086,
          969874.1683859763,
          995451.893280144,
          1021029.6181743112,
          1046607.3430684791,
          1072185.0679626463,
          1097762.792856814,
          1123340.5177509817,
          1148918.2426451494,
          1171866.0189730085,
          1193896.2902995541,
          1215926.5616260997,
          1237956.8329526454,
          1259042.0344201897,
          1279330.9071188273,
          1299619.7798174657,
          1319908.6525161031,
          1340197.5252147408,
          1360486.397913379,
          1380775.2706120166,
          1401064.1433106547,
          1421353.0160092926,
          1441823.564202397,
          1462500.3127301317,
          1489088.5439133446,
          1525724.2685303183,
          1562739.6280944983,
          1599754.9876586797,
          1636770.34722286,
          1673785.7067870412,
          1710801.0663512216,
          1747816.4259154024,
          1784255.9669738912,
          1819455.7711356801,
          1853387.418633409,
          1887319.0661311375,
          1921250.7136288665
         ],
         "yaxis": "y"
        },
        {
         "customdata": [
          [
           "</br>id: 0</br>prediction: 710122.69</br>total_rooms: 2.0</br></br>longitude: -122.22</br>latitude: 37.86</br>housing_median_age: 21.0</br>total_bedrooms: 1106.0</br>population: 2401.0</br>households: 1138.0</br>median_income: 8.3014</br>ocean_proximity: NEAR BAY</br>_original_yhat_: 407689.22668987606</br>"
          ],
          [
           "</br>id: 0</br>prediction: 651323.218</br>total_rooms: 395.18</br></br>longitude: -122.22</br>latitude: 37.86</br>housing_median_age: 21.0</br>total_bedrooms: 1106.0</br>population: 2401.0</br>households: 1138.0</br>median_income: 8.3014</br>ocean_proximity: NEAR BAY</br>_original_yhat_: 407689.22668987606</br>"
          ],
          [
           "</br>id: 0</br>prediction: 592523.745</br>total_rooms: 788.36</br></br>longitude: -122.22</br>latitude: 37.86</br>housing_median_age: 21.0</br>total_bedrooms: 1106.0</br>population: 2401.0</br>households: 1138.0</br>median_income: 8.3014</br>ocean_proximity: NEAR BAY</br>_original_yhat_: 407689.22668987606</br>"
          ],
          [
           "</br>id: 0</br>prediction: 533724.273</br>total_rooms: 1181.54</br></br>longitude: -122.22</br>latitude: 37.86</br>housing_median_age: 21.0</br>total_bedrooms: 1106.0</br>population: 2401.0</br>households: 1138.0</br>median_income: 8.3014</br>ocean_proximity: NEAR BAY</br>_original_yhat_: 407689.22668987606</br>"
          ],
          [
           "</br>id: 0</br>prediction: 462105.425</br>total_rooms: 1574.72</br></br>longitude: -122.22</br>latitude: 37.86</br>housing_median_age: 21.0</br>total_bedrooms: 1106.0</br>population: 2401.0</br>households: 1138.0</br>median_income: 8.3014</br>ocean_proximity: NEAR BAY</br>_original_yhat_: 407689.22668987606</br>"
          ],
          [
           "</br>id: 0</br>prediction: 392349.977</br>total_rooms: 1967.9</br></br>longitude: -122.22</br>latitude: 37.86</br>housing_median_age: 21.0</br>total_bedrooms: 1106.0</br>population: 2401.0</br>households: 1138.0</br>median_income: 8.3014</br>ocean_proximity: NEAR BAY</br>_original_yhat_: 407689.22668987606</br>"
          ],
          [
           "</br>id: 0</br>prediction: 390017.666</br>total_rooms: 2361.08</br></br>longitude: -122.22</br>latitude: 37.86</br>housing_median_age: 21.0</br>total_bedrooms: 1106.0</br>population: 2401.0</br>households: 1138.0</br>median_income: 8.3014</br>ocean_proximity: NEAR BAY</br>_original_yhat_: 407689.22668987606</br>"
          ],
          [
           "</br>id: 0</br>prediction: 403775.447</br>total_rooms: 2754.26</br></br>longitude: -122.22</br>latitude: 37.86</br>housing_median_age: 21.0</br>total_bedrooms: 1106.0</br>population: 2401.0</br>households: 1138.0</br>median_income: 8.3014</br>ocean_proximity: NEAR BAY</br>_original_yhat_: 407689.22668987606</br>"
          ],
          [
           "</br>id: 0</br>prediction: 410432.819</br>total_rooms: 3147.44</br></br>longitude: -122.22</br>latitude: 37.86</br>housing_median_age: 21.0</br>total_bedrooms: 1106.0</br>population: 2401.0</br>households: 1138.0</br>median_income: 8.3014</br>ocean_proximity: NEAR BAY</br>_original_yhat_: 407689.22668987606</br>"
          ],
          [
           "</br>id: 0</br>prediction: 397016.115</br>total_rooms: 3540.62</br></br>longitude: -122.22</br>latitude: 37.86</br>housing_median_age: 21.0</br>total_bedrooms: 1106.0</br>population: 2401.0</br>households: 1138.0</br>median_income: 8.3014</br>ocean_proximity: NEAR BAY</br>_original_yhat_: 407689.22668987606</br>"
          ],
          [
           "</br>id: 0</br>prediction: 387025.295</br>total_rooms: 3933.8</br></br>longitude: -122.22</br>latitude: 37.86</br>housing_median_age: 21.0</br>total_bedrooms: 1106.0</br>population: 2401.0</br>households: 1138.0</br>median_income: 8.3014</br>ocean_proximity: NEAR BAY</br>_original_yhat_: 407689.22668987606</br>"
          ],
          [
           "</br>id: 0</br>prediction: 391779.098</br>total_rooms: 4326.9800000000005</br></br>longitude: -122.22</br>latitude: 37.86</br>housing_median_age: 21.0</br>total_bedrooms: 1106.0</br>population: 2401.0</br>households: 1138.0</br>median_income: 8.3014</br>ocean_proximity: NEAR BAY</br>_original_yhat_: 407689.22668987606</br>"
          ],
          [
           "</br>id: 0</br>prediction: 397153.027</br>total_rooms: 4720.16</br></br>longitude: -122.22</br>latitude: 37.86</br>housing_median_age: 21.0</br>total_bedrooms: 1106.0</br>population: 2401.0</br>households: 1138.0</br>median_income: 8.3014</br>ocean_proximity: NEAR BAY</br>_original_yhat_: 407689.22668987606</br>"
          ],
          [
           "</br>id: 0</br>prediction: 400937.448</br>total_rooms: 5113.34</br></br>longitude: -122.22</br>latitude: 37.86</br>housing_median_age: 21.0</br>total_bedrooms: 1106.0</br>population: 2401.0</br>households: 1138.0</br>median_income: 8.3014</br>ocean_proximity: NEAR BAY</br>_original_yhat_: 407689.22668987606</br>"
          ],
          [
           "</br>id: 0</br>prediction: 404324.065</br>total_rooms: 5506.52</br></br>longitude: -122.22</br>latitude: 37.86</br>housing_median_age: 21.0</br>total_bedrooms: 1106.0</br>population: 2401.0</br>households: 1138.0</br>median_income: 8.3014</br>ocean_proximity: NEAR BAY</br>_original_yhat_: 407689.22668987606</br>"
          ],
          [
           "</br>id: 0</br>prediction: 407710.682</br>total_rooms: 5899.7</br></br>longitude: -122.22</br>latitude: 37.86</br>housing_median_age: 21.0</br>total_bedrooms: 1106.0</br>population: 2401.0</br>households: 1138.0</br>median_income: 8.3014</br>ocean_proximity: NEAR BAY</br>_original_yhat_: 407689.22668987606</br>"
          ],
          [
           "</br>id: 0</br>prediction: 404980.419</br>total_rooms: 6292.88</br></br>longitude: -122.22</br>latitude: 37.86</br>housing_median_age: 21.0</br>total_bedrooms: 1106.0</br>population: 2401.0</br>households: 1138.0</br>median_income: 8.3014</br>ocean_proximity: NEAR BAY</br>_original_yhat_: 407689.22668987606</br>"
          ],
          [
           "</br>id: 0</br>prediction: 403415.016</br>total_rooms: 6686.06</br></br>longitude: -122.22</br>latitude: 37.86</br>housing_median_age: 21.0</br>total_bedrooms: 1106.0</br>population: 2401.0</br>households: 1138.0</br>median_income: 8.3014</br>ocean_proximity: NEAR BAY</br>_original_yhat_: 407689.22668987606</br>"
          ],
          [
           "</br>id: 0</br>prediction: 407484.697</br>total_rooms: 7079.24</br></br>longitude: -122.22</br>latitude: 37.86</br>housing_median_age: 21.0</br>total_bedrooms: 1106.0</br>population: 2401.0</br>households: 1138.0</br>median_income: 8.3014</br>ocean_proximity: NEAR BAY</br>_original_yhat_: 407689.22668987606</br>"
          ],
          [
           "</br>id: 0</br>prediction: 407689.227</br>total_rooms: 7099.0</br></br>longitude: -122.22</br>latitude: 37.86</br>housing_median_age: 21.0</br>total_bedrooms: 1106.0</br>population: 2401.0</br>households: 1138.0</br>median_income: 8.3014</br>ocean_proximity: NEAR BAY</br>_original_yhat_: 407689.22668987606</br>"
          ],
          [
           "</br>id: 0</br>prediction: 411554.378</br>total_rooms: 7472.42</br></br>longitude: -122.22</br>latitude: 37.86</br>housing_median_age: 21.0</br>total_bedrooms: 1106.0</br>population: 2401.0</br>households: 1138.0</br>median_income: 8.3014</br>ocean_proximity: NEAR BAY</br>_original_yhat_: 407689.22668987606</br>"
          ],
          [
           "</br>id: 0</br>prediction: 415408.903</br>total_rooms: 7865.6</br></br>longitude: -122.22</br>latitude: 37.86</br>housing_median_age: 21.0</br>total_bedrooms: 1106.0</br>population: 2401.0</br>households: 1138.0</br>median_income: 8.3014</br>ocean_proximity: NEAR BAY</br>_original_yhat_: 407689.22668987606</br>"
          ],
          [
           "</br>id: 0</br>prediction: 414998.324</br>total_rooms: 8258.78</br></br>longitude: -122.22</br>latitude: 37.86</br>housing_median_age: 21.0</br>total_bedrooms: 1106.0</br>population: 2401.0</br>households: 1138.0</br>median_income: 8.3014</br>ocean_proximity: NEAR BAY</br>_original_yhat_: 407689.22668987606</br>"
          ],
          [
           "</br>id: 0</br>prediction: 410785.303</br>total_rooms: 8651.960000000001</br></br>longitude: -122.22</br>latitude: 37.86</br>housing_median_age: 21.0</br>total_bedrooms: 1106.0</br>population: 2401.0</br>households: 1138.0</br>median_income: 8.3014</br>ocean_proximity: NEAR BAY</br>_original_yhat_: 407689.22668987606</br>"
          ],
          [
           "</br>id: 0</br>prediction: 405402.034</br>total_rooms: 9045.14</br></br>longitude: -122.22</br>latitude: 37.86</br>housing_median_age: 21.0</br>total_bedrooms: 1106.0</br>population: 2401.0</br>households: 1138.0</br>median_income: 8.3014</br>ocean_proximity: NEAR BAY</br>_original_yhat_: 407689.22668987606</br>"
          ],
          [
           "</br>id: 0</br>prediction: 400018.765</br>total_rooms: 9438.32</br></br>longitude: -122.22</br>latitude: 37.86</br>housing_median_age: 21.0</br>total_bedrooms: 1106.0</br>population: 2401.0</br>households: 1138.0</br>median_income: 8.3014</br>ocean_proximity: NEAR BAY</br>_original_yhat_: 407689.22668987606</br>"
          ],
          [
           "</br>id: 0</br>prediction: 394635.495</br>total_rooms: 9831.5</br></br>longitude: -122.22</br>latitude: 37.86</br>housing_median_age: 21.0</br>total_bedrooms: 1106.0</br>population: 2401.0</br>households: 1138.0</br>median_income: 8.3014</br>ocean_proximity: NEAR BAY</br>_original_yhat_: 407689.22668987606</br>"
          ],
          [
           "</br>id: 0</br>prediction: 389252.226</br>total_rooms: 10224.68</br></br>longitude: -122.22</br>latitude: 37.86</br>housing_median_age: 21.0</br>total_bedrooms: 1106.0</br>population: 2401.0</br>households: 1138.0</br>median_income: 8.3014</br>ocean_proximity: NEAR BAY</br>_original_yhat_: 407689.22668987606</br>"
          ],
          [
           "</br>id: 0</br>prediction: 383868.957</br>total_rooms: 10617.86</br></br>longitude: -122.22</br>latitude: 37.86</br>housing_median_age: 21.0</br>total_bedrooms: 1106.0</br>population: 2401.0</br>households: 1138.0</br>median_income: 8.3014</br>ocean_proximity: NEAR BAY</br>_original_yhat_: 407689.22668987606</br>"
          ],
          [
           "</br>id: 0</br>prediction: 378485.687</br>total_rooms: 11011.04</br></br>longitude: -122.22</br>latitude: 37.86</br>housing_median_age: 21.0</br>total_bedrooms: 1106.0</br>population: 2401.0</br>households: 1138.0</br>median_income: 8.3014</br>ocean_proximity: NEAR BAY</br>_original_yhat_: 407689.22668987606</br>"
          ],
          [
           "</br>id: 0</br>prediction: 373102.418</br>total_rooms: 11404.22</br></br>longitude: -122.22</br>latitude: 37.86</br>housing_median_age: 21.0</br>total_bedrooms: 1106.0</br>population: 2401.0</br>households: 1138.0</br>median_income: 8.3014</br>ocean_proximity: NEAR BAY</br>_original_yhat_: 407689.22668987606</br>"
          ],
          [
           "</br>id: 0</br>prediction: 367719.149</br>total_rooms: 11797.4</br></br>longitude: -122.22</br>latitude: 37.86</br>housing_median_age: 21.0</br>total_bedrooms: 1106.0</br>population: 2401.0</br>households: 1138.0</br>median_income: 8.3014</br>ocean_proximity: NEAR BAY</br>_original_yhat_: 407689.22668987606</br>"
          ],
          [
           "</br>id: 0</br>prediction: 362335.879</br>total_rooms: 12190.58</br></br>longitude: -122.22</br>latitude: 37.86</br>housing_median_age: 21.0</br>total_bedrooms: 1106.0</br>population: 2401.0</br>households: 1138.0</br>median_income: 8.3014</br>ocean_proximity: NEAR BAY</br>_original_yhat_: 407689.22668987606</br>"
          ],
          [
           "</br>id: 0</br>prediction: 357736.417</br>total_rooms: 12583.76</br></br>longitude: -122.22</br>latitude: 37.86</br>housing_median_age: 21.0</br>total_bedrooms: 1106.0</br>population: 2401.0</br>households: 1138.0</br>median_income: 8.3014</br>ocean_proximity: NEAR BAY</br>_original_yhat_: 407689.22668987606</br>"
          ],
          [
           "</br>id: 0</br>prediction: 367807.494</br>total_rooms: 12976.94</br></br>longitude: -122.22</br>latitude: 37.86</br>housing_median_age: 21.0</br>total_bedrooms: 1106.0</br>population: 2401.0</br>households: 1138.0</br>median_income: 8.3014</br>ocean_proximity: NEAR BAY</br>_original_yhat_: 407689.22668987606</br>"
          ],
          [
           "</br>id: 0</br>prediction: 385360.557</br>total_rooms: 13370.12</br></br>longitude: -122.22</br>latitude: 37.86</br>housing_median_age: 21.0</br>total_bedrooms: 1106.0</br>population: 2401.0</br>households: 1138.0</br>median_income: 8.3014</br>ocean_proximity: NEAR BAY</br>_original_yhat_: 407689.22668987606</br>"
          ],
          [
           "</br>id: 0</br>prediction: 402913.621</br>total_rooms: 13763.300000000001</br></br>longitude: -122.22</br>latitude: 37.86</br>housing_median_age: 21.0</br>total_bedrooms: 1106.0</br>population: 2401.0</br>households: 1138.0</br>median_income: 8.3014</br>ocean_proximity: NEAR BAY</br>_original_yhat_: 407689.22668987606</br>"
          ],
          [
           "</br>id: 0</br>prediction: 420466.685</br>total_rooms: 14156.48</br></br>longitude: -122.22</br>latitude: 37.86</br>housing_median_age: 21.0</br>total_bedrooms: 1106.0</br>population: 2401.0</br>households: 1138.0</br>median_income: 8.3014</br>ocean_proximity: NEAR BAY</br>_original_yhat_: 407689.22668987606</br>"
          ],
          [
           "</br>id: 0</br>prediction: 438019.749</br>total_rooms: 14549.66</br></br>longitude: -122.22</br>latitude: 37.86</br>housing_median_age: 21.0</br>total_bedrooms: 1106.0</br>population: 2401.0</br>households: 1138.0</br>median_income: 8.3014</br>ocean_proximity: NEAR BAY</br>_original_yhat_: 407689.22668987606</br>"
          ],
          [
           "</br>id: 0</br>prediction: 462810.859</br>total_rooms: 14942.84</br></br>longitude: -122.22</br>latitude: 37.86</br>housing_median_age: 21.0</br>total_bedrooms: 1106.0</br>population: 2401.0</br>households: 1138.0</br>median_income: 8.3014</br>ocean_proximity: NEAR BAY</br>_original_yhat_: 407689.22668987606</br>"
          ],
          [
           "</br>id: 0</br>prediction: 489565.689</br>total_rooms: 15336.02</br></br>longitude: -122.22</br>latitude: 37.86</br>housing_median_age: 21.0</br>total_bedrooms: 1106.0</br>population: 2401.0</br>households: 1138.0</br>median_income: 8.3014</br>ocean_proximity: NEAR BAY</br>_original_yhat_: 407689.22668987606</br>"
          ],
          [
           "</br>id: 0</br>prediction: 516320.519</br>total_rooms: 15729.2</br></br>longitude: -122.22</br>latitude: 37.86</br>housing_median_age: 21.0</br>total_bedrooms: 1106.0</br>population: 2401.0</br>households: 1138.0</br>median_income: 8.3014</br>ocean_proximity: NEAR BAY</br>_original_yhat_: 407689.22668987606</br>"
          ],
          [
           "</br>id: 0</br>prediction: 543075.349</br>total_rooms: 16122.380000000001</br></br>longitude: -122.22</br>latitude: 37.86</br>housing_median_age: 21.0</br>total_bedrooms: 1106.0</br>population: 2401.0</br>households: 1138.0</br>median_income: 8.3014</br>ocean_proximity: NEAR BAY</br>_original_yhat_: 407689.22668987606</br>"
          ],
          [
           "</br>id: 0</br>prediction: 569830.179</br>total_rooms: 16515.56</br></br>longitude: -122.22</br>latitude: 37.86</br>housing_median_age: 21.0</br>total_bedrooms: 1106.0</br>population: 2401.0</br>households: 1138.0</br>median_income: 8.3014</br>ocean_proximity: NEAR BAY</br>_original_yhat_: 407689.22668987606</br>"
          ],
          [
           "</br>id: 0</br>prediction: 596585.01</br>total_rooms: 16908.74</br></br>longitude: -122.22</br>latitude: 37.86</br>housing_median_age: 21.0</br>total_bedrooms: 1106.0</br>population: 2401.0</br>households: 1138.0</br>median_income: 8.3014</br>ocean_proximity: NEAR BAY</br>_original_yhat_: 407689.22668987606</br>"
          ],
          [
           "</br>id: 0</br>prediction: 623339.84</br>total_rooms: 17301.920000000002</br></br>longitude: -122.22</br>latitude: 37.86</br>housing_median_age: 21.0</br>total_bedrooms: 1106.0</br>population: 2401.0</br>households: 1138.0</br>median_income: 8.3014</br>ocean_proximity: NEAR BAY</br>_original_yhat_: 407689.22668987606</br>"
          ],
          [
           "</br>id: 0</br>prediction: 650094.67</br>total_rooms: 17695.1</br></br>longitude: -122.22</br>latitude: 37.86</br>housing_median_age: 21.0</br>total_bedrooms: 1106.0</br>population: 2401.0</br>households: 1138.0</br>median_income: 8.3014</br>ocean_proximity: NEAR BAY</br>_original_yhat_: 407689.22668987606</br>"
          ],
          [
           "</br>id: 0</br>prediction: 676849.5</br>total_rooms: 18088.28</br></br>longitude: -122.22</br>latitude: 37.86</br>housing_median_age: 21.0</br>total_bedrooms: 1106.0</br>population: 2401.0</br>households: 1138.0</br>median_income: 8.3014</br>ocean_proximity: NEAR BAY</br>_original_yhat_: 407689.22668987606</br>"
          ],
          [
           "</br>id: 0</br>prediction: 703604.33</br>total_rooms: 18481.46</br></br>longitude: -122.22</br>latitude: 37.86</br>housing_median_age: 21.0</br>total_bedrooms: 1106.0</br>population: 2401.0</br>households: 1138.0</br>median_income: 8.3014</br>ocean_proximity: NEAR BAY</br>_original_yhat_: 407689.22668987606</br>"
          ],
          [
           "</br>id: 0</br>prediction: 730359.16</br>total_rooms: 18874.64</br></br>longitude: -122.22</br>latitude: 37.86</br>housing_median_age: 21.0</br>total_bedrooms: 1106.0</br>population: 2401.0</br>households: 1138.0</br>median_income: 8.3014</br>ocean_proximity: NEAR BAY</br>_original_yhat_: 407689.22668987606</br>"
          ],
          [
           "</br>id: 0</br>prediction: 757113.991</br>total_rooms: 19267.82</br></br>longitude: -122.22</br>latitude: 37.86</br>housing_median_age: 21.0</br>total_bedrooms: 1106.0</br>population: 2401.0</br>households: 1138.0</br>median_income: 8.3014</br>ocean_proximity: NEAR BAY</br>_original_yhat_: 407689.22668987606</br>"
          ],
          [
           "</br>id: 0</br>prediction: 783868.821</br>total_rooms: 19661.0</br></br>longitude: -122.22</br>latitude: 37.86</br>housing_median_age: 21.0</br>total_bedrooms: 1106.0</br>population: 2401.0</br>households: 1138.0</br>median_income: 8.3014</br>ocean_proximity: NEAR BAY</br>_original_yhat_: 407689.22668987606</br>"
          ],
          [
           "</br>id: 0</br>prediction: 810623.651</br>total_rooms: 20054.18</br></br>longitude: -122.22</br>latitude: 37.86</br>housing_median_age: 21.0</br>total_bedrooms: 1106.0</br>population: 2401.0</br>households: 1138.0</br>median_income: 8.3014</br>ocean_proximity: NEAR BAY</br>_original_yhat_: 407689.22668987606</br>"
          ],
          [
           "</br>id: 0</br>prediction: 837378.481</br>total_rooms: 20447.36</br></br>longitude: -122.22</br>latitude: 37.86</br>housing_median_age: 21.0</br>total_bedrooms: 1106.0</br>population: 2401.0</br>households: 1138.0</br>median_income: 8.3014</br>ocean_proximity: NEAR BAY</br>_original_yhat_: 407689.22668987606</br>"
          ],
          [
           "</br>id: 0</br>prediction: 864133.311</br>total_rooms: 20840.54</br></br>longitude: -122.22</br>latitude: 37.86</br>housing_median_age: 21.0</br>total_bedrooms: 1106.0</br>population: 2401.0</br>households: 1138.0</br>median_income: 8.3014</br>ocean_proximity: NEAR BAY</br>_original_yhat_: 407689.22668987606</br>"
          ],
          [
           "</br>id: 0</br>prediction: 890888.141</br>total_rooms: 21233.72</br></br>longitude: -122.22</br>latitude: 37.86</br>housing_median_age: 21.0</br>total_bedrooms: 1106.0</br>population: 2401.0</br>households: 1138.0</br>median_income: 8.3014</br>ocean_proximity: NEAR BAY</br>_original_yhat_: 407689.22668987606</br>"
          ],
          [
           "</br>id: 0</br>prediction: 917642.971</br>total_rooms: 21626.9</br></br>longitude: -122.22</br>latitude: 37.86</br>housing_median_age: 21.0</br>total_bedrooms: 1106.0</br>population: 2401.0</br>households: 1138.0</br>median_income: 8.3014</br>ocean_proximity: NEAR BAY</br>_original_yhat_: 407689.22668987606</br>"
          ],
          [
           "</br>id: 0</br>prediction: 944397.802</br>total_rooms: 22020.08</br></br>longitude: -122.22</br>latitude: 37.86</br>housing_median_age: 21.0</br>total_bedrooms: 1106.0</br>population: 2401.0</br>households: 1138.0</br>median_income: 8.3014</br>ocean_proximity: NEAR BAY</br>_original_yhat_: 407689.22668987606</br>"
          ],
          [
           "</br>id: 0</br>prediction: 971152.632</br>total_rooms: 22413.260000000002</br></br>longitude: -122.22</br>latitude: 37.86</br>housing_median_age: 21.0</br>total_bedrooms: 1106.0</br>population: 2401.0</br>households: 1138.0</br>median_income: 8.3014</br>ocean_proximity: NEAR BAY</br>_original_yhat_: 407689.22668987606</br>"
          ],
          [
           "</br>id: 0</br>prediction: 997907.462</br>total_rooms: 22806.44</br></br>longitude: -122.22</br>latitude: 37.86</br>housing_median_age: 21.0</br>total_bedrooms: 1106.0</br>population: 2401.0</br>households: 1138.0</br>median_income: 8.3014</br>ocean_proximity: NEAR BAY</br>_original_yhat_: 407689.22668987606</br>"
          ],
          [
           "</br>id: 0</br>prediction: 1024662.292</br>total_rooms: 23199.62</br></br>longitude: -122.22</br>latitude: 37.86</br>housing_median_age: 21.0</br>total_bedrooms: 1106.0</br>population: 2401.0</br>households: 1138.0</br>median_income: 8.3014</br>ocean_proximity: NEAR BAY</br>_original_yhat_: 407689.22668987606</br>"
          ],
          [
           "</br>id: 0</br>prediction: 1051417.122</br>total_rooms: 23592.8</br></br>longitude: -122.22</br>latitude: 37.86</br>housing_median_age: 21.0</br>total_bedrooms: 1106.0</br>population: 2401.0</br>households: 1138.0</br>median_income: 8.3014</br>ocean_proximity: NEAR BAY</br>_original_yhat_: 407689.22668987606</br>"
          ],
          [
           "</br>id: 0</br>prediction: 1078171.952</br>total_rooms: 23985.98</br></br>longitude: -122.22</br>latitude: 37.86</br>housing_median_age: 21.0</br>total_bedrooms: 1106.0</br>population: 2401.0</br>households: 1138.0</br>median_income: 8.3014</br>ocean_proximity: NEAR BAY</br>_original_yhat_: 407689.22668987606</br>"
          ],
          [
           "</br>id: 0</br>prediction: 1104926.782</br>total_rooms: 24379.16</br></br>longitude: -122.22</br>latitude: 37.86</br>housing_median_age: 21.0</br>total_bedrooms: 1106.0</br>population: 2401.0</br>households: 1138.0</br>median_income: 8.3014</br>ocean_proximity: NEAR BAY</br>_original_yhat_: 407689.22668987606</br>"
          ],
          [
           "</br>id: 0</br>prediction: 1131681.613</br>total_rooms: 24772.34</br></br>longitude: -122.22</br>latitude: 37.86</br>housing_median_age: 21.0</br>total_bedrooms: 1106.0</br>population: 2401.0</br>households: 1138.0</br>median_income: 8.3014</br>ocean_proximity: NEAR BAY</br>_original_yhat_: 407689.22668987606</br>"
          ],
          [
           "</br>id: 0</br>prediction: 1158436.443</br>total_rooms: 25165.52</br></br>longitude: -122.22</br>latitude: 37.86</br>housing_median_age: 21.0</br>total_bedrooms: 1106.0</br>population: 2401.0</br>households: 1138.0</br>median_income: 8.3014</br>ocean_proximity: NEAR BAY</br>_original_yhat_: 407689.22668987606</br>"
          ],
          [
           "</br>id: 0</br>prediction: 1185191.273</br>total_rooms: 25558.7</br></br>longitude: -122.22</br>latitude: 37.86</br>housing_median_age: 21.0</br>total_bedrooms: 1106.0</br>population: 2401.0</br>households: 1138.0</br>median_income: 8.3014</br>ocean_proximity: NEAR BAY</br>_original_yhat_: 407689.22668987606</br>"
          ],
          [
           "</br>id: 0</br>prediction: 1211946.103</br>total_rooms: 25951.88</br></br>longitude: -122.22</br>latitude: 37.86</br>housing_median_age: 21.0</br>total_bedrooms: 1106.0</br>population: 2401.0</br>households: 1138.0</br>median_income: 8.3014</br>ocean_proximity: NEAR BAY</br>_original_yhat_: 407689.22668987606</br>"
          ],
          [
           "</br>id: 0</br>prediction: 1238700.933</br>total_rooms: 26345.06</br></br>longitude: -122.22</br>latitude: 37.86</br>housing_median_age: 21.0</br>total_bedrooms: 1106.0</br>population: 2401.0</br>households: 1138.0</br>median_income: 8.3014</br>ocean_proximity: NEAR BAY</br>_original_yhat_: 407689.22668987606</br>"
          ],
          [
           "</br>id: 0</br>prediction: 1265455.763</br>total_rooms: 26738.24</br></br>longitude: -122.22</br>latitude: 37.86</br>housing_median_age: 21.0</br>total_bedrooms: 1106.0</br>population: 2401.0</br>households: 1138.0</br>median_income: 8.3014</br>ocean_proximity: NEAR BAY</br>_original_yhat_: 407689.22668987606</br>"
          ],
          [
           "</br>id: 0</br>prediction: 1292210.594</br>total_rooms: 27131.420000000002</br></br>longitude: -122.22</br>latitude: 37.86</br>housing_median_age: 21.0</br>total_bedrooms: 1106.0</br>population: 2401.0</br>households: 1138.0</br>median_income: 8.3014</br>ocean_proximity: NEAR BAY</br>_original_yhat_: 407689.22668987606</br>"
          ],
          [
           "</br>id: 0</br>prediction: 1318965.424</br>total_rooms: 27524.600000000002</br></br>longitude: -122.22</br>latitude: 37.86</br>housing_median_age: 21.0</br>total_bedrooms: 1106.0</br>population: 2401.0</br>households: 1138.0</br>median_income: 8.3014</br>ocean_proximity: NEAR BAY</br>_original_yhat_: 407689.22668987606</br>"
          ],
          [
           "</br>id: 0</br>prediction: 1345720.254</br>total_rooms: 27917.78</br></br>longitude: -122.22</br>latitude: 37.86</br>housing_median_age: 21.0</br>total_bedrooms: 1106.0</br>population: 2401.0</br>households: 1138.0</br>median_income: 8.3014</br>ocean_proximity: NEAR BAY</br>_original_yhat_: 407689.22668987606</br>"
          ],
          [
           "</br>id: 0</br>prediction: 1372475.084</br>total_rooms: 28310.96</br></br>longitude: -122.22</br>latitude: 37.86</br>housing_median_age: 21.0</br>total_bedrooms: 1106.0</br>population: 2401.0</br>households: 1138.0</br>median_income: 8.3014</br>ocean_proximity: NEAR BAY</br>_original_yhat_: 407689.22668987606</br>"
          ],
          [
           "</br>id: 0</br>prediction: 1399229.914</br>total_rooms: 28704.14</br></br>longitude: -122.22</br>latitude: 37.86</br>housing_median_age: 21.0</br>total_bedrooms: 1106.0</br>population: 2401.0</br>households: 1138.0</br>median_income: 8.3014</br>ocean_proximity: NEAR BAY</br>_original_yhat_: 407689.22668987606</br>"
          ],
          [
           "</br>id: 0</br>prediction: 1425984.744</br>total_rooms: 29097.32</br></br>longitude: -122.22</br>latitude: 37.86</br>housing_median_age: 21.0</br>total_bedrooms: 1106.0</br>population: 2401.0</br>households: 1138.0</br>median_income: 8.3014</br>ocean_proximity: NEAR BAY</br>_original_yhat_: 407689.22668987606</br>"
          ],
          [
           "</br>id: 0</br>prediction: 1452739.574</br>total_rooms: 29490.5</br></br>longitude: -122.22</br>latitude: 37.86</br>housing_median_age: 21.0</br>total_bedrooms: 1106.0</br>population: 2401.0</br>households: 1138.0</br>median_income: 8.3014</br>ocean_proximity: NEAR BAY</br>_original_yhat_: 407689.22668987606</br>"
          ],
          [
           "</br>id: 0</br>prediction: 1479494.405</br>total_rooms: 29883.68</br></br>longitude: -122.22</br>latitude: 37.86</br>housing_median_age: 21.0</br>total_bedrooms: 1106.0</br>population: 2401.0</br>households: 1138.0</br>median_income: 8.3014</br>ocean_proximity: NEAR BAY</br>_original_yhat_: 407689.22668987606</br>"
          ],
          [
           "</br>id: 0</br>prediction: 1506249.235</br>total_rooms: 30276.86</br></br>longitude: -122.22</br>latitude: 37.86</br>housing_median_age: 21.0</br>total_bedrooms: 1106.0</br>population: 2401.0</br>households: 1138.0</br>median_income: 8.3014</br>ocean_proximity: NEAR BAY</br>_original_yhat_: 407689.22668987606</br>"
          ],
          [
           "</br>id: 0</br>prediction: 1533004.065</br>total_rooms: 30670.04</br></br>longitude: -122.22</br>latitude: 37.86</br>housing_median_age: 21.0</br>total_bedrooms: 1106.0</br>population: 2401.0</br>households: 1138.0</br>median_income: 8.3014</br>ocean_proximity: NEAR BAY</br>_original_yhat_: 407689.22668987606</br>"
          ],
          [
           "</br>id: 0</br>prediction: 1559758.895</br>total_rooms: 31063.22</br></br>longitude: -122.22</br>latitude: 37.86</br>housing_median_age: 21.0</br>total_bedrooms: 1106.0</br>population: 2401.0</br>households: 1138.0</br>median_income: 8.3014</br>ocean_proximity: NEAR BAY</br>_original_yhat_: 407689.22668987606</br>"
          ],
          [
           "</br>id: 0</br>prediction: 1586513.725</br>total_rooms: 31456.4</br></br>longitude: -122.22</br>latitude: 37.86</br>housing_median_age: 21.0</br>total_bedrooms: 1106.0</br>population: 2401.0</br>households: 1138.0</br>median_income: 8.3014</br>ocean_proximity: NEAR BAY</br>_original_yhat_: 407689.22668987606</br>"
          ],
          [
           "</br>id: 0</br>prediction: 1613268.555</br>total_rooms: 31849.58</br></br>longitude: -122.22</br>latitude: 37.86</br>housing_median_age: 21.0</br>total_bedrooms: 1106.0</br>population: 2401.0</br>households: 1138.0</br>median_income: 8.3014</br>ocean_proximity: NEAR BAY</br>_original_yhat_: 407689.22668987606</br>"
          ],
          [
           "</br>id: 0</br>prediction: 1640023.385</br>total_rooms: 32242.760000000002</br></br>longitude: -122.22</br>latitude: 37.86</br>housing_median_age: 21.0</br>total_bedrooms: 1106.0</br>population: 2401.0</br>households: 1138.0</br>median_income: 8.3014</br>ocean_proximity: NEAR BAY</br>_original_yhat_: 407689.22668987606</br>"
          ],
          [
           "</br>id: 0</br>prediction: 1666778.216</br>total_rooms: 32635.940000000002</br></br>longitude: -122.22</br>latitude: 37.86</br>housing_median_age: 21.0</br>total_bedrooms: 1106.0</br>population: 2401.0</br>households: 1138.0</br>median_income: 8.3014</br>ocean_proximity: NEAR BAY</br>_original_yhat_: 407689.22668987606</br>"
          ],
          [
           "</br>id: 0</br>prediction: 1693533.046</br>total_rooms: 33029.12</br></br>longitude: -122.22</br>latitude: 37.86</br>housing_median_age: 21.0</br>total_bedrooms: 1106.0</br>population: 2401.0</br>households: 1138.0</br>median_income: 8.3014</br>ocean_proximity: NEAR BAY</br>_original_yhat_: 407689.22668987606</br>"
          ],
          [
           "</br>id: 0</br>prediction: 1720287.876</br>total_rooms: 33422.3</br></br>longitude: -122.22</br>latitude: 37.86</br>housing_median_age: 21.0</br>total_bedrooms: 1106.0</br>population: 2401.0</br>households: 1138.0</br>median_income: 8.3014</br>ocean_proximity: NEAR BAY</br>_original_yhat_: 407689.22668987606</br>"
          ],
          [
           "</br>id: 0</br>prediction: 1747042.706</br>total_rooms: 33815.48</br></br>longitude: -122.22</br>latitude: 37.86</br>housing_median_age: 21.0</br>total_bedrooms: 1106.0</br>population: 2401.0</br>households: 1138.0</br>median_income: 8.3014</br>ocean_proximity: NEAR BAY</br>_original_yhat_: 407689.22668987606</br>"
          ],
          [
           "</br>id: 0</br>prediction: 1773797.536</br>total_rooms: 34208.66</br></br>longitude: -122.22</br>latitude: 37.86</br>housing_median_age: 21.0</br>total_bedrooms: 1106.0</br>population: 2401.0</br>households: 1138.0</br>median_income: 8.3014</br>ocean_proximity: NEAR BAY</br>_original_yhat_: 407689.22668987606</br>"
          ],
          [
           "</br>id: 0</br>prediction: 1800552.366</br>total_rooms: 34601.840000000004</br></br>longitude: -122.22</br>latitude: 37.86</br>housing_median_age: 21.0</br>total_bedrooms: 1106.0</br>population: 2401.0</br>households: 1138.0</br>median_income: 8.3014</br>ocean_proximity: NEAR BAY</br>_original_yhat_: 407689.22668987606</br>"
          ],
          [
           "</br>id: 0</br>prediction: 1827307.197</br>total_rooms: 34995.020000000004</br></br>longitude: -122.22</br>latitude: 37.86</br>housing_median_age: 21.0</br>total_bedrooms: 1106.0</br>population: 2401.0</br>households: 1138.0</br>median_income: 8.3014</br>ocean_proximity: NEAR BAY</br>_original_yhat_: 407689.22668987606</br>"
          ],
          [
           "</br>id: 0</br>prediction: 1854062.027</br>total_rooms: 35388.2</br></br>longitude: -122.22</br>latitude: 37.86</br>housing_median_age: 21.0</br>total_bedrooms: 1106.0</br>population: 2401.0</br>households: 1138.0</br>median_income: 8.3014</br>ocean_proximity: NEAR BAY</br>_original_yhat_: 407689.22668987606</br>"
          ],
          [
           "</br>id: 0</br>prediction: 1880816.857</br>total_rooms: 35781.38</br></br>longitude: -122.22</br>latitude: 37.86</br>housing_median_age: 21.0</br>total_bedrooms: 1106.0</br>population: 2401.0</br>households: 1138.0</br>median_income: 8.3014</br>ocean_proximity: NEAR BAY</br>_original_yhat_: 407689.22668987606</br>"
          ],
          [
           "</br>id: 0</br>prediction: 1907571.687</br>total_rooms: 36174.56</br></br>longitude: -122.22</br>latitude: 37.86</br>housing_median_age: 21.0</br>total_bedrooms: 1106.0</br>population: 2401.0</br>households: 1138.0</br>median_income: 8.3014</br>ocean_proximity: NEAR BAY</br>_original_yhat_: 407689.22668987606</br>"
          ],
          [
           "</br>id: 0</br>prediction: 1934326.517</br>total_rooms: 36567.74</br></br>longitude: -122.22</br>latitude: 37.86</br>housing_median_age: 21.0</br>total_bedrooms: 1106.0</br>population: 2401.0</br>households: 1138.0</br>median_income: 8.3014</br>ocean_proximity: NEAR BAY</br>_original_yhat_: 407689.22668987606</br>"
          ],
          [
           "</br>id: 0</br>prediction: 1961081.347</br>total_rooms: 36960.92</br></br>longitude: -122.22</br>latitude: 37.86</br>housing_median_age: 21.0</br>total_bedrooms: 1106.0</br>population: 2401.0</br>households: 1138.0</br>median_income: 8.3014</br>ocean_proximity: NEAR BAY</br>_original_yhat_: 407689.22668987606</br>"
          ],
          [
           "</br>id: 0</br>prediction: 1987836.177</br>total_rooms: 37354.1</br></br>longitude: -122.22</br>latitude: 37.86</br>housing_median_age: 21.0</br>total_bedrooms: 1106.0</br>population: 2401.0</br>households: 1138.0</br>median_income: 8.3014</br>ocean_proximity: NEAR BAY</br>_original_yhat_: 407689.22668987606</br>"
          ],
          [
           "</br>id: 0</br>prediction: 2014591.008</br>total_rooms: 37747.28</br></br>longitude: -122.22</br>latitude: 37.86</br>housing_median_age: 21.0</br>total_bedrooms: 1106.0</br>population: 2401.0</br>households: 1138.0</br>median_income: 8.3014</br>ocean_proximity: NEAR BAY</br>_original_yhat_: 407689.22668987606</br>"
          ],
          [
           "</br>id: 0</br>prediction: 2041345.838</br>total_rooms: 38140.46</br></br>longitude: -122.22</br>latitude: 37.86</br>housing_median_age: 21.0</br>total_bedrooms: 1106.0</br>population: 2401.0</br>households: 1138.0</br>median_income: 8.3014</br>ocean_proximity: NEAR BAY</br>_original_yhat_: 407689.22668987606</br>"
          ],
          [
           "</br>id: 0</br>prediction: 2068100.668</br>total_rooms: 38533.64</br></br>longitude: -122.22</br>latitude: 37.86</br>housing_median_age: 21.0</br>total_bedrooms: 1106.0</br>population: 2401.0</br>households: 1138.0</br>median_income: 8.3014</br>ocean_proximity: NEAR BAY</br>_original_yhat_: 407689.22668987606</br>"
          ],
          [
           "</br>id: 0</br>prediction: 2094855.498</br>total_rooms: 38926.82</br></br>longitude: -122.22</br>latitude: 37.86</br>housing_median_age: 21.0</br>total_bedrooms: 1106.0</br>population: 2401.0</br>households: 1138.0</br>median_income: 8.3014</br>ocean_proximity: NEAR BAY</br>_original_yhat_: 407689.22668987606</br>"
          ],
          [
           "</br>id: 0</br>prediction: 2121610.328</br>total_rooms: 39320.0</br></br>longitude: -122.22</br>latitude: 37.86</br>housing_median_age: 21.0</br>total_bedrooms: 1106.0</br>population: 2401.0</br>households: 1138.0</br>median_income: 8.3014</br>ocean_proximity: NEAR BAY</br>_original_yhat_: 407689.22668987606</br>"
          ]
         ],
         "hovertemplate": "%{customdata[0]}<extra></extra>",
         "legendgroup": "MLP with onehot encoding",
         "line": {
          "color": "#4378bf",
          "dash": "solid",
          "width": 2
         },
         "marker": {
          "symbol": "circle"
         },
         "mode": "lines",
         "name": "MLP with onehot encoding",
         "opacity": 1,
         "orientation": "v",
         "showlegend": false,
         "type": "scatter",
         "x": [
          2,
          395.18,
          788.36,
          1181.54,
          1574.72,
          1967.9,
          2361.08,
          2754.26,
          3147.44,
          3540.62,
          3933.8,
          4326.9800000000005,
          4720.16,
          5113.34,
          5506.52,
          5899.7,
          6292.88,
          6686.06,
          7079.24,
          7099,
          7472.42,
          7865.6,
          8258.78,
          8651.960000000001,
          9045.14,
          9438.32,
          9831.5,
          10224.68,
          10617.86,
          11011.04,
          11404.22,
          11797.4,
          12190.58,
          12583.76,
          12976.94,
          13370.12,
          13763.300000000001,
          14156.48,
          14549.66,
          14942.84,
          15336.02,
          15729.2,
          16122.380000000001,
          16515.56,
          16908.74,
          17301.920000000002,
          17695.1,
          18088.28,
          18481.46,
          18874.64,
          19267.82,
          19661,
          20054.18,
          20447.36,
          20840.54,
          21233.72,
          21626.9,
          22020.08,
          22413.260000000002,
          22806.44,
          23199.62,
          23592.8,
          23985.98,
          24379.16,
          24772.34,
          25165.52,
          25558.7,
          25951.88,
          26345.06,
          26738.24,
          27131.420000000002,
          27524.600000000002,
          27917.78,
          28310.96,
          28704.14,
          29097.32,
          29490.5,
          29883.68,
          30276.86,
          30670.04,
          31063.22,
          31456.4,
          31849.58,
          32242.760000000002,
          32635.940000000002,
          33029.12,
          33422.3,
          33815.48,
          34208.66,
          34601.840000000004,
          34995.020000000004,
          35388.2,
          35781.38,
          36174.56,
          36567.74,
          36960.92,
          37354.1,
          37747.28,
          38140.46,
          38533.64,
          38926.82,
          39320
         ],
         "xaxis": "x2",
         "y": [
          710122.6897777547,
          651323.2175842539,
          592523.7453907529,
          533724.2731972523,
          462105.4252447848,
          392349.9773811566,
          390017.6661488811,
          403775.4472207916,
          410432.8187588478,
          397016.1146529771,
          387025.29512972856,
          391779.0976097635,
          397153.0265260559,
          400937.4477948039,
          404324.06485564006,
          407710.6819164758,
          404980.41877778433,
          403415.01625448454,
          407484.6972226326,
          407689.22668987594,
          411554.3781907815,
          415408.903485778,
          414998.3239193333,
          410785.3034195007,
          405402.034092286,
          400018.7647650712,
          394635.49543785676,
          389252.22611064184,
          383868.9567834268,
          378485.6874562113,
          373102.41812899656,
          367719.1488017818,
          362335.8794745673,
          357736.4167780223,
          367807.49361281376,
          385360.5574933698,
          402913.6213739266,
          420466.68525448296,
          438019.7491350388,
          462810.85888346424,
          489565.689033264,
          516320.5191830643,
          543075.3493328644,
          569830.1794826644,
          596585.0096324644,
          623339.8397822643,
          650094.6699320645,
          676849.5000818644,
          703604.3302316647,
          730359.1603814657,
          757113.9905312653,
          783868.8206810658,
          810623.6508308657,
          837378.480980665,
          864133.3111304664,
          890888.1412802662,
          917642.9714300664,
          944397.8015798657,
          971152.6317296656,
          997907.4618794664,
          1024662.292029266,
          1051417.1221790665,
          1078171.952328866,
          1104926.7824786666,
          1131681.6126284667,
          1158436.4427782667,
          1185191.272928067,
          1211946.103077867,
          1238700.933227667,
          1265455.7633774672,
          1292210.5935272682,
          1318965.4236770673,
          1345720.253826868,
          1372475.0839766685,
          1399229.9141264674,
          1425984.7442762682,
          1452739.5744260687,
          1479494.4045758683,
          1506249.234725669,
          1533004.0648754686,
          1559758.8950252694,
          1586513.7251750694,
          1613268.555324868,
          1640023.3854746693,
          1666778.2156244689,
          1693533.045774269,
          1720287.8759240701,
          1747042.7060738704,
          1773797.5362236693,
          1800552.3663734698,
          1827307.196523269,
          1854062.0266730688,
          1880816.8568228693,
          1907571.6869726698,
          1934326.5171224687,
          1961081.3472722692,
          1987836.1774220688,
          2014591.0075718693,
          2041345.8377216705,
          2068100.6678714703,
          2094855.49802127,
          2121610.32817107
         ],
         "yaxis": "y2"
        },
        {
         "customdata": [
          [
           "</br>id: 0</br>prediction: 440696.767</br>total_bedrooms: 1.0</br></br>longitude: -122.22</br>latitude: 37.86</br>housing_median_age: 21.0</br>total_rooms: 7099.0</br>population: 2401.0</br>households: 1138.0</br>median_income: 8.3014</br>ocean_proximity: NEAR BAY</br>_original_yhat_: 451020.9776472536</br>"
          ],
          [
           "</br>id: 0</br>prediction: 427069.512</br>total_bedrooms: 65.44</br></br>longitude: -122.22</br>latitude: 37.86</br>housing_median_age: 21.0</br>total_rooms: 7099.0</br>population: 2401.0</br>households: 1138.0</br>median_income: 8.3014</br>ocean_proximity: NEAR BAY</br>_original_yhat_: 451020.9776472536</br>"
          ],
          [
           "</br>id: 0</br>prediction: 423003.095</br>total_bedrooms: 129.88</br></br>longitude: -122.22</br>latitude: 37.86</br>housing_median_age: 21.0</br>total_rooms: 7099.0</br>population: 2401.0</br>households: 1138.0</br>median_income: 8.3014</br>ocean_proximity: NEAR BAY</br>_original_yhat_: 451020.9776472536</br>"
          ],
          [
           "</br>id: 0</br>prediction: 422660.295</br>total_bedrooms: 194.32</br></br>longitude: -122.22</br>latitude: 37.86</br>housing_median_age: 21.0</br>total_rooms: 7099.0</br>population: 2401.0</br>households: 1138.0</br>median_income: 8.3014</br>ocean_proximity: NEAR BAY</br>_original_yhat_: 451020.9776472536</br>"
          ],
          [
           "</br>id: 0</br>prediction: 423836.853</br>total_bedrooms: 258.76</br></br>longitude: -122.22</br>latitude: 37.86</br>housing_median_age: 21.0</br>total_rooms: 7099.0</br>population: 2401.0</br>households: 1138.0</br>median_income: 8.3014</br>ocean_proximity: NEAR BAY</br>_original_yhat_: 451020.9776472536</br>"
          ],
          [
           "</br>id: 0</br>prediction: 424803.242</br>total_bedrooms: 323.2</br></br>longitude: -122.22</br>latitude: 37.86</br>housing_median_age: 21.0</br>total_rooms: 7099.0</br>population: 2401.0</br>households: 1138.0</br>median_income: 8.3014</br>ocean_proximity: NEAR BAY</br>_original_yhat_: 451020.9776472536</br>"
          ],
          [
           "</br>id: 0</br>prediction: 425629.357</br>total_bedrooms: 387.64</br></br>longitude: -122.22</br>latitude: 37.86</br>housing_median_age: 21.0</br>total_rooms: 7099.0</br>population: 2401.0</br>households: 1138.0</br>median_income: 8.3014</br>ocean_proximity: NEAR BAY</br>_original_yhat_: 451020.9776472536</br>"
          ],
          [
           "</br>id: 0</br>prediction: 427541.69</br>total_bedrooms: 452.08</br></br>longitude: -122.22</br>latitude: 37.86</br>housing_median_age: 21.0</br>total_rooms: 7099.0</br>population: 2401.0</br>households: 1138.0</br>median_income: 8.3014</br>ocean_proximity: NEAR BAY</br>_original_yhat_: 451020.9776472536</br>"
          ],
          [
           "</br>id: 0</br>prediction: 430753.43</br>total_bedrooms: 516.52</br></br>longitude: -122.22</br>latitude: 37.86</br>housing_median_age: 21.0</br>total_rooms: 7099.0</br>population: 2401.0</br>households: 1138.0</br>median_income: 8.3014</br>ocean_proximity: NEAR BAY</br>_original_yhat_: 451020.9776472536</br>"
          ],
          [
           "</br>id: 0</br>prediction: 433666.252</br>total_bedrooms: 580.96</br></br>longitude: -122.22</br>latitude: 37.86</br>housing_median_age: 21.0</br>total_rooms: 7099.0</br>population: 2401.0</br>households: 1138.0</br>median_income: 8.3014</br>ocean_proximity: NEAR BAY</br>_original_yhat_: 451020.9776472536</br>"
          ],
          [
           "</br>id: 0</br>prediction: 436336.884</br>total_bedrooms: 645.4</br></br>longitude: -122.22</br>latitude: 37.86</br>housing_median_age: 21.0</br>total_rooms: 7099.0</br>population: 2401.0</br>households: 1138.0</br>median_income: 8.3014</br>ocean_proximity: NEAR BAY</br>_original_yhat_: 451020.9776472536</br>"
          ],
          [
           "</br>id: 0</br>prediction: 438806.849</br>total_bedrooms: 709.8399999999999</br></br>longitude: -122.22</br>latitude: 37.86</br>housing_median_age: 21.0</br>total_rooms: 7099.0</br>population: 2401.0</br>households: 1138.0</br>median_income: 8.3014</br>ocean_proximity: NEAR BAY</br>_original_yhat_: 451020.9776472536</br>"
          ],
          [
           "</br>id: 0</br>prediction: 441107.525</br>total_bedrooms: 774.28</br></br>longitude: -122.22</br>latitude: 37.86</br>housing_median_age: 21.0</br>total_rooms: 7099.0</br>population: 2401.0</br>households: 1138.0</br>median_income: 8.3014</br>ocean_proximity: NEAR BAY</br>_original_yhat_: 451020.9776472536</br>"
          ],
          [
           "</br>id: 0</br>prediction: 443263.24</br>total_bedrooms: 838.72</br></br>longitude: -122.22</br>latitude: 37.86</br>housing_median_age: 21.0</br>total_rooms: 7099.0</br>population: 2401.0</br>households: 1138.0</br>median_income: 8.3014</br>ocean_proximity: NEAR BAY</br>_original_yhat_: 451020.9776472536</br>"
          ],
          [
           "</br>id: 0</br>prediction: 445293.272</br>total_bedrooms: 903.16</br></br>longitude: -122.22</br>latitude: 37.86</br>housing_median_age: 21.0</br>total_rooms: 7099.0</br>population: 2401.0</br>households: 1138.0</br>median_income: 8.3014</br>ocean_proximity: NEAR BAY</br>_original_yhat_: 451020.9776472536</br>"
          ],
          [
           "</br>id: 0</br>prediction: 447213.169</br>total_bedrooms: 967.5999999999999</br></br>longitude: -122.22</br>latitude: 37.86</br>housing_median_age: 21.0</br>total_rooms: 7099.0</br>population: 2401.0</br>households: 1138.0</br>median_income: 8.3014</br>ocean_proximity: NEAR BAY</br>_original_yhat_: 451020.9776472536</br>"
          ],
          [
           "</br>id: 0</br>prediction: 449035.672</br>total_bedrooms: 1032.04</br></br>longitude: -122.22</br>latitude: 37.86</br>housing_median_age: 21.0</br>total_rooms: 7099.0</br>population: 2401.0</br>households: 1138.0</br>median_income: 8.3014</br>ocean_proximity: NEAR BAY</br>_original_yhat_: 451020.9776472536</br>"
          ],
          [
           "</br>id: 0</br>prediction: 450771.359</br>total_bedrooms: 1096.48</br></br>longitude: -122.22</br>latitude: 37.86</br>housing_median_age: 21.0</br>total_rooms: 7099.0</br>population: 2401.0</br>households: 1138.0</br>median_income: 8.3014</br>ocean_proximity: NEAR BAY</br>_original_yhat_: 451020.9776472536</br>"
          ],
          [
           "</br>id: 0</br>prediction: 451020.978</br>total_bedrooms: 1106.0</br></br>longitude: -122.22</br>latitude: 37.86</br>housing_median_age: 21.0</br>total_rooms: 7099.0</br>population: 2401.0</br>households: 1138.0</br>median_income: 8.3014</br>ocean_proximity: NEAR BAY</br>_original_yhat_: 451020.9776472536</br>"
          ],
          [
           "</br>id: 0</br>prediction: 452429.118</br>total_bedrooms: 1160.92</br></br>longitude: -122.22</br>latitude: 37.86</br>housing_median_age: 21.0</br>total_rooms: 7099.0</br>population: 2401.0</br>households: 1138.0</br>median_income: 8.3014</br>ocean_proximity: NEAR BAY</br>_original_yhat_: 451020.9776472536</br>"
          ],
          [
           "</br>id: 0</br>prediction: 454016.493</br>total_bedrooms: 1225.36</br></br>longitude: -122.22</br>latitude: 37.86</br>housing_median_age: 21.0</br>total_rooms: 7099.0</br>population: 2401.0</br>households: 1138.0</br>median_income: 8.3014</br>ocean_proximity: NEAR BAY</br>_original_yhat_: 451020.9776472536</br>"
          ],
          [
           "</br>id: 0</br>prediction: 455539.945</br>total_bedrooms: 1289.8</br></br>longitude: -122.22</br>latitude: 37.86</br>housing_median_age: 21.0</br>total_rooms: 7099.0</br>population: 2401.0</br>households: 1138.0</br>median_income: 8.3014</br>ocean_proximity: NEAR BAY</br>_original_yhat_: 451020.9776472536</br>"
          ],
          [
           "</br>id: 0</br>prediction: 457838.853</br>total_bedrooms: 1354.24</br></br>longitude: -122.22</br>latitude: 37.86</br>housing_median_age: 21.0</br>total_rooms: 7099.0</br>population: 2401.0</br>households: 1138.0</br>median_income: 8.3014</br>ocean_proximity: NEAR BAY</br>_original_yhat_: 451020.9776472536</br>"
          ],
          [
           "</br>id: 0</br>prediction: 463995.868</br>total_bedrooms: 1418.6799999999998</br></br>longitude: -122.22</br>latitude: 37.86</br>housing_median_age: 21.0</br>total_rooms: 7099.0</br>population: 2401.0</br>households: 1138.0</br>median_income: 8.3014</br>ocean_proximity: NEAR BAY</br>_original_yhat_: 451020.9776472536</br>"
          ],
          [
           "</br>id: 0</br>prediction: 469938.144</br>total_bedrooms: 1483.12</br></br>longitude: -122.22</br>latitude: 37.86</br>housing_median_age: 21.0</br>total_rooms: 7099.0</br>population: 2401.0</br>households: 1138.0</br>median_income: 8.3014</br>ocean_proximity: NEAR BAY</br>_original_yhat_: 451020.9776472536</br>"
          ],
          [
           "</br>id: 0</br>prediction: 475682.025</br>total_bedrooms: 1547.56</br></br>longitude: -122.22</br>latitude: 37.86</br>housing_median_age: 21.0</br>total_rooms: 7099.0</br>population: 2401.0</br>households: 1138.0</br>median_income: 8.3014</br>ocean_proximity: NEAR BAY</br>_original_yhat_: 451020.9776472536</br>"
          ],
          [
           "</br>id: 0</br>prediction: 481241.993</br>total_bedrooms: 1612.0</br></br>longitude: -122.22</br>latitude: 37.86</br>housing_median_age: 21.0</br>total_rooms: 7099.0</br>population: 2401.0</br>households: 1138.0</br>median_income: 8.3014</br>ocean_proximity: NEAR BAY</br>_original_yhat_: 451020.9776472536</br>"
          ],
          [
           "</br>id: 0</br>prediction: 486630.943</br>total_bedrooms: 1676.44</br></br>longitude: -122.22</br>latitude: 37.86</br>housing_median_age: 21.0</br>total_rooms: 7099.0</br>population: 2401.0</br>households: 1138.0</br>median_income: 8.3014</br>ocean_proximity: NEAR BAY</br>_original_yhat_: 451020.9776472536</br>"
          ],
          [
           "</br>id: 0</br>prediction: 491860.413</br>total_bedrooms: 1740.8799999999999</br></br>longitude: -122.22</br>latitude: 37.86</br>housing_median_age: 21.0</br>total_rooms: 7099.0</br>population: 2401.0</br>households: 1138.0</br>median_income: 8.3014</br>ocean_proximity: NEAR BAY</br>_original_yhat_: 451020.9776472536</br>"
          ],
          [
           "</br>id: 0</br>prediction: 496940.769</br>total_bedrooms: 1805.32</br></br>longitude: -122.22</br>latitude: 37.86</br>housing_median_age: 21.0</br>total_rooms: 7099.0</br>population: 2401.0</br>households: 1138.0</br>median_income: 8.3014</br>ocean_proximity: NEAR BAY</br>_original_yhat_: 451020.9776472536</br>"
          ],
          [
           "</br>id: 0</br>prediction: 501881.361</br>total_bedrooms: 1869.76</br></br>longitude: -122.22</br>latitude: 37.86</br>housing_median_age: 21.0</br>total_rooms: 7099.0</br>population: 2401.0</br>households: 1138.0</br>median_income: 8.3014</br>ocean_proximity: NEAR BAY</br>_original_yhat_: 451020.9776472536</br>"
          ],
          [
           "</br>id: 0</br>prediction: 506690.656</br>total_bedrooms: 1934.1999999999998</br></br>longitude: -122.22</br>latitude: 37.86</br>housing_median_age: 21.0</br>total_rooms: 7099.0</br>population: 2401.0</br>households: 1138.0</br>median_income: 8.3014</br>ocean_proximity: NEAR BAY</br>_original_yhat_: 451020.9776472536</br>"
          ],
          [
           "</br>id: 0</br>prediction: 511376.347</br>total_bedrooms: 1998.6399999999999</br></br>longitude: -122.22</br>latitude: 37.86</br>housing_median_age: 21.0</br>total_rooms: 7099.0</br>population: 2401.0</br>households: 1138.0</br>median_income: 8.3014</br>ocean_proximity: NEAR BAY</br>_original_yhat_: 451020.9776472536</br>"
          ],
          [
           "</br>id: 0</br>prediction: 515945.444</br>total_bedrooms: 2063.08</br></br>longitude: -122.22</br>latitude: 37.86</br>housing_median_age: 21.0</br>total_rooms: 7099.0</br>population: 2401.0</br>households: 1138.0</br>median_income: 8.3014</br>ocean_proximity: NEAR BAY</br>_original_yhat_: 451020.9776472536</br>"
          ],
          [
           "</br>id: 0</br>prediction: 520404.357</br>total_bedrooms: 2127.52</br></br>longitude: -122.22</br>latitude: 37.86</br>housing_median_age: 21.0</br>total_rooms: 7099.0</br>population: 2401.0</br>households: 1138.0</br>median_income: 8.3014</br>ocean_proximity: NEAR BAY</br>_original_yhat_: 451020.9776472536</br>"
          ],
          [
           "</br>id: 0</br>prediction: 524758.96</br>total_bedrooms: 2191.96</br></br>longitude: -122.22</br>latitude: 37.86</br>housing_median_age: 21.0</br>total_rooms: 7099.0</br>population: 2401.0</br>households: 1138.0</br>median_income: 8.3014</br>ocean_proximity: NEAR BAY</br>_original_yhat_: 451020.9776472536</br>"
          ],
          [
           "</br>id: 0</br>prediction: 529014.655</br>total_bedrooms: 2256.4</br></br>longitude: -122.22</br>latitude: 37.86</br>housing_median_age: 21.0</br>total_rooms: 7099.0</br>population: 2401.0</br>households: 1138.0</br>median_income: 8.3014</br>ocean_proximity: NEAR BAY</br>_original_yhat_: 451020.9776472536</br>"
          ],
          [
           "</br>id: 0</br>prediction: 533176.417</br>total_bedrooms: 2320.84</br></br>longitude: -122.22</br>latitude: 37.86</br>housing_median_age: 21.0</br>total_rooms: 7099.0</br>population: 2401.0</br>households: 1138.0</br>median_income: 8.3014</br>ocean_proximity: NEAR BAY</br>_original_yhat_: 451020.9776472536</br>"
          ],
          [
           "</br>id: 0</br>prediction: 537248.844</br>total_bedrooms: 2385.2799999999997</br></br>longitude: -122.22</br>latitude: 37.86</br>housing_median_age: 21.0</br>total_rooms: 7099.0</br>population: 2401.0</br>households: 1138.0</br>median_income: 8.3014</br>ocean_proximity: NEAR BAY</br>_original_yhat_: 451020.9776472536</br>"
          ],
          [
           "</br>id: 0</br>prediction: 541236.188</br>total_bedrooms: 2449.72</br></br>longitude: -122.22</br>latitude: 37.86</br>housing_median_age: 21.0</br>total_rooms: 7099.0</br>population: 2401.0</br>households: 1138.0</br>median_income: 8.3014</br>ocean_proximity: NEAR BAY</br>_original_yhat_: 451020.9776472536</br>"
          ],
          [
           "</br>id: 0</br>prediction: 545142.396</br>total_bedrooms: 2514.16</br></br>longitude: -122.22</br>latitude: 37.86</br>housing_median_age: 21.0</br>total_rooms: 7099.0</br>population: 2401.0</br>households: 1138.0</br>median_income: 8.3014</br>ocean_proximity: NEAR BAY</br>_original_yhat_: 451020.9776472536</br>"
          ],
          [
           "</br>id: 0</br>prediction: 548971.137</br>total_bedrooms: 2578.6</br></br>longitude: -122.22</br>latitude: 37.86</br>housing_median_age: 21.0</br>total_rooms: 7099.0</br>population: 2401.0</br>households: 1138.0</br>median_income: 8.3014</br>ocean_proximity: NEAR BAY</br>_original_yhat_: 451020.9776472536</br>"
          ],
          [
           "</br>id: 0</br>prediction: 552725.824</br>total_bedrooms: 2643.04</br></br>longitude: -122.22</br>latitude: 37.86</br>housing_median_age: 21.0</br>total_rooms: 7099.0</br>population: 2401.0</br>households: 1138.0</br>median_income: 8.3014</br>ocean_proximity: NEAR BAY</br>_original_yhat_: 451020.9776472536</br>"
          ],
          [
           "</br>id: 0</br>prediction: 556409.645</br>total_bedrooms: 2707.48</br></br>longitude: -122.22</br>latitude: 37.86</br>housing_median_age: 21.0</br>total_rooms: 7099.0</br>population: 2401.0</br>households: 1138.0</br>median_income: 8.3014</br>ocean_proximity: NEAR BAY</br>_original_yhat_: 451020.9776472536</br>"
          ],
          [
           "</br>id: 0</br>prediction: 560025.576</br>total_bedrooms: 2771.92</br></br>longitude: -122.22</br>latitude: 37.86</br>housing_median_age: 21.0</br>total_rooms: 7099.0</br>population: 2401.0</br>households: 1138.0</br>median_income: 8.3014</br>ocean_proximity: NEAR BAY</br>_original_yhat_: 451020.9776472536</br>"
          ],
          [
           "</br>id: 0</br>prediction: 563576.403</br>total_bedrooms: 2836.3599999999997</br></br>longitude: -122.22</br>latitude: 37.86</br>housing_median_age: 21.0</br>total_rooms: 7099.0</br>population: 2401.0</br>households: 1138.0</br>median_income: 8.3014</br>ocean_proximity: NEAR BAY</br>_original_yhat_: 451020.9776472536</br>"
          ],
          [
           "</br>id: 0</br>prediction: 567064.738</br>total_bedrooms: 2900.7999999999997</br></br>longitude: -122.22</br>latitude: 37.86</br>housing_median_age: 21.0</br>total_rooms: 7099.0</br>population: 2401.0</br>households: 1138.0</br>median_income: 8.3014</br>ocean_proximity: NEAR BAY</br>_original_yhat_: 451020.9776472536</br>"
          ],
          [
           "</br>id: 0</br>prediction: 570493.032</br>total_bedrooms: 2965.24</br></br>longitude: -122.22</br>latitude: 37.86</br>housing_median_age: 21.0</br>total_rooms: 7099.0</br>population: 2401.0</br>households: 1138.0</br>median_income: 8.3014</br>ocean_proximity: NEAR BAY</br>_original_yhat_: 451020.9776472536</br>"
          ],
          [
           "</br>id: 0</br>prediction: 573863.591</br>total_bedrooms: 3029.68</br></br>longitude: -122.22</br>latitude: 37.86</br>housing_median_age: 21.0</br>total_rooms: 7099.0</br>population: 2401.0</br>households: 1138.0</br>median_income: 8.3014</br>ocean_proximity: NEAR BAY</br>_original_yhat_: 451020.9776472536</br>"
          ],
          [
           "</br>id: 0</br>prediction: 577178.583</br>total_bedrooms: 3094.12</br></br>longitude: -122.22</br>latitude: 37.86</br>housing_median_age: 21.0</br>total_rooms: 7099.0</br>population: 2401.0</br>households: 1138.0</br>median_income: 8.3014</br>ocean_proximity: NEAR BAY</br>_original_yhat_: 451020.9776472536</br>"
          ],
          [
           "</br>id: 0</br>prediction: 580440.054</br>total_bedrooms: 3158.56</br></br>longitude: -122.22</br>latitude: 37.86</br>housing_median_age: 21.0</br>total_rooms: 7099.0</br>population: 2401.0</br>households: 1138.0</br>median_income: 8.3014</br>ocean_proximity: NEAR BAY</br>_original_yhat_: 451020.9776472536</br>"
          ],
          [
           "</br>id: 0</br>prediction: 583649.933</br>total_bedrooms: 3223.0</br></br>longitude: -122.22</br>latitude: 37.86</br>housing_median_age: 21.0</br>total_rooms: 7099.0</br>population: 2401.0</br>households: 1138.0</br>median_income: 8.3014</br>ocean_proximity: NEAR BAY</br>_original_yhat_: 451020.9776472536</br>"
          ],
          [
           "</br>id: 0</br>prediction: 586810.043</br>total_bedrooms: 3287.44</br></br>longitude: -122.22</br>latitude: 37.86</br>housing_median_age: 21.0</br>total_rooms: 7099.0</br>population: 2401.0</br>households: 1138.0</br>median_income: 8.3014</br>ocean_proximity: NEAR BAY</br>_original_yhat_: 451020.9776472536</br>"
          ],
          [
           "</br>id: 0</br>prediction: 589922.11</br>total_bedrooms: 3351.88</br></br>longitude: -122.22</br>latitude: 37.86</br>housing_median_age: 21.0</br>total_rooms: 7099.0</br>population: 2401.0</br>households: 1138.0</br>median_income: 8.3014</br>ocean_proximity: NEAR BAY</br>_original_yhat_: 451020.9776472536</br>"
          ],
          [
           "</br>id: 0</br>prediction: 592987.766</br>total_bedrooms: 3416.3199999999997</br></br>longitude: -122.22</br>latitude: 37.86</br>housing_median_age: 21.0</br>total_rooms: 7099.0</br>population: 2401.0</br>households: 1138.0</br>median_income: 8.3014</br>ocean_proximity: NEAR BAY</br>_original_yhat_: 451020.9776472536</br>"
          ],
          [
           "</br>id: 0</br>prediction: 596008.559</br>total_bedrooms: 3480.7599999999998</br></br>longitude: -122.22</br>latitude: 37.86</br>housing_median_age: 21.0</br>total_rooms: 7099.0</br>population: 2401.0</br>households: 1138.0</br>median_income: 8.3014</br>ocean_proximity: NEAR BAY</br>_original_yhat_: 451020.9776472536</br>"
          ],
          [
           "</br>id: 0</br>prediction: 598985.959</br>total_bedrooms: 3545.2</br></br>longitude: -122.22</br>latitude: 37.86</br>housing_median_age: 21.0</br>total_rooms: 7099.0</br>population: 2401.0</br>households: 1138.0</br>median_income: 8.3014</br>ocean_proximity: NEAR BAY</br>_original_yhat_: 451020.9776472536</br>"
          ],
          [
           "</br>id: 0</br>prediction: 601921.36</br>total_bedrooms: 3609.64</br></br>longitude: -122.22</br>latitude: 37.86</br>housing_median_age: 21.0</br>total_rooms: 7099.0</br>population: 2401.0</br>households: 1138.0</br>median_income: 8.3014</br>ocean_proximity: NEAR BAY</br>_original_yhat_: 451020.9776472536</br>"
          ],
          [
           "</br>id: 0</br>prediction: 604816.089</br>total_bedrooms: 3674.08</br></br>longitude: -122.22</br>latitude: 37.86</br>housing_median_age: 21.0</br>total_rooms: 7099.0</br>population: 2401.0</br>households: 1138.0</br>median_income: 8.3014</br>ocean_proximity: NEAR BAY</br>_original_yhat_: 451020.9776472536</br>"
          ],
          [
           "</br>id: 0</br>prediction: 607671.407</br>total_bedrooms: 3738.52</br></br>longitude: -122.22</br>latitude: 37.86</br>housing_median_age: 21.0</br>total_rooms: 7099.0</br>population: 2401.0</br>households: 1138.0</br>median_income: 8.3014</br>ocean_proximity: NEAR BAY</br>_original_yhat_: 451020.9776472536</br>"
          ],
          [
           "</br>id: 0</br>prediction: 610488.518</br>total_bedrooms: 3802.96</br></br>longitude: -122.22</br>latitude: 37.86</br>housing_median_age: 21.0</br>total_rooms: 7099.0</br>population: 2401.0</br>households: 1138.0</br>median_income: 8.3014</br>ocean_proximity: NEAR BAY</br>_original_yhat_: 451020.9776472536</br>"
          ],
          [
           "</br>id: 0</br>prediction: 613268.566</br>total_bedrooms: 3867.3999999999996</br></br>longitude: -122.22</br>latitude: 37.86</br>housing_median_age: 21.0</br>total_rooms: 7099.0</br>population: 2401.0</br>households: 1138.0</br>median_income: 8.3014</br>ocean_proximity: NEAR BAY</br>_original_yhat_: 451020.9776472536</br>"
          ],
          [
           "</br>id: 0</br>prediction: 616012.645</br>total_bedrooms: 3931.8399999999997</br></br>longitude: -122.22</br>latitude: 37.86</br>housing_median_age: 21.0</br>total_rooms: 7099.0</br>population: 2401.0</br>households: 1138.0</br>median_income: 8.3014</br>ocean_proximity: NEAR BAY</br>_original_yhat_: 451020.9776472536</br>"
          ],
          [
           "</br>id: 0</br>prediction: 618721.798</br>total_bedrooms: 3996.2799999999997</br></br>longitude: -122.22</br>latitude: 37.86</br>housing_median_age: 21.0</br>total_rooms: 7099.0</br>population: 2401.0</br>households: 1138.0</br>median_income: 8.3014</br>ocean_proximity: NEAR BAY</br>_original_yhat_: 451020.9776472536</br>"
          ],
          [
           "</br>id: 0</br>prediction: 621397.022</br>total_bedrooms: 4060.72</br></br>longitude: -122.22</br>latitude: 37.86</br>housing_median_age: 21.0</br>total_rooms: 7099.0</br>population: 2401.0</br>households: 1138.0</br>median_income: 8.3014</br>ocean_proximity: NEAR BAY</br>_original_yhat_: 451020.9776472536</br>"
          ],
          [
           "</br>id: 0</br>prediction: 624039.27</br>total_bedrooms: 4125.16</br></br>longitude: -122.22</br>latitude: 37.86</br>housing_median_age: 21.0</br>total_rooms: 7099.0</br>population: 2401.0</br>households: 1138.0</br>median_income: 8.3014</br>ocean_proximity: NEAR BAY</br>_original_yhat_: 451020.9776472536</br>"
          ],
          [
           "</br>id: 0</br>prediction: 626649.455</br>total_bedrooms: 4189.599999999999</br></br>longitude: -122.22</br>latitude: 37.86</br>housing_median_age: 21.0</br>total_rooms: 7099.0</br>population: 2401.0</br>households: 1138.0</br>median_income: 8.3014</br>ocean_proximity: NEAR BAY</br>_original_yhat_: 451020.9776472536</br>"
          ],
          [
           "</br>id: 0</br>prediction: 629228.449</br>total_bedrooms: 4254.04</br></br>longitude: -122.22</br>latitude: 37.86</br>housing_median_age: 21.0</br>total_rooms: 7099.0</br>population: 2401.0</br>households: 1138.0</br>median_income: 8.3014</br>ocean_proximity: NEAR BAY</br>_original_yhat_: 451020.9776472536</br>"
          ],
          [
           "</br>id: 0</br>prediction: 631777.09</br>total_bedrooms: 4318.48</br></br>longitude: -122.22</br>latitude: 37.86</br>housing_median_age: 21.0</br>total_rooms: 7099.0</br>population: 2401.0</br>households: 1138.0</br>median_income: 8.3014</br>ocean_proximity: NEAR BAY</br>_original_yhat_: 451020.9776472536</br>"
          ],
          [
           "</br>id: 0</br>prediction: 634296.179</br>total_bedrooms: 4382.92</br></br>longitude: -122.22</br>latitude: 37.86</br>housing_median_age: 21.0</br>total_rooms: 7099.0</br>population: 2401.0</br>households: 1138.0</br>median_income: 8.3014</br>ocean_proximity: NEAR BAY</br>_original_yhat_: 451020.9776472536</br>"
          ],
          [
           "</br>id: 0</br>prediction: 636786.487</br>total_bedrooms: 4447.36</br></br>longitude: -122.22</br>latitude: 37.86</br>housing_median_age: 21.0</br>total_rooms: 7099.0</br>population: 2401.0</br>households: 1138.0</br>median_income: 8.3014</br>ocean_proximity: NEAR BAY</br>_original_yhat_: 451020.9776472536</br>"
          ],
          [
           "</br>id: 0</br>prediction: 639248.751</br>total_bedrooms: 4511.8</br></br>longitude: -122.22</br>latitude: 37.86</br>housing_median_age: 21.0</br>total_rooms: 7099.0</br>population: 2401.0</br>households: 1138.0</br>median_income: 8.3014</br>ocean_proximity: NEAR BAY</br>_original_yhat_: 451020.9776472536</br>"
          ],
          [
           "</br>id: 0</br>prediction: 641683.682</br>total_bedrooms: 4576.24</br></br>longitude: -122.22</br>latitude: 37.86</br>housing_median_age: 21.0</br>total_rooms: 7099.0</br>population: 2401.0</br>households: 1138.0</br>median_income: 8.3014</br>ocean_proximity: NEAR BAY</br>_original_yhat_: 451020.9776472536</br>"
          ],
          [
           "</br>id: 0</br>prediction: 644091.961</br>total_bedrooms: 4640.68</br></br>longitude: -122.22</br>latitude: 37.86</br>housing_median_age: 21.0</br>total_rooms: 7099.0</br>population: 2401.0</br>households: 1138.0</br>median_income: 8.3014</br>ocean_proximity: NEAR BAY</br>_original_yhat_: 451020.9776472536</br>"
          ],
          [
           "</br>id: 0</br>prediction: 646474.244</br>total_bedrooms: 4705.12</br></br>longitude: -122.22</br>latitude: 37.86</br>housing_median_age: 21.0</br>total_rooms: 7099.0</br>population: 2401.0</br>households: 1138.0</br>median_income: 8.3014</br>ocean_proximity: NEAR BAY</br>_original_yhat_: 451020.9776472536</br>"
          ],
          [
           "</br>id: 0</br>prediction: 648831.162</br>total_bedrooms: 4769.5599999999995</br></br>longitude: -122.22</br>latitude: 37.86</br>housing_median_age: 21.0</br>total_rooms: 7099.0</br>population: 2401.0</br>households: 1138.0</br>median_income: 8.3014</br>ocean_proximity: NEAR BAY</br>_original_yhat_: 451020.9776472536</br>"
          ],
          [
           "</br>id: 0</br>prediction: 651163.323</br>total_bedrooms: 4834.0</br></br>longitude: -122.22</br>latitude: 37.86</br>housing_median_age: 21.0</br>total_rooms: 7099.0</br>population: 2401.0</br>households: 1138.0</br>median_income: 8.3014</br>ocean_proximity: NEAR BAY</br>_original_yhat_: 451020.9776472536</br>"
          ],
          [
           "</br>id: 0</br>prediction: 653471.31</br>total_bedrooms: 4898.44</br></br>longitude: -122.22</br>latitude: 37.86</br>housing_median_age: 21.0</br>total_rooms: 7099.0</br>population: 2401.0</br>households: 1138.0</br>median_income: 8.3014</br>ocean_proximity: NEAR BAY</br>_original_yhat_: 451020.9776472536</br>"
          ],
          [
           "</br>id: 0</br>prediction: 655755.689</br>total_bedrooms: 4962.88</br></br>longitude: -122.22</br>latitude: 37.86</br>housing_median_age: 21.0</br>total_rooms: 7099.0</br>population: 2401.0</br>households: 1138.0</br>median_income: 8.3014</br>ocean_proximity: NEAR BAY</br>_original_yhat_: 451020.9776472536</br>"
          ],
          [
           "</br>id: 0</br>prediction: 658017.001</br>total_bedrooms: 5027.32</br></br>longitude: -122.22</br>latitude: 37.86</br>housing_median_age: 21.0</br>total_rooms: 7099.0</br>population: 2401.0</br>households: 1138.0</br>median_income: 8.3014</br>ocean_proximity: NEAR BAY</br>_original_yhat_: 451020.9776472536</br>"
          ],
          [
           "</br>id: 0</br>prediction: 660255.772</br>total_bedrooms: 5091.76</br></br>longitude: -122.22</br>latitude: 37.86</br>housing_median_age: 21.0</br>total_rooms: 7099.0</br>population: 2401.0</br>households: 1138.0</br>median_income: 8.3014</br>ocean_proximity: NEAR BAY</br>_original_yhat_: 451020.9776472536</br>"
          ],
          [
           "</br>id: 0</br>prediction: 662472.506</br>total_bedrooms: 5156.2</br></br>longitude: -122.22</br>latitude: 37.86</br>housing_median_age: 21.0</br>total_rooms: 7099.0</br>population: 2401.0</br>households: 1138.0</br>median_income: 8.3014</br>ocean_proximity: NEAR BAY</br>_original_yhat_: 451020.9776472536</br>"
          ],
          [
           "</br>id: 0</br>prediction: 664667.692</br>total_bedrooms: 5220.639999999999</br></br>longitude: -122.22</br>latitude: 37.86</br>housing_median_age: 21.0</br>total_rooms: 7099.0</br>population: 2401.0</br>households: 1138.0</br>median_income: 8.3014</br>ocean_proximity: NEAR BAY</br>_original_yhat_: 451020.9776472536</br>"
          ],
          [
           "</br>id: 0</br>prediction: 666841.803</br>total_bedrooms: 5285.08</br></br>longitude: -122.22</br>latitude: 37.86</br>housing_median_age: 21.0</br>total_rooms: 7099.0</br>population: 2401.0</br>households: 1138.0</br>median_income: 8.3014</br>ocean_proximity: NEAR BAY</br>_original_yhat_: 451020.9776472536</br>"
          ],
          [
           "</br>id: 0</br>prediction: 668995.292</br>total_bedrooms: 5349.5199999999995</br></br>longitude: -122.22</br>latitude: 37.86</br>housing_median_age: 21.0</br>total_rooms: 7099.0</br>population: 2401.0</br>households: 1138.0</br>median_income: 8.3014</br>ocean_proximity: NEAR BAY</br>_original_yhat_: 451020.9776472536</br>"
          ],
          [
           "</br>id: 0</br>prediction: 671128.601</br>total_bedrooms: 5413.96</br></br>longitude: -122.22</br>latitude: 37.86</br>housing_median_age: 21.0</br>total_rooms: 7099.0</br>population: 2401.0</br>households: 1138.0</br>median_income: 8.3014</br>ocean_proximity: NEAR BAY</br>_original_yhat_: 451020.9776472536</br>"
          ],
          [
           "</br>id: 0</br>prediction: 673242.156</br>total_bedrooms: 5478.4</br></br>longitude: -122.22</br>latitude: 37.86</br>housing_median_age: 21.0</br>total_rooms: 7099.0</br>population: 2401.0</br>households: 1138.0</br>median_income: 8.3014</br>ocean_proximity: NEAR BAY</br>_original_yhat_: 451020.9776472536</br>"
          ],
          [
           "</br>id: 0</br>prediction: 675336.368</br>total_bedrooms: 5542.84</br></br>longitude: -122.22</br>latitude: 37.86</br>housing_median_age: 21.0</br>total_rooms: 7099.0</br>population: 2401.0</br>households: 1138.0</br>median_income: 8.3014</br>ocean_proximity: NEAR BAY</br>_original_yhat_: 451020.9776472536</br>"
          ],
          [
           "</br>id: 0</br>prediction: 677411.637</br>total_bedrooms: 5607.28</br></br>longitude: -122.22</br>latitude: 37.86</br>housing_median_age: 21.0</br>total_rooms: 7099.0</br>population: 2401.0</br>households: 1138.0</br>median_income: 8.3014</br>ocean_proximity: NEAR BAY</br>_original_yhat_: 451020.9776472536</br>"
          ],
          [
           "</br>id: 0</br>prediction: 679468.349</br>total_bedrooms: 5671.719999999999</br></br>longitude: -122.22</br>latitude: 37.86</br>housing_median_age: 21.0</br>total_rooms: 7099.0</br>population: 2401.0</br>households: 1138.0</br>median_income: 8.3014</br>ocean_proximity: NEAR BAY</br>_original_yhat_: 451020.9776472536</br>"
          ],
          [
           "</br>id: 0</br>prediction: 681506.877</br>total_bedrooms: 5736.16</br></br>longitude: -122.22</br>latitude: 37.86</br>housing_median_age: 21.0</br>total_rooms: 7099.0</br>population: 2401.0</br>households: 1138.0</br>median_income: 8.3014</br>ocean_proximity: NEAR BAY</br>_original_yhat_: 451020.9776472536</br>"
          ],
          [
           "</br>id: 0</br>prediction: 683527.584</br>total_bedrooms: 5800.599999999999</br></br>longitude: -122.22</br>latitude: 37.86</br>housing_median_age: 21.0</br>total_rooms: 7099.0</br>population: 2401.0</br>households: 1138.0</br>median_income: 8.3014</br>ocean_proximity: NEAR BAY</br>_original_yhat_: 451020.9776472536</br>"
          ],
          [
           "</br>id: 0</br>prediction: 685530.821</br>total_bedrooms: 5865.04</br></br>longitude: -122.22</br>latitude: 37.86</br>housing_median_age: 21.0</br>total_rooms: 7099.0</br>population: 2401.0</br>households: 1138.0</br>median_income: 8.3014</br>ocean_proximity: NEAR BAY</br>_original_yhat_: 451020.9776472536</br>"
          ],
          [
           "</br>id: 0</br>prediction: 687516.928</br>total_bedrooms: 5929.48</br></br>longitude: -122.22</br>latitude: 37.86</br>housing_median_age: 21.0</br>total_rooms: 7099.0</br>population: 2401.0</br>households: 1138.0</br>median_income: 8.3014</br>ocean_proximity: NEAR BAY</br>_original_yhat_: 451020.9776472536</br>"
          ],
          [
           "</br>id: 0</br>prediction: 689486.236</br>total_bedrooms: 5993.92</br></br>longitude: -122.22</br>latitude: 37.86</br>housing_median_age: 21.0</br>total_rooms: 7099.0</br>population: 2401.0</br>households: 1138.0</br>median_income: 8.3014</br>ocean_proximity: NEAR BAY</br>_original_yhat_: 451020.9776472536</br>"
          ],
          [
           "</br>id: 0</br>prediction: 691439.065</br>total_bedrooms: 6058.36</br></br>longitude: -122.22</br>latitude: 37.86</br>housing_median_age: 21.0</br>total_rooms: 7099.0</br>population: 2401.0</br>households: 1138.0</br>median_income: 8.3014</br>ocean_proximity: NEAR BAY</br>_original_yhat_: 451020.9776472536</br>"
          ],
          [
           "</br>id: 0</br>prediction: 693375.727</br>total_bedrooms: 6122.8</br></br>longitude: -122.22</br>latitude: 37.86</br>housing_median_age: 21.0</br>total_rooms: 7099.0</br>population: 2401.0</br>households: 1138.0</br>median_income: 8.3014</br>ocean_proximity: NEAR BAY</br>_original_yhat_: 451020.9776472536</br>"
          ],
          [
           "</br>id: 0</br>prediction: 695296.522</br>total_bedrooms: 6187.24</br></br>longitude: -122.22</br>latitude: 37.86</br>housing_median_age: 21.0</br>total_rooms: 7099.0</br>population: 2401.0</br>households: 1138.0</br>median_income: 8.3014</br>ocean_proximity: NEAR BAY</br>_original_yhat_: 451020.9776472536</br>"
          ],
          [
           "</br>id: 0</br>prediction: 697201.745</br>total_bedrooms: 6251.679999999999</br></br>longitude: -122.22</br>latitude: 37.86</br>housing_median_age: 21.0</br>total_rooms: 7099.0</br>population: 2401.0</br>households: 1138.0</br>median_income: 8.3014</br>ocean_proximity: NEAR BAY</br>_original_yhat_: 451020.9776472536</br>"
          ],
          [
           "</br>id: 0</br>prediction: 699091.679</br>total_bedrooms: 6316.12</br></br>longitude: -122.22</br>latitude: 37.86</br>housing_median_age: 21.0</br>total_rooms: 7099.0</br>population: 2401.0</br>households: 1138.0</br>median_income: 8.3014</br>ocean_proximity: NEAR BAY</br>_original_yhat_: 451020.9776472536</br>"
          ],
          [
           "</br>id: 0</br>prediction: 700966.602</br>total_bedrooms: 6380.5599999999995</br></br>longitude: -122.22</br>latitude: 37.86</br>housing_median_age: 21.0</br>total_rooms: 7099.0</br>population: 2401.0</br>households: 1138.0</br>median_income: 8.3014</br>ocean_proximity: NEAR BAY</br>_original_yhat_: 451020.9776472536</br>"
          ],
          [
           "</br>id: 0</br>prediction: 702826.783</br>total_bedrooms: 6445.0</br></br>longitude: -122.22</br>latitude: 37.86</br>housing_median_age: 21.0</br>total_rooms: 7099.0</br>population: 2401.0</br>households: 1138.0</br>median_income: 8.3014</br>ocean_proximity: NEAR BAY</br>_original_yhat_: 451020.9776472536</br>"
          ]
         ],
         "hovertemplate": "%{customdata[0]}<extra></extra>",
         "legendgroup": "MLP with onehot encoding and power transformaiton",
         "line": {
          "color": "#ffa58c",
          "dash": "solid",
          "width": 2
         },
         "marker": {
          "symbol": "circle"
         },
         "mode": "lines",
         "name": "MLP with onehot encoding and power transformaiton",
         "opacity": 1,
         "orientation": "v",
         "showlegend": true,
         "type": "scatter",
         "x": [
          1,
          65.44,
          129.88,
          194.32,
          258.76,
          323.2,
          387.64,
          452.08,
          516.52,
          580.96,
          645.4,
          709.8399999999999,
          774.28,
          838.72,
          903.16,
          967.5999999999999,
          1032.04,
          1096.48,
          1106,
          1160.92,
          1225.36,
          1289.8,
          1354.24,
          1418.6799999999998,
          1483.12,
          1547.56,
          1612,
          1676.44,
          1740.8799999999999,
          1805.32,
          1869.76,
          1934.1999999999998,
          1998.6399999999999,
          2063.08,
          2127.52,
          2191.96,
          2256.4,
          2320.84,
          2385.2799999999997,
          2449.72,
          2514.16,
          2578.6,
          2643.04,
          2707.48,
          2771.92,
          2836.3599999999997,
          2900.7999999999997,
          2965.24,
          3029.68,
          3094.12,
          3158.56,
          3223,
          3287.44,
          3351.88,
          3416.3199999999997,
          3480.7599999999998,
          3545.2,
          3609.64,
          3674.08,
          3738.52,
          3802.96,
          3867.3999999999996,
          3931.8399999999997,
          3996.2799999999997,
          4060.72,
          4125.16,
          4189.599999999999,
          4254.04,
          4318.48,
          4382.92,
          4447.36,
          4511.8,
          4576.24,
          4640.68,
          4705.12,
          4769.5599999999995,
          4834,
          4898.44,
          4962.88,
          5027.32,
          5091.76,
          5156.2,
          5220.639999999999,
          5285.08,
          5349.5199999999995,
          5413.96,
          5478.4,
          5542.84,
          5607.28,
          5671.719999999999,
          5736.16,
          5800.599999999999,
          5865.04,
          5929.48,
          5993.92,
          6058.36,
          6122.8,
          6187.24,
          6251.679999999999,
          6316.12,
          6380.5599999999995,
          6445
         ],
         "xaxis": "x",
         "y": [
          440696.76706172846,
          427069.51164757257,
          423003.09516251466,
          422660.29480811645,
          423836.85310850135,
          424803.24205287424,
          425629.35701264243,
          427541.690161606,
          430753.4300950289,
          433666.25209530146,
          436336.8840074904,
          438806.84946072806,
          441107.52489924635,
          443263.2404876105,
          445293.2717864286,
          447213.1687862236,
          449035.6716346208,
          450771.3590324226,
          451020.97764725366,
          452429.1182624672,
          454016.4929689293,
          455539.94515886146,
          457838.8530664351,
          463995.8677421525,
          469938.1437320608,
          475682.0251487649,
          481241.9931895583,
          486630.94348672626,
          491860.4132175125,
          496940.76857750106,
          501881.3606881853,
          506690.6561472518,
          511376.3470447476,
          515945.44422638864,
          520404.3567936659,
          524758.9602232875,
          529014.6550187443,
          533176.4174403159,
          537248.8435717209,
          541236.1877534584,
          545142.3962309678,
          548971.1367197532,
          552725.8244717505,
          556409.6453315134,
          560025.5761926429,
          563576.403200764,
          567064.7379964546,
          570493.0322477093,
          573863.5906850451,
          577178.5828218681,
          580440.0535171332,
          583649.9325157747,
          586810.0430841597,
          589922.1098423403,
          592987.7658817194,
          596008.5592454867,
          598985.958839539,
          601921.3598333114,
          604816.0886028067,
          607671.4072619195,
          610488.5178228181,
          613268.5660214772,
          616012.64484041,
          618721.7977571124,
          621397.0217436256,
          624039.2700399084,
          626649.4547213304,
          629228.4490784734,
          631777.0898255912,
          634296.1791524165,
          636786.4866325585,
          639248.7510004335,
          641683.6818075252,
          644091.9609677482,
          646474.2442007591,
          648831.1623812647,
          651163.322801623,
          653471.3103543874,
          655755.6886408508,
          658017.0010111188,
          660255.7715407573,
          662472.505948634,
          664667.6924601821,
          666841.8026199623,
          668995.2920570782,
          671128.6012067166,
          673242.1559908132,
          675336.3684606153,
          677411.637403687,
          679468.348917712,
          681506.876953261,
          683527.5838275367,
          685530.8207109452,
          687516.928088218,
          689486.2361956744,
          691439.0654361023,
          693375.7267726244,
          695296.5221028292,
          697201.7446143443,
          699091.6791229593,
          700966.6023943154,
          702826.7834501287
         ],
         "yaxis": "y"
        },
        {
         "customdata": [
          [
           "</br>id: 0</br>prediction: 718231.608</br>total_rooms: 2.0</br></br>longitude: -122.22</br>latitude: 37.86</br>housing_median_age: 21.0</br>total_bedrooms: 1106.0</br>population: 2401.0</br>households: 1138.0</br>median_income: 8.3014</br>ocean_proximity: NEAR BAY</br>_original_yhat_: 451020.9776472536</br>"
          ],
          [
           "</br>id: 0</br>prediction: 550562.443</br>total_rooms: 395.18</br></br>longitude: -122.22</br>latitude: 37.86</br>housing_median_age: 21.0</br>total_bedrooms: 1106.0</br>population: 2401.0</br>households: 1138.0</br>median_income: 8.3014</br>ocean_proximity: NEAR BAY</br>_original_yhat_: 451020.9776472536</br>"
          ],
          [
           "</br>id: 0</br>prediction: 512541.719</br>total_rooms: 788.36</br></br>longitude: -122.22</br>latitude: 37.86</br>housing_median_age: 21.0</br>total_bedrooms: 1106.0</br>population: 2401.0</br>households: 1138.0</br>median_income: 8.3014</br>ocean_proximity: NEAR BAY</br>_original_yhat_: 451020.9776472536</br>"
          ],
          [
           "</br>id: 0</br>prediction: 500439.382</br>total_rooms: 1181.54</br></br>longitude: -122.22</br>latitude: 37.86</br>housing_median_age: 21.0</br>total_bedrooms: 1106.0</br>population: 2401.0</br>households: 1138.0</br>median_income: 8.3014</br>ocean_proximity: NEAR BAY</br>_original_yhat_: 451020.9776472536</br>"
          ],
          [
           "</br>id: 0</br>prediction: 491169.509</br>total_rooms: 1574.72</br></br>longitude: -122.22</br>latitude: 37.86</br>housing_median_age: 21.0</br>total_bedrooms: 1106.0</br>population: 2401.0</br>households: 1138.0</br>median_income: 8.3014</br>ocean_proximity: NEAR BAY</br>_original_yhat_: 451020.9776472536</br>"
          ],
          [
           "</br>id: 0</br>prediction: 483562.586</br>total_rooms: 1967.9</br></br>longitude: -122.22</br>latitude: 37.86</br>housing_median_age: 21.0</br>total_bedrooms: 1106.0</br>population: 2401.0</br>households: 1138.0</br>median_income: 8.3014</br>ocean_proximity: NEAR BAY</br>_original_yhat_: 451020.9776472536</br>"
          ],
          [
           "</br>id: 0</br>prediction: 477063.365</br>total_rooms: 2361.08</br></br>longitude: -122.22</br>latitude: 37.86</br>housing_median_age: 21.0</br>total_bedrooms: 1106.0</br>population: 2401.0</br>households: 1138.0</br>median_income: 8.3014</br>ocean_proximity: NEAR BAY</br>_original_yhat_: 451020.9776472536</br>"
          ],
          [
           "</br>id: 0</br>prediction: 471360.996</br>total_rooms: 2754.26</br></br>longitude: -122.22</br>latitude: 37.86</br>housing_median_age: 21.0</br>total_bedrooms: 1106.0</br>population: 2401.0</br>households: 1138.0</br>median_income: 8.3014</br>ocean_proximity: NEAR BAY</br>_original_yhat_: 451020.9776472536</br>"
          ],
          [
           "</br>id: 0</br>prediction: 466262.525</br>total_rooms: 3147.44</br></br>longitude: -122.22</br>latitude: 37.86</br>housing_median_age: 21.0</br>total_bedrooms: 1106.0</br>population: 2401.0</br>households: 1138.0</br>median_income: 8.3014</br>ocean_proximity: NEAR BAY</br>_original_yhat_: 451020.9776472536</br>"
          ],
          [
           "</br>id: 0</br>prediction: 461639.318</br>total_rooms: 3540.62</br></br>longitude: -122.22</br>latitude: 37.86</br>housing_median_age: 21.0</br>total_bedrooms: 1106.0</br>population: 2401.0</br>households: 1138.0</br>median_income: 8.3014</br>ocean_proximity: NEAR BAY</br>_original_yhat_: 451020.9776472536</br>"
          ],
          [
           "</br>id: 0</br>prediction: 457401.0</br>total_rooms: 3933.8</br></br>longitude: -122.22</br>latitude: 37.86</br>housing_median_age: 21.0</br>total_bedrooms: 1106.0</br>population: 2401.0</br>households: 1138.0</br>median_income: 8.3014</br>ocean_proximity: NEAR BAY</br>_original_yhat_: 451020.9776472536</br>"
          ],
          [
           "</br>id: 0</br>prediction: 453481.466</br>total_rooms: 4326.9800000000005</br></br>longitude: -122.22</br>latitude: 37.86</br>housing_median_age: 21.0</br>total_bedrooms: 1106.0</br>population: 2401.0</br>households: 1138.0</br>median_income: 8.3014</br>ocean_proximity: NEAR BAY</br>_original_yhat_: 451020.9776472536</br>"
          ],
          [
           "</br>id: 0</br>prediction: 449830.794</br>total_rooms: 4720.16</br></br>longitude: -122.22</br>latitude: 37.86</br>housing_median_age: 21.0</br>total_bedrooms: 1106.0</br>population: 2401.0</br>households: 1138.0</br>median_income: 8.3014</br>ocean_proximity: NEAR BAY</br>_original_yhat_: 451020.9776472536</br>"
          ],
          [
           "</br>id: 0</br>prediction: 446410.29</br>total_rooms: 5113.34</br></br>longitude: -122.22</br>latitude: 37.86</br>housing_median_age: 21.0</br>total_bedrooms: 1106.0</br>population: 2401.0</br>households: 1138.0</br>median_income: 8.3014</br>ocean_proximity: NEAR BAY</br>_original_yhat_: 451020.9776472536</br>"
          ],
          [
           "</br>id: 0</br>prediction: 443189.31</br>total_rooms: 5506.52</br></br>longitude: -122.22</br>latitude: 37.86</br>housing_median_age: 21.0</br>total_bedrooms: 1106.0</br>population: 2401.0</br>households: 1138.0</br>median_income: 8.3014</br>ocean_proximity: NEAR BAY</br>_original_yhat_: 451020.9776472536</br>"
          ],
          [
           "</br>id: 0</br>prediction: 440143.143</br>total_rooms: 5899.7</br></br>longitude: -122.22</br>latitude: 37.86</br>housing_median_age: 21.0</br>total_bedrooms: 1106.0</br>population: 2401.0</br>households: 1138.0</br>median_income: 8.3014</br>ocean_proximity: NEAR BAY</br>_original_yhat_: 451020.9776472536</br>"
          ],
          [
           "</br>id: 0</br>prediction: 441463.115</br>total_rooms: 6292.88</br></br>longitude: -122.22</br>latitude: 37.86</br>housing_median_age: 21.0</br>total_bedrooms: 1106.0</br>population: 2401.0</br>households: 1138.0</br>median_income: 8.3014</br>ocean_proximity: NEAR BAY</br>_original_yhat_: 451020.9776472536</br>"
          ],
          [
           "</br>id: 0</br>prediction: 446237.284</br>total_rooms: 6686.06</br></br>longitude: -122.22</br>latitude: 37.86</br>housing_median_age: 21.0</br>total_bedrooms: 1106.0</br>population: 2401.0</br>households: 1138.0</br>median_income: 8.3014</br>ocean_proximity: NEAR BAY</br>_original_yhat_: 451020.9776472536</br>"
          ],
          [
           "</br>id: 0</br>prediction: 450797.085</br>total_rooms: 7079.24</br></br>longitude: -122.22</br>latitude: 37.86</br>housing_median_age: 21.0</br>total_bedrooms: 1106.0</br>population: 2401.0</br>households: 1138.0</br>median_income: 8.3014</br>ocean_proximity: NEAR BAY</br>_original_yhat_: 451020.9776472536</br>"
          ],
          [
           "</br>id: 0</br>prediction: 451020.978</br>total_rooms: 7099.0</br></br>longitude: -122.22</br>latitude: 37.86</br>housing_median_age: 21.0</br>total_bedrooms: 1106.0</br>population: 2401.0</br>households: 1138.0</br>median_income: 8.3014</br>ocean_proximity: NEAR BAY</br>_original_yhat_: 451020.9776472536</br>"
          ],
          [
           "</br>id: 0</br>prediction: 455163.286</br>total_rooms: 7472.42</br></br>longitude: -122.22</br>latitude: 37.86</br>housing_median_age: 21.0</br>total_bedrooms: 1106.0</br>population: 2401.0</br>households: 1138.0</br>median_income: 8.3014</br>ocean_proximity: NEAR BAY</br>_original_yhat_: 451020.9776472536</br>"
          ],
          [
           "</br>id: 0</br>prediction: 459353.672</br>total_rooms: 7865.6</br></br>longitude: -122.22</br>latitude: 37.86</br>housing_median_age: 21.0</br>total_bedrooms: 1106.0</br>population: 2401.0</br>households: 1138.0</br>median_income: 8.3014</br>ocean_proximity: NEAR BAY</br>_original_yhat_: 451020.9776472536</br>"
          ],
          [
           "</br>id: 0</br>prediction: 463383.602</br>total_rooms: 8258.78</br></br>longitude: -122.22</br>latitude: 37.86</br>housing_median_age: 21.0</br>total_bedrooms: 1106.0</br>population: 2401.0</br>households: 1138.0</br>median_income: 8.3014</br>ocean_proximity: NEAR BAY</br>_original_yhat_: 451020.9776472536</br>"
          ],
          [
           "</br>id: 0</br>prediction: 467266.439</br>total_rooms: 8651.960000000001</br></br>longitude: -122.22</br>latitude: 37.86</br>housing_median_age: 21.0</br>total_bedrooms: 1106.0</br>population: 2401.0</br>households: 1138.0</br>median_income: 8.3014</br>ocean_proximity: NEAR BAY</br>_original_yhat_: 451020.9776472536</br>"
          ],
          [
           "</br>id: 0</br>prediction: 471013.884</br>total_rooms: 9045.14</br></br>longitude: -122.22</br>latitude: 37.86</br>housing_median_age: 21.0</br>total_bedrooms: 1106.0</br>population: 2401.0</br>households: 1138.0</br>median_income: 8.3014</br>ocean_proximity: NEAR BAY</br>_original_yhat_: 451020.9776472536</br>"
          ],
          [
           "</br>id: 0</br>prediction: 474636.246</br>total_rooms: 9438.32</br></br>longitude: -122.22</br>latitude: 37.86</br>housing_median_age: 21.0</br>total_bedrooms: 1106.0</br>population: 2401.0</br>households: 1138.0</br>median_income: 8.3014</br>ocean_proximity: NEAR BAY</br>_original_yhat_: 451020.9776472536</br>"
          ],
          [
           "</br>id: 0</br>prediction: 478142.658</br>total_rooms: 9831.5</br></br>longitude: -122.22</br>latitude: 37.86</br>housing_median_age: 21.0</br>total_bedrooms: 1106.0</br>population: 2401.0</br>households: 1138.0</br>median_income: 8.3014</br>ocean_proximity: NEAR BAY</br>_original_yhat_: 451020.9776472536</br>"
          ],
          [
           "</br>id: 0</br>prediction: 481541.256</br>total_rooms: 10224.68</br></br>longitude: -122.22</br>latitude: 37.86</br>housing_median_age: 21.0</br>total_bedrooms: 1106.0</br>population: 2401.0</br>households: 1138.0</br>median_income: 8.3014</br>ocean_proximity: NEAR BAY</br>_original_yhat_: 451020.9776472536</br>"
          ],
          [
           "</br>id: 0</br>prediction: 484839.313</br>total_rooms: 10617.86</br></br>longitude: -122.22</br>latitude: 37.86</br>housing_median_age: 21.0</br>total_bedrooms: 1106.0</br>population: 2401.0</br>households: 1138.0</br>median_income: 8.3014</br>ocean_proximity: NEAR BAY</br>_original_yhat_: 451020.9776472536</br>"
          ],
          [
           "</br>id: 0</br>prediction: 488043.368</br>total_rooms: 11011.04</br></br>longitude: -122.22</br>latitude: 37.86</br>housing_median_age: 21.0</br>total_bedrooms: 1106.0</br>population: 2401.0</br>households: 1138.0</br>median_income: 8.3014</br>ocean_proximity: NEAR BAY</br>_original_yhat_: 451020.9776472536</br>"
          ],
          [
           "</br>id: 0</br>prediction: 491159.316</br>total_rooms: 11404.22</br></br>longitude: -122.22</br>latitude: 37.86</br>housing_median_age: 21.0</br>total_bedrooms: 1106.0</br>population: 2401.0</br>households: 1138.0</br>median_income: 8.3014</br>ocean_proximity: NEAR BAY</br>_original_yhat_: 451020.9776472536</br>"
          ],
          [
           "</br>id: 0</br>prediction: 494192.498</br>total_rooms: 11797.4</br></br>longitude: -122.22</br>latitude: 37.86</br>housing_median_age: 21.0</br>total_bedrooms: 1106.0</br>population: 2401.0</br>households: 1138.0</br>median_income: 8.3014</br>ocean_proximity: NEAR BAY</br>_original_yhat_: 451020.9776472536</br>"
          ],
          [
           "</br>id: 0</br>prediction: 497147.762</br>total_rooms: 12190.58</br></br>longitude: -122.22</br>latitude: 37.86</br>housing_median_age: 21.0</br>total_bedrooms: 1106.0</br>population: 2401.0</br>households: 1138.0</br>median_income: 8.3014</br>ocean_proximity: NEAR BAY</br>_original_yhat_: 451020.9776472536</br>"
          ],
          [
           "</br>id: 0</br>prediction: 500029.528</br>total_rooms: 12583.76</br></br>longitude: -122.22</br>latitude: 37.86</br>housing_median_age: 21.0</br>total_bedrooms: 1106.0</br>population: 2401.0</br>households: 1138.0</br>median_income: 8.3014</br>ocean_proximity: NEAR BAY</br>_original_yhat_: 451020.9776472536</br>"
          ],
          [
           "</br>id: 0</br>prediction: 502841.839</br>total_rooms: 12976.94</br></br>longitude: -122.22</br>latitude: 37.86</br>housing_median_age: 21.0</br>total_bedrooms: 1106.0</br>population: 2401.0</br>households: 1138.0</br>median_income: 8.3014</br>ocean_proximity: NEAR BAY</br>_original_yhat_: 451020.9776472536</br>"
          ],
          [
           "</br>id: 0</br>prediction: 505588.398</br>total_rooms: 13370.12</br></br>longitude: -122.22</br>latitude: 37.86</br>housing_median_age: 21.0</br>total_bedrooms: 1106.0</br>population: 2401.0</br>households: 1138.0</br>median_income: 8.3014</br>ocean_proximity: NEAR BAY</br>_original_yhat_: 451020.9776472536</br>"
          ],
          [
           "</br>id: 0</br>prediction: 508272.609</br>total_rooms: 13763.300000000001</br></br>longitude: -122.22</br>latitude: 37.86</br>housing_median_age: 21.0</br>total_bedrooms: 1106.0</br>population: 2401.0</br>households: 1138.0</br>median_income: 8.3014</br>ocean_proximity: NEAR BAY</br>_original_yhat_: 451020.9776472536</br>"
          ],
          [
           "</br>id: 0</br>prediction: 510897.61</br>total_rooms: 14156.48</br></br>longitude: -122.22</br>latitude: 37.86</br>housing_median_age: 21.0</br>total_bedrooms: 1106.0</br>population: 2401.0</br>households: 1138.0</br>median_income: 8.3014</br>ocean_proximity: NEAR BAY</br>_original_yhat_: 451020.9776472536</br>"
          ],
          [
           "</br>id: 0</br>prediction: 513466.299</br>total_rooms: 14549.66</br></br>longitude: -122.22</br>latitude: 37.86</br>housing_median_age: 21.0</br>total_bedrooms: 1106.0</br>population: 2401.0</br>households: 1138.0</br>median_income: 8.3014</br>ocean_proximity: NEAR BAY</br>_original_yhat_: 451020.9776472536</br>"
          ],
          [
           "</br>id: 0</br>prediction: 515981.356</br>total_rooms: 14942.84</br></br>longitude: -122.22</br>latitude: 37.86</br>housing_median_age: 21.0</br>total_bedrooms: 1106.0</br>population: 2401.0</br>households: 1138.0</br>median_income: 8.3014</br>ocean_proximity: NEAR BAY</br>_original_yhat_: 451020.9776472536</br>"
          ],
          [
           "</br>id: 0</br>prediction: 518445.271</br>total_rooms: 15336.02</br></br>longitude: -122.22</br>latitude: 37.86</br>housing_median_age: 21.0</br>total_bedrooms: 1106.0</br>population: 2401.0</br>households: 1138.0</br>median_income: 8.3014</br>ocean_proximity: NEAR BAY</br>_original_yhat_: 451020.9776472536</br>"
          ],
          [
           "</br>id: 0</br>prediction: 520860.354</br>total_rooms: 15729.2</br></br>longitude: -122.22</br>latitude: 37.86</br>housing_median_age: 21.0</br>total_bedrooms: 1106.0</br>population: 2401.0</br>households: 1138.0</br>median_income: 8.3014</br>ocean_proximity: NEAR BAY</br>_original_yhat_: 451020.9776472536</br>"
          ],
          [
           "</br>id: 0</br>prediction: 523228.759</br>total_rooms: 16122.380000000001</br></br>longitude: -122.22</br>latitude: 37.86</br>housing_median_age: 21.0</br>total_bedrooms: 1106.0</br>population: 2401.0</br>households: 1138.0</br>median_income: 8.3014</br>ocean_proximity: NEAR BAY</br>_original_yhat_: 451020.9776472536</br>"
          ],
          [
           "</br>id: 0</br>prediction: 525552.493</br>total_rooms: 16515.56</br></br>longitude: -122.22</br>latitude: 37.86</br>housing_median_age: 21.0</br>total_bedrooms: 1106.0</br>population: 2401.0</br>households: 1138.0</br>median_income: 8.3014</br>ocean_proximity: NEAR BAY</br>_original_yhat_: 451020.9776472536</br>"
          ],
          [
           "</br>id: 0</br>prediction: 527833.434</br>total_rooms: 16908.74</br></br>longitude: -122.22</br>latitude: 37.86</br>housing_median_age: 21.0</br>total_bedrooms: 1106.0</br>population: 2401.0</br>households: 1138.0</br>median_income: 8.3014</br>ocean_proximity: NEAR BAY</br>_original_yhat_: 451020.9776472536</br>"
          ],
          [
           "</br>id: 0</br>prediction: 530073.338</br>total_rooms: 17301.920000000002</br></br>longitude: -122.22</br>latitude: 37.86</br>housing_median_age: 21.0</br>total_bedrooms: 1106.0</br>population: 2401.0</br>households: 1138.0</br>median_income: 8.3014</br>ocean_proximity: NEAR BAY</br>_original_yhat_: 451020.9776472536</br>"
          ],
          [
           "</br>id: 0</br>prediction: 532273.85</br>total_rooms: 17695.1</br></br>longitude: -122.22</br>latitude: 37.86</br>housing_median_age: 21.0</br>total_bedrooms: 1106.0</br>population: 2401.0</br>households: 1138.0</br>median_income: 8.3014</br>ocean_proximity: NEAR BAY</br>_original_yhat_: 451020.9776472536</br>"
          ],
          [
           "</br>id: 0</br>prediction: 534436.516</br>total_rooms: 18088.28</br></br>longitude: -122.22</br>latitude: 37.86</br>housing_median_age: 21.0</br>total_bedrooms: 1106.0</br>population: 2401.0</br>households: 1138.0</br>median_income: 8.3014</br>ocean_proximity: NEAR BAY</br>_original_yhat_: 451020.9776472536</br>"
          ],
          [
           "</br>id: 0</br>prediction: 536562.789</br>total_rooms: 18481.46</br></br>longitude: -122.22</br>latitude: 37.86</br>housing_median_age: 21.0</br>total_bedrooms: 1106.0</br>population: 2401.0</br>households: 1138.0</br>median_income: 8.3014</br>ocean_proximity: NEAR BAY</br>_original_yhat_: 451020.9776472536</br>"
          ],
          [
           "</br>id: 0</br>prediction: 538654.036</br>total_rooms: 18874.64</br></br>longitude: -122.22</br>latitude: 37.86</br>housing_median_age: 21.0</br>total_bedrooms: 1106.0</br>population: 2401.0</br>households: 1138.0</br>median_income: 8.3014</br>ocean_proximity: NEAR BAY</br>_original_yhat_: 451020.9776472536</br>"
          ],
          [
           "</br>id: 0</br>prediction: 540711.546</br>total_rooms: 19267.82</br></br>longitude: -122.22</br>latitude: 37.86</br>housing_median_age: 21.0</br>total_bedrooms: 1106.0</br>population: 2401.0</br>households: 1138.0</br>median_income: 8.3014</br>ocean_proximity: NEAR BAY</br>_original_yhat_: 451020.9776472536</br>"
          ],
          [
           "</br>id: 0</br>prediction: 542736.535</br>total_rooms: 19661.0</br></br>longitude: -122.22</br>latitude: 37.86</br>housing_median_age: 21.0</br>total_bedrooms: 1106.0</br>population: 2401.0</br>households: 1138.0</br>median_income: 8.3014</br>ocean_proximity: NEAR BAY</br>_original_yhat_: 451020.9776472536</br>"
          ],
          [
           "</br>id: 0</br>prediction: 544730.153</br>total_rooms: 20054.18</br></br>longitude: -122.22</br>latitude: 37.86</br>housing_median_age: 21.0</br>total_bedrooms: 1106.0</br>population: 2401.0</br>households: 1138.0</br>median_income: 8.3014</br>ocean_proximity: NEAR BAY</br>_original_yhat_: 451020.9776472536</br>"
          ],
          [
           "</br>id: 0</br>prediction: 546693.486</br>total_rooms: 20447.36</br></br>longitude: -122.22</br>latitude: 37.86</br>housing_median_age: 21.0</br>total_bedrooms: 1106.0</br>population: 2401.0</br>households: 1138.0</br>median_income: 8.3014</br>ocean_proximity: NEAR BAY</br>_original_yhat_: 451020.9776472536</br>"
          ],
          [
           "</br>id: 0</br>prediction: 548627.564</br>total_rooms: 20840.54</br></br>longitude: -122.22</br>latitude: 37.86</br>housing_median_age: 21.0</br>total_bedrooms: 1106.0</br>population: 2401.0</br>households: 1138.0</br>median_income: 8.3014</br>ocean_proximity: NEAR BAY</br>_original_yhat_: 451020.9776472536</br>"
          ],
          [
           "</br>id: 0</br>prediction: 550956.704</br>total_rooms: 21233.72</br></br>longitude: -122.22</br>latitude: 37.86</br>housing_median_age: 21.0</br>total_bedrooms: 1106.0</br>population: 2401.0</br>households: 1138.0</br>median_income: 8.3014</br>ocean_proximity: NEAR BAY</br>_original_yhat_: 451020.9776472536</br>"
          ],
          [
           "</br>id: 0</br>prediction: 553609.563</br>total_rooms: 21626.9</br></br>longitude: -122.22</br>latitude: 37.86</br>housing_median_age: 21.0</br>total_bedrooms: 1106.0</br>population: 2401.0</br>households: 1138.0</br>median_income: 8.3014</br>ocean_proximity: NEAR BAY</br>_original_yhat_: 451020.9776472536</br>"
          ],
          [
           "</br>id: 0</br>prediction: 556225.033</br>total_rooms: 22020.08</br></br>longitude: -122.22</br>latitude: 37.86</br>housing_median_age: 21.0</br>total_bedrooms: 1106.0</br>population: 2401.0</br>households: 1138.0</br>median_income: 8.3014</br>ocean_proximity: NEAR BAY</br>_original_yhat_: 451020.9776472536</br>"
          ],
          [
           "</br>id: 0</br>prediction: 558804.295</br>total_rooms: 22413.260000000002</br></br>longitude: -122.22</br>latitude: 37.86</br>housing_median_age: 21.0</br>total_bedrooms: 1106.0</br>population: 2401.0</br>households: 1138.0</br>median_income: 8.3014</br>ocean_proximity: NEAR BAY</br>_original_yhat_: 451020.9776472536</br>"
          ],
          [
           "</br>id: 0</br>prediction: 561348.472</br>total_rooms: 22806.44</br></br>longitude: -122.22</br>latitude: 37.86</br>housing_median_age: 21.0</br>total_bedrooms: 1106.0</br>population: 2401.0</br>households: 1138.0</br>median_income: 8.3014</br>ocean_proximity: NEAR BAY</br>_original_yhat_: 451020.9776472536</br>"
          ],
          [
           "</br>id: 0</br>prediction: 563858.635</br>total_rooms: 23199.62</br></br>longitude: -122.22</br>latitude: 37.86</br>housing_median_age: 21.0</br>total_bedrooms: 1106.0</br>population: 2401.0</br>households: 1138.0</br>median_income: 8.3014</br>ocean_proximity: NEAR BAY</br>_original_yhat_: 451020.9776472536</br>"
          ],
          [
           "</br>id: 0</br>prediction: 566335.803</br>total_rooms: 23592.8</br></br>longitude: -122.22</br>latitude: 37.86</br>housing_median_age: 21.0</br>total_bedrooms: 1106.0</br>population: 2401.0</br>households: 1138.0</br>median_income: 8.3014</br>ocean_proximity: NEAR BAY</br>_original_yhat_: 451020.9776472536</br>"
          ],
          [
           "</br>id: 0</br>prediction: 568780.948</br>total_rooms: 23985.98</br></br>longitude: -122.22</br>latitude: 37.86</br>housing_median_age: 21.0</br>total_bedrooms: 1106.0</br>population: 2401.0</br>households: 1138.0</br>median_income: 8.3014</br>ocean_proximity: NEAR BAY</br>_original_yhat_: 451020.9776472536</br>"
          ],
          [
           "</br>id: 0</br>prediction: 571195.0</br>total_rooms: 24379.16</br></br>longitude: -122.22</br>latitude: 37.86</br>housing_median_age: 21.0</br>total_bedrooms: 1106.0</br>population: 2401.0</br>households: 1138.0</br>median_income: 8.3014</br>ocean_proximity: NEAR BAY</br>_original_yhat_: 451020.9776472536</br>"
          ],
          [
           "</br>id: 0</br>prediction: 573578.847</br>total_rooms: 24772.34</br></br>longitude: -122.22</br>latitude: 37.86</br>housing_median_age: 21.0</br>total_bedrooms: 1106.0</br>population: 2401.0</br>households: 1138.0</br>median_income: 8.3014</br>ocean_proximity: NEAR BAY</br>_original_yhat_: 451020.9776472536</br>"
          ],
          [
           "</br>id: 0</br>prediction: 575933.336</br>total_rooms: 25165.52</br></br>longitude: -122.22</br>latitude: 37.86</br>housing_median_age: 21.0</br>total_bedrooms: 1106.0</br>population: 2401.0</br>households: 1138.0</br>median_income: 8.3014</br>ocean_proximity: NEAR BAY</br>_original_yhat_: 451020.9776472536</br>"
          ],
          [
           "</br>id: 0</br>prediction: 578259.28</br>total_rooms: 25558.7</br></br>longitude: -122.22</br>latitude: 37.86</br>housing_median_age: 21.0</br>total_bedrooms: 1106.0</br>population: 2401.0</br>households: 1138.0</br>median_income: 8.3014</br>ocean_proximity: NEAR BAY</br>_original_yhat_: 451020.9776472536</br>"
          ],
          [
           "</br>id: 0</br>prediction: 580557.455</br>total_rooms: 25951.88</br></br>longitude: -122.22</br>latitude: 37.86</br>housing_median_age: 21.0</br>total_bedrooms: 1106.0</br>population: 2401.0</br>households: 1138.0</br>median_income: 8.3014</br>ocean_proximity: NEAR BAY</br>_original_yhat_: 451020.9776472536</br>"
          ],
          [
           "</br>id: 0</br>prediction: 582828.607</br>total_rooms: 26345.06</br></br>longitude: -122.22</br>latitude: 37.86</br>housing_median_age: 21.0</br>total_bedrooms: 1106.0</br>population: 2401.0</br>households: 1138.0</br>median_income: 8.3014</br>ocean_proximity: NEAR BAY</br>_original_yhat_: 451020.9776472536</br>"
          ],
          [
           "</br>id: 0</br>prediction: 585073.45</br>total_rooms: 26738.24</br></br>longitude: -122.22</br>latitude: 37.86</br>housing_median_age: 21.0</br>total_bedrooms: 1106.0</br>population: 2401.0</br>households: 1138.0</br>median_income: 8.3014</br>ocean_proximity: NEAR BAY</br>_original_yhat_: 451020.9776472536</br>"
          ],
          [
           "</br>id: 0</br>prediction: 587292.668</br>total_rooms: 27131.420000000002</br></br>longitude: -122.22</br>latitude: 37.86</br>housing_median_age: 21.0</br>total_bedrooms: 1106.0</br>population: 2401.0</br>households: 1138.0</br>median_income: 8.3014</br>ocean_proximity: NEAR BAY</br>_original_yhat_: 451020.9776472536</br>"
          ],
          [
           "</br>id: 0</br>prediction: 589486.919</br>total_rooms: 27524.600000000002</br></br>longitude: -122.22</br>latitude: 37.86</br>housing_median_age: 21.0</br>total_bedrooms: 1106.0</br>population: 2401.0</br>households: 1138.0</br>median_income: 8.3014</br>ocean_proximity: NEAR BAY</br>_original_yhat_: 451020.9776472536</br>"
          ],
          [
           "</br>id: 0</br>prediction: 591656.835</br>total_rooms: 27917.78</br></br>longitude: -122.22</br>latitude: 37.86</br>housing_median_age: 21.0</br>total_bedrooms: 1106.0</br>population: 2401.0</br>households: 1138.0</br>median_income: 8.3014</br>ocean_proximity: NEAR BAY</br>_original_yhat_: 451020.9776472536</br>"
          ],
          [
           "</br>id: 0</br>prediction: 593803.023</br>total_rooms: 28310.96</br></br>longitude: -122.22</br>latitude: 37.86</br>housing_median_age: 21.0</br>total_bedrooms: 1106.0</br>population: 2401.0</br>households: 1138.0</br>median_income: 8.3014</br>ocean_proximity: NEAR BAY</br>_original_yhat_: 451020.9776472536</br>"
          ],
          [
           "</br>id: 0</br>prediction: 595926.066</br>total_rooms: 28704.14</br></br>longitude: -122.22</br>latitude: 37.86</br>housing_median_age: 21.0</br>total_bedrooms: 1106.0</br>population: 2401.0</br>households: 1138.0</br>median_income: 8.3014</br>ocean_proximity: NEAR BAY</br>_original_yhat_: 451020.9776472536</br>"
          ],
          [
           "</br>id: 0</br>prediction: 598026.526</br>total_rooms: 29097.32</br></br>longitude: -122.22</br>latitude: 37.86</br>housing_median_age: 21.0</br>total_bedrooms: 1106.0</br>population: 2401.0</br>households: 1138.0</br>median_income: 8.3014</br>ocean_proximity: NEAR BAY</br>_original_yhat_: 451020.9776472536</br>"
          ],
          [
           "</br>id: 0</br>prediction: 600104.943</br>total_rooms: 29490.5</br></br>longitude: -122.22</br>latitude: 37.86</br>housing_median_age: 21.0</br>total_bedrooms: 1106.0</br>population: 2401.0</br>households: 1138.0</br>median_income: 8.3014</br>ocean_proximity: NEAR BAY</br>_original_yhat_: 451020.9776472536</br>"
          ],
          [
           "</br>id: 0</br>prediction: 602161.838</br>total_rooms: 29883.68</br></br>longitude: -122.22</br>latitude: 37.86</br>housing_median_age: 21.0</br>total_bedrooms: 1106.0</br>population: 2401.0</br>households: 1138.0</br>median_income: 8.3014</br>ocean_proximity: NEAR BAY</br>_original_yhat_: 451020.9776472536</br>"
          ],
          [
           "</br>id: 0</br>prediction: 604197.713</br>total_rooms: 30276.86</br></br>longitude: -122.22</br>latitude: 37.86</br>housing_median_age: 21.0</br>total_bedrooms: 1106.0</br>population: 2401.0</br>households: 1138.0</br>median_income: 8.3014</br>ocean_proximity: NEAR BAY</br>_original_yhat_: 451020.9776472536</br>"
          ],
          [
           "</br>id: 0</br>prediction: 606213.052</br>total_rooms: 30670.04</br></br>longitude: -122.22</br>latitude: 37.86</br>housing_median_age: 21.0</br>total_bedrooms: 1106.0</br>population: 2401.0</br>households: 1138.0</br>median_income: 8.3014</br>ocean_proximity: NEAR BAY</br>_original_yhat_: 451020.9776472536</br>"
          ],
          [
           "</br>id: 0</br>prediction: 608208.32</br>total_rooms: 31063.22</br></br>longitude: -122.22</br>latitude: 37.86</br>housing_median_age: 21.0</br>total_bedrooms: 1106.0</br>population: 2401.0</br>households: 1138.0</br>median_income: 8.3014</br>ocean_proximity: NEAR BAY</br>_original_yhat_: 451020.9776472536</br>"
          ],
          [
           "</br>id: 0</br>prediction: 610183.968</br>total_rooms: 31456.4</br></br>longitude: -122.22</br>latitude: 37.86</br>housing_median_age: 21.0</br>total_bedrooms: 1106.0</br>population: 2401.0</br>households: 1138.0</br>median_income: 8.3014</br>ocean_proximity: NEAR BAY</br>_original_yhat_: 451020.9776472536</br>"
          ],
          [
           "</br>id: 0</br>prediction: 612140.431</br>total_rooms: 31849.58</br></br>longitude: -122.22</br>latitude: 37.86</br>housing_median_age: 21.0</br>total_bedrooms: 1106.0</br>population: 2401.0</br>households: 1138.0</br>median_income: 8.3014</br>ocean_proximity: NEAR BAY</br>_original_yhat_: 451020.9776472536</br>"
          ],
          [
           "</br>id: 0</br>prediction: 614078.129</br>total_rooms: 32242.760000000002</br></br>longitude: -122.22</br>latitude: 37.86</br>housing_median_age: 21.0</br>total_bedrooms: 1106.0</br>population: 2401.0</br>households: 1138.0</br>median_income: 8.3014</br>ocean_proximity: NEAR BAY</br>_original_yhat_: 451020.9776472536</br>"
          ],
          [
           "</br>id: 0</br>prediction: 615997.466</br>total_rooms: 32635.940000000002</br></br>longitude: -122.22</br>latitude: 37.86</br>housing_median_age: 21.0</br>total_bedrooms: 1106.0</br>population: 2401.0</br>households: 1138.0</br>median_income: 8.3014</br>ocean_proximity: NEAR BAY</br>_original_yhat_: 451020.9776472536</br>"
          ],
          [
           "</br>id: 0</br>prediction: 617898.835</br>total_rooms: 33029.12</br></br>longitude: -122.22</br>latitude: 37.86</br>housing_median_age: 21.0</br>total_bedrooms: 1106.0</br>population: 2401.0</br>households: 1138.0</br>median_income: 8.3014</br>ocean_proximity: NEAR BAY</br>_original_yhat_: 451020.9776472536</br>"
          ],
          [
           "</br>id: 0</br>prediction: 619782.615</br>total_rooms: 33422.3</br></br>longitude: -122.22</br>latitude: 37.86</br>housing_median_age: 21.0</br>total_bedrooms: 1106.0</br>population: 2401.0</br>households: 1138.0</br>median_income: 8.3014</br>ocean_proximity: NEAR BAY</br>_original_yhat_: 451020.9776472536</br>"
          ],
          [
           "</br>id: 0</br>prediction: 621649.173</br>total_rooms: 33815.48</br></br>longitude: -122.22</br>latitude: 37.86</br>housing_median_age: 21.0</br>total_bedrooms: 1106.0</br>population: 2401.0</br>households: 1138.0</br>median_income: 8.3014</br>ocean_proximity: NEAR BAY</br>_original_yhat_: 451020.9776472536</br>"
          ],
          [
           "</br>id: 0</br>prediction: 623498.863</br>total_rooms: 34208.66</br></br>longitude: -122.22</br>latitude: 37.86</br>housing_median_age: 21.0</br>total_bedrooms: 1106.0</br>population: 2401.0</br>households: 1138.0</br>median_income: 8.3014</br>ocean_proximity: NEAR BAY</br>_original_yhat_: 451020.9776472536</br>"
          ],
          [
           "</br>id: 0</br>prediction: 625332.03</br>total_rooms: 34601.840000000004</br></br>longitude: -122.22</br>latitude: 37.86</br>housing_median_age: 21.0</br>total_bedrooms: 1106.0</br>population: 2401.0</br>households: 1138.0</br>median_income: 8.3014</br>ocean_proximity: NEAR BAY</br>_original_yhat_: 451020.9776472536</br>"
          ],
          [
           "</br>id: 0</br>prediction: 627149.007</br>total_rooms: 34995.020000000004</br></br>longitude: -122.22</br>latitude: 37.86</br>housing_median_age: 21.0</br>total_bedrooms: 1106.0</br>population: 2401.0</br>households: 1138.0</br>median_income: 8.3014</br>ocean_proximity: NEAR BAY</br>_original_yhat_: 451020.9776472536</br>"
          ],
          [
           "</br>id: 0</br>prediction: 628950.115</br>total_rooms: 35388.2</br></br>longitude: -122.22</br>latitude: 37.86</br>housing_median_age: 21.0</br>total_bedrooms: 1106.0</br>population: 2401.0</br>households: 1138.0</br>median_income: 8.3014</br>ocean_proximity: NEAR BAY</br>_original_yhat_: 451020.9776472536</br>"
          ],
          [
           "</br>id: 0</br>prediction: 630735.668</br>total_rooms: 35781.38</br></br>longitude: -122.22</br>latitude: 37.86</br>housing_median_age: 21.0</br>total_bedrooms: 1106.0</br>population: 2401.0</br>households: 1138.0</br>median_income: 8.3014</br>ocean_proximity: NEAR BAY</br>_original_yhat_: 451020.9776472536</br>"
          ],
          [
           "</br>id: 0</br>prediction: 632505.969</br>total_rooms: 36174.56</br></br>longitude: -122.22</br>latitude: 37.86</br>housing_median_age: 21.0</br>total_bedrooms: 1106.0</br>population: 2401.0</br>households: 1138.0</br>median_income: 8.3014</br>ocean_proximity: NEAR BAY</br>_original_yhat_: 451020.9776472536</br>"
          ],
          [
           "</br>id: 0</br>prediction: 634261.31</br>total_rooms: 36567.74</br></br>longitude: -122.22</br>latitude: 37.86</br>housing_median_age: 21.0</br>total_bedrooms: 1106.0</br>population: 2401.0</br>households: 1138.0</br>median_income: 8.3014</br>ocean_proximity: NEAR BAY</br>_original_yhat_: 451020.9776472536</br>"
          ],
          [
           "</br>id: 0</br>prediction: 636001.979</br>total_rooms: 36960.92</br></br>longitude: -122.22</br>latitude: 37.86</br>housing_median_age: 21.0</br>total_bedrooms: 1106.0</br>population: 2401.0</br>households: 1138.0</br>median_income: 8.3014</br>ocean_proximity: NEAR BAY</br>_original_yhat_: 451020.9776472536</br>"
          ],
          [
           "</br>id: 0</br>prediction: 637728.251</br>total_rooms: 37354.1</br></br>longitude: -122.22</br>latitude: 37.86</br>housing_median_age: 21.0</br>total_bedrooms: 1106.0</br>population: 2401.0</br>households: 1138.0</br>median_income: 8.3014</br>ocean_proximity: NEAR BAY</br>_original_yhat_: 451020.9776472536</br>"
          ],
          [
           "</br>id: 0</br>prediction: 639440.395</br>total_rooms: 37747.28</br></br>longitude: -122.22</br>latitude: 37.86</br>housing_median_age: 21.0</br>total_bedrooms: 1106.0</br>population: 2401.0</br>households: 1138.0</br>median_income: 8.3014</br>ocean_proximity: NEAR BAY</br>_original_yhat_: 451020.9776472536</br>"
          ],
          [
           "</br>id: 0</br>prediction: 641138.673</br>total_rooms: 38140.46</br></br>longitude: -122.22</br>latitude: 37.86</br>housing_median_age: 21.0</br>total_bedrooms: 1106.0</br>population: 2401.0</br>households: 1138.0</br>median_income: 8.3014</br>ocean_proximity: NEAR BAY</br>_original_yhat_: 451020.9776472536</br>"
          ],
          [
           "</br>id: 0</br>prediction: 642823.337</br>total_rooms: 38533.64</br></br>longitude: -122.22</br>latitude: 37.86</br>housing_median_age: 21.0</br>total_bedrooms: 1106.0</br>population: 2401.0</br>households: 1138.0</br>median_income: 8.3014</br>ocean_proximity: NEAR BAY</br>_original_yhat_: 451020.9776472536</br>"
          ],
          [
           "</br>id: 0</br>prediction: 644494.635</br>total_rooms: 38926.82</br></br>longitude: -122.22</br>latitude: 37.86</br>housing_median_age: 21.0</br>total_bedrooms: 1106.0</br>population: 2401.0</br>households: 1138.0</br>median_income: 8.3014</br>ocean_proximity: NEAR BAY</br>_original_yhat_: 451020.9776472536</br>"
          ],
          [
           "</br>id: 0</br>prediction: 646152.805</br>total_rooms: 39320.0</br></br>longitude: -122.22</br>latitude: 37.86</br>housing_median_age: 21.0</br>total_bedrooms: 1106.0</br>population: 2401.0</br>households: 1138.0</br>median_income: 8.3014</br>ocean_proximity: NEAR BAY</br>_original_yhat_: 451020.9776472536</br>"
          ]
         ],
         "hovertemplate": "%{customdata[0]}<extra></extra>",
         "legendgroup": "MLP with onehot encoding and power transformaiton",
         "line": {
          "color": "#ffa58c",
          "dash": "solid",
          "width": 2
         },
         "marker": {
          "symbol": "circle"
         },
         "mode": "lines",
         "name": "MLP with onehot encoding and power transformaiton",
         "opacity": 1,
         "orientation": "v",
         "showlegend": false,
         "type": "scatter",
         "x": [
          2,
          395.18,
          788.36,
          1181.54,
          1574.72,
          1967.9,
          2361.08,
          2754.26,
          3147.44,
          3540.62,
          3933.8,
          4326.9800000000005,
          4720.16,
          5113.34,
          5506.52,
          5899.7,
          6292.88,
          6686.06,
          7079.24,
          7099,
          7472.42,
          7865.6,
          8258.78,
          8651.960000000001,
          9045.14,
          9438.32,
          9831.5,
          10224.68,
          10617.86,
          11011.04,
          11404.22,
          11797.4,
          12190.58,
          12583.76,
          12976.94,
          13370.12,
          13763.300000000001,
          14156.48,
          14549.66,
          14942.84,
          15336.02,
          15729.2,
          16122.380000000001,
          16515.56,
          16908.74,
          17301.920000000002,
          17695.1,
          18088.28,
          18481.46,
          18874.64,
          19267.82,
          19661,
          20054.18,
          20447.36,
          20840.54,
          21233.72,
          21626.9,
          22020.08,
          22413.260000000002,
          22806.44,
          23199.62,
          23592.8,
          23985.98,
          24379.16,
          24772.34,
          25165.52,
          25558.7,
          25951.88,
          26345.06,
          26738.24,
          27131.420000000002,
          27524.600000000002,
          27917.78,
          28310.96,
          28704.14,
          29097.32,
          29490.5,
          29883.68,
          30276.86,
          30670.04,
          31063.22,
          31456.4,
          31849.58,
          32242.760000000002,
          32635.940000000002,
          33029.12,
          33422.3,
          33815.48,
          34208.66,
          34601.840000000004,
          34995.020000000004,
          35388.2,
          35781.38,
          36174.56,
          36567.74,
          36960.92,
          37354.1,
          37747.28,
          38140.46,
          38533.64,
          38926.82,
          39320
         ],
         "xaxis": "x2",
         "y": [
          718231.6075932144,
          550562.4430741944,
          512541.7187808826,
          500439.38175256917,
          491169.50941778213,
          483562.5863499776,
          477063.3645754365,
          471360.9958605795,
          466262.52510183543,
          461639.3179497322,
          457400.9998284,
          453481.46586878115,
          449830.7936523215,
          446410.28966205736,
          443189.3104978016,
          440143.14324055344,
          441463.1147570314,
          446237.28386576194,
          450797.08533717407,
          451020.97764725366,
          455163.28580461896,
          459353.6716975201,
          463383.6023304081,
          467266.4392413531,
          471013.8837696086,
          474636.24557579705,
          478142.65848838416,
          481541.25567982736,
          484839.31308848213,
          488043.3677930294,
          491159.3164429969,
          494192.49767055636,
          497147.7615323684,
          500029.52837123425,
          502841.8389867264,
          505588.3976201134,
          508272.6089619348,
          510897.6101589544,
          513466.29861513723,
          515981.3562371301,
          518445.2706597883,
          520860.35389506555,
          523228.7587731417,
          525552.4934842023,
          527833.4344799473,
          530073.3379534008,
          532273.8500821985,
          534436.5161928621,
          536562.7889805415,
          538654.0358994575,
          540711.5458231277,
          542736.5350598572,
          544730.152797463,
          546693.4860414483,
          548627.5641025212,
          550956.704053991,
          553609.5628560773,
          556225.0329462937,
          558804.2949480948,
          561348.4722812898,
          563858.6348659855,
          566335.8025283592,
          568780.9481368065,
          571195.0004938593,
          573578.8470064956,
          575933.3361550581,
          578259.2797788603,
          580557.4551946868,
          582828.607162737,
          585073.4497131034,
          587292.6678445658,
          589486.9191063491,
          591656.8350724466,
          593803.0227172147,
          595926.0657001203,
          598026.5255667986,
          600104.9428729236,
          602161.8382368103,
          604197.7133261419,
          606213.0517837433,
          608208.3200968942,
          610183.9684142941,
          612140.4313144453,
          614078.1285288993,
          615997.4656235401,
          617898.8346408084,
          619782.6147055437,
          621649.1725969089,
          623498.8632886645,
          625332.0304598866,
          627149.0069780652,
          628950.1153563624,
          630735.6681866886,
          632505.968550124,
          634261.3104061024,
          636001.978961675,
          637728.251022068,
          639440.3953236752,
          641138.6728505329,
          642823.3371352607,
          644494.6345453794,
          646152.8045558585
         ],
         "yaxis": "y2"
        },
        {
         "customdata": [
          [
           "</br>id: 0</br>prediction: 456419.651</br>total_bedrooms: 1106.0</br></br>longitude: -122.22</br>latitude: 37.86</br>housing_median_age: 21.0</br>total_rooms: 7099.0</br>population: 2401.0</br>households: 1138.0</br>median_income: 8.3014</br>ocean_proximity: NEAR BAY</br>_original_yhat_: 456419.6510733085</br>"
          ],
          [
           "</br>id: 0</br>prediction: 477045.942</br>total_bedrooms: 1106.0</br></br>longitude: -122.22</br>latitude: 37.86</br>housing_median_age: 21.0</br>total_rooms: 7099.0</br>population: 2401.0</br>households: 1138.0</br>median_income: 8.3014</br>ocean_proximity: NEAR BAY</br>_original_yhat_: 477045.9424363552</br>"
          ],
          [
           "</br>id: 0</br>prediction: 407689.227</br>total_bedrooms: 1106.0</br></br>longitude: -122.22</br>latitude: 37.86</br>housing_median_age: 21.0</br>total_rooms: 7099.0</br>population: 2401.0</br>households: 1138.0</br>median_income: 8.3014</br>ocean_proximity: NEAR BAY</br>_original_yhat_: 407689.22668987606</br>"
          ],
          [
           "</br>id: 0</br>prediction: 451020.978</br>total_bedrooms: 1106.0</br></br>longitude: -122.22</br>latitude: 37.86</br>housing_median_age: 21.0</br>total_rooms: 7099.0</br>population: 2401.0</br>households: 1138.0</br>median_income: 8.3014</br>ocean_proximity: NEAR BAY</br>_original_yhat_: 451020.9776472536</br>"
          ]
         ],
         "hovertemplate": "%{customdata[0]}<extra></extra>",
         "legendgroup": "",
         "marker": {
          "color": "#371ea3",
          "size": 10,
          "symbol": "circle"
         },
         "mode": "markers",
         "name": "",
         "opacity": 1,
         "orientation": "v",
         "showlegend": false,
         "type": "scatter",
         "x": [
          1106,
          1106,
          1106,
          1106
         ],
         "xaxis": "x",
         "y": [
          456419.65107330855,
          477045.9424363552,
          407689.22668987594,
          451020.97764725366
         ],
         "yaxis": "y"
        },
        {
         "customdata": [
          [
           "</br>id: 0</br>prediction: 456419.651</br>total_rooms: 7099.0</br></br>longitude: -122.22</br>latitude: 37.86</br>housing_median_age: 21.0</br>total_bedrooms: 1106.0</br>population: 2401.0</br>households: 1138.0</br>median_income: 8.3014</br>ocean_proximity: NEAR BAY</br>_original_yhat_: 456419.6510733085</br>"
          ],
          [
           "</br>id: 0</br>prediction: 477045.942</br>total_rooms: 7099.0</br></br>longitude: -122.22</br>latitude: 37.86</br>housing_median_age: 21.0</br>total_bedrooms: 1106.0</br>population: 2401.0</br>households: 1138.0</br>median_income: 8.3014</br>ocean_proximity: NEAR BAY</br>_original_yhat_: 477045.9424363552</br>"
          ],
          [
           "</br>id: 0</br>prediction: 407689.227</br>total_rooms: 7099.0</br></br>longitude: -122.22</br>latitude: 37.86</br>housing_median_age: 21.0</br>total_bedrooms: 1106.0</br>population: 2401.0</br>households: 1138.0</br>median_income: 8.3014</br>ocean_proximity: NEAR BAY</br>_original_yhat_: 407689.22668987606</br>"
          ],
          [
           "</br>id: 0</br>prediction: 451020.978</br>total_rooms: 7099.0</br></br>longitude: -122.22</br>latitude: 37.86</br>housing_median_age: 21.0</br>total_bedrooms: 1106.0</br>population: 2401.0</br>households: 1138.0</br>median_income: 8.3014</br>ocean_proximity: NEAR BAY</br>_original_yhat_: 451020.9776472536</br>"
          ]
         ],
         "hovertemplate": "%{customdata[0]}<extra></extra>",
         "legendgroup": "",
         "marker": {
          "color": "#371ea3",
          "size": 10,
          "symbol": "circle"
         },
         "mode": "markers",
         "name": "",
         "opacity": 1,
         "orientation": "v",
         "showlegend": false,
         "type": "scatter",
         "x": [
          7099,
          7099,
          7099,
          7099
         ],
         "xaxis": "x2",
         "y": [
          456419.65107330855,
          477045.9424363552,
          407689.22668987594,
          451020.97764725366
         ],
         "yaxis": "y2"
        }
       ],
       "layout": {
        "annotations": [
         {
          "font": {
           "size": 13
          },
          "showarrow": false,
          "text": "total_bedrooms",
          "x": 0.2375,
          "xanchor": "center",
          "xref": "paper",
          "y": 1,
          "yanchor": "bottom",
          "yref": "paper"
         },
         {
          "font": {
           "size": 13
          },
          "showarrow": false,
          "text": "total_rooms",
          "x": 0.7625,
          "xanchor": "center",
          "xref": "paper",
          "y": 1,
          "yanchor": "bottom",
          "yref": "paper"
         },
         {
          "font": {
           "size": 13
          },
          "showarrow": false,
          "text": "prediction",
          "textangle": -90,
          "x": -0.07,
          "xref": "paper",
          "y": 0.5,
          "yref": "paper"
         }
        ],
        "font": {
         "color": "#371ea3"
        },
        "height": 489,
        "hoverlabel": {
         "bgcolor": "rgba(0,0,0,0.8)"
        },
        "hovermode": "closest",
        "legend": {
         "font": {
          "size": 11
         },
         "itemsizing": "constant",
         "orientation": "h",
         "title": {
          "font": {
           "size": 12
          },
          "text": "label"
         },
         "tracegroupgap": 0,
         "x": 1,
         "xanchor": "right",
         "y": 1.0613496932515338,
         "yanchor": "bottom"
        },
        "margin": {
         "b": 71,
         "r": 30,
         "t": 78
        },
        "template": {
         "data": {
          "scatter": [
           {
            "type": "scatter"
           }
          ]
         }
        },
        "title": {
         "font": {
          "size": 16
         },
         "text": "Ceteris Paribus Profiles",
         "x": 0.15
        },
        "xaxis": {
         "anchor": "y",
         "automargin": true,
         "domain": [
          0,
          0.475
         ],
         "fixedrange": true,
         "gridwidth": 2,
         "showticklabels": true,
         "tickcolor": "white",
         "ticklen": 3,
         "ticks": "outside",
         "title": {
          "text": ""
         },
         "type": "linear",
         "zeroline": false
        },
        "xaxis2": {
         "anchor": "y2",
         "automargin": true,
         "domain": [
          0.525,
          1
         ],
         "fixedrange": true,
         "gridwidth": 2,
         "showticklabels": true,
         "tickcolor": "white",
         "ticklen": 3,
         "ticks": "outside",
         "title": {
          "text": ""
         },
         "type": "linear",
         "zeroline": false
        },
        "yaxis": {
         "anchor": "x",
         "automargin": true,
         "domain": [
          0,
          1
         ],
         "fixedrange": true,
         "gridwidth": 2,
         "range": [
          168380.7960589688,
          2299176.6492721704
         ],
         "tickcolor": "white",
         "ticklen": 3,
         "ticks": "outside",
         "title": {
          "text": ""
         },
         "type": "linear",
         "zeroline": false
        },
        "yaxis2": {
         "anchor": "x2",
         "automargin": true,
         "domain": [
          0,
          1
         ],
         "fixedrange": true,
         "gridwidth": 2,
         "matches": "y",
         "range": [
          168380.7960589688,
          2299176.6492721704
         ],
         "showticklabels": false,
         "tickcolor": "white",
         "ticklen": 3,
         "ticks": "outside",
         "title": {
          "text": ""
         },
         "type": "linear",
         "zeroline": false
        }
       }
      },
      "text/html": [
       "<div>                            <div id=\"1e302cad-78d4-4169-8150-0d66655fc585\" class=\"plotly-graph-div\" style=\"height:489px; width:100%;\"></div>            <script type=\"text/javascript\">                require([\"plotly\"], function(Plotly) {                    window.PLOTLYENV=window.PLOTLYENV || {};                                    if (document.getElementById(\"1e302cad-78d4-4169-8150-0d66655fc585\")) {                    Plotly.newPlot(                        \"1e302cad-78d4-4169-8150-0d66655fc585\",                        [{\"customdata\":[[\"</br>id: 0</br>prediction: 520016.925</br>total_bedrooms: 1.0</br></br>longitude: -122.22</br>latitude: 37.86</br>housing_median_age: 21.0</br>total_rooms: 7099.0</br>population: 2401.0</br>households: 1138.0</br>median_income: 8.3014</br>ocean_proximity: NEAR BAY</br>_original_yhat_: 456419.6510733085</br>\"],[\"</br>id: 0</br>prediction: 510816.643</br>total_bedrooms: 65.44</br></br>longitude: -122.22</br>latitude: 37.86</br>housing_median_age: 21.0</br>total_rooms: 7099.0</br>population: 2401.0</br>households: 1138.0</br>median_income: 8.3014</br>ocean_proximity: NEAR BAY</br>_original_yhat_: 456419.6510733085</br>\"],[\"</br>id: 0</br>prediction: 501616.361</br>total_bedrooms: 129.88</br></br>longitude: -122.22</br>latitude: 37.86</br>housing_median_age: 21.0</br>total_rooms: 7099.0</br>population: 2401.0</br>households: 1138.0</br>median_income: 8.3014</br>ocean_proximity: NEAR BAY</br>_original_yhat_: 456419.6510733085</br>\"],[\"</br>id: 0</br>prediction: 492416.079</br>total_bedrooms: 194.32</br></br>longitude: -122.22</br>latitude: 37.86</br>housing_median_age: 21.0</br>total_rooms: 7099.0</br>population: 2401.0</br>households: 1138.0</br>median_income: 8.3014</br>ocean_proximity: NEAR BAY</br>_original_yhat_: 456419.6510733085</br>\"],[\"</br>id: 0</br>prediction: 483215.798</br>total_bedrooms: 258.76</br></br>longitude: -122.22</br>latitude: 37.86</br>housing_median_age: 21.0</br>total_rooms: 7099.0</br>population: 2401.0</br>households: 1138.0</br>median_income: 8.3014</br>ocean_proximity: NEAR BAY</br>_original_yhat_: 456419.6510733085</br>\"],[\"</br>id: 0</br>prediction: 476374.72</br>total_bedrooms: 323.2</br></br>longitude: -122.22</br>latitude: 37.86</br>housing_median_age: 21.0</br>total_rooms: 7099.0</br>population: 2401.0</br>households: 1138.0</br>median_income: 8.3014</br>ocean_proximity: NEAR BAY</br>_original_yhat_: 456419.6510733085</br>\"],[\"</br>id: 0</br>prediction: 472811.632</br>total_bedrooms: 387.64</br></br>longitude: -122.22</br>latitude: 37.86</br>housing_median_age: 21.0</br>total_rooms: 7099.0</br>population: 2401.0</br>households: 1138.0</br>median_income: 8.3014</br>ocean_proximity: NEAR BAY</br>_original_yhat_: 456419.6510733085</br>\"],[\"</br>id: 0</br>prediction: 469248.544</br>total_bedrooms: 452.08</br></br>longitude: -122.22</br>latitude: 37.86</br>housing_median_age: 21.0</br>total_rooms: 7099.0</br>population: 2401.0</br>households: 1138.0</br>median_income: 8.3014</br>ocean_proximity: NEAR BAY</br>_original_yhat_: 456419.6510733085</br>\"],[\"</br>id: 0</br>prediction: 465685.456</br>total_bedrooms: 516.52</br></br>longitude: -122.22</br>latitude: 37.86</br>housing_median_age: 21.0</br>total_rooms: 7099.0</br>population: 2401.0</br>households: 1138.0</br>median_income: 8.3014</br>ocean_proximity: NEAR BAY</br>_original_yhat_: 456419.6510733085</br>\"],[\"</br>id: 0</br>prediction: 462122.368</br>total_bedrooms: 580.96</br></br>longitude: -122.22</br>latitude: 37.86</br>housing_median_age: 21.0</br>total_rooms: 7099.0</br>population: 2401.0</br>households: 1138.0</br>median_income: 8.3014</br>ocean_proximity: NEAR BAY</br>_original_yhat_: 456419.6510733085</br>\"],[\"</br>id: 0</br>prediction: 458559.28</br>total_bedrooms: 645.4</br></br>longitude: -122.22</br>latitude: 37.86</br>housing_median_age: 21.0</br>total_rooms: 7099.0</br>population: 2401.0</br>households: 1138.0</br>median_income: 8.3014</br>ocean_proximity: NEAR BAY</br>_original_yhat_: 456419.6510733085</br>\"],[\"</br>id: 0</br>prediction: 456952.739</br>total_bedrooms: 709.8399999999999</br></br>longitude: -122.22</br>latitude: 37.86</br>housing_median_age: 21.0</br>total_rooms: 7099.0</br>population: 2401.0</br>households: 1138.0</br>median_income: 8.3014</br>ocean_proximity: NEAR BAY</br>_original_yhat_: 456419.6510733085</br>\"],[\"</br>id: 0</br>prediction: 455149.869</br>total_bedrooms: 774.28</br></br>longitude: -122.22</br>latitude: 37.86</br>housing_median_age: 21.0</br>total_rooms: 7099.0</br>population: 2401.0</br>households: 1138.0</br>median_income: 8.3014</br>ocean_proximity: NEAR BAY</br>_original_yhat_: 456419.6510733085</br>\"],[\"</br>id: 0</br>prediction: 453346.999</br>total_bedrooms: 838.72</br></br>longitude: -122.22</br>latitude: 37.86</br>housing_median_age: 21.0</br>total_rooms: 7099.0</br>population: 2401.0</br>households: 1138.0</br>median_income: 8.3014</br>ocean_proximity: NEAR BAY</br>_original_yhat_: 456419.6510733085</br>\"],[\"</br>id: 0</br>prediction: 451544.13</br>total_bedrooms: 903.16</br></br>longitude: -122.22</br>latitude: 37.86</br>housing_median_age: 21.0</br>total_rooms: 7099.0</br>population: 2401.0</br>households: 1138.0</br>median_income: 8.3014</br>ocean_proximity: NEAR BAY</br>_original_yhat_: 456419.6510733085</br>\"],[\"</br>id: 0</br>prediction: 449741.26</br>total_bedrooms: 967.5999999999999</br></br>longitude: -122.22</br>latitude: 37.86</br>housing_median_age: 21.0</br>total_rooms: 7099.0</br>population: 2401.0</br>households: 1138.0</br>median_income: 8.3014</br>ocean_proximity: NEAR BAY</br>_original_yhat_: 456419.6510733085</br>\"],[\"</br>id: 0</br>prediction: 449767.396</br>total_bedrooms: 1032.04</br></br>longitude: -122.22</br>latitude: 37.86</br>housing_median_age: 21.0</br>total_rooms: 7099.0</br>population: 2401.0</br>households: 1138.0</br>median_income: 8.3014</br>ocean_proximity: NEAR BAY</br>_original_yhat_: 456419.6510733085</br>\"],[\"</br>id: 0</br>prediction: 455021.175</br>total_bedrooms: 1096.48</br></br>longitude: -122.22</br>latitude: 37.86</br>housing_median_age: 21.0</br>total_rooms: 7099.0</br>population: 2401.0</br>households: 1138.0</br>median_income: 8.3014</br>ocean_proximity: NEAR BAY</br>_original_yhat_: 456419.6510733085</br>\"],[\"</br>id: 0</br>prediction: 456419.651</br>total_bedrooms: 1106.0</br></br>longitude: -122.22</br>latitude: 37.86</br>housing_median_age: 21.0</br>total_rooms: 7099.0</br>population: 2401.0</br>households: 1138.0</br>median_income: 8.3014</br>ocean_proximity: NEAR BAY</br>_original_yhat_: 456419.6510733085</br>\"],[\"</br>id: 0</br>prediction: 464487.328</br>total_bedrooms: 1160.92</br></br>longitude: -122.22</br>latitude: 37.86</br>housing_median_age: 21.0</br>total_rooms: 7099.0</br>population: 2401.0</br>households: 1138.0</br>median_income: 8.3014</br>ocean_proximity: NEAR BAY</br>_original_yhat_: 456419.6510733085</br>\"],[\"</br>id: 0</br>prediction: 473953.481</br>total_bedrooms: 1225.36</br></br>longitude: -122.22</br>latitude: 37.86</br>housing_median_age: 21.0</br>total_rooms: 7099.0</br>population: 2401.0</br>households: 1138.0</br>median_income: 8.3014</br>ocean_proximity: NEAR BAY</br>_original_yhat_: 456419.6510733085</br>\"],[\"</br>id: 0</br>prediction: 474424.347</br>total_bedrooms: 1289.8</br></br>longitude: -122.22</br>latitude: 37.86</br>housing_median_age: 21.0</br>total_rooms: 7099.0</br>population: 2401.0</br>households: 1138.0</br>median_income: 8.3014</br>ocean_proximity: NEAR BAY</br>_original_yhat_: 456419.6510733085</br>\"],[\"</br>id: 0</br>prediction: 473012.327</br>total_bedrooms: 1354.24</br></br>longitude: -122.22</br>latitude: 37.86</br>housing_median_age: 21.0</br>total_rooms: 7099.0</br>population: 2401.0</br>households: 1138.0</br>median_income: 8.3014</br>ocean_proximity: NEAR BAY</br>_original_yhat_: 456419.6510733085</br>\"],[\"</br>id: 0</br>prediction: 471600.308</br>total_bedrooms: 1418.6799999999998</br></br>longitude: -122.22</br>latitude: 37.86</br>housing_median_age: 21.0</br>total_rooms: 7099.0</br>population: 2401.0</br>households: 1138.0</br>median_income: 8.3014</br>ocean_proximity: NEAR BAY</br>_original_yhat_: 456419.6510733085</br>\"],[\"</br>id: 0</br>prediction: 470188.289</br>total_bedrooms: 1483.12</br></br>longitude: -122.22</br>latitude: 37.86</br>housing_median_age: 21.0</br>total_rooms: 7099.0</br>population: 2401.0</br>households: 1138.0</br>median_income: 8.3014</br>ocean_proximity: NEAR BAY</br>_original_yhat_: 456419.6510733085</br>\"],[\"</br>id: 0</br>prediction: 468776.27</br>total_bedrooms: 1547.56</br></br>longitude: -122.22</br>latitude: 37.86</br>housing_median_age: 21.0</br>total_rooms: 7099.0</br>population: 2401.0</br>households: 1138.0</br>median_income: 8.3014</br>ocean_proximity: NEAR BAY</br>_original_yhat_: 456419.6510733085</br>\"],[\"</br>id: 0</br>prediction: 467364.251</br>total_bedrooms: 1612.0</br></br>longitude: -122.22</br>latitude: 37.86</br>housing_median_age: 21.0</br>total_rooms: 7099.0</br>population: 2401.0</br>households: 1138.0</br>median_income: 8.3014</br>ocean_proximity: NEAR BAY</br>_original_yhat_: 456419.6510733085</br>\"],[\"</br>id: 0</br>prediction: 465952.231</br>total_bedrooms: 1676.44</br></br>longitude: -122.22</br>latitude: 37.86</br>housing_median_age: 21.0</br>total_rooms: 7099.0</br>population: 2401.0</br>households: 1138.0</br>median_income: 8.3014</br>ocean_proximity: NEAR BAY</br>_original_yhat_: 456419.6510733085</br>\"],[\"</br>id: 0</br>prediction: 464540.212</br>total_bedrooms: 1740.8799999999999</br></br>longitude: -122.22</br>latitude: 37.86</br>housing_median_age: 21.0</br>total_rooms: 7099.0</br>population: 2401.0</br>households: 1138.0</br>median_income: 8.3014</br>ocean_proximity: NEAR BAY</br>_original_yhat_: 456419.6510733085</br>\"],[\"</br>id: 0</br>prediction: 463025.53</br>total_bedrooms: 1805.32</br></br>longitude: -122.22</br>latitude: 37.86</br>housing_median_age: 21.0</br>total_rooms: 7099.0</br>population: 2401.0</br>households: 1138.0</br>median_income: 8.3014</br>ocean_proximity: NEAR BAY</br>_original_yhat_: 456419.6510733085</br>\"],[\"</br>id: 0</br>prediction: 457248.294</br>total_bedrooms: 1869.76</br></br>longitude: -122.22</br>latitude: 37.86</br>housing_median_age: 21.0</br>total_rooms: 7099.0</br>population: 2401.0</br>households: 1138.0</br>median_income: 8.3014</br>ocean_proximity: NEAR BAY</br>_original_yhat_: 456419.6510733085</br>\"],[\"</br>id: 0</br>prediction: 450701.166</br>total_bedrooms: 1934.1999999999998</br></br>longitude: -122.22</br>latitude: 37.86</br>housing_median_age: 21.0</br>total_rooms: 7099.0</br>population: 2401.0</br>households: 1138.0</br>median_income: 8.3014</br>ocean_proximity: NEAR BAY</br>_original_yhat_: 456419.6510733085</br>\"],[\"</br>id: 0</br>prediction: 444154.038</br>total_bedrooms: 1998.6399999999999</br></br>longitude: -122.22</br>latitude: 37.86</br>housing_median_age: 21.0</br>total_rooms: 7099.0</br>population: 2401.0</br>households: 1138.0</br>median_income: 8.3014</br>ocean_proximity: NEAR BAY</br>_original_yhat_: 456419.6510733085</br>\"],[\"</br>id: 0</br>prediction: 437606.91</br>total_bedrooms: 2063.08</br></br>longitude: -122.22</br>latitude: 37.86</br>housing_median_age: 21.0</br>total_rooms: 7099.0</br>population: 2401.0</br>households: 1138.0</br>median_income: 8.3014</br>ocean_proximity: NEAR BAY</br>_original_yhat_: 456419.6510733085</br>\"],[\"</br>id: 0</br>prediction: 431059.782</br>total_bedrooms: 2127.52</br></br>longitude: -122.22</br>latitude: 37.86</br>housing_median_age: 21.0</br>total_rooms: 7099.0</br>population: 2401.0</br>households: 1138.0</br>median_income: 8.3014</br>ocean_proximity: NEAR BAY</br>_original_yhat_: 456419.6510733085</br>\"],[\"</br>id: 0</br>prediction: 424512.653</br>total_bedrooms: 2191.96</br></br>longitude: -122.22</br>latitude: 37.86</br>housing_median_age: 21.0</br>total_rooms: 7099.0</br>population: 2401.0</br>households: 1138.0</br>median_income: 8.3014</br>ocean_proximity: NEAR BAY</br>_original_yhat_: 456419.6510733085</br>\"],[\"</br>id: 0</br>prediction: 417965.525</br>total_bedrooms: 2256.4</br></br>longitude: -122.22</br>latitude: 37.86</br>housing_median_age: 21.0</br>total_rooms: 7099.0</br>population: 2401.0</br>households: 1138.0</br>median_income: 8.3014</br>ocean_proximity: NEAR BAY</br>_original_yhat_: 456419.6510733085</br>\"],[\"</br>id: 0</br>prediction: 411418.397</br>total_bedrooms: 2320.84</br></br>longitude: -122.22</br>latitude: 37.86</br>housing_median_age: 21.0</br>total_rooms: 7099.0</br>population: 2401.0</br>households: 1138.0</br>median_income: 8.3014</br>ocean_proximity: NEAR BAY</br>_original_yhat_: 456419.6510733085</br>\"],[\"</br>id: 0</br>prediction: 404871.269</br>total_bedrooms: 2385.2799999999997</br></br>longitude: -122.22</br>latitude: 37.86</br>housing_median_age: 21.0</br>total_rooms: 7099.0</br>population: 2401.0</br>households: 1138.0</br>median_income: 8.3014</br>ocean_proximity: NEAR BAY</br>_original_yhat_: 456419.6510733085</br>\"],[\"</br>id: 0</br>prediction: 398324.141</br>total_bedrooms: 2449.72</br></br>longitude: -122.22</br>latitude: 37.86</br>housing_median_age: 21.0</br>total_rooms: 7099.0</br>population: 2401.0</br>households: 1138.0</br>median_income: 8.3014</br>ocean_proximity: NEAR BAY</br>_original_yhat_: 456419.6510733085</br>\"],[\"</br>id: 0</br>prediction: 391777.013</br>total_bedrooms: 2514.16</br></br>longitude: -122.22</br>latitude: 37.86</br>housing_median_age: 21.0</br>total_rooms: 7099.0</br>population: 2401.0</br>households: 1138.0</br>median_income: 8.3014</br>ocean_proximity: NEAR BAY</br>_original_yhat_: 456419.6510733085</br>\"],[\"</br>id: 0</br>prediction: 385229.885</br>total_bedrooms: 2578.6</br></br>longitude: -122.22</br>latitude: 37.86</br>housing_median_age: 21.0</br>total_rooms: 7099.0</br>population: 2401.0</br>households: 1138.0</br>median_income: 8.3014</br>ocean_proximity: NEAR BAY</br>_original_yhat_: 456419.6510733085</br>\"],[\"</br>id: 0</br>prediction: 378682.757</br>total_bedrooms: 2643.04</br></br>longitude: -122.22</br>latitude: 37.86</br>housing_median_age: 21.0</br>total_rooms: 7099.0</br>population: 2401.0</br>households: 1138.0</br>median_income: 8.3014</br>ocean_proximity: NEAR BAY</br>_original_yhat_: 456419.6510733085</br>\"],[\"</br>id: 0</br>prediction: 372135.629</br>total_bedrooms: 2707.48</br></br>longitude: -122.22</br>latitude: 37.86</br>housing_median_age: 21.0</br>total_rooms: 7099.0</br>population: 2401.0</br>households: 1138.0</br>median_income: 8.3014</br>ocean_proximity: NEAR BAY</br>_original_yhat_: 456419.6510733085</br>\"],[\"</br>id: 0</br>prediction: 365588.501</br>total_bedrooms: 2771.92</br></br>longitude: -122.22</br>latitude: 37.86</br>housing_median_age: 21.0</br>total_rooms: 7099.0</br>population: 2401.0</br>households: 1138.0</br>median_income: 8.3014</br>ocean_proximity: NEAR BAY</br>_original_yhat_: 456419.6510733085</br>\"],[\"</br>id: 0</br>prediction: 359041.373</br>total_bedrooms: 2836.3599999999997</br></br>longitude: -122.22</br>latitude: 37.86</br>housing_median_age: 21.0</br>total_rooms: 7099.0</br>population: 2401.0</br>households: 1138.0</br>median_income: 8.3014</br>ocean_proximity: NEAR BAY</br>_original_yhat_: 456419.6510733085</br>\"],[\"</br>id: 0</br>prediction: 352494.245</br>total_bedrooms: 2900.7999999999997</br></br>longitude: -122.22</br>latitude: 37.86</br>housing_median_age: 21.0</br>total_rooms: 7099.0</br>population: 2401.0</br>households: 1138.0</br>median_income: 8.3014</br>ocean_proximity: NEAR BAY</br>_original_yhat_: 456419.6510733085</br>\"],[\"</br>id: 0</br>prediction: 345947.117</br>total_bedrooms: 2965.24</br></br>longitude: -122.22</br>latitude: 37.86</br>housing_median_age: 21.0</br>total_rooms: 7099.0</br>population: 2401.0</br>households: 1138.0</br>median_income: 8.3014</br>ocean_proximity: NEAR BAY</br>_original_yhat_: 456419.6510733085</br>\"],[\"</br>id: 0</br>prediction: 350030.642</br>total_bedrooms: 3029.68</br></br>longitude: -122.22</br>latitude: 37.86</br>housing_median_age: 21.0</br>total_rooms: 7099.0</br>population: 2401.0</br>households: 1138.0</br>median_income: 8.3014</br>ocean_proximity: NEAR BAY</br>_original_yhat_: 456419.6510733085</br>\"],[\"</br>id: 0</br>prediction: 358363.39</br>total_bedrooms: 3094.12</br></br>longitude: -122.22</br>latitude: 37.86</br>housing_median_age: 21.0</br>total_rooms: 7099.0</br>population: 2401.0</br>households: 1138.0</br>median_income: 8.3014</br>ocean_proximity: NEAR BAY</br>_original_yhat_: 456419.6510733085</br>\"],[\"</br>id: 0</br>prediction: 366696.137</br>total_bedrooms: 3158.56</br></br>longitude: -122.22</br>latitude: 37.86</br>housing_median_age: 21.0</br>total_rooms: 7099.0</br>population: 2401.0</br>households: 1138.0</br>median_income: 8.3014</br>ocean_proximity: NEAR BAY</br>_original_yhat_: 456419.6510733085</br>\"],[\"</br>id: 0</br>prediction: 375028.885</br>total_bedrooms: 3223.0</br></br>longitude: -122.22</br>latitude: 37.86</br>housing_median_age: 21.0</br>total_rooms: 7099.0</br>population: 2401.0</br>households: 1138.0</br>median_income: 8.3014</br>ocean_proximity: NEAR BAY</br>_original_yhat_: 456419.6510733085</br>\"],[\"</br>id: 0</br>prediction: 383361.632</br>total_bedrooms: 3287.44</br></br>longitude: -122.22</br>latitude: 37.86</br>housing_median_age: 21.0</br>total_rooms: 7099.0</br>population: 2401.0</br>households: 1138.0</br>median_income: 8.3014</br>ocean_proximity: NEAR BAY</br>_original_yhat_: 456419.6510733085</br>\"],[\"</br>id: 0</br>prediction: 391694.38</br>total_bedrooms: 3351.88</br></br>longitude: -122.22</br>latitude: 37.86</br>housing_median_age: 21.0</br>total_rooms: 7099.0</br>population: 2401.0</br>households: 1138.0</br>median_income: 8.3014</br>ocean_proximity: NEAR BAY</br>_original_yhat_: 456419.6510733085</br>\"],[\"</br>id: 0</br>prediction: 400027.127</br>total_bedrooms: 3416.3199999999997</br></br>longitude: -122.22</br>latitude: 37.86</br>housing_median_age: 21.0</br>total_rooms: 7099.0</br>population: 2401.0</br>households: 1138.0</br>median_income: 8.3014</br>ocean_proximity: NEAR BAY</br>_original_yhat_: 456419.6510733085</br>\"],[\"</br>id: 0</br>prediction: 408355.101</br>total_bedrooms: 3480.7599999999998</br></br>longitude: -122.22</br>latitude: 37.86</br>housing_median_age: 21.0</br>total_rooms: 7099.0</br>population: 2401.0</br>households: 1138.0</br>median_income: 8.3014</br>ocean_proximity: NEAR BAY</br>_original_yhat_: 456419.6510733085</br>\"],[\"</br>id: 0</br>prediction: 416680.217</br>total_bedrooms: 3545.2</br></br>longitude: -122.22</br>latitude: 37.86</br>housing_median_age: 21.0</br>total_rooms: 7099.0</br>population: 2401.0</br>households: 1138.0</br>median_income: 8.3014</br>ocean_proximity: NEAR BAY</br>_original_yhat_: 456419.6510733085</br>\"],[\"</br>id: 0</br>prediction: 425005.332</br>total_bedrooms: 3609.64</br></br>longitude: -122.22</br>latitude: 37.86</br>housing_median_age: 21.0</br>total_rooms: 7099.0</br>population: 2401.0</br>households: 1138.0</br>median_income: 8.3014</br>ocean_proximity: NEAR BAY</br>_original_yhat_: 456419.6510733085</br>\"],[\"</br>id: 0</br>prediction: 433330.448</br>total_bedrooms: 3674.08</br></br>longitude: -122.22</br>latitude: 37.86</br>housing_median_age: 21.0</br>total_rooms: 7099.0</br>population: 2401.0</br>households: 1138.0</br>median_income: 8.3014</br>ocean_proximity: NEAR BAY</br>_original_yhat_: 456419.6510733085</br>\"],[\"</br>id: 0</br>prediction: 441655.564</br>total_bedrooms: 3738.52</br></br>longitude: -122.22</br>latitude: 37.86</br>housing_median_age: 21.0</br>total_rooms: 7099.0</br>population: 2401.0</br>households: 1138.0</br>median_income: 8.3014</br>ocean_proximity: NEAR BAY</br>_original_yhat_: 456419.6510733085</br>\"],[\"</br>id: 0</br>prediction: 449980.679</br>total_bedrooms: 3802.96</br></br>longitude: -122.22</br>latitude: 37.86</br>housing_median_age: 21.0</br>total_rooms: 7099.0</br>population: 2401.0</br>households: 1138.0</br>median_income: 8.3014</br>ocean_proximity: NEAR BAY</br>_original_yhat_: 456419.6510733085</br>\"],[\"</br>id: 0</br>prediction: 458301.634</br>total_bedrooms: 3867.3999999999996</br></br>longitude: -122.22</br>latitude: 37.86</br>housing_median_age: 21.0</br>total_rooms: 7099.0</br>population: 2401.0</br>households: 1138.0</br>median_income: 8.3014</br>ocean_proximity: NEAR BAY</br>_original_yhat_: 456419.6510733085</br>\"],[\"</br>id: 0</br>prediction: 466620.807</br>total_bedrooms: 3931.8399999999997</br></br>longitude: -122.22</br>latitude: 37.86</br>housing_median_age: 21.0</br>total_rooms: 7099.0</br>population: 2401.0</br>households: 1138.0</br>median_income: 8.3014</br>ocean_proximity: NEAR BAY</br>_original_yhat_: 456419.6510733085</br>\"],[\"</br>id: 0</br>prediction: 474939.981</br>total_bedrooms: 3996.2799999999997</br></br>longitude: -122.22</br>latitude: 37.86</br>housing_median_age: 21.0</br>total_rooms: 7099.0</br>population: 2401.0</br>households: 1138.0</br>median_income: 8.3014</br>ocean_proximity: NEAR BAY</br>_original_yhat_: 456419.6510733085</br>\"],[\"</br>id: 0</br>prediction: 483259.155</br>total_bedrooms: 4060.72</br></br>longitude: -122.22</br>latitude: 37.86</br>housing_median_age: 21.0</br>total_rooms: 7099.0</br>population: 2401.0</br>households: 1138.0</br>median_income: 8.3014</br>ocean_proximity: NEAR BAY</br>_original_yhat_: 456419.6510733085</br>\"],[\"</br>id: 0</br>prediction: 491578.328</br>total_bedrooms: 4125.16</br></br>longitude: -122.22</br>latitude: 37.86</br>housing_median_age: 21.0</br>total_rooms: 7099.0</br>population: 2401.0</br>households: 1138.0</br>median_income: 8.3014</br>ocean_proximity: NEAR BAY</br>_original_yhat_: 456419.6510733085</br>\"],[\"</br>id: 0</br>prediction: 499897.502</br>total_bedrooms: 4189.599999999999</br></br>longitude: -122.22</br>latitude: 37.86</br>housing_median_age: 21.0</br>total_rooms: 7099.0</br>population: 2401.0</br>households: 1138.0</br>median_income: 8.3014</br>ocean_proximity: NEAR BAY</br>_original_yhat_: 456419.6510733085</br>\"],[\"</br>id: 0</br>prediction: 508216.676</br>total_bedrooms: 4254.04</br></br>longitude: -122.22</br>latitude: 37.86</br>housing_median_age: 21.0</br>total_rooms: 7099.0</br>population: 2401.0</br>households: 1138.0</br>median_income: 8.3014</br>ocean_proximity: NEAR BAY</br>_original_yhat_: 456419.6510733085</br>\"],[\"</br>id: 0</br>prediction: 516535.849</br>total_bedrooms: 4318.48</br></br>longitude: -122.22</br>latitude: 37.86</br>housing_median_age: 21.0</br>total_rooms: 7099.0</br>population: 2401.0</br>households: 1138.0</br>median_income: 8.3014</br>ocean_proximity: NEAR BAY</br>_original_yhat_: 456419.6510733085</br>\"],[\"</br>id: 0</br>prediction: 524855.023</br>total_bedrooms: 4382.92</br></br>longitude: -122.22</br>latitude: 37.86</br>housing_median_age: 21.0</br>total_rooms: 7099.0</br>population: 2401.0</br>households: 1138.0</br>median_income: 8.3014</br>ocean_proximity: NEAR BAY</br>_original_yhat_: 456419.6510733085</br>\"],[\"</br>id: 0</br>prediction: 533174.197</br>total_bedrooms: 4447.36</br></br>longitude: -122.22</br>latitude: 37.86</br>housing_median_age: 21.0</br>total_rooms: 7099.0</br>population: 2401.0</br>households: 1138.0</br>median_income: 8.3014</br>ocean_proximity: NEAR BAY</br>_original_yhat_: 456419.6510733085</br>\"],[\"</br>id: 0</br>prediction: 541493.371</br>total_bedrooms: 4511.8</br></br>longitude: -122.22</br>latitude: 37.86</br>housing_median_age: 21.0</br>total_rooms: 7099.0</br>population: 2401.0</br>households: 1138.0</br>median_income: 8.3014</br>ocean_proximity: NEAR BAY</br>_original_yhat_: 456419.6510733085</br>\"],[\"</br>id: 0</br>prediction: 549812.544</br>total_bedrooms: 4576.24</br></br>longitude: -122.22</br>latitude: 37.86</br>housing_median_age: 21.0</br>total_rooms: 7099.0</br>population: 2401.0</br>households: 1138.0</br>median_income: 8.3014</br>ocean_proximity: NEAR BAY</br>_original_yhat_: 456419.6510733085</br>\"],[\"</br>id: 0</br>prediction: 558131.718</br>total_bedrooms: 4640.68</br></br>longitude: -122.22</br>latitude: 37.86</br>housing_median_age: 21.0</br>total_rooms: 7099.0</br>population: 2401.0</br>households: 1138.0</br>median_income: 8.3014</br>ocean_proximity: NEAR BAY</br>_original_yhat_: 456419.6510733085</br>\"],[\"</br>id: 0</br>prediction: 563931.18</br>total_bedrooms: 4705.12</br></br>longitude: -122.22</br>latitude: 37.86</br>housing_median_age: 21.0</br>total_rooms: 7099.0</br>population: 2401.0</br>households: 1138.0</br>median_income: 8.3014</br>ocean_proximity: NEAR BAY</br>_original_yhat_: 456419.6510733085</br>\"],[\"</br>id: 0</br>prediction: 568733.576</br>total_bedrooms: 4769.5599999999995</br></br>longitude: -122.22</br>latitude: 37.86</br>housing_median_age: 21.0</br>total_rooms: 7099.0</br>population: 2401.0</br>households: 1138.0</br>median_income: 8.3014</br>ocean_proximity: NEAR BAY</br>_original_yhat_: 456419.6510733085</br>\"],[\"</br>id: 0</br>prediction: 573535.972</br>total_bedrooms: 4834.0</br></br>longitude: -122.22</br>latitude: 37.86</br>housing_median_age: 21.0</br>total_rooms: 7099.0</br>population: 2401.0</br>households: 1138.0</br>median_income: 8.3014</br>ocean_proximity: NEAR BAY</br>_original_yhat_: 456419.6510733085</br>\"],[\"</br>id: 0</br>prediction: 578338.368</br>total_bedrooms: 4898.44</br></br>longitude: -122.22</br>latitude: 37.86</br>housing_median_age: 21.0</br>total_rooms: 7099.0</br>population: 2401.0</br>households: 1138.0</br>median_income: 8.3014</br>ocean_proximity: NEAR BAY</br>_original_yhat_: 456419.6510733085</br>\"],[\"</br>id: 0</br>prediction: 583140.764</br>total_bedrooms: 4962.88</br></br>longitude: -122.22</br>latitude: 37.86</br>housing_median_age: 21.0</br>total_rooms: 7099.0</br>population: 2401.0</br>households: 1138.0</br>median_income: 8.3014</br>ocean_proximity: NEAR BAY</br>_original_yhat_: 456419.6510733085</br>\"],[\"</br>id: 0</br>prediction: 587943.161</br>total_bedrooms: 5027.32</br></br>longitude: -122.22</br>latitude: 37.86</br>housing_median_age: 21.0</br>total_rooms: 7099.0</br>population: 2401.0</br>households: 1138.0</br>median_income: 8.3014</br>ocean_proximity: NEAR BAY</br>_original_yhat_: 456419.6510733085</br>\"],[\"</br>id: 0</br>prediction: 592745.557</br>total_bedrooms: 5091.76</br></br>longitude: -122.22</br>latitude: 37.86</br>housing_median_age: 21.0</br>total_rooms: 7099.0</br>population: 2401.0</br>households: 1138.0</br>median_income: 8.3014</br>ocean_proximity: NEAR BAY</br>_original_yhat_: 456419.6510733085</br>\"],[\"</br>id: 0</br>prediction: 597547.953</br>total_bedrooms: 5156.2</br></br>longitude: -122.22</br>latitude: 37.86</br>housing_median_age: 21.0</br>total_rooms: 7099.0</br>population: 2401.0</br>households: 1138.0</br>median_income: 8.3014</br>ocean_proximity: NEAR BAY</br>_original_yhat_: 456419.6510733085</br>\"],[\"</br>id: 0</br>prediction: 602350.349</br>total_bedrooms: 5220.639999999999</br></br>longitude: -122.22</br>latitude: 37.86</br>housing_median_age: 21.0</br>total_rooms: 7099.0</br>population: 2401.0</br>households: 1138.0</br>median_income: 8.3014</br>ocean_proximity: NEAR BAY</br>_original_yhat_: 456419.6510733085</br>\"],[\"</br>id: 0</br>prediction: 607152.745</br>total_bedrooms: 5285.08</br></br>longitude: -122.22</br>latitude: 37.86</br>housing_median_age: 21.0</br>total_rooms: 7099.0</br>population: 2401.0</br>households: 1138.0</br>median_income: 8.3014</br>ocean_proximity: NEAR BAY</br>_original_yhat_: 456419.6510733085</br>\"],[\"</br>id: 0</br>prediction: 611955.141</br>total_bedrooms: 5349.5199999999995</br></br>longitude: -122.22</br>latitude: 37.86</br>housing_median_age: 21.0</br>total_rooms: 7099.0</br>population: 2401.0</br>households: 1138.0</br>median_income: 8.3014</br>ocean_proximity: NEAR BAY</br>_original_yhat_: 456419.6510733085</br>\"],[\"</br>id: 0</br>prediction: 616757.537</br>total_bedrooms: 5413.96</br></br>longitude: -122.22</br>latitude: 37.86</br>housing_median_age: 21.0</br>total_rooms: 7099.0</br>population: 2401.0</br>households: 1138.0</br>median_income: 8.3014</br>ocean_proximity: NEAR BAY</br>_original_yhat_: 456419.6510733085</br>\"],[\"</br>id: 0</br>prediction: 621559.933</br>total_bedrooms: 5478.4</br></br>longitude: -122.22</br>latitude: 37.86</br>housing_median_age: 21.0</br>total_rooms: 7099.0</br>population: 2401.0</br>households: 1138.0</br>median_income: 8.3014</br>ocean_proximity: NEAR BAY</br>_original_yhat_: 456419.6510733085</br>\"],[\"</br>id: 0</br>prediction: 626362.329</br>total_bedrooms: 5542.84</br></br>longitude: -122.22</br>latitude: 37.86</br>housing_median_age: 21.0</br>total_rooms: 7099.0</br>population: 2401.0</br>households: 1138.0</br>median_income: 8.3014</br>ocean_proximity: NEAR BAY</br>_original_yhat_: 456419.6510733085</br>\"],[\"</br>id: 0</br>prediction: 631164.725</br>total_bedrooms: 5607.28</br></br>longitude: -122.22</br>latitude: 37.86</br>housing_median_age: 21.0</br>total_rooms: 7099.0</br>population: 2401.0</br>households: 1138.0</br>median_income: 8.3014</br>ocean_proximity: NEAR BAY</br>_original_yhat_: 456419.6510733085</br>\"],[\"</br>id: 0</br>prediction: 635967.121</br>total_bedrooms: 5671.719999999999</br></br>longitude: -122.22</br>latitude: 37.86</br>housing_median_age: 21.0</br>total_rooms: 7099.0</br>population: 2401.0</br>households: 1138.0</br>median_income: 8.3014</br>ocean_proximity: NEAR BAY</br>_original_yhat_: 456419.6510733085</br>\"],[\"</br>id: 0</br>prediction: 640769.518</br>total_bedrooms: 5736.16</br></br>longitude: -122.22</br>latitude: 37.86</br>housing_median_age: 21.0</br>total_rooms: 7099.0</br>population: 2401.0</br>households: 1138.0</br>median_income: 8.3014</br>ocean_proximity: NEAR BAY</br>_original_yhat_: 456419.6510733085</br>\"],[\"</br>id: 0</br>prediction: 645571.914</br>total_bedrooms: 5800.599999999999</br></br>longitude: -122.22</br>latitude: 37.86</br>housing_median_age: 21.0</br>total_rooms: 7099.0</br>population: 2401.0</br>households: 1138.0</br>median_income: 8.3014</br>ocean_proximity: NEAR BAY</br>_original_yhat_: 456419.6510733085</br>\"],[\"</br>id: 0</br>prediction: 650374.31</br>total_bedrooms: 5865.04</br></br>longitude: -122.22</br>latitude: 37.86</br>housing_median_age: 21.0</br>total_rooms: 7099.0</br>population: 2401.0</br>households: 1138.0</br>median_income: 8.3014</br>ocean_proximity: NEAR BAY</br>_original_yhat_: 456419.6510733085</br>\"],[\"</br>id: 0</br>prediction: 655176.706</br>total_bedrooms: 5929.48</br></br>longitude: -122.22</br>latitude: 37.86</br>housing_median_age: 21.0</br>total_rooms: 7099.0</br>population: 2401.0</br>households: 1138.0</br>median_income: 8.3014</br>ocean_proximity: NEAR BAY</br>_original_yhat_: 456419.6510733085</br>\"],[\"</br>id: 0</br>prediction: 659979.102</br>total_bedrooms: 5993.92</br></br>longitude: -122.22</br>latitude: 37.86</br>housing_median_age: 21.0</br>total_rooms: 7099.0</br>population: 2401.0</br>households: 1138.0</br>median_income: 8.3014</br>ocean_proximity: NEAR BAY</br>_original_yhat_: 456419.6510733085</br>\"],[\"</br>id: 0</br>prediction: 664781.498</br>total_bedrooms: 6058.36</br></br>longitude: -122.22</br>latitude: 37.86</br>housing_median_age: 21.0</br>total_rooms: 7099.0</br>population: 2401.0</br>households: 1138.0</br>median_income: 8.3014</br>ocean_proximity: NEAR BAY</br>_original_yhat_: 456419.6510733085</br>\"],[\"</br>id: 0</br>prediction: 669583.894</br>total_bedrooms: 6122.8</br></br>longitude: -122.22</br>latitude: 37.86</br>housing_median_age: 21.0</br>total_rooms: 7099.0</br>population: 2401.0</br>households: 1138.0</br>median_income: 8.3014</br>ocean_proximity: NEAR BAY</br>_original_yhat_: 456419.6510733085</br>\"],[\"</br>id: 0</br>prediction: 674386.29</br>total_bedrooms: 6187.24</br></br>longitude: -122.22</br>latitude: 37.86</br>housing_median_age: 21.0</br>total_rooms: 7099.0</br>population: 2401.0</br>households: 1138.0</br>median_income: 8.3014</br>ocean_proximity: NEAR BAY</br>_original_yhat_: 456419.6510733085</br>\"],[\"</br>id: 0</br>prediction: 679188.686</br>total_bedrooms: 6251.679999999999</br></br>longitude: -122.22</br>latitude: 37.86</br>housing_median_age: 21.0</br>total_rooms: 7099.0</br>population: 2401.0</br>households: 1138.0</br>median_income: 8.3014</br>ocean_proximity: NEAR BAY</br>_original_yhat_: 456419.6510733085</br>\"],[\"</br>id: 0</br>prediction: 683991.082</br>total_bedrooms: 6316.12</br></br>longitude: -122.22</br>latitude: 37.86</br>housing_median_age: 21.0</br>total_rooms: 7099.0</br>population: 2401.0</br>households: 1138.0</br>median_income: 8.3014</br>ocean_proximity: NEAR BAY</br>_original_yhat_: 456419.6510733085</br>\"],[\"</br>id: 0</br>prediction: 688793.479</br>total_bedrooms: 6380.5599999999995</br></br>longitude: -122.22</br>latitude: 37.86</br>housing_median_age: 21.0</br>total_rooms: 7099.0</br>population: 2401.0</br>households: 1138.0</br>median_income: 8.3014</br>ocean_proximity: NEAR BAY</br>_original_yhat_: 456419.6510733085</br>\"],[\"</br>id: 0</br>prediction: 693595.875</br>total_bedrooms: 6445.0</br></br>longitude: -122.22</br>latitude: 37.86</br>housing_median_age: 21.0</br>total_rooms: 7099.0</br>population: 2401.0</br>households: 1138.0</br>median_income: 8.3014</br>ocean_proximity: NEAR BAY</br>_original_yhat_: 456419.6510733085</br>\"]],\"hovertemplate\":\"%{customdata[0]}<extra></extra>\",\"legendgroup\":\"MLP with ordinal encoding\",\"line\":{\"color\":\"#8bdcbe\",\"dash\":\"solid\",\"width\":2},\"marker\":{\"symbol\":\"circle\"},\"mode\":\"lines\",\"name\":\"MLP with ordinal encoding\",\"orientation\":\"v\",\"showlegend\":true,\"x\":[1.0,65.44,129.88,194.32,258.76,323.2,387.64,452.08,516.52,580.96,645.4,709.8399999999999,774.28,838.72,903.16,967.5999999999999,1032.04,1096.48,1106.0,1160.92,1225.36,1289.8,1354.24,1418.6799999999998,1483.12,1547.56,1612.0,1676.44,1740.8799999999999,1805.32,1869.76,1934.1999999999998,1998.6399999999999,2063.08,2127.52,2191.96,2256.4,2320.84,2385.2799999999997,2449.72,2514.16,2578.6,2643.04,2707.48,2771.92,2836.3599999999997,2900.7999999999997,2965.24,3029.68,3094.12,3158.56,3223.0,3287.44,3351.88,3416.3199999999997,3480.7599999999998,3545.2,3609.64,3674.08,3738.52,3802.96,3867.3999999999996,3931.8399999999997,3996.2799999999997,4060.72,4125.16,4189.599999999999,4254.04,4318.48,4382.92,4447.36,4511.8,4576.24,4640.68,4705.12,4769.5599999999995,4834.0,4898.44,4962.88,5027.32,5091.76,5156.2,5220.639999999999,5285.08,5349.5199999999995,5413.96,5478.4,5542.84,5607.28,5671.719999999999,5736.16,5800.599999999999,5865.04,5929.48,5993.92,6058.36,6122.8,6187.24,6251.679999999999,6316.12,6380.5599999999995,6445.0],\"xaxis\":\"x\",\"y\":[520016.9245979336,510816.64289378916,501616.3611896449,492416.0794855009,483215.7977813563,476374.71962777706,472811.6316412574,469248.5436547378,465685.45566821826,462122.3676816987,458559.2796951792,456952.73879687797,455149.8690610637,453346.9993252498,451544.1295894356,449741.2598536213,449767.39582763,455021.1753299578,456419.65107330855,464487.3283658309,473953.48140170384,474424.34659623605,473012.3273918782,471600.30818751996,470188.2889831621,468776.2697788043,467364.2505744464,465952.23137008864,464540.2121657307,463025.53016430396,457248.293622485,450701.16559528414,444154.0375680834,437606.90954088233,431059.7815136811,424512.65348648006,417965.52545927925,411418.3974320785,404871.2694048775,398324.14137767657,391777.01335047546,385229.8853232745,378682.75729607366,372135.6292688727,365588.5012416718,359041.373214471,352494.2451872698,345947.11716006894,350030.64243632,358363.38994670316,366696.1374570862,375028.8849674694,383361.6324778527,391694.37998823577,400027.12749861885,408355.1009891246,416680.21664804686,425005.3323069687,433330.4479658908,441655.5636248128,449980.67928373476,458301.6336665258,466620.8073567644,474939.9810470026,483259.1547372412,491578.32842747966,499897.502117718,508216.6758079562,516535.8494981949,524855.0231884335,533174.196878672,541493.3705689103,549812.5442591488,558131.717949387,563931.1800193484,568733.5761164861,573535.972213624,578338.3683107619,583140.7644078993,587943.1605050375,592745.556602175,597547.9526993128,602350.3487964509,607152.7448935888,611955.1409907263,616757.5370878644,621559.9331850017,626362.3292821397,631164.7253792776,635967.1214764152,640769.5175735531,645571.913670691,650374.3097678287,655176.7058649665,659979.1019621043,664781.4980592421,669583.8941563796,674386.2902535176,679188.6863506553,683991.0824477932,688793.4785449306,693595.874642069],\"yaxis\":\"y\",\"type\":\"scatter\",\"opacity\":1},{\"customdata\":[[\"</br>id: 0</br>prediction: 459841.195</br>total_rooms: 2.0</br></br>longitude: -122.22</br>latitude: 37.86</br>housing_median_age: 21.0</br>total_bedrooms: 1106.0</br>population: 2401.0</br>households: 1138.0</br>median_income: 8.3014</br>ocean_proximity: NEAR BAY</br>_original_yhat_: 456419.6510733085</br>\"],[\"</br>id: 0</br>prediction: 447723.233</br>total_rooms: 395.18</br></br>longitude: -122.22</br>latitude: 37.86</br>housing_median_age: 21.0</br>total_bedrooms: 1106.0</br>population: 2401.0</br>households: 1138.0</br>median_income: 8.3014</br>ocean_proximity: NEAR BAY</br>_original_yhat_: 456419.6510733085</br>\"],[\"</br>id: 0</br>prediction: 432271.411</br>total_rooms: 788.36</br></br>longitude: -122.22</br>latitude: 37.86</br>housing_median_age: 21.0</br>total_bedrooms: 1106.0</br>population: 2401.0</br>households: 1138.0</br>median_income: 8.3014</br>ocean_proximity: NEAR BAY</br>_original_yhat_: 456419.6510733085</br>\"],[\"</br>id: 0</br>prediction: 474904.111</br>total_rooms: 1181.54</br></br>longitude: -122.22</br>latitude: 37.86</br>housing_median_age: 21.0</br>total_bedrooms: 1106.0</br>population: 2401.0</br>households: 1138.0</br>median_income: 8.3014</br>ocean_proximity: NEAR BAY</br>_original_yhat_: 456419.6510733085</br>\"],[\"</br>id: 0</br>prediction: 503605.523</br>total_rooms: 1574.72</br></br>longitude: -122.22</br>latitude: 37.86</br>housing_median_age: 21.0</br>total_bedrooms: 1106.0</br>population: 2401.0</br>households: 1138.0</br>median_income: 8.3014</br>ocean_proximity: NEAR BAY</br>_original_yhat_: 456419.6510733085</br>\"],[\"</br>id: 0</br>prediction: 520964.236</br>total_rooms: 1967.9</br></br>longitude: -122.22</br>latitude: 37.86</br>housing_median_age: 21.0</br>total_bedrooms: 1106.0</br>population: 2401.0</br>households: 1138.0</br>median_income: 8.3014</br>ocean_proximity: NEAR BAY</br>_original_yhat_: 456419.6510733085</br>\"],[\"</br>id: 0</br>prediction: 526531.036</br>total_rooms: 2361.08</br></br>longitude: -122.22</br>latitude: 37.86</br>housing_median_age: 21.0</br>total_bedrooms: 1106.0</br>population: 2401.0</br>households: 1138.0</br>median_income: 8.3014</br>ocean_proximity: NEAR BAY</br>_original_yhat_: 456419.6510733085</br>\"],[\"</br>id: 0</br>prediction: 526210.08</br>total_rooms: 2754.26</br></br>longitude: -122.22</br>latitude: 37.86</br>housing_median_age: 21.0</br>total_bedrooms: 1106.0</br>population: 2401.0</br>households: 1138.0</br>median_income: 8.3014</br>ocean_proximity: NEAR BAY</br>_original_yhat_: 456419.6510733085</br>\"],[\"</br>id: 0</br>prediction: 515382.674</br>total_rooms: 3147.44</br></br>longitude: -122.22</br>latitude: 37.86</br>housing_median_age: 21.0</br>total_bedrooms: 1106.0</br>population: 2401.0</br>households: 1138.0</br>median_income: 8.3014</br>ocean_proximity: NEAR BAY</br>_original_yhat_: 456419.6510733085</br>\"],[\"</br>id: 0</br>prediction: 499311.974</br>total_rooms: 3540.62</br></br>longitude: -122.22</br>latitude: 37.86</br>housing_median_age: 21.0</br>total_bedrooms: 1106.0</br>population: 2401.0</br>households: 1138.0</br>median_income: 8.3014</br>ocean_proximity: NEAR BAY</br>_original_yhat_: 456419.6510733085</br>\"],[\"</br>id: 0</br>prediction: 476366.638</br>total_rooms: 3933.8</br></br>longitude: -122.22</br>latitude: 37.86</br>housing_median_age: 21.0</br>total_bedrooms: 1106.0</br>population: 2401.0</br>households: 1138.0</br>median_income: 8.3014</br>ocean_proximity: NEAR BAY</br>_original_yhat_: 456419.6510733085</br>\"],[\"</br>id: 0</br>prediction: 456020.832</br>total_rooms: 4326.9800000000005</br></br>longitude: -122.22</br>latitude: 37.86</br>housing_median_age: 21.0</br>total_bedrooms: 1106.0</br>population: 2401.0</br>households: 1138.0</br>median_income: 8.3014</br>ocean_proximity: NEAR BAY</br>_original_yhat_: 456419.6510733085</br>\"],[\"</br>id: 0</br>prediction: 471203.773</br>total_rooms: 4720.16</br></br>longitude: -122.22</br>latitude: 37.86</br>housing_median_age: 21.0</br>total_bedrooms: 1106.0</br>population: 2401.0</br>households: 1138.0</br>median_income: 8.3014</br>ocean_proximity: NEAR BAY</br>_original_yhat_: 456419.6510733085</br>\"],[\"</br>id: 0</br>prediction: 483232.547</br>total_rooms: 5113.34</br></br>longitude: -122.22</br>latitude: 37.86</br>housing_median_age: 21.0</br>total_bedrooms: 1106.0</br>population: 2401.0</br>households: 1138.0</br>median_income: 8.3014</br>ocean_proximity: NEAR BAY</br>_original_yhat_: 456419.6510733085</br>\"],[\"</br>id: 0</br>prediction: 490574.254</br>total_rooms: 5506.52</br></br>longitude: -122.22</br>latitude: 37.86</br>housing_median_age: 21.0</br>total_bedrooms: 1106.0</br>population: 2401.0</br>households: 1138.0</br>median_income: 8.3014</br>ocean_proximity: NEAR BAY</br>_original_yhat_: 456419.6510733085</br>\"],[\"</br>id: 0</br>prediction: 496471.276</br>total_rooms: 5899.7</br></br>longitude: -122.22</br>latitude: 37.86</br>housing_median_age: 21.0</br>total_bedrooms: 1106.0</br>population: 2401.0</br>households: 1138.0</br>median_income: 8.3014</br>ocean_proximity: NEAR BAY</br>_original_yhat_: 456419.6510733085</br>\"],[\"</br>id: 0</br>prediction: 493839.482</br>total_rooms: 6292.88</br></br>longitude: -122.22</br>latitude: 37.86</br>housing_median_age: 21.0</br>total_bedrooms: 1106.0</br>population: 2401.0</br>households: 1138.0</br>median_income: 8.3014</br>ocean_proximity: NEAR BAY</br>_original_yhat_: 456419.6510733085</br>\"],[\"</br>id: 0</br>prediction: 475588.193</br>total_rooms: 6686.06</br></br>longitude: -122.22</br>latitude: 37.86</br>housing_median_age: 21.0</br>total_bedrooms: 1106.0</br>population: 2401.0</br>households: 1138.0</br>median_income: 8.3014</br>ocean_proximity: NEAR BAY</br>_original_yhat_: 456419.6510733085</br>\"],[\"</br>id: 0</br>prediction: 457336.904</br>total_rooms: 7079.24</br></br>longitude: -122.22</br>latitude: 37.86</br>housing_median_age: 21.0</br>total_bedrooms: 1106.0</br>population: 2401.0</br>households: 1138.0</br>median_income: 8.3014</br>ocean_proximity: NEAR BAY</br>_original_yhat_: 456419.6510733085</br>\"],[\"</br>id: 0</br>prediction: 456419.651</br>total_rooms: 7099.0</br></br>longitude: -122.22</br>latitude: 37.86</br>housing_median_age: 21.0</br>total_bedrooms: 1106.0</br>population: 2401.0</br>households: 1138.0</br>median_income: 8.3014</br>ocean_proximity: NEAR BAY</br>_original_yhat_: 456419.6510733085</br>\"],[\"</br>id: 0</br>prediction: 449285.162</br>total_rooms: 7472.42</br></br>longitude: -122.22</br>latitude: 37.86</br>housing_median_age: 21.0</br>total_bedrooms: 1106.0</br>population: 2401.0</br>households: 1138.0</br>median_income: 8.3014</br>ocean_proximity: NEAR BAY</br>_original_yhat_: 456419.6510733085</br>\"],[\"</br>id: 0</br>prediction: 451582.543</br>total_rooms: 7865.6</br></br>longitude: -122.22</br>latitude: 37.86</br>housing_median_age: 21.0</br>total_bedrooms: 1106.0</br>population: 2401.0</br>households: 1138.0</br>median_income: 8.3014</br>ocean_proximity: NEAR BAY</br>_original_yhat_: 456419.6510733085</br>\"],[\"</br>id: 0</br>prediction: 453461.497</br>total_rooms: 8258.78</br></br>longitude: -122.22</br>latitude: 37.86</br>housing_median_age: 21.0</br>total_bedrooms: 1106.0</br>population: 2401.0</br>households: 1138.0</br>median_income: 8.3014</br>ocean_proximity: NEAR BAY</br>_original_yhat_: 456419.6510733085</br>\"],[\"</br>id: 0</br>prediction: 457527.683</br>total_rooms: 8651.960000000001</br></br>longitude: -122.22</br>latitude: 37.86</br>housing_median_age: 21.0</br>total_bedrooms: 1106.0</br>population: 2401.0</br>households: 1138.0</br>median_income: 8.3014</br>ocean_proximity: NEAR BAY</br>_original_yhat_: 456419.6510733085</br>\"],[\"</br>id: 0</br>prediction: 463714.518</br>total_rooms: 9045.14</br></br>longitude: -122.22</br>latitude: 37.86</br>housing_median_age: 21.0</br>total_bedrooms: 1106.0</br>population: 2401.0</br>households: 1138.0</br>median_income: 8.3014</br>ocean_proximity: NEAR BAY</br>_original_yhat_: 456419.6510733085</br>\"],[\"</br>id: 0</br>prediction: 469901.354</br>total_rooms: 9438.32</br></br>longitude: -122.22</br>latitude: 37.86</br>housing_median_age: 21.0</br>total_bedrooms: 1106.0</br>population: 2401.0</br>households: 1138.0</br>median_income: 8.3014</br>ocean_proximity: NEAR BAY</br>_original_yhat_: 456419.6510733085</br>\"],[\"</br>id: 0</br>prediction: 476088.189</br>total_rooms: 9831.5</br></br>longitude: -122.22</br>latitude: 37.86</br>housing_median_age: 21.0</br>total_bedrooms: 1106.0</br>population: 2401.0</br>households: 1138.0</br>median_income: 8.3014</br>ocean_proximity: NEAR BAY</br>_original_yhat_: 456419.6510733085</br>\"],[\"</br>id: 0</br>prediction: 482275.024</br>total_rooms: 10224.68</br></br>longitude: -122.22</br>latitude: 37.86</br>housing_median_age: 21.0</br>total_bedrooms: 1106.0</br>population: 2401.0</br>households: 1138.0</br>median_income: 8.3014</br>ocean_proximity: NEAR BAY</br>_original_yhat_: 456419.6510733085</br>\"],[\"</br>id: 0</br>prediction: 488461.859</br>total_rooms: 10617.86</br></br>longitude: -122.22</br>latitude: 37.86</br>housing_median_age: 21.0</br>total_bedrooms: 1106.0</br>population: 2401.0</br>households: 1138.0</br>median_income: 8.3014</br>ocean_proximity: NEAR BAY</br>_original_yhat_: 456419.6510733085</br>\"],[\"</br>id: 0</br>prediction: 494648.694</br>total_rooms: 11011.04</br></br>longitude: -122.22</br>latitude: 37.86</br>housing_median_age: 21.0</br>total_bedrooms: 1106.0</br>population: 2401.0</br>households: 1138.0</br>median_income: 8.3014</br>ocean_proximity: NEAR BAY</br>_original_yhat_: 456419.6510733085</br>\"],[\"</br>id: 0</br>prediction: 500835.529</br>total_rooms: 11404.22</br></br>longitude: -122.22</br>latitude: 37.86</br>housing_median_age: 21.0</br>total_bedrooms: 1106.0</br>population: 2401.0</br>households: 1138.0</br>median_income: 8.3014</br>ocean_proximity: NEAR BAY</br>_original_yhat_: 456419.6510733085</br>\"],[\"</br>id: 0</br>prediction: 507022.365</br>total_rooms: 11797.4</br></br>longitude: -122.22</br>latitude: 37.86</br>housing_median_age: 21.0</br>total_bedrooms: 1106.0</br>population: 2401.0</br>households: 1138.0</br>median_income: 8.3014</br>ocean_proximity: NEAR BAY</br>_original_yhat_: 456419.6510733085</br>\"],[\"</br>id: 0</br>prediction: 513209.2</br>total_rooms: 12190.58</br></br>longitude: -122.22</br>latitude: 37.86</br>housing_median_age: 21.0</br>total_bedrooms: 1106.0</br>population: 2401.0</br>households: 1138.0</br>median_income: 8.3014</br>ocean_proximity: NEAR BAY</br>_original_yhat_: 456419.6510733085</br>\"],[\"</br>id: 0</br>prediction: 519396.035</br>total_rooms: 12583.76</br></br>longitude: -122.22</br>latitude: 37.86</br>housing_median_age: 21.0</br>total_bedrooms: 1106.0</br>population: 2401.0</br>households: 1138.0</br>median_income: 8.3014</br>ocean_proximity: NEAR BAY</br>_original_yhat_: 456419.6510733085</br>\"],[\"</br>id: 0</br>prediction: 525582.87</br>total_rooms: 12976.94</br></br>longitude: -122.22</br>latitude: 37.86</br>housing_median_age: 21.0</br>total_bedrooms: 1106.0</br>population: 2401.0</br>households: 1138.0</br>median_income: 8.3014</br>ocean_proximity: NEAR BAY</br>_original_yhat_: 456419.6510733085</br>\"],[\"</br>id: 0</br>prediction: 531769.705</br>total_rooms: 13370.12</br></br>longitude: -122.22</br>latitude: 37.86</br>housing_median_age: 21.0</br>total_bedrooms: 1106.0</br>population: 2401.0</br>households: 1138.0</br>median_income: 8.3014</br>ocean_proximity: NEAR BAY</br>_original_yhat_: 456419.6510733085</br>\"],[\"</br>id: 0</br>prediction: 537956.541</br>total_rooms: 13763.300000000001</br></br>longitude: -122.22</br>latitude: 37.86</br>housing_median_age: 21.0</br>total_bedrooms: 1106.0</br>population: 2401.0</br>households: 1138.0</br>median_income: 8.3014</br>ocean_proximity: NEAR BAY</br>_original_yhat_: 456419.6510733085</br>\"],[\"</br>id: 0</br>prediction: 544849.014</br>total_rooms: 14156.48</br></br>longitude: -122.22</br>latitude: 37.86</br>housing_median_age: 21.0</br>total_bedrooms: 1106.0</br>population: 2401.0</br>households: 1138.0</br>median_income: 8.3014</br>ocean_proximity: NEAR BAY</br>_original_yhat_: 456419.6510733085</br>\"],[\"</br>id: 0</br>prediction: 552721.424</br>total_rooms: 14549.66</br></br>longitude: -122.22</br>latitude: 37.86</br>housing_median_age: 21.0</br>total_bedrooms: 1106.0</br>population: 2401.0</br>households: 1138.0</br>median_income: 8.3014</br>ocean_proximity: NEAR BAY</br>_original_yhat_: 456419.6510733085</br>\"],[\"</br>id: 0</br>prediction: 560593.835</br>total_rooms: 14942.84</br></br>longitude: -122.22</br>latitude: 37.86</br>housing_median_age: 21.0</br>total_bedrooms: 1106.0</br>population: 2401.0</br>households: 1138.0</br>median_income: 8.3014</br>ocean_proximity: NEAR BAY</br>_original_yhat_: 456419.6510733085</br>\"],[\"</br>id: 0</br>prediction: 568466.246</br>total_rooms: 15336.02</br></br>longitude: -122.22</br>latitude: 37.86</br>housing_median_age: 21.0</br>total_bedrooms: 1106.0</br>population: 2401.0</br>households: 1138.0</br>median_income: 8.3014</br>ocean_proximity: NEAR BAY</br>_original_yhat_: 456419.6510733085</br>\"],[\"</br>id: 0</br>prediction: 576338.657</br>total_rooms: 15729.2</br></br>longitude: -122.22</br>latitude: 37.86</br>housing_median_age: 21.0</br>total_bedrooms: 1106.0</br>population: 2401.0</br>households: 1138.0</br>median_income: 8.3014</br>ocean_proximity: NEAR BAY</br>_original_yhat_: 456419.6510733085</br>\"],[\"</br>id: 0</br>prediction: 584211.068</br>total_rooms: 16122.380000000001</br></br>longitude: -122.22</br>latitude: 37.86</br>housing_median_age: 21.0</br>total_bedrooms: 1106.0</br>population: 2401.0</br>households: 1138.0</br>median_income: 8.3014</br>ocean_proximity: NEAR BAY</br>_original_yhat_: 456419.6510733085</br>\"],[\"</br>id: 0</br>prediction: 592083.479</br>total_rooms: 16515.56</br></br>longitude: -122.22</br>latitude: 37.86</br>housing_median_age: 21.0</br>total_bedrooms: 1106.0</br>population: 2401.0</br>households: 1138.0</br>median_income: 8.3014</br>ocean_proximity: NEAR BAY</br>_original_yhat_: 456419.6510733085</br>\"],[\"</br>id: 0</br>prediction: 599955.89</br>total_rooms: 16908.74</br></br>longitude: -122.22</br>latitude: 37.86</br>housing_median_age: 21.0</br>total_bedrooms: 1106.0</br>population: 2401.0</br>households: 1138.0</br>median_income: 8.3014</br>ocean_proximity: NEAR BAY</br>_original_yhat_: 456419.6510733085</br>\"],[\"</br>id: 0</br>prediction: 607828.301</br>total_rooms: 17301.920000000002</br></br>longitude: -122.22</br>latitude: 37.86</br>housing_median_age: 21.0</br>total_bedrooms: 1106.0</br>population: 2401.0</br>households: 1138.0</br>median_income: 8.3014</br>ocean_proximity: NEAR BAY</br>_original_yhat_: 456419.6510733085</br>\"],[\"</br>id: 0</br>prediction: 615700.712</br>total_rooms: 17695.1</br></br>longitude: -122.22</br>latitude: 37.86</br>housing_median_age: 21.0</br>total_bedrooms: 1106.0</br>population: 2401.0</br>households: 1138.0</br>median_income: 8.3014</br>ocean_proximity: NEAR BAY</br>_original_yhat_: 456419.6510733085</br>\"],[\"</br>id: 0</br>prediction: 623573.123</br>total_rooms: 18088.28</br></br>longitude: -122.22</br>latitude: 37.86</br>housing_median_age: 21.0</br>total_bedrooms: 1106.0</br>population: 2401.0</br>households: 1138.0</br>median_income: 8.3014</br>ocean_proximity: NEAR BAY</br>_original_yhat_: 456419.6510733085</br>\"],[\"</br>id: 0</br>prediction: 631445.534</br>total_rooms: 18481.46</br></br>longitude: -122.22</br>latitude: 37.86</br>housing_median_age: 21.0</br>total_bedrooms: 1106.0</br>population: 2401.0</br>households: 1138.0</br>median_income: 8.3014</br>ocean_proximity: NEAR BAY</br>_original_yhat_: 456419.6510733085</br>\"],[\"</br>id: 0</br>prediction: 646005.46</br>total_rooms: 18874.64</br></br>longitude: -122.22</br>latitude: 37.86</br>housing_median_age: 21.0</br>total_bedrooms: 1106.0</br>population: 2401.0</br>households: 1138.0</br>median_income: 8.3014</br>ocean_proximity: NEAR BAY</br>_original_yhat_: 456419.6510733085</br>\"],[\"</br>id: 0</br>prediction: 663802.219</br>total_rooms: 19267.82</br></br>longitude: -122.22</br>latitude: 37.86</br>housing_median_age: 21.0</br>total_bedrooms: 1106.0</br>population: 2401.0</br>households: 1138.0</br>median_income: 8.3014</br>ocean_proximity: NEAR BAY</br>_original_yhat_: 456419.6510733085</br>\"],[\"</br>id: 0</br>prediction: 681598.978</br>total_rooms: 19661.0</br></br>longitude: -122.22</br>latitude: 37.86</br>housing_median_age: 21.0</br>total_bedrooms: 1106.0</br>population: 2401.0</br>households: 1138.0</br>median_income: 8.3014</br>ocean_proximity: NEAR BAY</br>_original_yhat_: 456419.6510733085</br>\"],[\"</br>id: 0</br>prediction: 699395.738</br>total_rooms: 20054.18</br></br>longitude: -122.22</br>latitude: 37.86</br>housing_median_age: 21.0</br>total_bedrooms: 1106.0</br>population: 2401.0</br>households: 1138.0</br>median_income: 8.3014</br>ocean_proximity: NEAR BAY</br>_original_yhat_: 456419.6510733085</br>\"],[\"</br>id: 0</br>prediction: 717192.497</br>total_rooms: 20447.36</br></br>longitude: -122.22</br>latitude: 37.86</br>housing_median_age: 21.0</br>total_bedrooms: 1106.0</br>population: 2401.0</br>households: 1138.0</br>median_income: 8.3014</br>ocean_proximity: NEAR BAY</br>_original_yhat_: 456419.6510733085</br>\"],[\"</br>id: 0</br>prediction: 734989.256</br>total_rooms: 20840.54</br></br>longitude: -122.22</br>latitude: 37.86</br>housing_median_age: 21.0</br>total_bedrooms: 1106.0</br>population: 2401.0</br>households: 1138.0</br>median_income: 8.3014</br>ocean_proximity: NEAR BAY</br>_original_yhat_: 456419.6510733085</br>\"],[\"</br>id: 0</br>prediction: 752786.015</br>total_rooms: 21233.72</br></br>longitude: -122.22</br>latitude: 37.86</br>housing_median_age: 21.0</br>total_bedrooms: 1106.0</br>population: 2401.0</br>households: 1138.0</br>median_income: 8.3014</br>ocean_proximity: NEAR BAY</br>_original_yhat_: 456419.6510733085</br>\"],[\"</br>id: 0</br>prediction: 770582.775</br>total_rooms: 21626.9</br></br>longitude: -122.22</br>latitude: 37.86</br>housing_median_age: 21.0</br>total_bedrooms: 1106.0</br>population: 2401.0</br>households: 1138.0</br>median_income: 8.3014</br>ocean_proximity: NEAR BAY</br>_original_yhat_: 456419.6510733085</br>\"],[\"</br>id: 0</br>prediction: 788379.534</br>total_rooms: 22020.08</br></br>longitude: -122.22</br>latitude: 37.86</br>housing_median_age: 21.0</br>total_bedrooms: 1106.0</br>population: 2401.0</br>households: 1138.0</br>median_income: 8.3014</br>ocean_proximity: NEAR BAY</br>_original_yhat_: 456419.6510733085</br>\"],[\"</br>id: 0</br>prediction: 806176.293</br>total_rooms: 22413.260000000002</br></br>longitude: -122.22</br>latitude: 37.86</br>housing_median_age: 21.0</br>total_bedrooms: 1106.0</br>population: 2401.0</br>households: 1138.0</br>median_income: 8.3014</br>ocean_proximity: NEAR BAY</br>_original_yhat_: 456419.6510733085</br>\"],[\"</br>id: 0</br>prediction: 823973.053</br>total_rooms: 22806.44</br></br>longitude: -122.22</br>latitude: 37.86</br>housing_median_age: 21.0</br>total_bedrooms: 1106.0</br>population: 2401.0</br>households: 1138.0</br>median_income: 8.3014</br>ocean_proximity: NEAR BAY</br>_original_yhat_: 456419.6510733085</br>\"],[\"</br>id: 0</br>prediction: 841769.812</br>total_rooms: 23199.62</br></br>longitude: -122.22</br>latitude: 37.86</br>housing_median_age: 21.0</br>total_bedrooms: 1106.0</br>population: 2401.0</br>households: 1138.0</br>median_income: 8.3014</br>ocean_proximity: NEAR BAY</br>_original_yhat_: 456419.6510733085</br>\"],[\"</br>id: 0</br>prediction: 859566.571</br>total_rooms: 23592.8</br></br>longitude: -122.22</br>latitude: 37.86</br>housing_median_age: 21.0</br>total_bedrooms: 1106.0</br>population: 2401.0</br>households: 1138.0</br>median_income: 8.3014</br>ocean_proximity: NEAR BAY</br>_original_yhat_: 456419.6510733085</br>\"],[\"</br>id: 0</br>prediction: 877363.331</br>total_rooms: 23985.98</br></br>longitude: -122.22</br>latitude: 37.86</br>housing_median_age: 21.0</br>total_bedrooms: 1106.0</br>population: 2401.0</br>households: 1138.0</br>median_income: 8.3014</br>ocean_proximity: NEAR BAY</br>_original_yhat_: 456419.6510733085</br>\"],[\"</br>id: 0</br>prediction: 895160.09</br>total_rooms: 24379.16</br></br>longitude: -122.22</br>latitude: 37.86</br>housing_median_age: 21.0</br>total_bedrooms: 1106.0</br>population: 2401.0</br>households: 1138.0</br>median_income: 8.3014</br>ocean_proximity: NEAR BAY</br>_original_yhat_: 456419.6510733085</br>\"],[\"</br>id: 0</br>prediction: 912956.849</br>total_rooms: 24772.34</br></br>longitude: -122.22</br>latitude: 37.86</br>housing_median_age: 21.0</br>total_bedrooms: 1106.0</br>population: 2401.0</br>households: 1138.0</br>median_income: 8.3014</br>ocean_proximity: NEAR BAY</br>_original_yhat_: 456419.6510733085</br>\"],[\"</br>id: 0</br>prediction: 930753.609</br>total_rooms: 25165.52</br></br>longitude: -122.22</br>latitude: 37.86</br>housing_median_age: 21.0</br>total_bedrooms: 1106.0</br>population: 2401.0</br>households: 1138.0</br>median_income: 8.3014</br>ocean_proximity: NEAR BAY</br>_original_yhat_: 456419.6510733085</br>\"],[\"</br>id: 0</br>prediction: 948550.368</br>total_rooms: 25558.7</br></br>longitude: -122.22</br>latitude: 37.86</br>housing_median_age: 21.0</br>total_bedrooms: 1106.0</br>population: 2401.0</br>households: 1138.0</br>median_income: 8.3014</br>ocean_proximity: NEAR BAY</br>_original_yhat_: 456419.6510733085</br>\"],[\"</br>id: 0</br>prediction: 966347.127</br>total_rooms: 25951.88</br></br>longitude: -122.22</br>latitude: 37.86</br>housing_median_age: 21.0</br>total_bedrooms: 1106.0</br>population: 2401.0</br>households: 1138.0</br>median_income: 8.3014</br>ocean_proximity: NEAR BAY</br>_original_yhat_: 456419.6510733085</br>\"],[\"</br>id: 0</br>prediction: 984143.886</br>total_rooms: 26345.06</br></br>longitude: -122.22</br>latitude: 37.86</br>housing_median_age: 21.0</br>total_bedrooms: 1106.0</br>population: 2401.0</br>households: 1138.0</br>median_income: 8.3014</br>ocean_proximity: NEAR BAY</br>_original_yhat_: 456419.6510733085</br>\"],[\"</br>id: 0</br>prediction: 1001940.646</br>total_rooms: 26738.24</br></br>longitude: -122.22</br>latitude: 37.86</br>housing_median_age: 21.0</br>total_bedrooms: 1106.0</br>population: 2401.0</br>households: 1138.0</br>median_income: 8.3014</br>ocean_proximity: NEAR BAY</br>_original_yhat_: 456419.6510733085</br>\"],[\"</br>id: 0</br>prediction: 1019737.405</br>total_rooms: 27131.420000000002</br></br>longitude: -122.22</br>latitude: 37.86</br>housing_median_age: 21.0</br>total_bedrooms: 1106.0</br>population: 2401.0</br>households: 1138.0</br>median_income: 8.3014</br>ocean_proximity: NEAR BAY</br>_original_yhat_: 456419.6510733085</br>\"],[\"</br>id: 0</br>prediction: 1037534.164</br>total_rooms: 27524.600000000002</br></br>longitude: -122.22</br>latitude: 37.86</br>housing_median_age: 21.0</br>total_bedrooms: 1106.0</br>population: 2401.0</br>households: 1138.0</br>median_income: 8.3014</br>ocean_proximity: NEAR BAY</br>_original_yhat_: 456419.6510733085</br>\"],[\"</br>id: 0</br>prediction: 1055330.924</br>total_rooms: 27917.78</br></br>longitude: -122.22</br>latitude: 37.86</br>housing_median_age: 21.0</br>total_bedrooms: 1106.0</br>population: 2401.0</br>households: 1138.0</br>median_income: 8.3014</br>ocean_proximity: NEAR BAY</br>_original_yhat_: 456419.6510733085</br>\"],[\"</br>id: 0</br>prediction: 1073127.683</br>total_rooms: 28310.96</br></br>longitude: -122.22</br>latitude: 37.86</br>housing_median_age: 21.0</br>total_bedrooms: 1106.0</br>population: 2401.0</br>households: 1138.0</br>median_income: 8.3014</br>ocean_proximity: NEAR BAY</br>_original_yhat_: 456419.6510733085</br>\"],[\"</br>id: 0</br>prediction: 1090924.442</br>total_rooms: 28704.14</br></br>longitude: -122.22</br>latitude: 37.86</br>housing_median_age: 21.0</br>total_bedrooms: 1106.0</br>population: 2401.0</br>households: 1138.0</br>median_income: 8.3014</br>ocean_proximity: NEAR BAY</br>_original_yhat_: 456419.6510733085</br>\"],[\"</br>id: 0</br>prediction: 1108721.202</br>total_rooms: 29097.32</br></br>longitude: -122.22</br>latitude: 37.86</br>housing_median_age: 21.0</br>total_bedrooms: 1106.0</br>population: 2401.0</br>households: 1138.0</br>median_income: 8.3014</br>ocean_proximity: NEAR BAY</br>_original_yhat_: 456419.6510733085</br>\"],[\"</br>id: 0</br>prediction: 1126517.961</br>total_rooms: 29490.5</br></br>longitude: -122.22</br>latitude: 37.86</br>housing_median_age: 21.0</br>total_bedrooms: 1106.0</br>population: 2401.0</br>households: 1138.0</br>median_income: 8.3014</br>ocean_proximity: NEAR BAY</br>_original_yhat_: 456419.6510733085</br>\"],[\"</br>id: 0</br>prediction: 1144314.72</br>total_rooms: 29883.68</br></br>longitude: -122.22</br>latitude: 37.86</br>housing_median_age: 21.0</br>total_bedrooms: 1106.0</br>population: 2401.0</br>households: 1138.0</br>median_income: 8.3014</br>ocean_proximity: NEAR BAY</br>_original_yhat_: 456419.6510733085</br>\"],[\"</br>id: 0</br>prediction: 1162111.479</br>total_rooms: 30276.86</br></br>longitude: -122.22</br>latitude: 37.86</br>housing_median_age: 21.0</br>total_bedrooms: 1106.0</br>population: 2401.0</br>households: 1138.0</br>median_income: 8.3014</br>ocean_proximity: NEAR BAY</br>_original_yhat_: 456419.6510733085</br>\"],[\"</br>id: 0</br>prediction: 1179908.239</br>total_rooms: 30670.04</br></br>longitude: -122.22</br>latitude: 37.86</br>housing_median_age: 21.0</br>total_bedrooms: 1106.0</br>population: 2401.0</br>households: 1138.0</br>median_income: 8.3014</br>ocean_proximity: NEAR BAY</br>_original_yhat_: 456419.6510733085</br>\"],[\"</br>id: 0</br>prediction: 1197704.998</br>total_rooms: 31063.22</br></br>longitude: -122.22</br>latitude: 37.86</br>housing_median_age: 21.0</br>total_bedrooms: 1106.0</br>population: 2401.0</br>households: 1138.0</br>median_income: 8.3014</br>ocean_proximity: NEAR BAY</br>_original_yhat_: 456419.6510733085</br>\"],[\"</br>id: 0</br>prediction: 1215501.757</br>total_rooms: 31456.4</br></br>longitude: -122.22</br>latitude: 37.86</br>housing_median_age: 21.0</br>total_bedrooms: 1106.0</br>population: 2401.0</br>households: 1138.0</br>median_income: 8.3014</br>ocean_proximity: NEAR BAY</br>_original_yhat_: 456419.6510733085</br>\"],[\"</br>id: 0</br>prediction: 1233298.517</br>total_rooms: 31849.58</br></br>longitude: -122.22</br>latitude: 37.86</br>housing_median_age: 21.0</br>total_bedrooms: 1106.0</br>population: 2401.0</br>households: 1138.0</br>median_income: 8.3014</br>ocean_proximity: NEAR BAY</br>_original_yhat_: 456419.6510733085</br>\"],[\"</br>id: 0</br>prediction: 1251095.276</br>total_rooms: 32242.760000000002</br></br>longitude: -122.22</br>latitude: 37.86</br>housing_median_age: 21.0</br>total_bedrooms: 1106.0</br>population: 2401.0</br>households: 1138.0</br>median_income: 8.3014</br>ocean_proximity: NEAR BAY</br>_original_yhat_: 456419.6510733085</br>\"],[\"</br>id: 0</br>prediction: 1268892.035</br>total_rooms: 32635.940000000002</br></br>longitude: -122.22</br>latitude: 37.86</br>housing_median_age: 21.0</br>total_bedrooms: 1106.0</br>population: 2401.0</br>households: 1138.0</br>median_income: 8.3014</br>ocean_proximity: NEAR BAY</br>_original_yhat_: 456419.6510733085</br>\"],[\"</br>id: 0</br>prediction: 1286688.795</br>total_rooms: 33029.12</br></br>longitude: -122.22</br>latitude: 37.86</br>housing_median_age: 21.0</br>total_bedrooms: 1106.0</br>population: 2401.0</br>households: 1138.0</br>median_income: 8.3014</br>ocean_proximity: NEAR BAY</br>_original_yhat_: 456419.6510733085</br>\"],[\"</br>id: 0</br>prediction: 1304485.554</br>total_rooms: 33422.3</br></br>longitude: -122.22</br>latitude: 37.86</br>housing_median_age: 21.0</br>total_bedrooms: 1106.0</br>population: 2401.0</br>households: 1138.0</br>median_income: 8.3014</br>ocean_proximity: NEAR BAY</br>_original_yhat_: 456419.6510733085</br>\"],[\"</br>id: 0</br>prediction: 1322282.313</br>total_rooms: 33815.48</br></br>longitude: -122.22</br>latitude: 37.86</br>housing_median_age: 21.0</br>total_bedrooms: 1106.0</br>population: 2401.0</br>households: 1138.0</br>median_income: 8.3014</br>ocean_proximity: NEAR BAY</br>_original_yhat_: 456419.6510733085</br>\"],[\"</br>id: 0</br>prediction: 1340079.073</br>total_rooms: 34208.66</br></br>longitude: -122.22</br>latitude: 37.86</br>housing_median_age: 21.0</br>total_bedrooms: 1106.0</br>population: 2401.0</br>households: 1138.0</br>median_income: 8.3014</br>ocean_proximity: NEAR BAY</br>_original_yhat_: 456419.6510733085</br>\"],[\"</br>id: 0</br>prediction: 1357875.832</br>total_rooms: 34601.840000000004</br></br>longitude: -122.22</br>latitude: 37.86</br>housing_median_age: 21.0</br>total_bedrooms: 1106.0</br>population: 2401.0</br>households: 1138.0</br>median_income: 8.3014</br>ocean_proximity: NEAR BAY</br>_original_yhat_: 456419.6510733085</br>\"],[\"</br>id: 0</br>prediction: 1375672.591</br>total_rooms: 34995.020000000004</br></br>longitude: -122.22</br>latitude: 37.86</br>housing_median_age: 21.0</br>total_bedrooms: 1106.0</br>population: 2401.0</br>households: 1138.0</br>median_income: 8.3014</br>ocean_proximity: NEAR BAY</br>_original_yhat_: 456419.6510733085</br>\"],[\"</br>id: 0</br>prediction: 1393469.35</br>total_rooms: 35388.2</br></br>longitude: -122.22</br>latitude: 37.86</br>housing_median_age: 21.0</br>total_bedrooms: 1106.0</br>population: 2401.0</br>households: 1138.0</br>median_income: 8.3014</br>ocean_proximity: NEAR BAY</br>_original_yhat_: 456419.6510733085</br>\"],[\"</br>id: 0</br>prediction: 1411266.11</br>total_rooms: 35781.38</br></br>longitude: -122.22</br>latitude: 37.86</br>housing_median_age: 21.0</br>total_bedrooms: 1106.0</br>population: 2401.0</br>households: 1138.0</br>median_income: 8.3014</br>ocean_proximity: NEAR BAY</br>_original_yhat_: 456419.6510733085</br>\"],[\"</br>id: 0</br>prediction: 1429062.869</br>total_rooms: 36174.56</br></br>longitude: -122.22</br>latitude: 37.86</br>housing_median_age: 21.0</br>total_bedrooms: 1106.0</br>population: 2401.0</br>households: 1138.0</br>median_income: 8.3014</br>ocean_proximity: NEAR BAY</br>_original_yhat_: 456419.6510733085</br>\"],[\"</br>id: 0</br>prediction: 1446859.628</br>total_rooms: 36567.74</br></br>longitude: -122.22</br>latitude: 37.86</br>housing_median_age: 21.0</br>total_bedrooms: 1106.0</br>population: 2401.0</br>households: 1138.0</br>median_income: 8.3014</br>ocean_proximity: NEAR BAY</br>_original_yhat_: 456419.6510733085</br>\"],[\"</br>id: 0</br>prediction: 1464656.388</br>total_rooms: 36960.92</br></br>longitude: -122.22</br>latitude: 37.86</br>housing_median_age: 21.0</br>total_bedrooms: 1106.0</br>population: 2401.0</br>households: 1138.0</br>median_income: 8.3014</br>ocean_proximity: NEAR BAY</br>_original_yhat_: 456419.6510733085</br>\"],[\"</br>id: 0</br>prediction: 1482453.147</br>total_rooms: 37354.1</br></br>longitude: -122.22</br>latitude: 37.86</br>housing_median_age: 21.0</br>total_bedrooms: 1106.0</br>population: 2401.0</br>households: 1138.0</br>median_income: 8.3014</br>ocean_proximity: NEAR BAY</br>_original_yhat_: 456419.6510733085</br>\"],[\"</br>id: 0</br>prediction: 1500249.906</br>total_rooms: 37747.28</br></br>longitude: -122.22</br>latitude: 37.86</br>housing_median_age: 21.0</br>total_bedrooms: 1106.0</br>population: 2401.0</br>households: 1138.0</br>median_income: 8.3014</br>ocean_proximity: NEAR BAY</br>_original_yhat_: 456419.6510733085</br>\"],[\"</br>id: 0</br>prediction: 1518046.666</br>total_rooms: 38140.46</br></br>longitude: -122.22</br>latitude: 37.86</br>housing_median_age: 21.0</br>total_bedrooms: 1106.0</br>population: 2401.0</br>households: 1138.0</br>median_income: 8.3014</br>ocean_proximity: NEAR BAY</br>_original_yhat_: 456419.6510733085</br>\"],[\"</br>id: 0</br>prediction: 1535843.425</br>total_rooms: 38533.64</br></br>longitude: -122.22</br>latitude: 37.86</br>housing_median_age: 21.0</br>total_bedrooms: 1106.0</br>population: 2401.0</br>households: 1138.0</br>median_income: 8.3014</br>ocean_proximity: NEAR BAY</br>_original_yhat_: 456419.6510733085</br>\"],[\"</br>id: 0</br>prediction: 1553640.184</br>total_rooms: 38926.82</br></br>longitude: -122.22</br>latitude: 37.86</br>housing_median_age: 21.0</br>total_bedrooms: 1106.0</br>population: 2401.0</br>households: 1138.0</br>median_income: 8.3014</br>ocean_proximity: NEAR BAY</br>_original_yhat_: 456419.6510733085</br>\"],[\"</br>id: 0</br>prediction: 1571436.944</br>total_rooms: 39320.0</br></br>longitude: -122.22</br>latitude: 37.86</br>housing_median_age: 21.0</br>total_bedrooms: 1106.0</br>population: 2401.0</br>households: 1138.0</br>median_income: 8.3014</br>ocean_proximity: NEAR BAY</br>_original_yhat_: 456419.6510733085</br>\"]],\"hovertemplate\":\"%{customdata[0]}<extra></extra>\",\"legendgroup\":\"MLP with ordinal encoding\",\"line\":{\"color\":\"#8bdcbe\",\"dash\":\"solid\",\"width\":2},\"marker\":{\"symbol\":\"circle\"},\"mode\":\"lines\",\"name\":\"MLP with ordinal encoding\",\"orientation\":\"v\",\"showlegend\":false,\"x\":[2.0,395.18,788.36,1181.54,1574.72,1967.9,2361.08,2754.26,3147.44,3540.62,3933.8,4326.9800000000005,4720.16,5113.34,5506.52,5899.7,6292.88,6686.06,7079.24,7099.0,7472.42,7865.6,8258.78,8651.960000000001,9045.14,9438.32,9831.5,10224.68,10617.86,11011.04,11404.22,11797.4,12190.58,12583.76,12976.94,13370.12,13763.300000000001,14156.48,14549.66,14942.84,15336.02,15729.2,16122.380000000001,16515.56,16908.74,17301.920000000002,17695.1,18088.28,18481.46,18874.64,19267.82,19661.0,20054.18,20447.36,20840.54,21233.72,21626.9,22020.08,22413.260000000002,22806.44,23199.62,23592.8,23985.98,24379.16,24772.34,25165.52,25558.7,25951.88,26345.06,26738.24,27131.420000000002,27524.600000000002,27917.78,28310.96,28704.14,29097.32,29490.5,29883.68,30276.86,30670.04,31063.22,31456.4,31849.58,32242.760000000002,32635.940000000002,33029.12,33422.3,33815.48,34208.66,34601.840000000004,34995.020000000004,35388.2,35781.38,36174.56,36567.74,36960.92,37354.1,37747.28,38140.46,38533.64,38926.82,39320.0],\"xaxis\":\"x2\",\"y\":[459841.1950085187,447723.23262868536,432271.4110028133,474904.1105395381,503605.52279118815,520964.2359772598,526531.0362790893,526210.0795139252,515382.67410202697,499311.97367873316,476366.6384509993,456020.8321594829,471203.77349658863,483232.5466594142,490574.25373251544,496471.2764061175,493839.4818961809,475588.19290330523,457336.9039104296,456419.65107330855,449285.161834362,451582.54318186024,453461.49676810624,457527.68312086345,463714.51831283263,469901.3535048017,476088.18869677145,482275.0238887404,488461.8590807099,494648.69427267916,500835.5294646486,507022.36465661786,513209.1998485872,519396.0350405566,525582.8702325257,531769.7054244953,537956.5406164645,544849.013575449,552721.4244935695,560593.8354116905,568466.246329811,576338.6572479325,584211.0681660533,592083.4790841746,599955.8900022954,607828.3009204165,615700.7118385368,623573.1227566587,631445.5336747791,646005.4596147392,663802.2189208517,681598.9782269645,699395.7375330772,717192.4968391899,734989.256145303,752786.0154514157,770582.7747575276,788379.5340636406,806176.2933697532,823973.0526758662,841769.8119819788,859566.5712880911,877363.3305942042,895160.0899003168,912956.849206429,930753.6085125421,948550.367818655,966347.1271247676,984143.8864308809,1001940.6457369939,1019737.4050431063,1037534.1643492196,1055330.923655331,1073127.6829614444,1090924.442267557,1108721.20157367,1126517.9608797822,1144314.7201858952,1162111.4794920085,1179908.2387981205,1197704.998104233,1215501.7574103458,1233298.5167164593,1251095.276022571,1268892.0353286846,1286688.794634797,1304485.5539409092,1322282.313247023,1340079.0725531352,1357875.831859247,1375672.5911653598,1393469.350471472,1411266.1097775854,1429062.869083698,1446859.628389811,1464656.387695923,1482453.147002036,1500249.9063081488,1518046.6656142622,1535843.4249203743,1553640.1842264868,1571436.9435325998],\"yaxis\":\"y2\",\"type\":\"scatter\",\"opacity\":1},{\"customdata\":[[\"</br>id: 0</br>prediction: 514984.017</br>total_bedrooms: 1.0</br></br>longitude: -122.22</br>latitude: 37.86</br>housing_median_age: 21.0</br>total_rooms: 7099.0</br>population: 2401.0</br>households: 1138.0</br>median_income: 8.3014</br>ocean_proximity: NEAR BAY</br>_original_yhat_: 477045.9424363552</br>\"],[\"</br>id: 0</br>prediction: 459284.965</br>total_bedrooms: 65.44</br></br>longitude: -122.22</br>latitude: 37.86</br>housing_median_age: 21.0</br>total_rooms: 7099.0</br>population: 2401.0</br>households: 1138.0</br>median_income: 8.3014</br>ocean_proximity: NEAR BAY</br>_original_yhat_: 477045.9424363552</br>\"],[\"</br>id: 0</br>prediction: 446541.301</br>total_bedrooms: 129.88</br></br>longitude: -122.22</br>latitude: 37.86</br>housing_median_age: 21.0</br>total_rooms: 7099.0</br>population: 2401.0</br>households: 1138.0</br>median_income: 8.3014</br>ocean_proximity: NEAR BAY</br>_original_yhat_: 477045.9424363552</br>\"],[\"</br>id: 0</br>prediction: 443198.713</br>total_bedrooms: 194.32</br></br>longitude: -122.22</br>latitude: 37.86</br>housing_median_age: 21.0</br>total_rooms: 7099.0</br>population: 2401.0</br>households: 1138.0</br>median_income: 8.3014</br>ocean_proximity: NEAR BAY</br>_original_yhat_: 477045.9424363552</br>\"],[\"</br>id: 0</br>prediction: 447920.161</br>total_bedrooms: 258.76</br></br>longitude: -122.22</br>latitude: 37.86</br>housing_median_age: 21.0</br>total_rooms: 7099.0</br>population: 2401.0</br>households: 1138.0</br>median_income: 8.3014</br>ocean_proximity: NEAR BAY</br>_original_yhat_: 477045.9424363552</br>\"],[\"</br>id: 0</br>prediction: 451798.213</br>total_bedrooms: 323.2</br></br>longitude: -122.22</br>latitude: 37.86</br>housing_median_age: 21.0</br>total_rooms: 7099.0</br>population: 2401.0</br>households: 1138.0</br>median_income: 8.3014</br>ocean_proximity: NEAR BAY</br>_original_yhat_: 477045.9424363552</br>\"],[\"</br>id: 0</br>prediction: 455113.356</br>total_bedrooms: 387.64</br></br>longitude: -122.22</br>latitude: 37.86</br>housing_median_age: 21.0</br>total_rooms: 7099.0</br>population: 2401.0</br>households: 1138.0</br>median_income: 8.3014</br>ocean_proximity: NEAR BAY</br>_original_yhat_: 477045.9424363552</br>\"],[\"</br>id: 0</br>prediction: 458023.045</br>total_bedrooms: 452.08</br></br>longitude: -122.22</br>latitude: 37.86</br>housing_median_age: 21.0</br>total_rooms: 7099.0</br>population: 2401.0</br>households: 1138.0</br>median_income: 8.3014</br>ocean_proximity: NEAR BAY</br>_original_yhat_: 477045.9424363552</br>\"],[\"</br>id: 0</br>prediction: 460625.194</br>total_bedrooms: 516.52</br></br>longitude: -122.22</br>latitude: 37.86</br>housing_median_age: 21.0</br>total_rooms: 7099.0</br>population: 2401.0</br>households: 1138.0</br>median_income: 8.3014</br>ocean_proximity: NEAR BAY</br>_original_yhat_: 477045.9424363552</br>\"],[\"</br>id: 0</br>prediction: 462985.16</br>total_bedrooms: 580.96</br></br>longitude: -122.22</br>latitude: 37.86</br>housing_median_age: 21.0</br>total_rooms: 7099.0</br>population: 2401.0</br>households: 1138.0</br>median_income: 8.3014</br>ocean_proximity: NEAR BAY</br>_original_yhat_: 477045.9424363552</br>\"],[\"</br>id: 0</br>prediction: 465148.903</br>total_bedrooms: 645.4</br></br>longitude: -122.22</br>latitude: 37.86</br>housing_median_age: 21.0</br>total_rooms: 7099.0</br>population: 2401.0</br>households: 1138.0</br>median_income: 8.3014</br>ocean_proximity: NEAR BAY</br>_original_yhat_: 477045.9424363552</br>\"],[\"</br>id: 0</br>prediction: 467150.067</br>total_bedrooms: 709.8399999999999</br></br>longitude: -122.22</br>latitude: 37.86</br>housing_median_age: 21.0</br>total_rooms: 7099.0</br>population: 2401.0</br>households: 1138.0</br>median_income: 8.3014</br>ocean_proximity: NEAR BAY</br>_original_yhat_: 477045.9424363552</br>\"],[\"</br>id: 0</br>prediction: 469014.072</br>total_bedrooms: 774.28</br></br>longitude: -122.22</br>latitude: 37.86</br>housing_median_age: 21.0</br>total_rooms: 7099.0</br>population: 2401.0</br>households: 1138.0</br>median_income: 8.3014</br>ocean_proximity: NEAR BAY</br>_original_yhat_: 477045.9424363552</br>\"],[\"</br>id: 0</br>prediction: 470760.631</br>total_bedrooms: 838.72</br></br>longitude: -122.22</br>latitude: 37.86</br>housing_median_age: 21.0</br>total_rooms: 7099.0</br>population: 2401.0</br>households: 1138.0</br>median_income: 8.3014</br>ocean_proximity: NEAR BAY</br>_original_yhat_: 477045.9424363552</br>\"],[\"</br>id: 0</br>prediction: 472405.36</br>total_bedrooms: 903.16</br></br>longitude: -122.22</br>latitude: 37.86</br>housing_median_age: 21.0</br>total_rooms: 7099.0</br>population: 2401.0</br>households: 1138.0</br>median_income: 8.3014</br>ocean_proximity: NEAR BAY</br>_original_yhat_: 477045.9424363552</br>\"],[\"</br>id: 0</br>prediction: 473960.859</br>total_bedrooms: 967.5999999999999</br></br>longitude: -122.22</br>latitude: 37.86</br>housing_median_age: 21.0</br>total_rooms: 7099.0</br>population: 2401.0</br>households: 1138.0</br>median_income: 8.3014</br>ocean_proximity: NEAR BAY</br>_original_yhat_: 477045.9424363552</br>\"],[\"</br>id: 0</br>prediction: 475437.449</br>total_bedrooms: 1032.04</br></br>longitude: -122.22</br>latitude: 37.86</br>housing_median_age: 21.0</br>total_rooms: 7099.0</br>population: 2401.0</br>households: 1138.0</br>median_income: 8.3014</br>ocean_proximity: NEAR BAY</br>_original_yhat_: 477045.9424363552</br>\"],[\"</br>id: 0</br>prediction: 476843.702</br>total_bedrooms: 1096.48</br></br>longitude: -122.22</br>latitude: 37.86</br>housing_median_age: 21.0</br>total_rooms: 7099.0</br>population: 2401.0</br>households: 1138.0</br>median_income: 8.3014</br>ocean_proximity: NEAR BAY</br>_original_yhat_: 477045.9424363552</br>\"],[\"</br>id: 0</br>prediction: 477045.942</br>total_bedrooms: 1106.0</br></br>longitude: -122.22</br>latitude: 37.86</br>housing_median_age: 21.0</br>total_rooms: 7099.0</br>population: 2401.0</br>households: 1138.0</br>median_income: 8.3014</br>ocean_proximity: NEAR BAY</br>_original_yhat_: 477045.9424363552</br>\"],[\"</br>id: 0</br>prediction: 478186.817</br>total_bedrooms: 1160.92</br></br>longitude: -122.22</br>latitude: 37.86</br>housing_median_age: 21.0</br>total_rooms: 7099.0</br>population: 2401.0</br>households: 1138.0</br>median_income: 8.3014</br>ocean_proximity: NEAR BAY</br>_original_yhat_: 477045.9424363552</br>\"],[\"</br>id: 0</br>prediction: 479472.906</br>total_bedrooms: 1225.36</br></br>longitude: -122.22</br>latitude: 37.86</br>housing_median_age: 21.0</br>total_rooms: 7099.0</br>population: 2401.0</br>households: 1138.0</br>median_income: 8.3014</br>ocean_proximity: NEAR BAY</br>_original_yhat_: 477045.9424363552</br>\"],[\"</br>id: 0</br>prediction: 480707.206</br>total_bedrooms: 1289.8</br></br>longitude: -122.22</br>latitude: 37.86</br>housing_median_age: 21.0</br>total_rooms: 7099.0</br>population: 2401.0</br>households: 1138.0</br>median_income: 8.3014</br>ocean_proximity: NEAR BAY</br>_original_yhat_: 477045.9424363552</br>\"],[\"</br>id: 0</br>prediction: 481894.237</br>total_bedrooms: 1354.24</br></br>longitude: -122.22</br>latitude: 37.86</br>housing_median_age: 21.0</br>total_rooms: 7099.0</br>population: 2401.0</br>households: 1138.0</br>median_income: 8.3014</br>ocean_proximity: NEAR BAY</br>_original_yhat_: 477045.9424363552</br>\"],[\"</br>id: 0</br>prediction: 483037.934</br>total_bedrooms: 1418.6799999999998</br></br>longitude: -122.22</br>latitude: 37.86</br>housing_median_age: 21.0</br>total_rooms: 7099.0</br>population: 2401.0</br>households: 1138.0</br>median_income: 8.3014</br>ocean_proximity: NEAR BAY</br>_original_yhat_: 477045.9424363552</br>\"],[\"</br>id: 0</br>prediction: 484141.742</br>total_bedrooms: 1483.12</br></br>longitude: -122.22</br>latitude: 37.86</br>housing_median_age: 21.0</br>total_rooms: 7099.0</br>population: 2401.0</br>households: 1138.0</br>median_income: 8.3014</br>ocean_proximity: NEAR BAY</br>_original_yhat_: 477045.9424363552</br>\"],[\"</br>id: 0</br>prediction: 485208.697</br>total_bedrooms: 1547.56</br></br>longitude: -122.22</br>latitude: 37.86</br>housing_median_age: 21.0</br>total_rooms: 7099.0</br>population: 2401.0</br>households: 1138.0</br>median_income: 8.3014</br>ocean_proximity: NEAR BAY</br>_original_yhat_: 477045.9424363552</br>\"],[\"</br>id: 0</br>prediction: 487423.416</br>total_bedrooms: 1612.0</br></br>longitude: -122.22</br>latitude: 37.86</br>housing_median_age: 21.0</br>total_rooms: 7099.0</br>population: 2401.0</br>households: 1138.0</br>median_income: 8.3014</br>ocean_proximity: NEAR BAY</br>_original_yhat_: 477045.9424363552</br>\"],[\"</br>id: 0</br>prediction: 492096.363</br>total_bedrooms: 1676.44</br></br>longitude: -122.22</br>latitude: 37.86</br>housing_median_age: 21.0</br>total_rooms: 7099.0</br>population: 2401.0</br>households: 1138.0</br>median_income: 8.3014</br>ocean_proximity: NEAR BAY</br>_original_yhat_: 477045.9424363552</br>\"],[\"</br>id: 0</br>prediction: 496631.02</br>total_bedrooms: 1740.8799999999999</br></br>longitude: -122.22</br>latitude: 37.86</br>housing_median_age: 21.0</br>total_rooms: 7099.0</br>population: 2401.0</br>households: 1138.0</br>median_income: 8.3014</br>ocean_proximity: NEAR BAY</br>_original_yhat_: 477045.9424363552</br>\"],[\"</br>id: 0</br>prediction: 501036.374</br>total_bedrooms: 1805.32</br></br>longitude: -122.22</br>latitude: 37.86</br>housing_median_age: 21.0</br>total_rooms: 7099.0</br>population: 2401.0</br>households: 1138.0</br>median_income: 8.3014</br>ocean_proximity: NEAR BAY</br>_original_yhat_: 477045.9424363552</br>\"],[\"</br>id: 0</br>prediction: 505320.535</br>total_bedrooms: 1869.76</br></br>longitude: -122.22</br>latitude: 37.86</br>housing_median_age: 21.0</br>total_rooms: 7099.0</br>population: 2401.0</br>households: 1138.0</br>median_income: 8.3014</br>ocean_proximity: NEAR BAY</br>_original_yhat_: 477045.9424363552</br>\"],[\"</br>id: 0</br>prediction: 509490.843</br>total_bedrooms: 1934.1999999999998</br></br>longitude: -122.22</br>latitude: 37.86</br>housing_median_age: 21.0</br>total_rooms: 7099.0</br>population: 2401.0</br>households: 1138.0</br>median_income: 8.3014</br>ocean_proximity: NEAR BAY</br>_original_yhat_: 477045.9424363552</br>\"],[\"</br>id: 0</br>prediction: 513553.97</br>total_bedrooms: 1998.6399999999999</br></br>longitude: -122.22</br>latitude: 37.86</br>housing_median_age: 21.0</br>total_rooms: 7099.0</br>population: 2401.0</br>households: 1138.0</br>median_income: 8.3014</br>ocean_proximity: NEAR BAY</br>_original_yhat_: 477045.9424363552</br>\"],[\"</br>id: 0</br>prediction: 517515.994</br>total_bedrooms: 2063.08</br></br>longitude: -122.22</br>latitude: 37.86</br>housing_median_age: 21.0</br>total_rooms: 7099.0</br>population: 2401.0</br>households: 1138.0</br>median_income: 8.3014</br>ocean_proximity: NEAR BAY</br>_original_yhat_: 477045.9424363552</br>\"],[\"</br>id: 0</br>prediction: 521382.474</br>total_bedrooms: 2127.52</br></br>longitude: -122.22</br>latitude: 37.86</br>housing_median_age: 21.0</br>total_rooms: 7099.0</br>population: 2401.0</br>households: 1138.0</br>median_income: 8.3014</br>ocean_proximity: NEAR BAY</br>_original_yhat_: 477045.9424363552</br>\"],[\"</br>id: 0</br>prediction: 525158.503</br>total_bedrooms: 2191.96</br></br>longitude: -122.22</br>latitude: 37.86</br>housing_median_age: 21.0</br>total_rooms: 7099.0</br>population: 2401.0</br>households: 1138.0</br>median_income: 8.3014</br>ocean_proximity: NEAR BAY</br>_original_yhat_: 477045.9424363552</br>\"],[\"</br>id: 0</br>prediction: 528848.765</br>total_bedrooms: 2256.4</br></br>longitude: -122.22</br>latitude: 37.86</br>housing_median_age: 21.0</br>total_rooms: 7099.0</br>population: 2401.0</br>households: 1138.0</br>median_income: 8.3014</br>ocean_proximity: NEAR BAY</br>_original_yhat_: 477045.9424363552</br>\"],[\"</br>id: 0</br>prediction: 532457.575</br>total_bedrooms: 2320.84</br></br>longitude: -122.22</br>latitude: 37.86</br>housing_median_age: 21.0</br>total_rooms: 7099.0</br>population: 2401.0</br>households: 1138.0</br>median_income: 8.3014</br>ocean_proximity: NEAR BAY</br>_original_yhat_: 477045.9424363552</br>\"],[\"</br>id: 0</br>prediction: 535988.918</br>total_bedrooms: 2385.2799999999997</br></br>longitude: -122.22</br>latitude: 37.86</br>housing_median_age: 21.0</br>total_rooms: 7099.0</br>population: 2401.0</br>households: 1138.0</br>median_income: 8.3014</br>ocean_proximity: NEAR BAY</br>_original_yhat_: 477045.9424363552</br>\"],[\"</br>id: 0</br>prediction: 539446.484</br>total_bedrooms: 2449.72</br></br>longitude: -122.22</br>latitude: 37.86</br>housing_median_age: 21.0</br>total_rooms: 7099.0</br>population: 2401.0</br>households: 1138.0</br>median_income: 8.3014</br>ocean_proximity: NEAR BAY</br>_original_yhat_: 477045.9424363552</br>\"],[\"</br>id: 0</br>prediction: 542833.694</br>total_bedrooms: 2514.16</br></br>longitude: -122.22</br>latitude: 37.86</br>housing_median_age: 21.0</br>total_rooms: 7099.0</br>population: 2401.0</br>households: 1138.0</br>median_income: 8.3014</br>ocean_proximity: NEAR BAY</br>_original_yhat_: 477045.9424363552</br>\"],[\"</br>id: 0</br>prediction: 546153.729</br>total_bedrooms: 2578.6</br></br>longitude: -122.22</br>latitude: 37.86</br>housing_median_age: 21.0</br>total_rooms: 7099.0</br>population: 2401.0</br>households: 1138.0</br>median_income: 8.3014</br>ocean_proximity: NEAR BAY</br>_original_yhat_: 477045.9424363552</br>\"],[\"</br>id: 0</br>prediction: 549409.551</br>total_bedrooms: 2643.04</br></br>longitude: -122.22</br>latitude: 37.86</br>housing_median_age: 21.0</br>total_rooms: 7099.0</br>population: 2401.0</br>households: 1138.0</br>median_income: 8.3014</br>ocean_proximity: NEAR BAY</br>_original_yhat_: 477045.9424363552</br>\"],[\"</br>id: 0</br>prediction: 552603.921</br>total_bedrooms: 2707.48</br></br>longitude: -122.22</br>latitude: 37.86</br>housing_median_age: 21.0</br>total_rooms: 7099.0</br>population: 2401.0</br>households: 1138.0</br>median_income: 8.3014</br>ocean_proximity: NEAR BAY</br>_original_yhat_: 477045.9424363552</br>\"],[\"</br>id: 0</br>prediction: 555739.421</br>total_bedrooms: 2771.92</br></br>longitude: -122.22</br>latitude: 37.86</br>housing_median_age: 21.0</br>total_rooms: 7099.0</br>population: 2401.0</br>households: 1138.0</br>median_income: 8.3014</br>ocean_proximity: NEAR BAY</br>_original_yhat_: 477045.9424363552</br>\"],[\"</br>id: 0</br>prediction: 558818.468</br>total_bedrooms: 2836.3599999999997</br></br>longitude: -122.22</br>latitude: 37.86</br>housing_median_age: 21.0</br>total_rooms: 7099.0</br>population: 2401.0</br>households: 1138.0</br>median_income: 8.3014</br>ocean_proximity: NEAR BAY</br>_original_yhat_: 477045.9424363552</br>\"],[\"</br>id: 0</br>prediction: 561843.325</br>total_bedrooms: 2900.7999999999997</br></br>longitude: -122.22</br>latitude: 37.86</br>housing_median_age: 21.0</br>total_rooms: 7099.0</br>population: 2401.0</br>households: 1138.0</br>median_income: 8.3014</br>ocean_proximity: NEAR BAY</br>_original_yhat_: 477045.9424363552</br>\"],[\"</br>id: 0</br>prediction: 564816.119</br>total_bedrooms: 2965.24</br></br>longitude: -122.22</br>latitude: 37.86</br>housing_median_age: 21.0</br>total_rooms: 7099.0</br>population: 2401.0</br>households: 1138.0</br>median_income: 8.3014</br>ocean_proximity: NEAR BAY</br>_original_yhat_: 477045.9424363552</br>\"],[\"</br>id: 0</br>prediction: 567738.849</br>total_bedrooms: 3029.68</br></br>longitude: -122.22</br>latitude: 37.86</br>housing_median_age: 21.0</br>total_rooms: 7099.0</br>population: 2401.0</br>households: 1138.0</br>median_income: 8.3014</br>ocean_proximity: NEAR BAY</br>_original_yhat_: 477045.9424363552</br>\"],[\"</br>id: 0</br>prediction: 570613.394</br>total_bedrooms: 3094.12</br></br>longitude: -122.22</br>latitude: 37.86</br>housing_median_age: 21.0</br>total_rooms: 7099.0</br>population: 2401.0</br>households: 1138.0</br>median_income: 8.3014</br>ocean_proximity: NEAR BAY</br>_original_yhat_: 477045.9424363552</br>\"],[\"</br>id: 0</br>prediction: 573441.53</br>total_bedrooms: 3158.56</br></br>longitude: -122.22</br>latitude: 37.86</br>housing_median_age: 21.0</br>total_rooms: 7099.0</br>population: 2401.0</br>households: 1138.0</br>median_income: 8.3014</br>ocean_proximity: NEAR BAY</br>_original_yhat_: 477045.9424363552</br>\"],[\"</br>id: 0</br>prediction: 576224.929</br>total_bedrooms: 3223.0</br></br>longitude: -122.22</br>latitude: 37.86</br>housing_median_age: 21.0</br>total_rooms: 7099.0</br>population: 2401.0</br>households: 1138.0</br>median_income: 8.3014</br>ocean_proximity: NEAR BAY</br>_original_yhat_: 477045.9424363552</br>\"],[\"</br>id: 0</br>prediction: 578965.171</br>total_bedrooms: 3287.44</br></br>longitude: -122.22</br>latitude: 37.86</br>housing_median_age: 21.0</br>total_rooms: 7099.0</br>population: 2401.0</br>households: 1138.0</br>median_income: 8.3014</br>ocean_proximity: NEAR BAY</br>_original_yhat_: 477045.9424363552</br>\"],[\"</br>id: 0</br>prediction: 581663.753</br>total_bedrooms: 3351.88</br></br>longitude: -122.22</br>latitude: 37.86</br>housing_median_age: 21.0</br>total_rooms: 7099.0</br>population: 2401.0</br>households: 1138.0</br>median_income: 8.3014</br>ocean_proximity: NEAR BAY</br>_original_yhat_: 477045.9424363552</br>\"],[\"</br>id: 0</br>prediction: 584322.091</br>total_bedrooms: 3416.3199999999997</br></br>longitude: -122.22</br>latitude: 37.86</br>housing_median_age: 21.0</br>total_rooms: 7099.0</br>population: 2401.0</br>households: 1138.0</br>median_income: 8.3014</br>ocean_proximity: NEAR BAY</br>_original_yhat_: 477045.9424363552</br>\"],[\"</br>id: 0</br>prediction: 586941.527</br>total_bedrooms: 3480.7599999999998</br></br>longitude: -122.22</br>latitude: 37.86</br>housing_median_age: 21.0</br>total_rooms: 7099.0</br>population: 2401.0</br>households: 1138.0</br>median_income: 8.3014</br>ocean_proximity: NEAR BAY</br>_original_yhat_: 477045.9424363552</br>\"],[\"</br>id: 0</br>prediction: 589523.334</br>total_bedrooms: 3545.2</br></br>longitude: -122.22</br>latitude: 37.86</br>housing_median_age: 21.0</br>total_rooms: 7099.0</br>population: 2401.0</br>households: 1138.0</br>median_income: 8.3014</br>ocean_proximity: NEAR BAY</br>_original_yhat_: 477045.9424363552</br>\"],[\"</br>id: 0</br>prediction: 592068.723</br>total_bedrooms: 3609.64</br></br>longitude: -122.22</br>latitude: 37.86</br>housing_median_age: 21.0</br>total_rooms: 7099.0</br>population: 2401.0</br>households: 1138.0</br>median_income: 8.3014</br>ocean_proximity: NEAR BAY</br>_original_yhat_: 477045.9424363552</br>\"],[\"</br>id: 0</br>prediction: 594578.844</br>total_bedrooms: 3674.08</br></br>longitude: -122.22</br>latitude: 37.86</br>housing_median_age: 21.0</br>total_rooms: 7099.0</br>population: 2401.0</br>households: 1138.0</br>median_income: 8.3014</br>ocean_proximity: NEAR BAY</br>_original_yhat_: 477045.9424363552</br>\"],[\"</br>id: 0</br>prediction: 597054.791</br>total_bedrooms: 3738.52</br></br>longitude: -122.22</br>latitude: 37.86</br>housing_median_age: 21.0</br>total_rooms: 7099.0</br>population: 2401.0</br>households: 1138.0</br>median_income: 8.3014</br>ocean_proximity: NEAR BAY</br>_original_yhat_: 477045.9424363552</br>\"],[\"</br>id: 0</br>prediction: 599497.606</br>total_bedrooms: 3802.96</br></br>longitude: -122.22</br>latitude: 37.86</br>housing_median_age: 21.0</br>total_rooms: 7099.0</br>population: 2401.0</br>households: 1138.0</br>median_income: 8.3014</br>ocean_proximity: NEAR BAY</br>_original_yhat_: 477045.9424363552</br>\"],[\"</br>id: 0</br>prediction: 601908.283</br>total_bedrooms: 3867.3999999999996</br></br>longitude: -122.22</br>latitude: 37.86</br>housing_median_age: 21.0</br>total_rooms: 7099.0</br>population: 2401.0</br>households: 1138.0</br>median_income: 8.3014</br>ocean_proximity: NEAR BAY</br>_original_yhat_: 477045.9424363552</br>\"],[\"</br>id: 0</br>prediction: 604287.77</br>total_bedrooms: 3931.8399999999997</br></br>longitude: -122.22</br>latitude: 37.86</br>housing_median_age: 21.0</br>total_rooms: 7099.0</br>population: 2401.0</br>households: 1138.0</br>median_income: 8.3014</br>ocean_proximity: NEAR BAY</br>_original_yhat_: 477045.9424363552</br>\"],[\"</br>id: 0</br>prediction: 606636.972</br>total_bedrooms: 3996.2799999999997</br></br>longitude: -122.22</br>latitude: 37.86</br>housing_median_age: 21.0</br>total_rooms: 7099.0</br>population: 2401.0</br>households: 1138.0</br>median_income: 8.3014</br>ocean_proximity: NEAR BAY</br>_original_yhat_: 477045.9424363552</br>\"],[\"</br>id: 0</br>prediction: 608956.752</br>total_bedrooms: 4060.72</br></br>longitude: -122.22</br>latitude: 37.86</br>housing_median_age: 21.0</br>total_rooms: 7099.0</br>population: 2401.0</br>households: 1138.0</br>median_income: 8.3014</br>ocean_proximity: NEAR BAY</br>_original_yhat_: 477045.9424363552</br>\"],[\"</br>id: 0</br>prediction: 611247.938</br>total_bedrooms: 4125.16</br></br>longitude: -122.22</br>latitude: 37.86</br>housing_median_age: 21.0</br>total_rooms: 7099.0</br>population: 2401.0</br>households: 1138.0</br>median_income: 8.3014</br>ocean_proximity: NEAR BAY</br>_original_yhat_: 477045.9424363552</br>\"],[\"</br>id: 0</br>prediction: 613511.321</br>total_bedrooms: 4189.599999999999</br></br>longitude: -122.22</br>latitude: 37.86</br>housing_median_age: 21.0</br>total_rooms: 7099.0</br>population: 2401.0</br>households: 1138.0</br>median_income: 8.3014</br>ocean_proximity: NEAR BAY</br>_original_yhat_: 477045.9424363552</br>\"],[\"</br>id: 0</br>prediction: 615747.657</br>total_bedrooms: 4254.04</br></br>longitude: -122.22</br>latitude: 37.86</br>housing_median_age: 21.0</br>total_rooms: 7099.0</br>population: 2401.0</br>households: 1138.0</br>median_income: 8.3014</br>ocean_proximity: NEAR BAY</br>_original_yhat_: 477045.9424363552</br>\"],[\"</br>id: 0</br>prediction: 617957.673</br>total_bedrooms: 4318.48</br></br>longitude: -122.22</br>latitude: 37.86</br>housing_median_age: 21.0</br>total_rooms: 7099.0</br>population: 2401.0</br>households: 1138.0</br>median_income: 8.3014</br>ocean_proximity: NEAR BAY</br>_original_yhat_: 477045.9424363552</br>\"],[\"</br>id: 0</br>prediction: 620142.064</br>total_bedrooms: 4382.92</br></br>longitude: -122.22</br>latitude: 37.86</br>housing_median_age: 21.0</br>total_rooms: 7099.0</br>population: 2401.0</br>households: 1138.0</br>median_income: 8.3014</br>ocean_proximity: NEAR BAY</br>_original_yhat_: 477045.9424363552</br>\"],[\"</br>id: 0</br>prediction: 622301.497</br>total_bedrooms: 4447.36</br></br>longitude: -122.22</br>latitude: 37.86</br>housing_median_age: 21.0</br>total_rooms: 7099.0</br>population: 2401.0</br>households: 1138.0</br>median_income: 8.3014</br>ocean_proximity: NEAR BAY</br>_original_yhat_: 477045.9424363552</br>\"],[\"</br>id: 0</br>prediction: 624436.612</br>total_bedrooms: 4511.8</br></br>longitude: -122.22</br>latitude: 37.86</br>housing_median_age: 21.0</br>total_rooms: 7099.0</br>population: 2401.0</br>households: 1138.0</br>median_income: 8.3014</br>ocean_proximity: NEAR BAY</br>_original_yhat_: 477045.9424363552</br>\"],[\"</br>id: 0</br>prediction: 626548.026</br>total_bedrooms: 4576.24</br></br>longitude: -122.22</br>latitude: 37.86</br>housing_median_age: 21.0</br>total_rooms: 7099.0</br>population: 2401.0</br>households: 1138.0</br>median_income: 8.3014</br>ocean_proximity: NEAR BAY</br>_original_yhat_: 477045.9424363552</br>\"],[\"</br>id: 0</br>prediction: 628636.329</br>total_bedrooms: 4640.68</br></br>longitude: -122.22</br>latitude: 37.86</br>housing_median_age: 21.0</br>total_rooms: 7099.0</br>population: 2401.0</br>households: 1138.0</br>median_income: 8.3014</br>ocean_proximity: NEAR BAY</br>_original_yhat_: 477045.9424363552</br>\"],[\"</br>id: 0</br>prediction: 630702.091</br>total_bedrooms: 4705.12</br></br>longitude: -122.22</br>latitude: 37.86</br>housing_median_age: 21.0</br>total_rooms: 7099.0</br>population: 2401.0</br>households: 1138.0</br>median_income: 8.3014</br>ocean_proximity: NEAR BAY</br>_original_yhat_: 477045.9424363552</br>\"],[\"</br>id: 0</br>prediction: 632745.857</br>total_bedrooms: 4769.5599999999995</br></br>longitude: -122.22</br>latitude: 37.86</br>housing_median_age: 21.0</br>total_rooms: 7099.0</br>population: 2401.0</br>households: 1138.0</br>median_income: 8.3014</br>ocean_proximity: NEAR BAY</br>_original_yhat_: 477045.9424363552</br>\"],[\"</br>id: 0</br>prediction: 634768.155</br>total_bedrooms: 4834.0</br></br>longitude: -122.22</br>latitude: 37.86</br>housing_median_age: 21.0</br>total_rooms: 7099.0</br>population: 2401.0</br>households: 1138.0</br>median_income: 8.3014</br>ocean_proximity: NEAR BAY</br>_original_yhat_: 477045.9424363552</br>\"],[\"</br>id: 0</br>prediction: 636769.492</br>total_bedrooms: 4898.44</br></br>longitude: -122.22</br>latitude: 37.86</br>housing_median_age: 21.0</br>total_rooms: 7099.0</br>population: 2401.0</br>households: 1138.0</br>median_income: 8.3014</br>ocean_proximity: NEAR BAY</br>_original_yhat_: 477045.9424363552</br>\"],[\"</br>id: 0</br>prediction: 638750.356</br>total_bedrooms: 4962.88</br></br>longitude: -122.22</br>latitude: 37.86</br>housing_median_age: 21.0</br>total_rooms: 7099.0</br>population: 2401.0</br>households: 1138.0</br>median_income: 8.3014</br>ocean_proximity: NEAR BAY</br>_original_yhat_: 477045.9424363552</br>\"],[\"</br>id: 0</br>prediction: 640711.22</br>total_bedrooms: 5027.32</br></br>longitude: -122.22</br>latitude: 37.86</br>housing_median_age: 21.0</br>total_rooms: 7099.0</br>population: 2401.0</br>households: 1138.0</br>median_income: 8.3014</br>ocean_proximity: NEAR BAY</br>_original_yhat_: 477045.9424363552</br>\"],[\"</br>id: 0</br>prediction: 642652.536</br>total_bedrooms: 5091.76</br></br>longitude: -122.22</br>latitude: 37.86</br>housing_median_age: 21.0</br>total_rooms: 7099.0</br>population: 2401.0</br>households: 1138.0</br>median_income: 8.3014</br>ocean_proximity: NEAR BAY</br>_original_yhat_: 477045.9424363552</br>\"],[\"</br>id: 0</br>prediction: 644574.744</br>total_bedrooms: 5156.2</br></br>longitude: -122.22</br>latitude: 37.86</br>housing_median_age: 21.0</br>total_rooms: 7099.0</br>population: 2401.0</br>households: 1138.0</br>median_income: 8.3014</br>ocean_proximity: NEAR BAY</br>_original_yhat_: 477045.9424363552</br>\"],[\"</br>id: 0</br>prediction: 646478.267</br>total_bedrooms: 5220.639999999999</br></br>longitude: -122.22</br>latitude: 37.86</br>housing_median_age: 21.0</br>total_rooms: 7099.0</br>population: 2401.0</br>households: 1138.0</br>median_income: 8.3014</br>ocean_proximity: NEAR BAY</br>_original_yhat_: 477045.9424363552</br>\"],[\"</br>id: 0</br>prediction: 648363.514</br>total_bedrooms: 5285.08</br></br>longitude: -122.22</br>latitude: 37.86</br>housing_median_age: 21.0</br>total_rooms: 7099.0</br>population: 2401.0</br>households: 1138.0</br>median_income: 8.3014</br>ocean_proximity: NEAR BAY</br>_original_yhat_: 477045.9424363552</br>\"],[\"</br>id: 0</br>prediction: 650230.88</br>total_bedrooms: 5349.5199999999995</br></br>longitude: -122.22</br>latitude: 37.86</br>housing_median_age: 21.0</br>total_rooms: 7099.0</br>population: 2401.0</br>households: 1138.0</br>median_income: 8.3014</br>ocean_proximity: NEAR BAY</br>_original_yhat_: 477045.9424363552</br>\"],[\"</br>id: 0</br>prediction: 652080.747</br>total_bedrooms: 5413.96</br></br>longitude: -122.22</br>latitude: 37.86</br>housing_median_age: 21.0</br>total_rooms: 7099.0</br>population: 2401.0</br>households: 1138.0</br>median_income: 8.3014</br>ocean_proximity: NEAR BAY</br>_original_yhat_: 477045.9424363552</br>\"],[\"</br>id: 0</br>prediction: 653913.485</br>total_bedrooms: 5478.4</br></br>longitude: -122.22</br>latitude: 37.86</br>housing_median_age: 21.0</br>total_rooms: 7099.0</br>population: 2401.0</br>households: 1138.0</br>median_income: 8.3014</br>ocean_proximity: NEAR BAY</br>_original_yhat_: 477045.9424363552</br>\"],[\"</br>id: 0</br>prediction: 655729.45</br>total_bedrooms: 5542.84</br></br>longitude: -122.22</br>latitude: 37.86</br>housing_median_age: 21.0</br>total_rooms: 7099.0</br>population: 2401.0</br>households: 1138.0</br>median_income: 8.3014</br>ocean_proximity: NEAR BAY</br>_original_yhat_: 477045.9424363552</br>\"],[\"</br>id: 0</br>prediction: 657528.988</br>total_bedrooms: 5607.28</br></br>longitude: -122.22</br>latitude: 37.86</br>housing_median_age: 21.0</br>total_rooms: 7099.0</br>population: 2401.0</br>households: 1138.0</br>median_income: 8.3014</br>ocean_proximity: NEAR BAY</br>_original_yhat_: 477045.9424363552</br>\"],[\"</br>id: 0</br>prediction: 659312.435</br>total_bedrooms: 5671.719999999999</br></br>longitude: -122.22</br>latitude: 37.86</br>housing_median_age: 21.0</br>total_rooms: 7099.0</br>population: 2401.0</br>households: 1138.0</br>median_income: 8.3014</br>ocean_proximity: NEAR BAY</br>_original_yhat_: 477045.9424363552</br>\"],[\"</br>id: 0</br>prediction: 661080.114</br>total_bedrooms: 5736.16</br></br>longitude: -122.22</br>latitude: 37.86</br>housing_median_age: 21.0</br>total_rooms: 7099.0</br>population: 2401.0</br>households: 1138.0</br>median_income: 8.3014</br>ocean_proximity: NEAR BAY</br>_original_yhat_: 477045.9424363552</br>\"],[\"</br>id: 0</br>prediction: 662832.34</br>total_bedrooms: 5800.599999999999</br></br>longitude: -122.22</br>latitude: 37.86</br>housing_median_age: 21.0</br>total_rooms: 7099.0</br>population: 2401.0</br>households: 1138.0</br>median_income: 8.3014</br>ocean_proximity: NEAR BAY</br>_original_yhat_: 477045.9424363552</br>\"],[\"</br>id: 0</br>prediction: 664569.417</br>total_bedrooms: 5865.04</br></br>longitude: -122.22</br>latitude: 37.86</br>housing_median_age: 21.0</br>total_rooms: 7099.0</br>population: 2401.0</br>households: 1138.0</br>median_income: 8.3014</br>ocean_proximity: NEAR BAY</br>_original_yhat_: 477045.9424363552</br>\"],[\"</br>id: 0</br>prediction: 666291.64</br>total_bedrooms: 5929.48</br></br>longitude: -122.22</br>latitude: 37.86</br>housing_median_age: 21.0</br>total_rooms: 7099.0</br>population: 2401.0</br>households: 1138.0</br>median_income: 8.3014</br>ocean_proximity: NEAR BAY</br>_original_yhat_: 477045.9424363552</br>\"],[\"</br>id: 0</br>prediction: 667999.296</br>total_bedrooms: 5993.92</br></br>longitude: -122.22</br>latitude: 37.86</br>housing_median_age: 21.0</br>total_rooms: 7099.0</br>population: 2401.0</br>households: 1138.0</br>median_income: 8.3014</br>ocean_proximity: NEAR BAY</br>_original_yhat_: 477045.9424363552</br>\"],[\"</br>id: 0</br>prediction: 669692.663</br>total_bedrooms: 6058.36</br></br>longitude: -122.22</br>latitude: 37.86</br>housing_median_age: 21.0</br>total_rooms: 7099.0</br>population: 2401.0</br>households: 1138.0</br>median_income: 8.3014</br>ocean_proximity: NEAR BAY</br>_original_yhat_: 477045.9424363552</br>\"],[\"</br>id: 0</br>prediction: 671372.01</br>total_bedrooms: 6122.8</br></br>longitude: -122.22</br>latitude: 37.86</br>housing_median_age: 21.0</br>total_rooms: 7099.0</br>population: 2401.0</br>households: 1138.0</br>median_income: 8.3014</br>ocean_proximity: NEAR BAY</br>_original_yhat_: 477045.9424363552</br>\"],[\"</br>id: 0</br>prediction: 673037.599</br>total_bedrooms: 6187.24</br></br>longitude: -122.22</br>latitude: 37.86</br>housing_median_age: 21.0</br>total_rooms: 7099.0</br>population: 2401.0</br>households: 1138.0</br>median_income: 8.3014</br>ocean_proximity: NEAR BAY</br>_original_yhat_: 477045.9424363552</br>\"],[\"</br>id: 0</br>prediction: 674689.684</br>total_bedrooms: 6251.679999999999</br></br>longitude: -122.22</br>latitude: 37.86</br>housing_median_age: 21.0</br>total_rooms: 7099.0</br>population: 2401.0</br>households: 1138.0</br>median_income: 8.3014</br>ocean_proximity: NEAR BAY</br>_original_yhat_: 477045.9424363552</br>\"],[\"</br>id: 0</br>prediction: 676328.512</br>total_bedrooms: 6316.12</br></br>longitude: -122.22</br>latitude: 37.86</br>housing_median_age: 21.0</br>total_rooms: 7099.0</br>population: 2401.0</br>households: 1138.0</br>median_income: 8.3014</br>ocean_proximity: NEAR BAY</br>_original_yhat_: 477045.9424363552</br>\"],[\"</br>id: 0</br>prediction: 677954.324</br>total_bedrooms: 6380.5599999999995</br></br>longitude: -122.22</br>latitude: 37.86</br>housing_median_age: 21.0</br>total_rooms: 7099.0</br>population: 2401.0</br>households: 1138.0</br>median_income: 8.3014</br>ocean_proximity: NEAR BAY</br>_original_yhat_: 477045.9424363552</br>\"],[\"</br>id: 0</br>prediction: 679567.352</br>total_bedrooms: 6445.0</br></br>longitude: -122.22</br>latitude: 37.86</br>housing_median_age: 21.0</br>total_rooms: 7099.0</br>population: 2401.0</br>households: 1138.0</br>median_income: 8.3014</br>ocean_proximity: NEAR BAY</br>_original_yhat_: 477045.9424363552</br>\"]],\"hovertemplate\":\"%{customdata[0]}<extra></extra>\",\"legendgroup\":\"MLP with ordinal encoding and power transformation\",\"line\":{\"color\":\"#f05a71\",\"dash\":\"solid\",\"width\":2},\"marker\":{\"symbol\":\"circle\"},\"mode\":\"lines\",\"name\":\"MLP with ordinal encoding and power transformation\",\"orientation\":\"v\",\"showlegend\":true,\"x\":[1.0,65.44,129.88,194.32,258.76,323.2,387.64,452.08,516.52,580.96,645.4,709.8399999999999,774.28,838.72,903.16,967.5999999999999,1032.04,1096.48,1106.0,1160.92,1225.36,1289.8,1354.24,1418.6799999999998,1483.12,1547.56,1612.0,1676.44,1740.8799999999999,1805.32,1869.76,1934.1999999999998,1998.6399999999999,2063.08,2127.52,2191.96,2256.4,2320.84,2385.2799999999997,2449.72,2514.16,2578.6,2643.04,2707.48,2771.92,2836.3599999999997,2900.7999999999997,2965.24,3029.68,3094.12,3158.56,3223.0,3287.44,3351.88,3416.3199999999997,3480.7599999999998,3545.2,3609.64,3674.08,3738.52,3802.96,3867.3999999999996,3931.8399999999997,3996.2799999999997,4060.72,4125.16,4189.599999999999,4254.04,4318.48,4382.92,4447.36,4511.8,4576.24,4640.68,4705.12,4769.5599999999995,4834.0,4898.44,4962.88,5027.32,5091.76,5156.2,5220.639999999999,5285.08,5349.5199999999995,5413.96,5478.4,5542.84,5607.28,5671.719999999999,5736.16,5800.599999999999,5865.04,5929.48,5993.92,6058.36,6122.8,6187.24,6251.679999999999,6316.12,6380.5599999999995,6445.0],\"xaxis\":\"x\",\"y\":[514984.0169850132,459284.9646277199,446541.30121612427,443198.7125579667,447920.16063270374,451798.2134409363,455113.3563327365,458023.04522200493,460625.1939741796,462985.1596907183,465148.90321973246,467150.0669675104,469014.0721004288,470760.6308955324,472405.36039436987,473960.85918501957,475437.44932341756,476843.70166326425,477045.9424363552,478186.8166729747,479472.9062061493,480707.20577498287,481894.2370405376,483037.9339798198,484141.7421108662,485208.6974361139,487423.41583020537,492096.36346783995,496631.01991798397,501036.3740720718,505320.5346152245,509490.843230975,513553.9700001428,517515.9942727162,521382.47360518057,525158.5028292726,528848.764910809,532457.5749394521,535988.9183404463,539446.4842015152,542833.6944503605,546153.7294916166,549409.5508099117,552603.9209626932,555739.4213187171,558818.467842484,561843.325179054,564816.1192556547,567738.8485848778,570613.3944278194,573441.529953334,576224.9285108744,578965.1711185969,581663.7532549814,584322.0910308084,586941.5268085733,589523.334328051,592068.7233895474,594578.8441401718,597054.7910031085,599497.6062852286,601908.283494343,604287.7703938887,606636.9718197673,608956.7522813701,611247.9383664688,613511.3209675757,615747.6573455558,617957.6730446581,620142.0636717094,622301.4965509528,624436.6122648867,626548.0260904667,628636.3293391423,630702.0906084055,632745.8569518212,634768.1549738729,636769.4918553892,638750.3563148001,640711.2195100223,642652.5358853426,644574.7439673124,646478.2671133131,648363.5142161562,650230.8803678039,652080.747485039,653913.4848996976,655729.4499158545,657528.9883361812,659312.4349595075,661080.1140514779,662832.3397900341,664569.416687341,666291.6399896401,667999.2960564164,669692.6627201536,671372.0096278724,673037.5985655503,674689.6837664533,676328.5122043322,677954.3238723734,679567.3520487335],\"yaxis\":\"y\",\"type\":\"scatter\",\"opacity\":1},{\"customdata\":[[\"</br>id: 0</br>prediction: 972616.651</br>total_rooms: 2.0</br></br>longitude: -122.22</br>latitude: 37.86</br>housing_median_age: 21.0</br>total_bedrooms: 1106.0</br>population: 2401.0</br>households: 1138.0</br>median_income: 8.3014</br>ocean_proximity: NEAR BAY</br>_original_yhat_: 477045.9424363552</br>\"],[\"</br>id: 0</br>prediction: 716064.376</br>total_rooms: 395.18</br></br>longitude: -122.22</br>latitude: 37.86</br>housing_median_age: 21.0</br>total_bedrooms: 1106.0</br>population: 2401.0</br>households: 1138.0</br>median_income: 8.3014</br>ocean_proximity: NEAR BAY</br>_original_yhat_: 477045.9424363552</br>\"],[\"</br>id: 0</br>prediction: 649751.692</br>total_rooms: 788.36</br></br>longitude: -122.22</br>latitude: 37.86</br>housing_median_age: 21.0</br>total_bedrooms: 1106.0</br>population: 2401.0</br>households: 1138.0</br>median_income: 8.3014</br>ocean_proximity: NEAR BAY</br>_original_yhat_: 477045.9424363552</br>\"],[\"</br>id: 0</br>prediction: 614025.233</br>total_rooms: 1181.54</br></br>longitude: -122.22</br>latitude: 37.86</br>housing_median_age: 21.0</br>total_bedrooms: 1106.0</br>population: 2401.0</br>households: 1138.0</br>median_income: 8.3014</br>ocean_proximity: NEAR BAY</br>_original_yhat_: 477045.9424363552</br>\"],[\"</br>id: 0</br>prediction: 588982.52</br>total_rooms: 1574.72</br></br>longitude: -122.22</br>latitude: 37.86</br>housing_median_age: 21.0</br>total_bedrooms: 1106.0</br>population: 2401.0</br>households: 1138.0</br>median_income: 8.3014</br>ocean_proximity: NEAR BAY</br>_original_yhat_: 477045.9424363552</br>\"],[\"</br>id: 0</br>prediction: 568432.292</br>total_rooms: 1967.9</br></br>longitude: -122.22</br>latitude: 37.86</br>housing_median_age: 21.0</br>total_bedrooms: 1106.0</br>population: 2401.0</br>households: 1138.0</br>median_income: 8.3014</br>ocean_proximity: NEAR BAY</br>_original_yhat_: 477045.9424363552</br>\"],[\"</br>id: 0</br>prediction: 550874.537</br>total_rooms: 2361.08</br></br>longitude: -122.22</br>latitude: 37.86</br>housing_median_age: 21.0</br>total_bedrooms: 1106.0</br>population: 2401.0</br>households: 1138.0</br>median_income: 8.3014</br>ocean_proximity: NEAR BAY</br>_original_yhat_: 477045.9424363552</br>\"],[\"</br>id: 0</br>prediction: 535469.494</br>total_rooms: 2754.26</br></br>longitude: -122.22</br>latitude: 37.86</br>housing_median_age: 21.0</br>total_bedrooms: 1106.0</br>population: 2401.0</br>households: 1138.0</br>median_income: 8.3014</br>ocean_proximity: NEAR BAY</br>_original_yhat_: 477045.9424363552</br>\"],[\"</br>id: 0</br>prediction: 521695.891</br>total_rooms: 3147.44</br></br>longitude: -122.22</br>latitude: 37.86</br>housing_median_age: 21.0</br>total_bedrooms: 1106.0</br>population: 2401.0</br>households: 1138.0</br>median_income: 8.3014</br>ocean_proximity: NEAR BAY</br>_original_yhat_: 477045.9424363552</br>\"],[\"</br>id: 0</br>prediction: 509206.22</br>total_rooms: 3540.62</br></br>longitude: -122.22</br>latitude: 37.86</br>housing_median_age: 21.0</br>total_bedrooms: 1106.0</br>population: 2401.0</br>households: 1138.0</br>median_income: 8.3014</br>ocean_proximity: NEAR BAY</br>_original_yhat_: 477045.9424363552</br>\"],[\"</br>id: 0</br>prediction: 497756.334</br>total_rooms: 3933.8</br></br>longitude: -122.22</br>latitude: 37.86</br>housing_median_age: 21.0</br>total_bedrooms: 1106.0</br>population: 2401.0</br>households: 1138.0</br>median_income: 8.3014</br>ocean_proximity: NEAR BAY</br>_original_yhat_: 477045.9424363552</br>\"],[\"</br>id: 0</br>prediction: 489004.318</br>total_rooms: 4326.9800000000005</br></br>longitude: -122.22</br>latitude: 37.86</br>housing_median_age: 21.0</br>total_bedrooms: 1106.0</br>population: 2401.0</br>households: 1138.0</br>median_income: 8.3014</br>ocean_proximity: NEAR BAY</br>_original_yhat_: 477045.9424363552</br>\"],[\"</br>id: 0</br>prediction: 481531.538</br>total_rooms: 4720.16</br></br>longitude: -122.22</br>latitude: 37.86</br>housing_median_age: 21.0</br>total_bedrooms: 1106.0</br>population: 2401.0</br>households: 1138.0</br>median_income: 8.3014</br>ocean_proximity: NEAR BAY</br>_original_yhat_: 477045.9424363552</br>\"],[\"</br>id: 0</br>prediction: 474529.902</br>total_rooms: 5113.34</br></br>longitude: -122.22</br>latitude: 37.86</br>housing_median_age: 21.0</br>total_bedrooms: 1106.0</br>population: 2401.0</br>households: 1138.0</br>median_income: 8.3014</br>ocean_proximity: NEAR BAY</br>_original_yhat_: 477045.9424363552</br>\"],[\"</br>id: 0</br>prediction: 471407.324</br>total_rooms: 5506.52</br></br>longitude: -122.22</br>latitude: 37.86</br>housing_median_age: 21.0</br>total_bedrooms: 1106.0</br>population: 2401.0</br>households: 1138.0</br>median_income: 8.3014</br>ocean_proximity: NEAR BAY</br>_original_yhat_: 477045.9424363552</br>\"],[\"</br>id: 0</br>prediction: 472907.306</br>total_rooms: 5899.7</br></br>longitude: -122.22</br>latitude: 37.86</br>housing_median_age: 21.0</br>total_bedrooms: 1106.0</br>population: 2401.0</br>households: 1138.0</br>median_income: 8.3014</br>ocean_proximity: NEAR BAY</br>_original_yhat_: 477045.9424363552</br>\"],[\"</br>id: 0</br>prediction: 474331.175</br>total_rooms: 6292.88</br></br>longitude: -122.22</br>latitude: 37.86</br>housing_median_age: 21.0</br>total_bedrooms: 1106.0</br>population: 2401.0</br>households: 1138.0</br>median_income: 8.3014</br>ocean_proximity: NEAR BAY</br>_original_yhat_: 477045.9424363552</br>\"],[\"</br>id: 0</br>prediction: 475687.206</br>total_rooms: 6686.06</br></br>longitude: -122.22</br>latitude: 37.86</br>housing_median_age: 21.0</br>total_bedrooms: 1106.0</br>population: 2401.0</br>households: 1138.0</br>median_income: 8.3014</br>ocean_proximity: NEAR BAY</br>_original_yhat_: 477045.9424363552</br>\"],[\"</br>id: 0</br>prediction: 476982.349</br>total_rooms: 7079.24</br></br>longitude: -122.22</br>latitude: 37.86</br>housing_median_age: 21.0</br>total_bedrooms: 1106.0</br>population: 2401.0</br>households: 1138.0</br>median_income: 8.3014</br>ocean_proximity: NEAR BAY</br>_original_yhat_: 477045.9424363552</br>\"],[\"</br>id: 0</br>prediction: 477045.942</br>total_rooms: 7099.0</br></br>longitude: -122.22</br>latitude: 37.86</br>housing_median_age: 21.0</br>total_bedrooms: 1106.0</br>population: 2401.0</br>households: 1138.0</br>median_income: 8.3014</br>ocean_proximity: NEAR BAY</br>_original_yhat_: 477045.9424363552</br>\"],[\"</br>id: 0</br>prediction: 478222.503</br>total_rooms: 7472.42</br></br>longitude: -122.22</br>latitude: 37.86</br>housing_median_age: 21.0</br>total_bedrooms: 1106.0</br>population: 2401.0</br>households: 1138.0</br>median_income: 8.3014</br>ocean_proximity: NEAR BAY</br>_original_yhat_: 477045.9424363552</br>\"],[\"</br>id: 0</br>prediction: 479412.719</br>total_rooms: 7865.6</br></br>longitude: -122.22</br>latitude: 37.86</br>housing_median_age: 21.0</br>total_bedrooms: 1106.0</br>population: 2401.0</br>households: 1138.0</br>median_income: 8.3014</br>ocean_proximity: NEAR BAY</br>_original_yhat_: 477045.9424363552</br>\"],[\"</br>id: 0</br>prediction: 480557.36</br>total_rooms: 8258.78</br></br>longitude: -122.22</br>latitude: 37.86</br>housing_median_age: 21.0</br>total_bedrooms: 1106.0</br>population: 2401.0</br>households: 1138.0</br>median_income: 8.3014</br>ocean_proximity: NEAR BAY</br>_original_yhat_: 477045.9424363552</br>\"],[\"</br>id: 0</br>prediction: 481660.222</br>total_rooms: 8651.960000000001</br></br>longitude: -122.22</br>latitude: 37.86</br>housing_median_age: 21.0</br>total_bedrooms: 1106.0</br>population: 2401.0</br>households: 1138.0</br>median_income: 8.3014</br>ocean_proximity: NEAR BAY</br>_original_yhat_: 477045.9424363552</br>\"],[\"</br>id: 0</br>prediction: 482724.627</br>total_rooms: 9045.14</br></br>longitude: -122.22</br>latitude: 37.86</br>housing_median_age: 21.0</br>total_bedrooms: 1106.0</br>population: 2401.0</br>households: 1138.0</br>median_income: 8.3014</br>ocean_proximity: NEAR BAY</br>_original_yhat_: 477045.9424363552</br>\"],[\"</br>id: 0</br>prediction: 483753.505</br>total_rooms: 9438.32</br></br>longitude: -122.22</br>latitude: 37.86</br>housing_median_age: 21.0</br>total_bedrooms: 1106.0</br>population: 2401.0</br>households: 1138.0</br>median_income: 8.3014</br>ocean_proximity: NEAR BAY</br>_original_yhat_: 477045.9424363552</br>\"],[\"</br>id: 0</br>prediction: 484749.449</br>total_rooms: 9831.5</br></br>longitude: -122.22</br>latitude: 37.86</br>housing_median_age: 21.0</br>total_bedrooms: 1106.0</br>population: 2401.0</br>households: 1138.0</br>median_income: 8.3014</br>ocean_proximity: NEAR BAY</br>_original_yhat_: 477045.9424363552</br>\"],[\"</br>id: 0</br>prediction: 485714.769</br>total_rooms: 10224.68</br></br>longitude: -122.22</br>latitude: 37.86</br>housing_median_age: 21.0</br>total_bedrooms: 1106.0</br>population: 2401.0</br>households: 1138.0</br>median_income: 8.3014</br>ocean_proximity: NEAR BAY</br>_original_yhat_: 477045.9424363552</br>\"],[\"</br>id: 0</br>prediction: 486651.533</br>total_rooms: 10617.86</br></br>longitude: -122.22</br>latitude: 37.86</br>housing_median_age: 21.0</br>total_bedrooms: 1106.0</br>population: 2401.0</br>households: 1138.0</br>median_income: 8.3014</br>ocean_proximity: NEAR BAY</br>_original_yhat_: 477045.9424363552</br>\"],[\"</br>id: 0</br>prediction: 487561.597</br>total_rooms: 11011.04</br></br>longitude: -122.22</br>latitude: 37.86</br>housing_median_age: 21.0</br>total_bedrooms: 1106.0</br>population: 2401.0</br>households: 1138.0</br>median_income: 8.3014</br>ocean_proximity: NEAR BAY</br>_original_yhat_: 477045.9424363552</br>\"],[\"</br>id: 0</br>prediction: 488446.635</br>total_rooms: 11404.22</br></br>longitude: -122.22</br>latitude: 37.86</br>housing_median_age: 21.0</br>total_bedrooms: 1106.0</br>population: 2401.0</br>households: 1138.0</br>median_income: 8.3014</br>ocean_proximity: NEAR BAY</br>_original_yhat_: 477045.9424363552</br>\"],[\"</br>id: 0</br>prediction: 489308.165</br>total_rooms: 11797.4</br></br>longitude: -122.22</br>latitude: 37.86</br>housing_median_age: 21.0</br>total_bedrooms: 1106.0</br>population: 2401.0</br>households: 1138.0</br>median_income: 8.3014</br>ocean_proximity: NEAR BAY</br>_original_yhat_: 477045.9424363552</br>\"],[\"</br>id: 0</br>prediction: 490147.563</br>total_rooms: 12190.58</br></br>longitude: -122.22</br>latitude: 37.86</br>housing_median_age: 21.0</br>total_bedrooms: 1106.0</br>population: 2401.0</br>households: 1138.0</br>median_income: 8.3014</br>ocean_proximity: NEAR BAY</br>_original_yhat_: 477045.9424363552</br>\"],[\"</br>id: 0</br>prediction: 490966.086</br>total_rooms: 12583.76</br></br>longitude: -122.22</br>latitude: 37.86</br>housing_median_age: 21.0</br>total_bedrooms: 1106.0</br>population: 2401.0</br>households: 1138.0</br>median_income: 8.3014</br>ocean_proximity: NEAR BAY</br>_original_yhat_: 477045.9424363552</br>\"],[\"</br>id: 0</br>prediction: 491764.88</br>total_rooms: 12976.94</br></br>longitude: -122.22</br>latitude: 37.86</br>housing_median_age: 21.0</br>total_bedrooms: 1106.0</br>population: 2401.0</br>households: 1138.0</br>median_income: 8.3014</br>ocean_proximity: NEAR BAY</br>_original_yhat_: 477045.9424363552</br>\"],[\"</br>id: 0</br>prediction: 492544.999</br>total_rooms: 13370.12</br></br>longitude: -122.22</br>latitude: 37.86</br>housing_median_age: 21.0</br>total_bedrooms: 1106.0</br>population: 2401.0</br>households: 1138.0</br>median_income: 8.3014</br>ocean_proximity: NEAR BAY</br>_original_yhat_: 477045.9424363552</br>\"],[\"</br>id: 0</br>prediction: 493307.409</br>total_rooms: 13763.300000000001</br></br>longitude: -122.22</br>latitude: 37.86</br>housing_median_age: 21.0</br>total_bedrooms: 1106.0</br>population: 2401.0</br>households: 1138.0</br>median_income: 8.3014</br>ocean_proximity: NEAR BAY</br>_original_yhat_: 477045.9424363552</br>\"],[\"</br>id: 0</br>prediction: 494053.001</br>total_rooms: 14156.48</br></br>longitude: -122.22</br>latitude: 37.86</br>housing_median_age: 21.0</br>total_bedrooms: 1106.0</br>population: 2401.0</br>households: 1138.0</br>median_income: 8.3014</br>ocean_proximity: NEAR BAY</br>_original_yhat_: 477045.9424363552</br>\"],[\"</br>id: 0</br>prediction: 494782.599</br>total_rooms: 14549.66</br></br>longitude: -122.22</br>latitude: 37.86</br>housing_median_age: 21.0</br>total_bedrooms: 1106.0</br>population: 2401.0</br>households: 1138.0</br>median_income: 8.3014</br>ocean_proximity: NEAR BAY</br>_original_yhat_: 477045.9424363552</br>\"],[\"</br>id: 0</br>prediction: 495496.963</br>total_rooms: 14942.84</br></br>longitude: -122.22</br>latitude: 37.86</br>housing_median_age: 21.0</br>total_bedrooms: 1106.0</br>population: 2401.0</br>households: 1138.0</br>median_income: 8.3014</br>ocean_proximity: NEAR BAY</br>_original_yhat_: 477045.9424363552</br>\"],[\"</br>id: 0</br>prediction: 496642.794</br>total_rooms: 15336.02</br></br>longitude: -122.22</br>latitude: 37.86</br>housing_median_age: 21.0</br>total_bedrooms: 1106.0</br>population: 2401.0</br>households: 1138.0</br>median_income: 8.3014</br>ocean_proximity: NEAR BAY</br>_original_yhat_: 477045.9424363552</br>\"],[\"</br>id: 0</br>prediction: 498443.344</br>total_rooms: 15729.2</br></br>longitude: -122.22</br>latitude: 37.86</br>housing_median_age: 21.0</br>total_bedrooms: 1106.0</br>population: 2401.0</br>households: 1138.0</br>median_income: 8.3014</br>ocean_proximity: NEAR BAY</br>_original_yhat_: 477045.9424363552</br>\"],[\"</br>id: 0</br>prediction: 500209.094</br>total_rooms: 16122.380000000001</br></br>longitude: -122.22</br>latitude: 37.86</br>housing_median_age: 21.0</br>total_bedrooms: 1106.0</br>population: 2401.0</br>households: 1138.0</br>median_income: 8.3014</br>ocean_proximity: NEAR BAY</br>_original_yhat_: 477045.9424363552</br>\"],[\"</br>id: 0</br>prediction: 501941.539</br>total_rooms: 16515.56</br></br>longitude: -122.22</br>latitude: 37.86</br>housing_median_age: 21.0</br>total_bedrooms: 1106.0</br>population: 2401.0</br>households: 1138.0</br>median_income: 8.3014</br>ocean_proximity: NEAR BAY</br>_original_yhat_: 477045.9424363552</br>\"],[\"</br>id: 0</br>prediction: 503642.081</br>total_rooms: 16908.74</br></br>longitude: -122.22</br>latitude: 37.86</br>housing_median_age: 21.0</br>total_bedrooms: 1106.0</br>population: 2401.0</br>households: 1138.0</br>median_income: 8.3014</br>ocean_proximity: NEAR BAY</br>_original_yhat_: 477045.9424363552</br>\"],[\"</br>id: 0</br>prediction: 505312.027</br>total_rooms: 17301.920000000002</br></br>longitude: -122.22</br>latitude: 37.86</br>housing_median_age: 21.0</br>total_bedrooms: 1106.0</br>population: 2401.0</br>households: 1138.0</br>median_income: 8.3014</br>ocean_proximity: NEAR BAY</br>_original_yhat_: 477045.9424363552</br>\"],[\"</br>id: 0</br>prediction: 506952.605</br>total_rooms: 17695.1</br></br>longitude: -122.22</br>latitude: 37.86</br>housing_median_age: 21.0</br>total_bedrooms: 1106.0</br>population: 2401.0</br>households: 1138.0</br>median_income: 8.3014</br>ocean_proximity: NEAR BAY</br>_original_yhat_: 477045.9424363552</br>\"],[\"</br>id: 0</br>prediction: 510009.833</br>total_rooms: 18088.28</br></br>longitude: -122.22</br>latitude: 37.86</br>housing_median_age: 21.0</br>total_bedrooms: 1106.0</br>population: 2401.0</br>households: 1138.0</br>median_income: 8.3014</br>ocean_proximity: NEAR BAY</br>_original_yhat_: 477045.9424363552</br>\"],[\"</br>id: 0</br>prediction: 513564.418</br>total_rooms: 18481.46</br></br>longitude: -122.22</br>latitude: 37.86</br>housing_median_age: 21.0</br>total_bedrooms: 1106.0</br>population: 2401.0</br>households: 1138.0</br>median_income: 8.3014</br>ocean_proximity: NEAR BAY</br>_original_yhat_: 477045.9424363552</br>\"],[\"</br>id: 0</br>prediction: 517060.448</br>total_rooms: 18874.64</br></br>longitude: -122.22</br>latitude: 37.86</br>housing_median_age: 21.0</br>total_bedrooms: 1106.0</br>population: 2401.0</br>households: 1138.0</br>median_income: 8.3014</br>ocean_proximity: NEAR BAY</br>_original_yhat_: 477045.9424363552</br>\"],[\"</br>id: 0</br>prediction: 520500.08</br>total_rooms: 19267.82</br></br>longitude: -122.22</br>latitude: 37.86</br>housing_median_age: 21.0</br>total_bedrooms: 1106.0</br>population: 2401.0</br>households: 1138.0</br>median_income: 8.3014</br>ocean_proximity: NEAR BAY</br>_original_yhat_: 477045.9424363552</br>\"],[\"</br>id: 0</br>prediction: 523885.344</br>total_rooms: 19661.0</br></br>longitude: -122.22</br>latitude: 37.86</br>housing_median_age: 21.0</br>total_bedrooms: 1106.0</br>population: 2401.0</br>households: 1138.0</br>median_income: 8.3014</br>ocean_proximity: NEAR BAY</br>_original_yhat_: 477045.9424363552</br>\"],[\"</br>id: 0</br>prediction: 527218.164</br>total_rooms: 20054.18</br></br>longitude: -122.22</br>latitude: 37.86</br>housing_median_age: 21.0</br>total_bedrooms: 1106.0</br>population: 2401.0</br>households: 1138.0</br>median_income: 8.3014</br>ocean_proximity: NEAR BAY</br>_original_yhat_: 477045.9424363552</br>\"],[\"</br>id: 0</br>prediction: 530500.356</br>total_rooms: 20447.36</br></br>longitude: -122.22</br>latitude: 37.86</br>housing_median_age: 21.0</br>total_bedrooms: 1106.0</br>population: 2401.0</br>households: 1138.0</br>median_income: 8.3014</br>ocean_proximity: NEAR BAY</br>_original_yhat_: 477045.9424363552</br>\"],[\"</br>id: 0</br>prediction: 533733.641</br>total_rooms: 20840.54</br></br>longitude: -122.22</br>latitude: 37.86</br>housing_median_age: 21.0</br>total_bedrooms: 1106.0</br>population: 2401.0</br>households: 1138.0</br>median_income: 8.3014</br>ocean_proximity: NEAR BAY</br>_original_yhat_: 477045.9424363552</br>\"],[\"</br>id: 0</br>prediction: 536919.649</br>total_rooms: 21233.72</br></br>longitude: -122.22</br>latitude: 37.86</br>housing_median_age: 21.0</br>total_bedrooms: 1106.0</br>population: 2401.0</br>households: 1138.0</br>median_income: 8.3014</br>ocean_proximity: NEAR BAY</br>_original_yhat_: 477045.9424363552</br>\"],[\"</br>id: 0</br>prediction: 540059.929</br>total_rooms: 21626.9</br></br>longitude: -122.22</br>latitude: 37.86</br>housing_median_age: 21.0</br>total_bedrooms: 1106.0</br>population: 2401.0</br>households: 1138.0</br>median_income: 8.3014</br>ocean_proximity: NEAR BAY</br>_original_yhat_: 477045.9424363552</br>\"],[\"</br>id: 0</br>prediction: 543155.951</br>total_rooms: 22020.08</br></br>longitude: -122.22</br>latitude: 37.86</br>housing_median_age: 21.0</br>total_bedrooms: 1106.0</br>population: 2401.0</br>households: 1138.0</br>median_income: 8.3014</br>ocean_proximity: NEAR BAY</br>_original_yhat_: 477045.9424363552</br>\"],[\"</br>id: 0</br>prediction: 546209.112</br>total_rooms: 22413.260000000002</br></br>longitude: -122.22</br>latitude: 37.86</br>housing_median_age: 21.0</br>total_bedrooms: 1106.0</br>population: 2401.0</br>households: 1138.0</br>median_income: 8.3014</br>ocean_proximity: NEAR BAY</br>_original_yhat_: 477045.9424363552</br>\"],[\"</br>id: 0</br>prediction: 549220.743</br>total_rooms: 22806.44</br></br>longitude: -122.22</br>latitude: 37.86</br>housing_median_age: 21.0</br>total_bedrooms: 1106.0</br>population: 2401.0</br>households: 1138.0</br>median_income: 8.3014</br>ocean_proximity: NEAR BAY</br>_original_yhat_: 477045.9424363552</br>\"],[\"</br>id: 0</br>prediction: 552192.108</br>total_rooms: 23199.62</br></br>longitude: -122.22</br>latitude: 37.86</br>housing_median_age: 21.0</br>total_bedrooms: 1106.0</br>population: 2401.0</br>households: 1138.0</br>median_income: 8.3014</br>ocean_proximity: NEAR BAY</br>_original_yhat_: 477045.9424363552</br>\"],[\"</br>id: 0</br>prediction: 555124.417</br>total_rooms: 23592.8</br></br>longitude: -122.22</br>latitude: 37.86</br>housing_median_age: 21.0</br>total_bedrooms: 1106.0</br>population: 2401.0</br>households: 1138.0</br>median_income: 8.3014</br>ocean_proximity: NEAR BAY</br>_original_yhat_: 477045.9424363552</br>\"],[\"</br>id: 0</br>prediction: 558018.82</br>total_rooms: 23985.98</br></br>longitude: -122.22</br>latitude: 37.86</br>housing_median_age: 21.0</br>total_bedrooms: 1106.0</br>population: 2401.0</br>households: 1138.0</br>median_income: 8.3014</br>ocean_proximity: NEAR BAY</br>_original_yhat_: 477045.9424363552</br>\"],[\"</br>id: 0</br>prediction: 560876.417</br>total_rooms: 24379.16</br></br>longitude: -122.22</br>latitude: 37.86</br>housing_median_age: 21.0</br>total_bedrooms: 1106.0</br>population: 2401.0</br>households: 1138.0</br>median_income: 8.3014</br>ocean_proximity: NEAR BAY</br>_original_yhat_: 477045.9424363552</br>\"],[\"</br>id: 0</br>prediction: 563698.258</br>total_rooms: 24772.34</br></br>longitude: -122.22</br>latitude: 37.86</br>housing_median_age: 21.0</br>total_bedrooms: 1106.0</br>population: 2401.0</br>households: 1138.0</br>median_income: 8.3014</br>ocean_proximity: NEAR BAY</br>_original_yhat_: 477045.9424363552</br>\"],[\"</br>id: 0</br>prediction: 566485.347</br>total_rooms: 25165.52</br></br>longitude: -122.22</br>latitude: 37.86</br>housing_median_age: 21.0</br>total_bedrooms: 1106.0</br>population: 2401.0</br>households: 1138.0</br>median_income: 8.3014</br>ocean_proximity: NEAR BAY</br>_original_yhat_: 477045.9424363552</br>\"],[\"</br>id: 0</br>prediction: 569238.647</br>total_rooms: 25558.7</br></br>longitude: -122.22</br>latitude: 37.86</br>housing_median_age: 21.0</br>total_bedrooms: 1106.0</br>population: 2401.0</br>households: 1138.0</br>median_income: 8.3014</br>ocean_proximity: NEAR BAY</br>_original_yhat_: 477045.9424363552</br>\"],[\"</br>id: 0</br>prediction: 572678.691</br>total_rooms: 25951.88</br></br>longitude: -122.22</br>latitude: 37.86</br>housing_median_age: 21.0</br>total_bedrooms: 1106.0</br>population: 2401.0</br>households: 1138.0</br>median_income: 8.3014</br>ocean_proximity: NEAR BAY</br>_original_yhat_: 477045.9424363552</br>\"],[\"</br>id: 0</br>prediction: 576108.706</br>total_rooms: 26345.06</br></br>longitude: -122.22</br>latitude: 37.86</br>housing_median_age: 21.0</br>total_bedrooms: 1106.0</br>population: 2401.0</br>households: 1138.0</br>median_income: 8.3014</br>ocean_proximity: NEAR BAY</br>_original_yhat_: 477045.9424363552</br>\"],[\"</br>id: 0</br>prediction: 579498.987</br>total_rooms: 26738.24</br></br>longitude: -122.22</br>latitude: 37.86</br>housing_median_age: 21.0</br>total_bedrooms: 1106.0</br>population: 2401.0</br>households: 1138.0</br>median_income: 8.3014</br>ocean_proximity: NEAR BAY</br>_original_yhat_: 477045.9424363552</br>\"],[\"</br>id: 0</br>prediction: 582850.569</br>total_rooms: 27131.420000000002</br></br>longitude: -122.22</br>latitude: 37.86</br>housing_median_age: 21.0</br>total_bedrooms: 1106.0</br>population: 2401.0</br>households: 1138.0</br>median_income: 8.3014</br>ocean_proximity: NEAR BAY</br>_original_yhat_: 477045.9424363552</br>\"],[\"</br>id: 0</br>prediction: 586164.445</br>total_rooms: 27524.600000000002</br></br>longitude: -122.22</br>latitude: 37.86</br>housing_median_age: 21.0</br>total_bedrooms: 1106.0</br>population: 2401.0</br>households: 1138.0</br>median_income: 8.3014</br>ocean_proximity: NEAR BAY</br>_original_yhat_: 477045.9424363552</br>\"],[\"</br>id: 0</br>prediction: 589441.567</br>total_rooms: 27917.78</br></br>longitude: -122.22</br>latitude: 37.86</br>housing_median_age: 21.0</br>total_bedrooms: 1106.0</br>population: 2401.0</br>households: 1138.0</br>median_income: 8.3014</br>ocean_proximity: NEAR BAY</br>_original_yhat_: 477045.9424363552</br>\"],[\"</br>id: 0</br>prediction: 592682.855</br>total_rooms: 28310.96</br></br>longitude: -122.22</br>latitude: 37.86</br>housing_median_age: 21.0</br>total_bedrooms: 1106.0</br>population: 2401.0</br>households: 1138.0</br>median_income: 8.3014</br>ocean_proximity: NEAR BAY</br>_original_yhat_: 477045.9424363552</br>\"],[\"</br>id: 0</br>prediction: 595889.188</br>total_rooms: 28704.14</br></br>longitude: -122.22</br>latitude: 37.86</br>housing_median_age: 21.0</br>total_bedrooms: 1106.0</br>population: 2401.0</br>households: 1138.0</br>median_income: 8.3014</br>ocean_proximity: NEAR BAY</br>_original_yhat_: 477045.9424363552</br>\"],[\"</br>id: 0</br>prediction: 599061.414</br>total_rooms: 29097.32</br></br>longitude: -122.22</br>latitude: 37.86</br>housing_median_age: 21.0</br>total_bedrooms: 1106.0</br>population: 2401.0</br>households: 1138.0</br>median_income: 8.3014</br>ocean_proximity: NEAR BAY</br>_original_yhat_: 477045.9424363552</br>\"],[\"</br>id: 0</br>prediction: 602200.351</br>total_rooms: 29490.5</br></br>longitude: -122.22</br>latitude: 37.86</br>housing_median_age: 21.0</br>total_bedrooms: 1106.0</br>population: 2401.0</br>households: 1138.0</br>median_income: 8.3014</br>ocean_proximity: NEAR BAY</br>_original_yhat_: 477045.9424363552</br>\"],[\"</br>id: 0</br>prediction: 605306.784</br>total_rooms: 29883.68</br></br>longitude: -122.22</br>latitude: 37.86</br>housing_median_age: 21.0</br>total_bedrooms: 1106.0</br>population: 2401.0</br>households: 1138.0</br>median_income: 8.3014</br>ocean_proximity: NEAR BAY</br>_original_yhat_: 477045.9424363552</br>\"],[\"</br>id: 0</br>prediction: 608542.082</br>total_rooms: 30276.86</br></br>longitude: -122.22</br>latitude: 37.86</br>housing_median_age: 21.0</br>total_bedrooms: 1106.0</br>population: 2401.0</br>households: 1138.0</br>median_income: 8.3014</br>ocean_proximity: NEAR BAY</br>_original_yhat_: 477045.9424363552</br>\"],[\"</br>id: 0</br>prediction: 611750.393</br>total_rooms: 30670.04</br></br>longitude: -122.22</br>latitude: 37.86</br>housing_median_age: 21.0</br>total_bedrooms: 1106.0</br>population: 2401.0</br>households: 1138.0</br>median_income: 8.3014</br>ocean_proximity: NEAR BAY</br>_original_yhat_: 477045.9424363552</br>\"],[\"</br>id: 0</br>prediction: 614926.753</br>total_rooms: 31063.22</br></br>longitude: -122.22</br>latitude: 37.86</br>housing_median_age: 21.0</br>total_bedrooms: 1106.0</br>population: 2401.0</br>households: 1138.0</br>median_income: 8.3014</br>ocean_proximity: NEAR BAY</br>_original_yhat_: 477045.9424363552</br>\"],[\"</br>id: 0</br>prediction: 618071.879</br>total_rooms: 31456.4</br></br>longitude: -122.22</br>latitude: 37.86</br>housing_median_age: 21.0</br>total_bedrooms: 1106.0</br>population: 2401.0</br>households: 1138.0</br>median_income: 8.3014</br>ocean_proximity: NEAR BAY</br>_original_yhat_: 477045.9424363552</br>\"],[\"</br>id: 0</br>prediction: 621186.463</br>total_rooms: 31849.58</br></br>longitude: -122.22</br>latitude: 37.86</br>housing_median_age: 21.0</br>total_bedrooms: 1106.0</br>population: 2401.0</br>households: 1138.0</br>median_income: 8.3014</br>ocean_proximity: NEAR BAY</br>_original_yhat_: 477045.9424363552</br>\"],[\"</br>id: 0</br>prediction: 624271.173</br>total_rooms: 32242.760000000002</br></br>longitude: -122.22</br>latitude: 37.86</br>housing_median_age: 21.0</br>total_bedrooms: 1106.0</br>population: 2401.0</br>households: 1138.0</br>median_income: 8.3014</br>ocean_proximity: NEAR BAY</br>_original_yhat_: 477045.9424363552</br>\"],[\"</br>id: 0</br>prediction: 627326.655</br>total_rooms: 32635.940000000002</br></br>longitude: -122.22</br>latitude: 37.86</br>housing_median_age: 21.0</br>total_bedrooms: 1106.0</br>population: 2401.0</br>households: 1138.0</br>median_income: 8.3014</br>ocean_proximity: NEAR BAY</br>_original_yhat_: 477045.9424363552</br>\"],[\"</br>id: 0</br>prediction: 630353.532</br>total_rooms: 33029.12</br></br>longitude: -122.22</br>latitude: 37.86</br>housing_median_age: 21.0</br>total_bedrooms: 1106.0</br>population: 2401.0</br>households: 1138.0</br>median_income: 8.3014</br>ocean_proximity: NEAR BAY</br>_original_yhat_: 477045.9424363552</br>\"],[\"</br>id: 0</br>prediction: 633352.409</br>total_rooms: 33422.3</br></br>longitude: -122.22</br>latitude: 37.86</br>housing_median_age: 21.0</br>total_bedrooms: 1106.0</br>population: 2401.0</br>households: 1138.0</br>median_income: 8.3014</br>ocean_proximity: NEAR BAY</br>_original_yhat_: 477045.9424363552</br>\"],[\"</br>id: 0</br>prediction: 636323.869</br>total_rooms: 33815.48</br></br>longitude: -122.22</br>latitude: 37.86</br>housing_median_age: 21.0</br>total_bedrooms: 1106.0</br>population: 2401.0</br>households: 1138.0</br>median_income: 8.3014</br>ocean_proximity: NEAR BAY</br>_original_yhat_: 477045.9424363552</br>\"],[\"</br>id: 0</br>prediction: 639268.477</br>total_rooms: 34208.66</br></br>longitude: -122.22</br>latitude: 37.86</br>housing_median_age: 21.0</br>total_bedrooms: 1106.0</br>population: 2401.0</br>households: 1138.0</br>median_income: 8.3014</br>ocean_proximity: NEAR BAY</br>_original_yhat_: 477045.9424363552</br>\"],[\"</br>id: 0</br>prediction: 642186.781</br>total_rooms: 34601.840000000004</br></br>longitude: -122.22</br>latitude: 37.86</br>housing_median_age: 21.0</br>total_bedrooms: 1106.0</br>population: 2401.0</br>households: 1138.0</br>median_income: 8.3014</br>ocean_proximity: NEAR BAY</br>_original_yhat_: 477045.9424363552</br>\"],[\"</br>id: 0</br>prediction: 645079.31</br>total_rooms: 34995.020000000004</br></br>longitude: -122.22</br>latitude: 37.86</br>housing_median_age: 21.0</br>total_bedrooms: 1106.0</br>population: 2401.0</br>households: 1138.0</br>median_income: 8.3014</br>ocean_proximity: NEAR BAY</br>_original_yhat_: 477045.9424363552</br>\"],[\"</br>id: 0</br>prediction: 647946.578</br>total_rooms: 35388.2</br></br>longitude: -122.22</br>latitude: 37.86</br>housing_median_age: 21.0</br>total_bedrooms: 1106.0</br>population: 2401.0</br>households: 1138.0</br>median_income: 8.3014</br>ocean_proximity: NEAR BAY</br>_original_yhat_: 477045.9424363552</br>\"],[\"</br>id: 0</br>prediction: 650789.082</br>total_rooms: 35781.38</br></br>longitude: -122.22</br>latitude: 37.86</br>housing_median_age: 21.0</br>total_bedrooms: 1106.0</br>population: 2401.0</br>households: 1138.0</br>median_income: 8.3014</br>ocean_proximity: NEAR BAY</br>_original_yhat_: 477045.9424363552</br>\"],[\"</br>id: 0</br>prediction: 653607.306</br>total_rooms: 36174.56</br></br>longitude: -122.22</br>latitude: 37.86</br>housing_median_age: 21.0</br>total_bedrooms: 1106.0</br>population: 2401.0</br>households: 1138.0</br>median_income: 8.3014</br>ocean_proximity: NEAR BAY</br>_original_yhat_: 477045.9424363552</br>\"],[\"</br>id: 0</br>prediction: 656401.716</br>total_rooms: 36567.74</br></br>longitude: -122.22</br>latitude: 37.86</br>housing_median_age: 21.0</br>total_bedrooms: 1106.0</br>population: 2401.0</br>households: 1138.0</br>median_income: 8.3014</br>ocean_proximity: NEAR BAY</br>_original_yhat_: 477045.9424363552</br>\"],[\"</br>id: 0</br>prediction: 659172.767</br>total_rooms: 36960.92</br></br>longitude: -122.22</br>latitude: 37.86</br>housing_median_age: 21.0</br>total_bedrooms: 1106.0</br>population: 2401.0</br>households: 1138.0</br>median_income: 8.3014</br>ocean_proximity: NEAR BAY</br>_original_yhat_: 477045.9424363552</br>\"],[\"</br>id: 0</br>prediction: 661920.899</br>total_rooms: 37354.1</br></br>longitude: -122.22</br>latitude: 37.86</br>housing_median_age: 21.0</br>total_bedrooms: 1106.0</br>population: 2401.0</br>households: 1138.0</br>median_income: 8.3014</br>ocean_proximity: NEAR BAY</br>_original_yhat_: 477045.9424363552</br>\"],[\"</br>id: 0</br>prediction: 664646.541</br>total_rooms: 37747.28</br></br>longitude: -122.22</br>latitude: 37.86</br>housing_median_age: 21.0</br>total_bedrooms: 1106.0</br>population: 2401.0</br>households: 1138.0</br>median_income: 8.3014</br>ocean_proximity: NEAR BAY</br>_original_yhat_: 477045.9424363552</br>\"],[\"</br>id: 0</br>prediction: 667350.108</br>total_rooms: 38140.46</br></br>longitude: -122.22</br>latitude: 37.86</br>housing_median_age: 21.0</br>total_bedrooms: 1106.0</br>population: 2401.0</br>households: 1138.0</br>median_income: 8.3014</br>ocean_proximity: NEAR BAY</br>_original_yhat_: 477045.9424363552</br>\"],[\"</br>id: 0</br>prediction: 670032.003</br>total_rooms: 38533.64</br></br>longitude: -122.22</br>latitude: 37.86</br>housing_median_age: 21.0</br>total_bedrooms: 1106.0</br>population: 2401.0</br>households: 1138.0</br>median_income: 8.3014</br>ocean_proximity: NEAR BAY</br>_original_yhat_: 477045.9424363552</br>\"],[\"</br>id: 0</br>prediction: 672692.619</br>total_rooms: 38926.82</br></br>longitude: -122.22</br>latitude: 37.86</br>housing_median_age: 21.0</br>total_bedrooms: 1106.0</br>population: 2401.0</br>households: 1138.0</br>median_income: 8.3014</br>ocean_proximity: NEAR BAY</br>_original_yhat_: 477045.9424363552</br>\"],[\"</br>id: 0</br>prediction: 675332.336</br>total_rooms: 39320.0</br></br>longitude: -122.22</br>latitude: 37.86</br>housing_median_age: 21.0</br>total_bedrooms: 1106.0</br>population: 2401.0</br>households: 1138.0</br>median_income: 8.3014</br>ocean_proximity: NEAR BAY</br>_original_yhat_: 477045.9424363552</br>\"]],\"hovertemplate\":\"%{customdata[0]}<extra></extra>\",\"legendgroup\":\"MLP with ordinal encoding and power transformation\",\"line\":{\"color\":\"#f05a71\",\"dash\":\"solid\",\"width\":2},\"marker\":{\"symbol\":\"circle\"},\"mode\":\"lines\",\"name\":\"MLP with ordinal encoding and power transformation\",\"orientation\":\"v\",\"showlegend\":false,\"x\":[2.0,395.18,788.36,1181.54,1574.72,1967.9,2361.08,2754.26,3147.44,3540.62,3933.8,4326.9800000000005,4720.16,5113.34,5506.52,5899.7,6292.88,6686.06,7079.24,7099.0,7472.42,7865.6,8258.78,8651.960000000001,9045.14,9438.32,9831.5,10224.68,10617.86,11011.04,11404.22,11797.4,12190.58,12583.76,12976.94,13370.12,13763.300000000001,14156.48,14549.66,14942.84,15336.02,15729.2,16122.380000000001,16515.56,16908.74,17301.920000000002,17695.1,18088.28,18481.46,18874.64,19267.82,19661.0,20054.18,20447.36,20840.54,21233.72,21626.9,22020.08,22413.260000000002,22806.44,23199.62,23592.8,23985.98,24379.16,24772.34,25165.52,25558.7,25951.88,26345.06,26738.24,27131.420000000002,27524.600000000002,27917.78,28310.96,28704.14,29097.32,29490.5,29883.68,30276.86,30670.04,31063.22,31456.4,31849.58,32242.760000000002,32635.940000000002,33029.12,33422.3,33815.48,34208.66,34601.840000000004,34995.020000000004,35388.2,35781.38,36174.56,36567.74,36960.92,37354.1,37747.28,38140.46,38533.64,38926.82,39320.0],\"xaxis\":\"x2\",\"y\":[972616.6514471993,716064.3760448876,649751.6919560062,614025.2333679347,588982.520200287,568432.291934412,550874.537001587,535469.4937663703,521695.8908305749,509206.22037521604,497756.33399140264,489004.3180636346,481531.53751055204,474529.9021446206,471407.32376379025,472907.3056967123,474331.17491728946,475687.20600664185,476982.34918563016,477045.9424363552,478222.5029048131,479412.71913254727,480557.3604516274,481660.22200642625,482724.6273867562,483753.5048970002,484749.44886406226,485714.76939352474,486651.53310648707,487561.596762047,488446.6352150114,489308.16482373193,490147.56317401846,490966.0857979071,491764.8804238767,492544.99918606953,493307.40913573926,494053.00133234495,494782.59874000173,495496.96311404504,496642.7940139821,498443.3441518959,500209.09353376593,501941.53935317247,503642.08058689546,505312.0265536137,506952.6045507247,510009.8325554343,513564.41765510995,517060.44844701706,520500.07959852804,523885.34446651203,527218.1641995232,530500.3559931659,533733.6405920826,536919.6491201431,540059.9293102457,543155.951196391,546209.1123231612,549220.742521217,552192.1082917802,555124.4168381665,558018.8197781517,560876.4165672311,563698.2576595612,566485.347430501,569238.6468821634,572678.6912779303,576108.7062583606,579498.9873512953,582850.5690784717,586164.4445058415,589441.5674701752,592682.8546565572,595889.1875386826,599061.4141927548,602200.3509948191,605306.7842104553,608542.0821915109,611750.3928766396,614926.7529687302,618071.8790803584,621186.4630371807,624271.1730293055,627326.6546958585,630353.5321473682,633352.4089302367,636323.8689372101,639268.4772674679,642186.7810396585,645079.3101609647,647946.5780550349,650789.0823514175,653607.3055389293,656401.7155852162,659172.7665245989,661920.8990161456,664646.5408737749,667350.1075700687,670032.0027153532,672692.6185135022,675332.3361958178],\"yaxis\":\"y2\",\"type\":\"scatter\",\"opacity\":1},{\"customdata\":[[\"</br>id: 0</br>prediction: 571116.246</br>total_bedrooms: 1.0</br></br>longitude: -122.22</br>latitude: 37.86</br>housing_median_age: 21.0</br>total_rooms: 7099.0</br>population: 2401.0</br>households: 1138.0</br>median_income: 8.3014</br>ocean_proximity: NEAR BAY</br>_original_yhat_: 407689.22668987606</br>\"],[\"</br>id: 0</br>prediction: 533834.313</br>total_bedrooms: 65.44</br></br>longitude: -122.22</br>latitude: 37.86</br>housing_median_age: 21.0</br>total_rooms: 7099.0</br>population: 2401.0</br>households: 1138.0</br>median_income: 8.3014</br>ocean_proximity: NEAR BAY</br>_original_yhat_: 407689.22668987606</br>\"],[\"</br>id: 0</br>prediction: 497293.958</br>total_bedrooms: 129.88</br></br>longitude: -122.22</br>latitude: 37.86</br>housing_median_age: 21.0</br>total_rooms: 7099.0</br>population: 2401.0</br>households: 1138.0</br>median_income: 8.3014</br>ocean_proximity: NEAR BAY</br>_original_yhat_: 407689.22668987606</br>\"],[\"</br>id: 0</br>prediction: 460753.604</br>total_bedrooms: 194.32</br></br>longitude: -122.22</br>latitude: 37.86</br>housing_median_age: 21.0</br>total_rooms: 7099.0</br>population: 2401.0</br>households: 1138.0</br>median_income: 8.3014</br>ocean_proximity: NEAR BAY</br>_original_yhat_: 407689.22668987606</br>\"],[\"</br>id: 0</br>prediction: 441400.069</br>total_bedrooms: 258.76</br></br>longitude: -122.22</br>latitude: 37.86</br>housing_median_age: 21.0</br>total_rooms: 7099.0</br>population: 2401.0</br>households: 1138.0</br>median_income: 8.3014</br>ocean_proximity: NEAR BAY</br>_original_yhat_: 407689.22668987606</br>\"],[\"</br>id: 0</br>prediction: 428197.638</br>total_bedrooms: 323.2</br></br>longitude: -122.22</br>latitude: 37.86</br>housing_median_age: 21.0</br>total_rooms: 7099.0</br>population: 2401.0</br>households: 1138.0</br>median_income: 8.3014</br>ocean_proximity: NEAR BAY</br>_original_yhat_: 407689.22668987606</br>\"],[\"</br>id: 0</br>prediction: 414995.207</br>total_bedrooms: 387.64</br></br>longitude: -122.22</br>latitude: 37.86</br>housing_median_age: 21.0</br>total_rooms: 7099.0</br>population: 2401.0</br>households: 1138.0</br>median_income: 8.3014</br>ocean_proximity: NEAR BAY</br>_original_yhat_: 407689.22668987606</br>\"],[\"</br>id: 0</br>prediction: 415783.059</br>total_bedrooms: 452.08</br></br>longitude: -122.22</br>latitude: 37.86</br>housing_median_age: 21.0</br>total_rooms: 7099.0</br>population: 2401.0</br>households: 1138.0</br>median_income: 8.3014</br>ocean_proximity: NEAR BAY</br>_original_yhat_: 407689.22668987606</br>\"],[\"</br>id: 0</br>prediction: 416769.305</br>total_bedrooms: 516.52</br></br>longitude: -122.22</br>latitude: 37.86</br>housing_median_age: 21.0</br>total_rooms: 7099.0</br>population: 2401.0</br>households: 1138.0</br>median_income: 8.3014</br>ocean_proximity: NEAR BAY</br>_original_yhat_: 407689.22668987606</br>\"],[\"</br>id: 0</br>prediction: 417755.551</br>total_bedrooms: 580.96</br></br>longitude: -122.22</br>latitude: 37.86</br>housing_median_age: 21.0</br>total_rooms: 7099.0</br>population: 2401.0</br>households: 1138.0</br>median_income: 8.3014</br>ocean_proximity: NEAR BAY</br>_original_yhat_: 407689.22668987606</br>\"],[\"</br>id: 0</br>prediction: 418827.688</br>total_bedrooms: 645.4</br></br>longitude: -122.22</br>latitude: 37.86</br>housing_median_age: 21.0</br>total_rooms: 7099.0</br>population: 2401.0</br>households: 1138.0</br>median_income: 8.3014</br>ocean_proximity: NEAR BAY</br>_original_yhat_: 407689.22668987606</br>\"],[\"</br>id: 0</br>prediction: 420677.245</br>total_bedrooms: 709.8399999999999</br></br>longitude: -122.22</br>latitude: 37.86</br>housing_median_age: 21.0</br>total_rooms: 7099.0</br>population: 2401.0</br>households: 1138.0</br>median_income: 8.3014</br>ocean_proximity: NEAR BAY</br>_original_yhat_: 407689.22668987606</br>\"],[\"</br>id: 0</br>prediction: 422526.803</br>total_bedrooms: 774.28</br></br>longitude: -122.22</br>latitude: 37.86</br>housing_median_age: 21.0</br>total_rooms: 7099.0</br>population: 2401.0</br>households: 1138.0</br>median_income: 8.3014</br>ocean_proximity: NEAR BAY</br>_original_yhat_: 407689.22668987606</br>\"],[\"</br>id: 0</br>prediction: 422414.468</br>total_bedrooms: 838.72</br></br>longitude: -122.22</br>latitude: 37.86</br>housing_median_age: 21.0</br>total_rooms: 7099.0</br>population: 2401.0</br>households: 1138.0</br>median_income: 8.3014</br>ocean_proximity: NEAR BAY</br>_original_yhat_: 407689.22668987606</br>\"],[\"</br>id: 0</br>prediction: 420296.306</br>total_bedrooms: 903.16</br></br>longitude: -122.22</br>latitude: 37.86</br>housing_median_age: 21.0</br>total_rooms: 7099.0</br>population: 2401.0</br>households: 1138.0</br>median_income: 8.3014</br>ocean_proximity: NEAR BAY</br>_original_yhat_: 407689.22668987606</br>\"],[\"</br>id: 0</br>prediction: 417842.078</br>total_bedrooms: 967.5999999999999</br></br>longitude: -122.22</br>latitude: 37.86</br>housing_median_age: 21.0</br>total_rooms: 7099.0</br>population: 2401.0</br>households: 1138.0</br>median_income: 8.3014</br>ocean_proximity: NEAR BAY</br>_original_yhat_: 407689.22668987606</br>\"],[\"</br>id: 0</br>prediction: 414172.51</br>total_bedrooms: 1032.04</br></br>longitude: -122.22</br>latitude: 37.86</br>housing_median_age: 21.0</br>total_rooms: 7099.0</br>population: 2401.0</br>households: 1138.0</br>median_income: 8.3014</br>ocean_proximity: NEAR BAY</br>_original_yhat_: 407689.22668987606</br>\"],[\"</br>id: 0</br>prediction: 408523.743</br>total_bedrooms: 1096.48</br></br>longitude: -122.22</br>latitude: 37.86</br>housing_median_age: 21.0</br>total_rooms: 7099.0</br>population: 2401.0</br>households: 1138.0</br>median_income: 8.3014</br>ocean_proximity: NEAR BAY</br>_original_yhat_: 407689.22668987606</br>\"],[\"</br>id: 0</br>prediction: 407689.227</br>total_bedrooms: 1106.0</br></br>longitude: -122.22</br>latitude: 37.86</br>housing_median_age: 21.0</br>total_rooms: 7099.0</br>population: 2401.0</br>households: 1138.0</br>median_income: 8.3014</br>ocean_proximity: NEAR BAY</br>_original_yhat_: 407689.22668987606</br>\"],[\"</br>id: 0</br>prediction: 402874.977</br>total_bedrooms: 1160.92</br></br>longitude: -122.22</br>latitude: 37.86</br>housing_median_age: 21.0</br>total_rooms: 7099.0</br>population: 2401.0</br>households: 1138.0</br>median_income: 8.3014</br>ocean_proximity: NEAR BAY</br>_original_yhat_: 407689.22668987606</br>\"],[\"</br>id: 0</br>prediction: 397226.21</br>total_bedrooms: 1225.36</br></br>longitude: -122.22</br>latitude: 37.86</br>housing_median_age: 21.0</br>total_rooms: 7099.0</br>population: 2401.0</br>households: 1138.0</br>median_income: 8.3014</br>ocean_proximity: NEAR BAY</br>_original_yhat_: 407689.22668987606</br>\"],[\"</br>id: 0</br>prediction: 393065.044</br>total_bedrooms: 1289.8</br></br>longitude: -122.22</br>latitude: 37.86</br>housing_median_age: 21.0</br>total_rooms: 7099.0</br>population: 2401.0</br>households: 1138.0</br>median_income: 8.3014</br>ocean_proximity: NEAR BAY</br>_original_yhat_: 407689.22668987606</br>\"],[\"</br>id: 0</br>prediction: 393047.84</br>total_bedrooms: 1354.24</br></br>longitude: -122.22</br>latitude: 37.86</br>housing_median_age: 21.0</br>total_rooms: 7099.0</br>population: 2401.0</br>households: 1138.0</br>median_income: 8.3014</br>ocean_proximity: NEAR BAY</br>_original_yhat_: 407689.22668987606</br>\"],[\"</br>id: 0</br>prediction: 398436.049</br>total_bedrooms: 1418.6799999999998</br></br>longitude: -122.22</br>latitude: 37.86</br>housing_median_age: 21.0</br>total_rooms: 7099.0</br>population: 2401.0</br>households: 1138.0</br>median_income: 8.3014</br>ocean_proximity: NEAR BAY</br>_original_yhat_: 407689.22668987606</br>\"],[\"</br>id: 0</br>prediction: 404486.214</br>total_bedrooms: 1483.12</br></br>longitude: -122.22</br>latitude: 37.86</br>housing_median_age: 21.0</br>total_rooms: 7099.0</br>population: 2401.0</br>households: 1138.0</br>median_income: 8.3014</br>ocean_proximity: NEAR BAY</br>_original_yhat_: 407689.22668987606</br>\"],[\"</br>id: 0</br>prediction: 409331.799</br>total_bedrooms: 1547.56</br></br>longitude: -122.22</br>latitude: 37.86</br>housing_median_age: 21.0</br>total_rooms: 7099.0</br>population: 2401.0</br>households: 1138.0</br>median_income: 8.3014</br>ocean_proximity: NEAR BAY</br>_original_yhat_: 407689.22668987606</br>\"],[\"</br>id: 0</br>prediction: 414177.384</br>total_bedrooms: 1612.0</br></br>longitude: -122.22</br>latitude: 37.86</br>housing_median_age: 21.0</br>total_rooms: 7099.0</br>population: 2401.0</br>households: 1138.0</br>median_income: 8.3014</br>ocean_proximity: NEAR BAY</br>_original_yhat_: 407689.22668987606</br>\"],[\"</br>id: 0</br>prediction: 415219.344</br>total_bedrooms: 1676.44</br></br>longitude: -122.22</br>latitude: 37.86</br>housing_median_age: 21.0</br>total_rooms: 7099.0</br>population: 2401.0</br>households: 1138.0</br>median_income: 8.3014</br>ocean_proximity: NEAR BAY</br>_original_yhat_: 407689.22668987606</br>\"],[\"</br>id: 0</br>prediction: 410893.49</br>total_bedrooms: 1740.8799999999999</br></br>longitude: -122.22</br>latitude: 37.86</br>housing_median_age: 21.0</br>total_rooms: 7099.0</br>population: 2401.0</br>households: 1138.0</br>median_income: 8.3014</br>ocean_proximity: NEAR BAY</br>_original_yhat_: 407689.22668987606</br>\"],[\"</br>id: 0</br>prediction: 406567.635</br>total_bedrooms: 1805.32</br></br>longitude: -122.22</br>latitude: 37.86</br>housing_median_age: 21.0</br>total_rooms: 7099.0</br>population: 2401.0</br>households: 1138.0</br>median_income: 8.3014</br>ocean_proximity: NEAR BAY</br>_original_yhat_: 407689.22668987606</br>\"],[\"</br>id: 0</br>prediction: 402241.78</br>total_bedrooms: 1869.76</br></br>longitude: -122.22</br>latitude: 37.86</br>housing_median_age: 21.0</br>total_rooms: 7099.0</br>population: 2401.0</br>households: 1138.0</br>median_income: 8.3014</br>ocean_proximity: NEAR BAY</br>_original_yhat_: 407689.22668987606</br>\"],[\"</br>id: 0</br>prediction: 397915.925</br>total_bedrooms: 1934.1999999999998</br></br>longitude: -122.22</br>latitude: 37.86</br>housing_median_age: 21.0</br>total_rooms: 7099.0</br>population: 2401.0</br>households: 1138.0</br>median_income: 8.3014</br>ocean_proximity: NEAR BAY</br>_original_yhat_: 407689.22668987606</br>\"],[\"</br>id: 0</br>prediction: 393590.07</br>total_bedrooms: 1998.6399999999999</br></br>longitude: -122.22</br>latitude: 37.86</br>housing_median_age: 21.0</br>total_rooms: 7099.0</br>population: 2401.0</br>households: 1138.0</br>median_income: 8.3014</br>ocean_proximity: NEAR BAY</br>_original_yhat_: 407689.22668987606</br>\"],[\"</br>id: 0</br>prediction: 389264.215</br>total_bedrooms: 2063.08</br></br>longitude: -122.22</br>latitude: 37.86</br>housing_median_age: 21.0</br>total_rooms: 7099.0</br>population: 2401.0</br>households: 1138.0</br>median_income: 8.3014</br>ocean_proximity: NEAR BAY</br>_original_yhat_: 407689.22668987606</br>\"],[\"</br>id: 0</br>prediction: 384938.361</br>total_bedrooms: 2127.52</br></br>longitude: -122.22</br>latitude: 37.86</br>housing_median_age: 21.0</br>total_rooms: 7099.0</br>population: 2401.0</br>households: 1138.0</br>median_income: 8.3014</br>ocean_proximity: NEAR BAY</br>_original_yhat_: 407689.22668987606</br>\"],[\"</br>id: 0</br>prediction: 380612.506</br>total_bedrooms: 2191.96</br></br>longitude: -122.22</br>latitude: 37.86</br>housing_median_age: 21.0</br>total_rooms: 7099.0</br>population: 2401.0</br>households: 1138.0</br>median_income: 8.3014</br>ocean_proximity: NEAR BAY</br>_original_yhat_: 407689.22668987606</br>\"],[\"</br>id: 0</br>prediction: 376286.651</br>total_bedrooms: 2256.4</br></br>longitude: -122.22</br>latitude: 37.86</br>housing_median_age: 21.0</br>total_rooms: 7099.0</br>population: 2401.0</br>households: 1138.0</br>median_income: 8.3014</br>ocean_proximity: NEAR BAY</br>_original_yhat_: 407689.22668987606</br>\"],[\"</br>id: 0</br>prediction: 371960.796</br>total_bedrooms: 2320.84</br></br>longitude: -122.22</br>latitude: 37.86</br>housing_median_age: 21.0</br>total_rooms: 7099.0</br>population: 2401.0</br>households: 1138.0</br>median_income: 8.3014</br>ocean_proximity: NEAR BAY</br>_original_yhat_: 407689.22668987606</br>\"],[\"</br>id: 0</br>prediction: 367634.941</br>total_bedrooms: 2385.2799999999997</br></br>longitude: -122.22</br>latitude: 37.86</br>housing_median_age: 21.0</br>total_rooms: 7099.0</br>population: 2401.0</br>households: 1138.0</br>median_income: 8.3014</br>ocean_proximity: NEAR BAY</br>_original_yhat_: 407689.22668987606</br>\"],[\"</br>id: 0</br>prediction: 363309.086</br>total_bedrooms: 2449.72</br></br>longitude: -122.22</br>latitude: 37.86</br>housing_median_age: 21.0</br>total_rooms: 7099.0</br>population: 2401.0</br>households: 1138.0</br>median_income: 8.3014</br>ocean_proximity: NEAR BAY</br>_original_yhat_: 407689.22668987606</br>\"],[\"</br>id: 0</br>prediction: 358983.232</br>total_bedrooms: 2514.16</br></br>longitude: -122.22</br>latitude: 37.86</br>housing_median_age: 21.0</br>total_rooms: 7099.0</br>population: 2401.0</br>households: 1138.0</br>median_income: 8.3014</br>ocean_proximity: NEAR BAY</br>_original_yhat_: 407689.22668987606</br>\"],[\"</br>id: 0</br>prediction: 354657.377</br>total_bedrooms: 2578.6</br></br>longitude: -122.22</br>latitude: 37.86</br>housing_median_age: 21.0</br>total_rooms: 7099.0</br>population: 2401.0</br>households: 1138.0</br>median_income: 8.3014</br>ocean_proximity: NEAR BAY</br>_original_yhat_: 407689.22668987606</br>\"],[\"</br>id: 0</br>prediction: 356008.771</br>total_bedrooms: 2643.04</br></br>longitude: -122.22</br>latitude: 37.86</br>housing_median_age: 21.0</br>total_rooms: 7099.0</br>population: 2401.0</br>households: 1138.0</br>median_income: 8.3014</br>ocean_proximity: NEAR BAY</br>_original_yhat_: 407689.22668987606</br>\"],[\"</br>id: 0</br>prediction: 381586.496</br>total_bedrooms: 2707.48</br></br>longitude: -122.22</br>latitude: 37.86</br>housing_median_age: 21.0</br>total_rooms: 7099.0</br>population: 2401.0</br>households: 1138.0</br>median_income: 8.3014</br>ocean_proximity: NEAR BAY</br>_original_yhat_: 407689.22668987606</br>\"],[\"</br>id: 0</br>prediction: 407164.221</br>total_bedrooms: 2771.92</br></br>longitude: -122.22</br>latitude: 37.86</br>housing_median_age: 21.0</br>total_rooms: 7099.0</br>population: 2401.0</br>households: 1138.0</br>median_income: 8.3014</br>ocean_proximity: NEAR BAY</br>_original_yhat_: 407689.22668987606</br>\"],[\"</br>id: 0</br>prediction: 432741.946</br>total_bedrooms: 2836.3599999999997</br></br>longitude: -122.22</br>latitude: 37.86</br>housing_median_age: 21.0</br>total_rooms: 7099.0</br>population: 2401.0</br>households: 1138.0</br>median_income: 8.3014</br>ocean_proximity: NEAR BAY</br>_original_yhat_: 407689.22668987606</br>\"],[\"</br>id: 0</br>prediction: 458319.671</br>total_bedrooms: 2900.7999999999997</br></br>longitude: -122.22</br>latitude: 37.86</br>housing_median_age: 21.0</br>total_rooms: 7099.0</br>population: 2401.0</br>households: 1138.0</br>median_income: 8.3014</br>ocean_proximity: NEAR BAY</br>_original_yhat_: 407689.22668987606</br>\"],[\"</br>id: 0</br>prediction: 483897.395</br>total_bedrooms: 2965.24</br></br>longitude: -122.22</br>latitude: 37.86</br>housing_median_age: 21.0</br>total_rooms: 7099.0</br>population: 2401.0</br>households: 1138.0</br>median_income: 8.3014</br>ocean_proximity: NEAR BAY</br>_original_yhat_: 407689.22668987606</br>\"],[\"</br>id: 0</br>prediction: 509475.12</br>total_bedrooms: 3029.68</br></br>longitude: -122.22</br>latitude: 37.86</br>housing_median_age: 21.0</br>total_rooms: 7099.0</br>population: 2401.0</br>households: 1138.0</br>median_income: 8.3014</br>ocean_proximity: NEAR BAY</br>_original_yhat_: 407689.22668987606</br>\"],[\"</br>id: 0</br>prediction: 535052.845</br>total_bedrooms: 3094.12</br></br>longitude: -122.22</br>latitude: 37.86</br>housing_median_age: 21.0</br>total_rooms: 7099.0</br>population: 2401.0</br>households: 1138.0</br>median_income: 8.3014</br>ocean_proximity: NEAR BAY</br>_original_yhat_: 407689.22668987606</br>\"],[\"</br>id: 0</br>prediction: 560630.57</br>total_bedrooms: 3158.56</br></br>longitude: -122.22</br>latitude: 37.86</br>housing_median_age: 21.0</br>total_rooms: 7099.0</br>population: 2401.0</br>households: 1138.0</br>median_income: 8.3014</br>ocean_proximity: NEAR BAY</br>_original_yhat_: 407689.22668987606</br>\"],[\"</br>id: 0</br>prediction: 586208.295</br>total_bedrooms: 3223.0</br></br>longitude: -122.22</br>latitude: 37.86</br>housing_median_age: 21.0</br>total_rooms: 7099.0</br>population: 2401.0</br>households: 1138.0</br>median_income: 8.3014</br>ocean_proximity: NEAR BAY</br>_original_yhat_: 407689.22668987606</br>\"],[\"</br>id: 0</br>prediction: 611786.02</br>total_bedrooms: 3287.44</br></br>longitude: -122.22</br>latitude: 37.86</br>housing_median_age: 21.0</br>total_rooms: 7099.0</br>population: 2401.0</br>households: 1138.0</br>median_income: 8.3014</br>ocean_proximity: NEAR BAY</br>_original_yhat_: 407689.22668987606</br>\"],[\"</br>id: 0</br>prediction: 637363.745</br>total_bedrooms: 3351.88</br></br>longitude: -122.22</br>latitude: 37.86</br>housing_median_age: 21.0</br>total_rooms: 7099.0</br>population: 2401.0</br>households: 1138.0</br>median_income: 8.3014</br>ocean_proximity: NEAR BAY</br>_original_yhat_: 407689.22668987606</br>\"],[\"</br>id: 0</br>prediction: 662941.47</br>total_bedrooms: 3416.3199999999997</br></br>longitude: -122.22</br>latitude: 37.86</br>housing_median_age: 21.0</br>total_rooms: 7099.0</br>population: 2401.0</br>households: 1138.0</br>median_income: 8.3014</br>ocean_proximity: NEAR BAY</br>_original_yhat_: 407689.22668987606</br>\"],[\"</br>id: 0</br>prediction: 688519.195</br>total_bedrooms: 3480.7599999999998</br></br>longitude: -122.22</br>latitude: 37.86</br>housing_median_age: 21.0</br>total_rooms: 7099.0</br>population: 2401.0</br>households: 1138.0</br>median_income: 8.3014</br>ocean_proximity: NEAR BAY</br>_original_yhat_: 407689.22668987606</br>\"],[\"</br>id: 0</br>prediction: 714096.919</br>total_bedrooms: 3545.2</br></br>longitude: -122.22</br>latitude: 37.86</br>housing_median_age: 21.0</br>total_rooms: 7099.0</br>population: 2401.0</br>households: 1138.0</br>median_income: 8.3014</br>ocean_proximity: NEAR BAY</br>_original_yhat_: 407689.22668987606</br>\"],[\"</br>id: 0</br>prediction: 739674.644</br>total_bedrooms: 3609.64</br></br>longitude: -122.22</br>latitude: 37.86</br>housing_median_age: 21.0</br>total_rooms: 7099.0</br>population: 2401.0</br>households: 1138.0</br>median_income: 8.3014</br>ocean_proximity: NEAR BAY</br>_original_yhat_: 407689.22668987606</br>\"],[\"</br>id: 0</br>prediction: 765252.369</br>total_bedrooms: 3674.08</br></br>longitude: -122.22</br>latitude: 37.86</br>housing_median_age: 21.0</br>total_rooms: 7099.0</br>population: 2401.0</br>households: 1138.0</br>median_income: 8.3014</br>ocean_proximity: NEAR BAY</br>_original_yhat_: 407689.22668987606</br>\"],[\"</br>id: 0</br>prediction: 790830.094</br>total_bedrooms: 3738.52</br></br>longitude: -122.22</br>latitude: 37.86</br>housing_median_age: 21.0</br>total_rooms: 7099.0</br>population: 2401.0</br>households: 1138.0</br>median_income: 8.3014</br>ocean_proximity: NEAR BAY</br>_original_yhat_: 407689.22668987606</br>\"],[\"</br>id: 0</br>prediction: 816407.819</br>total_bedrooms: 3802.96</br></br>longitude: -122.22</br>latitude: 37.86</br>housing_median_age: 21.0</br>total_rooms: 7099.0</br>population: 2401.0</br>households: 1138.0</br>median_income: 8.3014</br>ocean_proximity: NEAR BAY</br>_original_yhat_: 407689.22668987606</br>\"],[\"</br>id: 0</br>prediction: 841985.544</br>total_bedrooms: 3867.3999999999996</br></br>longitude: -122.22</br>latitude: 37.86</br>housing_median_age: 21.0</br>total_rooms: 7099.0</br>population: 2401.0</br>households: 1138.0</br>median_income: 8.3014</br>ocean_proximity: NEAR BAY</br>_original_yhat_: 407689.22668987606</br>\"],[\"</br>id: 0</br>prediction: 867563.269</br>total_bedrooms: 3931.8399999999997</br></br>longitude: -122.22</br>latitude: 37.86</br>housing_median_age: 21.0</br>total_rooms: 7099.0</br>population: 2401.0</br>households: 1138.0</br>median_income: 8.3014</br>ocean_proximity: NEAR BAY</br>_original_yhat_: 407689.22668987606</br>\"],[\"</br>id: 0</br>prediction: 893140.994</br>total_bedrooms: 3996.2799999999997</br></br>longitude: -122.22</br>latitude: 37.86</br>housing_median_age: 21.0</br>total_rooms: 7099.0</br>population: 2401.0</br>households: 1138.0</br>median_income: 8.3014</br>ocean_proximity: NEAR BAY</br>_original_yhat_: 407689.22668987606</br>\"],[\"</br>id: 0</br>prediction: 918718.719</br>total_bedrooms: 4060.72</br></br>longitude: -122.22</br>latitude: 37.86</br>housing_median_age: 21.0</br>total_rooms: 7099.0</br>population: 2401.0</br>households: 1138.0</br>median_income: 8.3014</br>ocean_proximity: NEAR BAY</br>_original_yhat_: 407689.22668987606</br>\"],[\"</br>id: 0</br>prediction: 944296.443</br>total_bedrooms: 4125.16</br></br>longitude: -122.22</br>latitude: 37.86</br>housing_median_age: 21.0</br>total_rooms: 7099.0</br>population: 2401.0</br>households: 1138.0</br>median_income: 8.3014</br>ocean_proximity: NEAR BAY</br>_original_yhat_: 407689.22668987606</br>\"],[\"</br>id: 0</br>prediction: 969874.168</br>total_bedrooms: 4189.599999999999</br></br>longitude: -122.22</br>latitude: 37.86</br>housing_median_age: 21.0</br>total_rooms: 7099.0</br>population: 2401.0</br>households: 1138.0</br>median_income: 8.3014</br>ocean_proximity: NEAR BAY</br>_original_yhat_: 407689.22668987606</br>\"],[\"</br>id: 0</br>prediction: 995451.893</br>total_bedrooms: 4254.04</br></br>longitude: -122.22</br>latitude: 37.86</br>housing_median_age: 21.0</br>total_rooms: 7099.0</br>population: 2401.0</br>households: 1138.0</br>median_income: 8.3014</br>ocean_proximity: NEAR BAY</br>_original_yhat_: 407689.22668987606</br>\"],[\"</br>id: 0</br>prediction: 1021029.618</br>total_bedrooms: 4318.48</br></br>longitude: -122.22</br>latitude: 37.86</br>housing_median_age: 21.0</br>total_rooms: 7099.0</br>population: 2401.0</br>households: 1138.0</br>median_income: 8.3014</br>ocean_proximity: NEAR BAY</br>_original_yhat_: 407689.22668987606</br>\"],[\"</br>id: 0</br>prediction: 1046607.343</br>total_bedrooms: 4382.92</br></br>longitude: -122.22</br>latitude: 37.86</br>housing_median_age: 21.0</br>total_rooms: 7099.0</br>population: 2401.0</br>households: 1138.0</br>median_income: 8.3014</br>ocean_proximity: NEAR BAY</br>_original_yhat_: 407689.22668987606</br>\"],[\"</br>id: 0</br>prediction: 1072185.068</br>total_bedrooms: 4447.36</br></br>longitude: -122.22</br>latitude: 37.86</br>housing_median_age: 21.0</br>total_rooms: 7099.0</br>population: 2401.0</br>households: 1138.0</br>median_income: 8.3014</br>ocean_proximity: NEAR BAY</br>_original_yhat_: 407689.22668987606</br>\"],[\"</br>id: 0</br>prediction: 1097762.793</br>total_bedrooms: 4511.8</br></br>longitude: -122.22</br>latitude: 37.86</br>housing_median_age: 21.0</br>total_rooms: 7099.0</br>population: 2401.0</br>households: 1138.0</br>median_income: 8.3014</br>ocean_proximity: NEAR BAY</br>_original_yhat_: 407689.22668987606</br>\"],[\"</br>id: 0</br>prediction: 1123340.518</br>total_bedrooms: 4576.24</br></br>longitude: -122.22</br>latitude: 37.86</br>housing_median_age: 21.0</br>total_rooms: 7099.0</br>population: 2401.0</br>households: 1138.0</br>median_income: 8.3014</br>ocean_proximity: NEAR BAY</br>_original_yhat_: 407689.22668987606</br>\"],[\"</br>id: 0</br>prediction: 1148918.243</br>total_bedrooms: 4640.68</br></br>longitude: -122.22</br>latitude: 37.86</br>housing_median_age: 21.0</br>total_rooms: 7099.0</br>population: 2401.0</br>households: 1138.0</br>median_income: 8.3014</br>ocean_proximity: NEAR BAY</br>_original_yhat_: 407689.22668987606</br>\"],[\"</br>id: 0</br>prediction: 1171866.019</br>total_bedrooms: 4705.12</br></br>longitude: -122.22</br>latitude: 37.86</br>housing_median_age: 21.0</br>total_rooms: 7099.0</br>population: 2401.0</br>households: 1138.0</br>median_income: 8.3014</br>ocean_proximity: NEAR BAY</br>_original_yhat_: 407689.22668987606</br>\"],[\"</br>id: 0</br>prediction: 1193896.29</br>total_bedrooms: 4769.5599999999995</br></br>longitude: -122.22</br>latitude: 37.86</br>housing_median_age: 21.0</br>total_rooms: 7099.0</br>population: 2401.0</br>households: 1138.0</br>median_income: 8.3014</br>ocean_proximity: NEAR BAY</br>_original_yhat_: 407689.22668987606</br>\"],[\"</br>id: 0</br>prediction: 1215926.562</br>total_bedrooms: 4834.0</br></br>longitude: -122.22</br>latitude: 37.86</br>housing_median_age: 21.0</br>total_rooms: 7099.0</br>population: 2401.0</br>households: 1138.0</br>median_income: 8.3014</br>ocean_proximity: NEAR BAY</br>_original_yhat_: 407689.22668987606</br>\"],[\"</br>id: 0</br>prediction: 1237956.833</br>total_bedrooms: 4898.44</br></br>longitude: -122.22</br>latitude: 37.86</br>housing_median_age: 21.0</br>total_rooms: 7099.0</br>population: 2401.0</br>households: 1138.0</br>median_income: 8.3014</br>ocean_proximity: NEAR BAY</br>_original_yhat_: 407689.22668987606</br>\"],[\"</br>id: 0</br>prediction: 1259042.034</br>total_bedrooms: 4962.88</br></br>longitude: -122.22</br>latitude: 37.86</br>housing_median_age: 21.0</br>total_rooms: 7099.0</br>population: 2401.0</br>households: 1138.0</br>median_income: 8.3014</br>ocean_proximity: NEAR BAY</br>_original_yhat_: 407689.22668987606</br>\"],[\"</br>id: 0</br>prediction: 1279330.907</br>total_bedrooms: 5027.32</br></br>longitude: -122.22</br>latitude: 37.86</br>housing_median_age: 21.0</br>total_rooms: 7099.0</br>population: 2401.0</br>households: 1138.0</br>median_income: 8.3014</br>ocean_proximity: NEAR BAY</br>_original_yhat_: 407689.22668987606</br>\"],[\"</br>id: 0</br>prediction: 1299619.78</br>total_bedrooms: 5091.76</br></br>longitude: -122.22</br>latitude: 37.86</br>housing_median_age: 21.0</br>total_rooms: 7099.0</br>population: 2401.0</br>households: 1138.0</br>median_income: 8.3014</br>ocean_proximity: NEAR BAY</br>_original_yhat_: 407689.22668987606</br>\"],[\"</br>id: 0</br>prediction: 1319908.653</br>total_bedrooms: 5156.2</br></br>longitude: -122.22</br>latitude: 37.86</br>housing_median_age: 21.0</br>total_rooms: 7099.0</br>population: 2401.0</br>households: 1138.0</br>median_income: 8.3014</br>ocean_proximity: NEAR BAY</br>_original_yhat_: 407689.22668987606</br>\"],[\"</br>id: 0</br>prediction: 1340197.525</br>total_bedrooms: 5220.639999999999</br></br>longitude: -122.22</br>latitude: 37.86</br>housing_median_age: 21.0</br>total_rooms: 7099.0</br>population: 2401.0</br>households: 1138.0</br>median_income: 8.3014</br>ocean_proximity: NEAR BAY</br>_original_yhat_: 407689.22668987606</br>\"],[\"</br>id: 0</br>prediction: 1360486.398</br>total_bedrooms: 5285.08</br></br>longitude: -122.22</br>latitude: 37.86</br>housing_median_age: 21.0</br>total_rooms: 7099.0</br>population: 2401.0</br>households: 1138.0</br>median_income: 8.3014</br>ocean_proximity: NEAR BAY</br>_original_yhat_: 407689.22668987606</br>\"],[\"</br>id: 0</br>prediction: 1380775.271</br>total_bedrooms: 5349.5199999999995</br></br>longitude: -122.22</br>latitude: 37.86</br>housing_median_age: 21.0</br>total_rooms: 7099.0</br>population: 2401.0</br>households: 1138.0</br>median_income: 8.3014</br>ocean_proximity: NEAR BAY</br>_original_yhat_: 407689.22668987606</br>\"],[\"</br>id: 0</br>prediction: 1401064.143</br>total_bedrooms: 5413.96</br></br>longitude: -122.22</br>latitude: 37.86</br>housing_median_age: 21.0</br>total_rooms: 7099.0</br>population: 2401.0</br>households: 1138.0</br>median_income: 8.3014</br>ocean_proximity: NEAR BAY</br>_original_yhat_: 407689.22668987606</br>\"],[\"</br>id: 0</br>prediction: 1421353.016</br>total_bedrooms: 5478.4</br></br>longitude: -122.22</br>latitude: 37.86</br>housing_median_age: 21.0</br>total_rooms: 7099.0</br>population: 2401.0</br>households: 1138.0</br>median_income: 8.3014</br>ocean_proximity: NEAR BAY</br>_original_yhat_: 407689.22668987606</br>\"],[\"</br>id: 0</br>prediction: 1441823.564</br>total_bedrooms: 5542.84</br></br>longitude: -122.22</br>latitude: 37.86</br>housing_median_age: 21.0</br>total_rooms: 7099.0</br>population: 2401.0</br>households: 1138.0</br>median_income: 8.3014</br>ocean_proximity: NEAR BAY</br>_original_yhat_: 407689.22668987606</br>\"],[\"</br>id: 0</br>prediction: 1462500.313</br>total_bedrooms: 5607.28</br></br>longitude: -122.22</br>latitude: 37.86</br>housing_median_age: 21.0</br>total_rooms: 7099.0</br>population: 2401.0</br>households: 1138.0</br>median_income: 8.3014</br>ocean_proximity: NEAR BAY</br>_original_yhat_: 407689.22668987606</br>\"],[\"</br>id: 0</br>prediction: 1489088.544</br>total_bedrooms: 5671.719999999999</br></br>longitude: -122.22</br>latitude: 37.86</br>housing_median_age: 21.0</br>total_rooms: 7099.0</br>population: 2401.0</br>households: 1138.0</br>median_income: 8.3014</br>ocean_proximity: NEAR BAY</br>_original_yhat_: 407689.22668987606</br>\"],[\"</br>id: 0</br>prediction: 1525724.269</br>total_bedrooms: 5736.16</br></br>longitude: -122.22</br>latitude: 37.86</br>housing_median_age: 21.0</br>total_rooms: 7099.0</br>population: 2401.0</br>households: 1138.0</br>median_income: 8.3014</br>ocean_proximity: NEAR BAY</br>_original_yhat_: 407689.22668987606</br>\"],[\"</br>id: 0</br>prediction: 1562739.628</br>total_bedrooms: 5800.599999999999</br></br>longitude: -122.22</br>latitude: 37.86</br>housing_median_age: 21.0</br>total_rooms: 7099.0</br>population: 2401.0</br>households: 1138.0</br>median_income: 8.3014</br>ocean_proximity: NEAR BAY</br>_original_yhat_: 407689.22668987606</br>\"],[\"</br>id: 0</br>prediction: 1599754.988</br>total_bedrooms: 5865.04</br></br>longitude: -122.22</br>latitude: 37.86</br>housing_median_age: 21.0</br>total_rooms: 7099.0</br>population: 2401.0</br>households: 1138.0</br>median_income: 8.3014</br>ocean_proximity: NEAR BAY</br>_original_yhat_: 407689.22668987606</br>\"],[\"</br>id: 0</br>prediction: 1636770.347</br>total_bedrooms: 5929.48</br></br>longitude: -122.22</br>latitude: 37.86</br>housing_median_age: 21.0</br>total_rooms: 7099.0</br>population: 2401.0</br>households: 1138.0</br>median_income: 8.3014</br>ocean_proximity: NEAR BAY</br>_original_yhat_: 407689.22668987606</br>\"],[\"</br>id: 0</br>prediction: 1673785.707</br>total_bedrooms: 5993.92</br></br>longitude: -122.22</br>latitude: 37.86</br>housing_median_age: 21.0</br>total_rooms: 7099.0</br>population: 2401.0</br>households: 1138.0</br>median_income: 8.3014</br>ocean_proximity: NEAR BAY</br>_original_yhat_: 407689.22668987606</br>\"],[\"</br>id: 0</br>prediction: 1710801.066</br>total_bedrooms: 6058.36</br></br>longitude: -122.22</br>latitude: 37.86</br>housing_median_age: 21.0</br>total_rooms: 7099.0</br>population: 2401.0</br>households: 1138.0</br>median_income: 8.3014</br>ocean_proximity: NEAR BAY</br>_original_yhat_: 407689.22668987606</br>\"],[\"</br>id: 0</br>prediction: 1747816.426</br>total_bedrooms: 6122.8</br></br>longitude: -122.22</br>latitude: 37.86</br>housing_median_age: 21.0</br>total_rooms: 7099.0</br>population: 2401.0</br>households: 1138.0</br>median_income: 8.3014</br>ocean_proximity: NEAR BAY</br>_original_yhat_: 407689.22668987606</br>\"],[\"</br>id: 0</br>prediction: 1784255.967</br>total_bedrooms: 6187.24</br></br>longitude: -122.22</br>latitude: 37.86</br>housing_median_age: 21.0</br>total_rooms: 7099.0</br>population: 2401.0</br>households: 1138.0</br>median_income: 8.3014</br>ocean_proximity: NEAR BAY</br>_original_yhat_: 407689.22668987606</br>\"],[\"</br>id: 0</br>prediction: 1819455.771</br>total_bedrooms: 6251.679999999999</br></br>longitude: -122.22</br>latitude: 37.86</br>housing_median_age: 21.0</br>total_rooms: 7099.0</br>population: 2401.0</br>households: 1138.0</br>median_income: 8.3014</br>ocean_proximity: NEAR BAY</br>_original_yhat_: 407689.22668987606</br>\"],[\"</br>id: 0</br>prediction: 1853387.419</br>total_bedrooms: 6316.12</br></br>longitude: -122.22</br>latitude: 37.86</br>housing_median_age: 21.0</br>total_rooms: 7099.0</br>population: 2401.0</br>households: 1138.0</br>median_income: 8.3014</br>ocean_proximity: NEAR BAY</br>_original_yhat_: 407689.22668987606</br>\"],[\"</br>id: 0</br>prediction: 1887319.066</br>total_bedrooms: 6380.5599999999995</br></br>longitude: -122.22</br>latitude: 37.86</br>housing_median_age: 21.0</br>total_rooms: 7099.0</br>population: 2401.0</br>households: 1138.0</br>median_income: 8.3014</br>ocean_proximity: NEAR BAY</br>_original_yhat_: 407689.22668987606</br>\"],[\"</br>id: 0</br>prediction: 1921250.714</br>total_bedrooms: 6445.0</br></br>longitude: -122.22</br>latitude: 37.86</br>housing_median_age: 21.0</br>total_rooms: 7099.0</br>population: 2401.0</br>households: 1138.0</br>median_income: 8.3014</br>ocean_proximity: NEAR BAY</br>_original_yhat_: 407689.22668987606</br>\"]],\"hovertemplate\":\"%{customdata[0]}<extra></extra>\",\"legendgroup\":\"MLP with onehot encoding\",\"line\":{\"color\":\"#4378bf\",\"dash\":\"solid\",\"width\":2},\"marker\":{\"symbol\":\"circle\"},\"mode\":\"lines\",\"name\":\"MLP with onehot encoding\",\"orientation\":\"v\",\"showlegend\":true,\"x\":[1.0,65.44,129.88,194.32,258.76,323.2,387.64,452.08,516.52,580.96,645.4,709.8399999999999,774.28,838.72,903.16,967.5999999999999,1032.04,1096.48,1106.0,1160.92,1225.36,1289.8,1354.24,1418.6799999999998,1483.12,1547.56,1612.0,1676.44,1740.8799999999999,1805.32,1869.76,1934.1999999999998,1998.6399999999999,2063.08,2127.52,2191.96,2256.4,2320.84,2385.2799999999997,2449.72,2514.16,2578.6,2643.04,2707.48,2771.92,2836.3599999999997,2900.7999999999997,2965.24,3029.68,3094.12,3158.56,3223.0,3287.44,3351.88,3416.3199999999997,3480.7599999999998,3545.2,3609.64,3674.08,3738.52,3802.96,3867.3999999999996,3931.8399999999997,3996.2799999999997,4060.72,4125.16,4189.599999999999,4254.04,4318.48,4382.92,4447.36,4511.8,4576.24,4640.68,4705.12,4769.5599999999995,4834.0,4898.44,4962.88,5027.32,5091.76,5156.2,5220.639999999999,5285.08,5349.5199999999995,5413.96,5478.4,5542.84,5607.28,5671.719999999999,5736.16,5800.599999999999,5865.04,5929.48,5993.92,6058.36,6122.8,6187.24,6251.679999999999,6316.12,6380.5599999999995,6445.0],\"xaxis\":\"x\",\"y\":[571116.245709358,533834.3127390246,497293.9583473356,460753.6039556463,441400.06891796633,428197.6380112319,414995.2071044973,415783.05855162244,416769.30470874964,417755.55086587626,418827.6878223678,420677.2454559604,422526.803089553,422414.46837732283,420296.30583740183,417842.07824633433,414172.51023032697,408523.74344629946,407689.22668987594,402874.9766622726,397226.20987824484,393065.0444183238,393047.83964734676,398436.04919473745,404486.2141346021,409331.7988484816,414177.3835623615,415219.3443372281,410893.48950606654,406567.6346749048,402241.77984374284,397915.92501258105,393590.0701814191,389264.2153502573,384938.36051909544,380612.50568793353,376286.65085677156,371960.7960256097,367634.9411944479,363309.0863632859,358983.23153212405,354657.37670096254,356008.77092595445,381586.4958201222,407164.2207142899,432741.9456084573,458319.67050262494,483897.3953967928,509475.1202909602,535052.8451851278,560630.5700792954,586208.2949734628,611786.0198676304,637363.7447617981,662941.4696559655,688519.1945501331,714096.9194443007,739674.6443384682,765252.369232636,790830.0941268036,816407.8190209712,841985.543915138,867563.2688093059,893140.9937034738,918718.7185976411,944296.4434918086,969874.1683859763,995451.893280144,1021029.6181743112,1046607.3430684791,1072185.0679626463,1097762.792856814,1123340.5177509817,1148918.2426451494,1171866.0189730085,1193896.2902995541,1215926.5616260997,1237956.8329526454,1259042.0344201897,1279330.9071188273,1299619.7798174657,1319908.6525161031,1340197.5252147408,1360486.397913379,1380775.2706120166,1401064.1433106547,1421353.0160092926,1441823.564202397,1462500.3127301317,1489088.5439133446,1525724.2685303183,1562739.6280944983,1599754.9876586797,1636770.34722286,1673785.7067870412,1710801.0663512216,1747816.4259154024,1784255.9669738912,1819455.7711356801,1853387.418633409,1887319.0661311375,1921250.7136288665],\"yaxis\":\"y\",\"type\":\"scatter\",\"opacity\":1},{\"customdata\":[[\"</br>id: 0</br>prediction: 710122.69</br>total_rooms: 2.0</br></br>longitude: -122.22</br>latitude: 37.86</br>housing_median_age: 21.0</br>total_bedrooms: 1106.0</br>population: 2401.0</br>households: 1138.0</br>median_income: 8.3014</br>ocean_proximity: NEAR BAY</br>_original_yhat_: 407689.22668987606</br>\"],[\"</br>id: 0</br>prediction: 651323.218</br>total_rooms: 395.18</br></br>longitude: -122.22</br>latitude: 37.86</br>housing_median_age: 21.0</br>total_bedrooms: 1106.0</br>population: 2401.0</br>households: 1138.0</br>median_income: 8.3014</br>ocean_proximity: NEAR BAY</br>_original_yhat_: 407689.22668987606</br>\"],[\"</br>id: 0</br>prediction: 592523.745</br>total_rooms: 788.36</br></br>longitude: -122.22</br>latitude: 37.86</br>housing_median_age: 21.0</br>total_bedrooms: 1106.0</br>population: 2401.0</br>households: 1138.0</br>median_income: 8.3014</br>ocean_proximity: NEAR BAY</br>_original_yhat_: 407689.22668987606</br>\"],[\"</br>id: 0</br>prediction: 533724.273</br>total_rooms: 1181.54</br></br>longitude: -122.22</br>latitude: 37.86</br>housing_median_age: 21.0</br>total_bedrooms: 1106.0</br>population: 2401.0</br>households: 1138.0</br>median_income: 8.3014</br>ocean_proximity: NEAR BAY</br>_original_yhat_: 407689.22668987606</br>\"],[\"</br>id: 0</br>prediction: 462105.425</br>total_rooms: 1574.72</br></br>longitude: -122.22</br>latitude: 37.86</br>housing_median_age: 21.0</br>total_bedrooms: 1106.0</br>population: 2401.0</br>households: 1138.0</br>median_income: 8.3014</br>ocean_proximity: NEAR BAY</br>_original_yhat_: 407689.22668987606</br>\"],[\"</br>id: 0</br>prediction: 392349.977</br>total_rooms: 1967.9</br></br>longitude: -122.22</br>latitude: 37.86</br>housing_median_age: 21.0</br>total_bedrooms: 1106.0</br>population: 2401.0</br>households: 1138.0</br>median_income: 8.3014</br>ocean_proximity: NEAR BAY</br>_original_yhat_: 407689.22668987606</br>\"],[\"</br>id: 0</br>prediction: 390017.666</br>total_rooms: 2361.08</br></br>longitude: -122.22</br>latitude: 37.86</br>housing_median_age: 21.0</br>total_bedrooms: 1106.0</br>population: 2401.0</br>households: 1138.0</br>median_income: 8.3014</br>ocean_proximity: NEAR BAY</br>_original_yhat_: 407689.22668987606</br>\"],[\"</br>id: 0</br>prediction: 403775.447</br>total_rooms: 2754.26</br></br>longitude: -122.22</br>latitude: 37.86</br>housing_median_age: 21.0</br>total_bedrooms: 1106.0</br>population: 2401.0</br>households: 1138.0</br>median_income: 8.3014</br>ocean_proximity: NEAR BAY</br>_original_yhat_: 407689.22668987606</br>\"],[\"</br>id: 0</br>prediction: 410432.819</br>total_rooms: 3147.44</br></br>longitude: -122.22</br>latitude: 37.86</br>housing_median_age: 21.0</br>total_bedrooms: 1106.0</br>population: 2401.0</br>households: 1138.0</br>median_income: 8.3014</br>ocean_proximity: NEAR BAY</br>_original_yhat_: 407689.22668987606</br>\"],[\"</br>id: 0</br>prediction: 397016.115</br>total_rooms: 3540.62</br></br>longitude: -122.22</br>latitude: 37.86</br>housing_median_age: 21.0</br>total_bedrooms: 1106.0</br>population: 2401.0</br>households: 1138.0</br>median_income: 8.3014</br>ocean_proximity: NEAR BAY</br>_original_yhat_: 407689.22668987606</br>\"],[\"</br>id: 0</br>prediction: 387025.295</br>total_rooms: 3933.8</br></br>longitude: -122.22</br>latitude: 37.86</br>housing_median_age: 21.0</br>total_bedrooms: 1106.0</br>population: 2401.0</br>households: 1138.0</br>median_income: 8.3014</br>ocean_proximity: NEAR BAY</br>_original_yhat_: 407689.22668987606</br>\"],[\"</br>id: 0</br>prediction: 391779.098</br>total_rooms: 4326.9800000000005</br></br>longitude: -122.22</br>latitude: 37.86</br>housing_median_age: 21.0</br>total_bedrooms: 1106.0</br>population: 2401.0</br>households: 1138.0</br>median_income: 8.3014</br>ocean_proximity: NEAR BAY</br>_original_yhat_: 407689.22668987606</br>\"],[\"</br>id: 0</br>prediction: 397153.027</br>total_rooms: 4720.16</br></br>longitude: -122.22</br>latitude: 37.86</br>housing_median_age: 21.0</br>total_bedrooms: 1106.0</br>population: 2401.0</br>households: 1138.0</br>median_income: 8.3014</br>ocean_proximity: NEAR BAY</br>_original_yhat_: 407689.22668987606</br>\"],[\"</br>id: 0</br>prediction: 400937.448</br>total_rooms: 5113.34</br></br>longitude: -122.22</br>latitude: 37.86</br>housing_median_age: 21.0</br>total_bedrooms: 1106.0</br>population: 2401.0</br>households: 1138.0</br>median_income: 8.3014</br>ocean_proximity: NEAR BAY</br>_original_yhat_: 407689.22668987606</br>\"],[\"</br>id: 0</br>prediction: 404324.065</br>total_rooms: 5506.52</br></br>longitude: -122.22</br>latitude: 37.86</br>housing_median_age: 21.0</br>total_bedrooms: 1106.0</br>population: 2401.0</br>households: 1138.0</br>median_income: 8.3014</br>ocean_proximity: NEAR BAY</br>_original_yhat_: 407689.22668987606</br>\"],[\"</br>id: 0</br>prediction: 407710.682</br>total_rooms: 5899.7</br></br>longitude: -122.22</br>latitude: 37.86</br>housing_median_age: 21.0</br>total_bedrooms: 1106.0</br>population: 2401.0</br>households: 1138.0</br>median_income: 8.3014</br>ocean_proximity: NEAR BAY</br>_original_yhat_: 407689.22668987606</br>\"],[\"</br>id: 0</br>prediction: 404980.419</br>total_rooms: 6292.88</br></br>longitude: -122.22</br>latitude: 37.86</br>housing_median_age: 21.0</br>total_bedrooms: 1106.0</br>population: 2401.0</br>households: 1138.0</br>median_income: 8.3014</br>ocean_proximity: NEAR BAY</br>_original_yhat_: 407689.22668987606</br>\"],[\"</br>id: 0</br>prediction: 403415.016</br>total_rooms: 6686.06</br></br>longitude: -122.22</br>latitude: 37.86</br>housing_median_age: 21.0</br>total_bedrooms: 1106.0</br>population: 2401.0</br>households: 1138.0</br>median_income: 8.3014</br>ocean_proximity: NEAR BAY</br>_original_yhat_: 407689.22668987606</br>\"],[\"</br>id: 0</br>prediction: 407484.697</br>total_rooms: 7079.24</br></br>longitude: -122.22</br>latitude: 37.86</br>housing_median_age: 21.0</br>total_bedrooms: 1106.0</br>population: 2401.0</br>households: 1138.0</br>median_income: 8.3014</br>ocean_proximity: NEAR BAY</br>_original_yhat_: 407689.22668987606</br>\"],[\"</br>id: 0</br>prediction: 407689.227</br>total_rooms: 7099.0</br></br>longitude: -122.22</br>latitude: 37.86</br>housing_median_age: 21.0</br>total_bedrooms: 1106.0</br>population: 2401.0</br>households: 1138.0</br>median_income: 8.3014</br>ocean_proximity: NEAR BAY</br>_original_yhat_: 407689.22668987606</br>\"],[\"</br>id: 0</br>prediction: 411554.378</br>total_rooms: 7472.42</br></br>longitude: -122.22</br>latitude: 37.86</br>housing_median_age: 21.0</br>total_bedrooms: 1106.0</br>population: 2401.0</br>households: 1138.0</br>median_income: 8.3014</br>ocean_proximity: NEAR BAY</br>_original_yhat_: 407689.22668987606</br>\"],[\"</br>id: 0</br>prediction: 415408.903</br>total_rooms: 7865.6</br></br>longitude: -122.22</br>latitude: 37.86</br>housing_median_age: 21.0</br>total_bedrooms: 1106.0</br>population: 2401.0</br>households: 1138.0</br>median_income: 8.3014</br>ocean_proximity: NEAR BAY</br>_original_yhat_: 407689.22668987606</br>\"],[\"</br>id: 0</br>prediction: 414998.324</br>total_rooms: 8258.78</br></br>longitude: -122.22</br>latitude: 37.86</br>housing_median_age: 21.0</br>total_bedrooms: 1106.0</br>population: 2401.0</br>households: 1138.0</br>median_income: 8.3014</br>ocean_proximity: NEAR BAY</br>_original_yhat_: 407689.22668987606</br>\"],[\"</br>id: 0</br>prediction: 410785.303</br>total_rooms: 8651.960000000001</br></br>longitude: -122.22</br>latitude: 37.86</br>housing_median_age: 21.0</br>total_bedrooms: 1106.0</br>population: 2401.0</br>households: 1138.0</br>median_income: 8.3014</br>ocean_proximity: NEAR BAY</br>_original_yhat_: 407689.22668987606</br>\"],[\"</br>id: 0</br>prediction: 405402.034</br>total_rooms: 9045.14</br></br>longitude: -122.22</br>latitude: 37.86</br>housing_median_age: 21.0</br>total_bedrooms: 1106.0</br>population: 2401.0</br>households: 1138.0</br>median_income: 8.3014</br>ocean_proximity: NEAR BAY</br>_original_yhat_: 407689.22668987606</br>\"],[\"</br>id: 0</br>prediction: 400018.765</br>total_rooms: 9438.32</br></br>longitude: -122.22</br>latitude: 37.86</br>housing_median_age: 21.0</br>total_bedrooms: 1106.0</br>population: 2401.0</br>households: 1138.0</br>median_income: 8.3014</br>ocean_proximity: NEAR BAY</br>_original_yhat_: 407689.22668987606</br>\"],[\"</br>id: 0</br>prediction: 394635.495</br>total_rooms: 9831.5</br></br>longitude: -122.22</br>latitude: 37.86</br>housing_median_age: 21.0</br>total_bedrooms: 1106.0</br>population: 2401.0</br>households: 1138.0</br>median_income: 8.3014</br>ocean_proximity: NEAR BAY</br>_original_yhat_: 407689.22668987606</br>\"],[\"</br>id: 0</br>prediction: 389252.226</br>total_rooms: 10224.68</br></br>longitude: -122.22</br>latitude: 37.86</br>housing_median_age: 21.0</br>total_bedrooms: 1106.0</br>population: 2401.0</br>households: 1138.0</br>median_income: 8.3014</br>ocean_proximity: NEAR BAY</br>_original_yhat_: 407689.22668987606</br>\"],[\"</br>id: 0</br>prediction: 383868.957</br>total_rooms: 10617.86</br></br>longitude: -122.22</br>latitude: 37.86</br>housing_median_age: 21.0</br>total_bedrooms: 1106.0</br>population: 2401.0</br>households: 1138.0</br>median_income: 8.3014</br>ocean_proximity: NEAR BAY</br>_original_yhat_: 407689.22668987606</br>\"],[\"</br>id: 0</br>prediction: 378485.687</br>total_rooms: 11011.04</br></br>longitude: -122.22</br>latitude: 37.86</br>housing_median_age: 21.0</br>total_bedrooms: 1106.0</br>population: 2401.0</br>households: 1138.0</br>median_income: 8.3014</br>ocean_proximity: NEAR BAY</br>_original_yhat_: 407689.22668987606</br>\"],[\"</br>id: 0</br>prediction: 373102.418</br>total_rooms: 11404.22</br></br>longitude: -122.22</br>latitude: 37.86</br>housing_median_age: 21.0</br>total_bedrooms: 1106.0</br>population: 2401.0</br>households: 1138.0</br>median_income: 8.3014</br>ocean_proximity: NEAR BAY</br>_original_yhat_: 407689.22668987606</br>\"],[\"</br>id: 0</br>prediction: 367719.149</br>total_rooms: 11797.4</br></br>longitude: -122.22</br>latitude: 37.86</br>housing_median_age: 21.0</br>total_bedrooms: 1106.0</br>population: 2401.0</br>households: 1138.0</br>median_income: 8.3014</br>ocean_proximity: NEAR BAY</br>_original_yhat_: 407689.22668987606</br>\"],[\"</br>id: 0</br>prediction: 362335.879</br>total_rooms: 12190.58</br></br>longitude: -122.22</br>latitude: 37.86</br>housing_median_age: 21.0</br>total_bedrooms: 1106.0</br>population: 2401.0</br>households: 1138.0</br>median_income: 8.3014</br>ocean_proximity: NEAR BAY</br>_original_yhat_: 407689.22668987606</br>\"],[\"</br>id: 0</br>prediction: 357736.417</br>total_rooms: 12583.76</br></br>longitude: -122.22</br>latitude: 37.86</br>housing_median_age: 21.0</br>total_bedrooms: 1106.0</br>population: 2401.0</br>households: 1138.0</br>median_income: 8.3014</br>ocean_proximity: NEAR BAY</br>_original_yhat_: 407689.22668987606</br>\"],[\"</br>id: 0</br>prediction: 367807.494</br>total_rooms: 12976.94</br></br>longitude: -122.22</br>latitude: 37.86</br>housing_median_age: 21.0</br>total_bedrooms: 1106.0</br>population: 2401.0</br>households: 1138.0</br>median_income: 8.3014</br>ocean_proximity: NEAR BAY</br>_original_yhat_: 407689.22668987606</br>\"],[\"</br>id: 0</br>prediction: 385360.557</br>total_rooms: 13370.12</br></br>longitude: -122.22</br>latitude: 37.86</br>housing_median_age: 21.0</br>total_bedrooms: 1106.0</br>population: 2401.0</br>households: 1138.0</br>median_income: 8.3014</br>ocean_proximity: NEAR BAY</br>_original_yhat_: 407689.22668987606</br>\"],[\"</br>id: 0</br>prediction: 402913.621</br>total_rooms: 13763.300000000001</br></br>longitude: -122.22</br>latitude: 37.86</br>housing_median_age: 21.0</br>total_bedrooms: 1106.0</br>population: 2401.0</br>households: 1138.0</br>median_income: 8.3014</br>ocean_proximity: NEAR BAY</br>_original_yhat_: 407689.22668987606</br>\"],[\"</br>id: 0</br>prediction: 420466.685</br>total_rooms: 14156.48</br></br>longitude: -122.22</br>latitude: 37.86</br>housing_median_age: 21.0</br>total_bedrooms: 1106.0</br>population: 2401.0</br>households: 1138.0</br>median_income: 8.3014</br>ocean_proximity: NEAR BAY</br>_original_yhat_: 407689.22668987606</br>\"],[\"</br>id: 0</br>prediction: 438019.749</br>total_rooms: 14549.66</br></br>longitude: -122.22</br>latitude: 37.86</br>housing_median_age: 21.0</br>total_bedrooms: 1106.0</br>population: 2401.0</br>households: 1138.0</br>median_income: 8.3014</br>ocean_proximity: NEAR BAY</br>_original_yhat_: 407689.22668987606</br>\"],[\"</br>id: 0</br>prediction: 462810.859</br>total_rooms: 14942.84</br></br>longitude: -122.22</br>latitude: 37.86</br>housing_median_age: 21.0</br>total_bedrooms: 1106.0</br>population: 2401.0</br>households: 1138.0</br>median_income: 8.3014</br>ocean_proximity: NEAR BAY</br>_original_yhat_: 407689.22668987606</br>\"],[\"</br>id: 0</br>prediction: 489565.689</br>total_rooms: 15336.02</br></br>longitude: -122.22</br>latitude: 37.86</br>housing_median_age: 21.0</br>total_bedrooms: 1106.0</br>population: 2401.0</br>households: 1138.0</br>median_income: 8.3014</br>ocean_proximity: NEAR BAY</br>_original_yhat_: 407689.22668987606</br>\"],[\"</br>id: 0</br>prediction: 516320.519</br>total_rooms: 15729.2</br></br>longitude: -122.22</br>latitude: 37.86</br>housing_median_age: 21.0</br>total_bedrooms: 1106.0</br>population: 2401.0</br>households: 1138.0</br>median_income: 8.3014</br>ocean_proximity: NEAR BAY</br>_original_yhat_: 407689.22668987606</br>\"],[\"</br>id: 0</br>prediction: 543075.349</br>total_rooms: 16122.380000000001</br></br>longitude: -122.22</br>latitude: 37.86</br>housing_median_age: 21.0</br>total_bedrooms: 1106.0</br>population: 2401.0</br>households: 1138.0</br>median_income: 8.3014</br>ocean_proximity: NEAR BAY</br>_original_yhat_: 407689.22668987606</br>\"],[\"</br>id: 0</br>prediction: 569830.179</br>total_rooms: 16515.56</br></br>longitude: -122.22</br>latitude: 37.86</br>housing_median_age: 21.0</br>total_bedrooms: 1106.0</br>population: 2401.0</br>households: 1138.0</br>median_income: 8.3014</br>ocean_proximity: NEAR BAY</br>_original_yhat_: 407689.22668987606</br>\"],[\"</br>id: 0</br>prediction: 596585.01</br>total_rooms: 16908.74</br></br>longitude: -122.22</br>latitude: 37.86</br>housing_median_age: 21.0</br>total_bedrooms: 1106.0</br>population: 2401.0</br>households: 1138.0</br>median_income: 8.3014</br>ocean_proximity: NEAR BAY</br>_original_yhat_: 407689.22668987606</br>\"],[\"</br>id: 0</br>prediction: 623339.84</br>total_rooms: 17301.920000000002</br></br>longitude: -122.22</br>latitude: 37.86</br>housing_median_age: 21.0</br>total_bedrooms: 1106.0</br>population: 2401.0</br>households: 1138.0</br>median_income: 8.3014</br>ocean_proximity: NEAR BAY</br>_original_yhat_: 407689.22668987606</br>\"],[\"</br>id: 0</br>prediction: 650094.67</br>total_rooms: 17695.1</br></br>longitude: -122.22</br>latitude: 37.86</br>housing_median_age: 21.0</br>total_bedrooms: 1106.0</br>population: 2401.0</br>households: 1138.0</br>median_income: 8.3014</br>ocean_proximity: NEAR BAY</br>_original_yhat_: 407689.22668987606</br>\"],[\"</br>id: 0</br>prediction: 676849.5</br>total_rooms: 18088.28</br></br>longitude: -122.22</br>latitude: 37.86</br>housing_median_age: 21.0</br>total_bedrooms: 1106.0</br>population: 2401.0</br>households: 1138.0</br>median_income: 8.3014</br>ocean_proximity: NEAR BAY</br>_original_yhat_: 407689.22668987606</br>\"],[\"</br>id: 0</br>prediction: 703604.33</br>total_rooms: 18481.46</br></br>longitude: -122.22</br>latitude: 37.86</br>housing_median_age: 21.0</br>total_bedrooms: 1106.0</br>population: 2401.0</br>households: 1138.0</br>median_income: 8.3014</br>ocean_proximity: NEAR BAY</br>_original_yhat_: 407689.22668987606</br>\"],[\"</br>id: 0</br>prediction: 730359.16</br>total_rooms: 18874.64</br></br>longitude: -122.22</br>latitude: 37.86</br>housing_median_age: 21.0</br>total_bedrooms: 1106.0</br>population: 2401.0</br>households: 1138.0</br>median_income: 8.3014</br>ocean_proximity: NEAR BAY</br>_original_yhat_: 407689.22668987606</br>\"],[\"</br>id: 0</br>prediction: 757113.991</br>total_rooms: 19267.82</br></br>longitude: -122.22</br>latitude: 37.86</br>housing_median_age: 21.0</br>total_bedrooms: 1106.0</br>population: 2401.0</br>households: 1138.0</br>median_income: 8.3014</br>ocean_proximity: NEAR BAY</br>_original_yhat_: 407689.22668987606</br>\"],[\"</br>id: 0</br>prediction: 783868.821</br>total_rooms: 19661.0</br></br>longitude: -122.22</br>latitude: 37.86</br>housing_median_age: 21.0</br>total_bedrooms: 1106.0</br>population: 2401.0</br>households: 1138.0</br>median_income: 8.3014</br>ocean_proximity: NEAR BAY</br>_original_yhat_: 407689.22668987606</br>\"],[\"</br>id: 0</br>prediction: 810623.651</br>total_rooms: 20054.18</br></br>longitude: -122.22</br>latitude: 37.86</br>housing_median_age: 21.0</br>total_bedrooms: 1106.0</br>population: 2401.0</br>households: 1138.0</br>median_income: 8.3014</br>ocean_proximity: NEAR BAY</br>_original_yhat_: 407689.22668987606</br>\"],[\"</br>id: 0</br>prediction: 837378.481</br>total_rooms: 20447.36</br></br>longitude: -122.22</br>latitude: 37.86</br>housing_median_age: 21.0</br>total_bedrooms: 1106.0</br>population: 2401.0</br>households: 1138.0</br>median_income: 8.3014</br>ocean_proximity: NEAR BAY</br>_original_yhat_: 407689.22668987606</br>\"],[\"</br>id: 0</br>prediction: 864133.311</br>total_rooms: 20840.54</br></br>longitude: -122.22</br>latitude: 37.86</br>housing_median_age: 21.0</br>total_bedrooms: 1106.0</br>population: 2401.0</br>households: 1138.0</br>median_income: 8.3014</br>ocean_proximity: NEAR BAY</br>_original_yhat_: 407689.22668987606</br>\"],[\"</br>id: 0</br>prediction: 890888.141</br>total_rooms: 21233.72</br></br>longitude: -122.22</br>latitude: 37.86</br>housing_median_age: 21.0</br>total_bedrooms: 1106.0</br>population: 2401.0</br>households: 1138.0</br>median_income: 8.3014</br>ocean_proximity: NEAR BAY</br>_original_yhat_: 407689.22668987606</br>\"],[\"</br>id: 0</br>prediction: 917642.971</br>total_rooms: 21626.9</br></br>longitude: -122.22</br>latitude: 37.86</br>housing_median_age: 21.0</br>total_bedrooms: 1106.0</br>population: 2401.0</br>households: 1138.0</br>median_income: 8.3014</br>ocean_proximity: NEAR BAY</br>_original_yhat_: 407689.22668987606</br>\"],[\"</br>id: 0</br>prediction: 944397.802</br>total_rooms: 22020.08</br></br>longitude: -122.22</br>latitude: 37.86</br>housing_median_age: 21.0</br>total_bedrooms: 1106.0</br>population: 2401.0</br>households: 1138.0</br>median_income: 8.3014</br>ocean_proximity: NEAR BAY</br>_original_yhat_: 407689.22668987606</br>\"],[\"</br>id: 0</br>prediction: 971152.632</br>total_rooms: 22413.260000000002</br></br>longitude: -122.22</br>latitude: 37.86</br>housing_median_age: 21.0</br>total_bedrooms: 1106.0</br>population: 2401.0</br>households: 1138.0</br>median_income: 8.3014</br>ocean_proximity: NEAR BAY</br>_original_yhat_: 407689.22668987606</br>\"],[\"</br>id: 0</br>prediction: 997907.462</br>total_rooms: 22806.44</br></br>longitude: -122.22</br>latitude: 37.86</br>housing_median_age: 21.0</br>total_bedrooms: 1106.0</br>population: 2401.0</br>households: 1138.0</br>median_income: 8.3014</br>ocean_proximity: NEAR BAY</br>_original_yhat_: 407689.22668987606</br>\"],[\"</br>id: 0</br>prediction: 1024662.292</br>total_rooms: 23199.62</br></br>longitude: -122.22</br>latitude: 37.86</br>housing_median_age: 21.0</br>total_bedrooms: 1106.0</br>population: 2401.0</br>households: 1138.0</br>median_income: 8.3014</br>ocean_proximity: NEAR BAY</br>_original_yhat_: 407689.22668987606</br>\"],[\"</br>id: 0</br>prediction: 1051417.122</br>total_rooms: 23592.8</br></br>longitude: -122.22</br>latitude: 37.86</br>housing_median_age: 21.0</br>total_bedrooms: 1106.0</br>population: 2401.0</br>households: 1138.0</br>median_income: 8.3014</br>ocean_proximity: NEAR BAY</br>_original_yhat_: 407689.22668987606</br>\"],[\"</br>id: 0</br>prediction: 1078171.952</br>total_rooms: 23985.98</br></br>longitude: -122.22</br>latitude: 37.86</br>housing_median_age: 21.0</br>total_bedrooms: 1106.0</br>population: 2401.0</br>households: 1138.0</br>median_income: 8.3014</br>ocean_proximity: NEAR BAY</br>_original_yhat_: 407689.22668987606</br>\"],[\"</br>id: 0</br>prediction: 1104926.782</br>total_rooms: 24379.16</br></br>longitude: -122.22</br>latitude: 37.86</br>housing_median_age: 21.0</br>total_bedrooms: 1106.0</br>population: 2401.0</br>households: 1138.0</br>median_income: 8.3014</br>ocean_proximity: NEAR BAY</br>_original_yhat_: 407689.22668987606</br>\"],[\"</br>id: 0</br>prediction: 1131681.613</br>total_rooms: 24772.34</br></br>longitude: -122.22</br>latitude: 37.86</br>housing_median_age: 21.0</br>total_bedrooms: 1106.0</br>population: 2401.0</br>households: 1138.0</br>median_income: 8.3014</br>ocean_proximity: NEAR BAY</br>_original_yhat_: 407689.22668987606</br>\"],[\"</br>id: 0</br>prediction: 1158436.443</br>total_rooms: 25165.52</br></br>longitude: -122.22</br>latitude: 37.86</br>housing_median_age: 21.0</br>total_bedrooms: 1106.0</br>population: 2401.0</br>households: 1138.0</br>median_income: 8.3014</br>ocean_proximity: NEAR BAY</br>_original_yhat_: 407689.22668987606</br>\"],[\"</br>id: 0</br>prediction: 1185191.273</br>total_rooms: 25558.7</br></br>longitude: -122.22</br>latitude: 37.86</br>housing_median_age: 21.0</br>total_bedrooms: 1106.0</br>population: 2401.0</br>households: 1138.0</br>median_income: 8.3014</br>ocean_proximity: NEAR BAY</br>_original_yhat_: 407689.22668987606</br>\"],[\"</br>id: 0</br>prediction: 1211946.103</br>total_rooms: 25951.88</br></br>longitude: -122.22</br>latitude: 37.86</br>housing_median_age: 21.0</br>total_bedrooms: 1106.0</br>population: 2401.0</br>households: 1138.0</br>median_income: 8.3014</br>ocean_proximity: NEAR BAY</br>_original_yhat_: 407689.22668987606</br>\"],[\"</br>id: 0</br>prediction: 1238700.933</br>total_rooms: 26345.06</br></br>longitude: -122.22</br>latitude: 37.86</br>housing_median_age: 21.0</br>total_bedrooms: 1106.0</br>population: 2401.0</br>households: 1138.0</br>median_income: 8.3014</br>ocean_proximity: NEAR BAY</br>_original_yhat_: 407689.22668987606</br>\"],[\"</br>id: 0</br>prediction: 1265455.763</br>total_rooms: 26738.24</br></br>longitude: -122.22</br>latitude: 37.86</br>housing_median_age: 21.0</br>total_bedrooms: 1106.0</br>population: 2401.0</br>households: 1138.0</br>median_income: 8.3014</br>ocean_proximity: NEAR BAY</br>_original_yhat_: 407689.22668987606</br>\"],[\"</br>id: 0</br>prediction: 1292210.594</br>total_rooms: 27131.420000000002</br></br>longitude: -122.22</br>latitude: 37.86</br>housing_median_age: 21.0</br>total_bedrooms: 1106.0</br>population: 2401.0</br>households: 1138.0</br>median_income: 8.3014</br>ocean_proximity: NEAR BAY</br>_original_yhat_: 407689.22668987606</br>\"],[\"</br>id: 0</br>prediction: 1318965.424</br>total_rooms: 27524.600000000002</br></br>longitude: -122.22</br>latitude: 37.86</br>housing_median_age: 21.0</br>total_bedrooms: 1106.0</br>population: 2401.0</br>households: 1138.0</br>median_income: 8.3014</br>ocean_proximity: NEAR BAY</br>_original_yhat_: 407689.22668987606</br>\"],[\"</br>id: 0</br>prediction: 1345720.254</br>total_rooms: 27917.78</br></br>longitude: -122.22</br>latitude: 37.86</br>housing_median_age: 21.0</br>total_bedrooms: 1106.0</br>population: 2401.0</br>households: 1138.0</br>median_income: 8.3014</br>ocean_proximity: NEAR BAY</br>_original_yhat_: 407689.22668987606</br>\"],[\"</br>id: 0</br>prediction: 1372475.084</br>total_rooms: 28310.96</br></br>longitude: -122.22</br>latitude: 37.86</br>housing_median_age: 21.0</br>total_bedrooms: 1106.0</br>population: 2401.0</br>households: 1138.0</br>median_income: 8.3014</br>ocean_proximity: NEAR BAY</br>_original_yhat_: 407689.22668987606</br>\"],[\"</br>id: 0</br>prediction: 1399229.914</br>total_rooms: 28704.14</br></br>longitude: -122.22</br>latitude: 37.86</br>housing_median_age: 21.0</br>total_bedrooms: 1106.0</br>population: 2401.0</br>households: 1138.0</br>median_income: 8.3014</br>ocean_proximity: NEAR BAY</br>_original_yhat_: 407689.22668987606</br>\"],[\"</br>id: 0</br>prediction: 1425984.744</br>total_rooms: 29097.32</br></br>longitude: -122.22</br>latitude: 37.86</br>housing_median_age: 21.0</br>total_bedrooms: 1106.0</br>population: 2401.0</br>households: 1138.0</br>median_income: 8.3014</br>ocean_proximity: NEAR BAY</br>_original_yhat_: 407689.22668987606</br>\"],[\"</br>id: 0</br>prediction: 1452739.574</br>total_rooms: 29490.5</br></br>longitude: -122.22</br>latitude: 37.86</br>housing_median_age: 21.0</br>total_bedrooms: 1106.0</br>population: 2401.0</br>households: 1138.0</br>median_income: 8.3014</br>ocean_proximity: NEAR BAY</br>_original_yhat_: 407689.22668987606</br>\"],[\"</br>id: 0</br>prediction: 1479494.405</br>total_rooms: 29883.68</br></br>longitude: -122.22</br>latitude: 37.86</br>housing_median_age: 21.0</br>total_bedrooms: 1106.0</br>population: 2401.0</br>households: 1138.0</br>median_income: 8.3014</br>ocean_proximity: NEAR BAY</br>_original_yhat_: 407689.22668987606</br>\"],[\"</br>id: 0</br>prediction: 1506249.235</br>total_rooms: 30276.86</br></br>longitude: -122.22</br>latitude: 37.86</br>housing_median_age: 21.0</br>total_bedrooms: 1106.0</br>population: 2401.0</br>households: 1138.0</br>median_income: 8.3014</br>ocean_proximity: NEAR BAY</br>_original_yhat_: 407689.22668987606</br>\"],[\"</br>id: 0</br>prediction: 1533004.065</br>total_rooms: 30670.04</br></br>longitude: -122.22</br>latitude: 37.86</br>housing_median_age: 21.0</br>total_bedrooms: 1106.0</br>population: 2401.0</br>households: 1138.0</br>median_income: 8.3014</br>ocean_proximity: NEAR BAY</br>_original_yhat_: 407689.22668987606</br>\"],[\"</br>id: 0</br>prediction: 1559758.895</br>total_rooms: 31063.22</br></br>longitude: -122.22</br>latitude: 37.86</br>housing_median_age: 21.0</br>total_bedrooms: 1106.0</br>population: 2401.0</br>households: 1138.0</br>median_income: 8.3014</br>ocean_proximity: NEAR BAY</br>_original_yhat_: 407689.22668987606</br>\"],[\"</br>id: 0</br>prediction: 1586513.725</br>total_rooms: 31456.4</br></br>longitude: -122.22</br>latitude: 37.86</br>housing_median_age: 21.0</br>total_bedrooms: 1106.0</br>population: 2401.0</br>households: 1138.0</br>median_income: 8.3014</br>ocean_proximity: NEAR BAY</br>_original_yhat_: 407689.22668987606</br>\"],[\"</br>id: 0</br>prediction: 1613268.555</br>total_rooms: 31849.58</br></br>longitude: -122.22</br>latitude: 37.86</br>housing_median_age: 21.0</br>total_bedrooms: 1106.0</br>population: 2401.0</br>households: 1138.0</br>median_income: 8.3014</br>ocean_proximity: NEAR BAY</br>_original_yhat_: 407689.22668987606</br>\"],[\"</br>id: 0</br>prediction: 1640023.385</br>total_rooms: 32242.760000000002</br></br>longitude: -122.22</br>latitude: 37.86</br>housing_median_age: 21.0</br>total_bedrooms: 1106.0</br>population: 2401.0</br>households: 1138.0</br>median_income: 8.3014</br>ocean_proximity: NEAR BAY</br>_original_yhat_: 407689.22668987606</br>\"],[\"</br>id: 0</br>prediction: 1666778.216</br>total_rooms: 32635.940000000002</br></br>longitude: -122.22</br>latitude: 37.86</br>housing_median_age: 21.0</br>total_bedrooms: 1106.0</br>population: 2401.0</br>households: 1138.0</br>median_income: 8.3014</br>ocean_proximity: NEAR BAY</br>_original_yhat_: 407689.22668987606</br>\"],[\"</br>id: 0</br>prediction: 1693533.046</br>total_rooms: 33029.12</br></br>longitude: -122.22</br>latitude: 37.86</br>housing_median_age: 21.0</br>total_bedrooms: 1106.0</br>population: 2401.0</br>households: 1138.0</br>median_income: 8.3014</br>ocean_proximity: NEAR BAY</br>_original_yhat_: 407689.22668987606</br>\"],[\"</br>id: 0</br>prediction: 1720287.876</br>total_rooms: 33422.3</br></br>longitude: -122.22</br>latitude: 37.86</br>housing_median_age: 21.0</br>total_bedrooms: 1106.0</br>population: 2401.0</br>households: 1138.0</br>median_income: 8.3014</br>ocean_proximity: NEAR BAY</br>_original_yhat_: 407689.22668987606</br>\"],[\"</br>id: 0</br>prediction: 1747042.706</br>total_rooms: 33815.48</br></br>longitude: -122.22</br>latitude: 37.86</br>housing_median_age: 21.0</br>total_bedrooms: 1106.0</br>population: 2401.0</br>households: 1138.0</br>median_income: 8.3014</br>ocean_proximity: NEAR BAY</br>_original_yhat_: 407689.22668987606</br>\"],[\"</br>id: 0</br>prediction: 1773797.536</br>total_rooms: 34208.66</br></br>longitude: -122.22</br>latitude: 37.86</br>housing_median_age: 21.0</br>total_bedrooms: 1106.0</br>population: 2401.0</br>households: 1138.0</br>median_income: 8.3014</br>ocean_proximity: NEAR BAY</br>_original_yhat_: 407689.22668987606</br>\"],[\"</br>id: 0</br>prediction: 1800552.366</br>total_rooms: 34601.840000000004</br></br>longitude: -122.22</br>latitude: 37.86</br>housing_median_age: 21.0</br>total_bedrooms: 1106.0</br>population: 2401.0</br>households: 1138.0</br>median_income: 8.3014</br>ocean_proximity: NEAR BAY</br>_original_yhat_: 407689.22668987606</br>\"],[\"</br>id: 0</br>prediction: 1827307.197</br>total_rooms: 34995.020000000004</br></br>longitude: -122.22</br>latitude: 37.86</br>housing_median_age: 21.0</br>total_bedrooms: 1106.0</br>population: 2401.0</br>households: 1138.0</br>median_income: 8.3014</br>ocean_proximity: NEAR BAY</br>_original_yhat_: 407689.22668987606</br>\"],[\"</br>id: 0</br>prediction: 1854062.027</br>total_rooms: 35388.2</br></br>longitude: -122.22</br>latitude: 37.86</br>housing_median_age: 21.0</br>total_bedrooms: 1106.0</br>population: 2401.0</br>households: 1138.0</br>median_income: 8.3014</br>ocean_proximity: NEAR BAY</br>_original_yhat_: 407689.22668987606</br>\"],[\"</br>id: 0</br>prediction: 1880816.857</br>total_rooms: 35781.38</br></br>longitude: -122.22</br>latitude: 37.86</br>housing_median_age: 21.0</br>total_bedrooms: 1106.0</br>population: 2401.0</br>households: 1138.0</br>median_income: 8.3014</br>ocean_proximity: NEAR BAY</br>_original_yhat_: 407689.22668987606</br>\"],[\"</br>id: 0</br>prediction: 1907571.687</br>total_rooms: 36174.56</br></br>longitude: -122.22</br>latitude: 37.86</br>housing_median_age: 21.0</br>total_bedrooms: 1106.0</br>population: 2401.0</br>households: 1138.0</br>median_income: 8.3014</br>ocean_proximity: NEAR BAY</br>_original_yhat_: 407689.22668987606</br>\"],[\"</br>id: 0</br>prediction: 1934326.517</br>total_rooms: 36567.74</br></br>longitude: -122.22</br>latitude: 37.86</br>housing_median_age: 21.0</br>total_bedrooms: 1106.0</br>population: 2401.0</br>households: 1138.0</br>median_income: 8.3014</br>ocean_proximity: NEAR BAY</br>_original_yhat_: 407689.22668987606</br>\"],[\"</br>id: 0</br>prediction: 1961081.347</br>total_rooms: 36960.92</br></br>longitude: -122.22</br>latitude: 37.86</br>housing_median_age: 21.0</br>total_bedrooms: 1106.0</br>population: 2401.0</br>households: 1138.0</br>median_income: 8.3014</br>ocean_proximity: NEAR BAY</br>_original_yhat_: 407689.22668987606</br>\"],[\"</br>id: 0</br>prediction: 1987836.177</br>total_rooms: 37354.1</br></br>longitude: -122.22</br>latitude: 37.86</br>housing_median_age: 21.0</br>total_bedrooms: 1106.0</br>population: 2401.0</br>households: 1138.0</br>median_income: 8.3014</br>ocean_proximity: NEAR BAY</br>_original_yhat_: 407689.22668987606</br>\"],[\"</br>id: 0</br>prediction: 2014591.008</br>total_rooms: 37747.28</br></br>longitude: -122.22</br>latitude: 37.86</br>housing_median_age: 21.0</br>total_bedrooms: 1106.0</br>population: 2401.0</br>households: 1138.0</br>median_income: 8.3014</br>ocean_proximity: NEAR BAY</br>_original_yhat_: 407689.22668987606</br>\"],[\"</br>id: 0</br>prediction: 2041345.838</br>total_rooms: 38140.46</br></br>longitude: -122.22</br>latitude: 37.86</br>housing_median_age: 21.0</br>total_bedrooms: 1106.0</br>population: 2401.0</br>households: 1138.0</br>median_income: 8.3014</br>ocean_proximity: NEAR BAY</br>_original_yhat_: 407689.22668987606</br>\"],[\"</br>id: 0</br>prediction: 2068100.668</br>total_rooms: 38533.64</br></br>longitude: -122.22</br>latitude: 37.86</br>housing_median_age: 21.0</br>total_bedrooms: 1106.0</br>population: 2401.0</br>households: 1138.0</br>median_income: 8.3014</br>ocean_proximity: NEAR BAY</br>_original_yhat_: 407689.22668987606</br>\"],[\"</br>id: 0</br>prediction: 2094855.498</br>total_rooms: 38926.82</br></br>longitude: -122.22</br>latitude: 37.86</br>housing_median_age: 21.0</br>total_bedrooms: 1106.0</br>population: 2401.0</br>households: 1138.0</br>median_income: 8.3014</br>ocean_proximity: NEAR BAY</br>_original_yhat_: 407689.22668987606</br>\"],[\"</br>id: 0</br>prediction: 2121610.328</br>total_rooms: 39320.0</br></br>longitude: -122.22</br>latitude: 37.86</br>housing_median_age: 21.0</br>total_bedrooms: 1106.0</br>population: 2401.0</br>households: 1138.0</br>median_income: 8.3014</br>ocean_proximity: NEAR BAY</br>_original_yhat_: 407689.22668987606</br>\"]],\"hovertemplate\":\"%{customdata[0]}<extra></extra>\",\"legendgroup\":\"MLP with onehot encoding\",\"line\":{\"color\":\"#4378bf\",\"dash\":\"solid\",\"width\":2},\"marker\":{\"symbol\":\"circle\"},\"mode\":\"lines\",\"name\":\"MLP with onehot encoding\",\"orientation\":\"v\",\"showlegend\":false,\"x\":[2.0,395.18,788.36,1181.54,1574.72,1967.9,2361.08,2754.26,3147.44,3540.62,3933.8,4326.9800000000005,4720.16,5113.34,5506.52,5899.7,6292.88,6686.06,7079.24,7099.0,7472.42,7865.6,8258.78,8651.960000000001,9045.14,9438.32,9831.5,10224.68,10617.86,11011.04,11404.22,11797.4,12190.58,12583.76,12976.94,13370.12,13763.300000000001,14156.48,14549.66,14942.84,15336.02,15729.2,16122.380000000001,16515.56,16908.74,17301.920000000002,17695.1,18088.28,18481.46,18874.64,19267.82,19661.0,20054.18,20447.36,20840.54,21233.72,21626.9,22020.08,22413.260000000002,22806.44,23199.62,23592.8,23985.98,24379.16,24772.34,25165.52,25558.7,25951.88,26345.06,26738.24,27131.420000000002,27524.600000000002,27917.78,28310.96,28704.14,29097.32,29490.5,29883.68,30276.86,30670.04,31063.22,31456.4,31849.58,32242.760000000002,32635.940000000002,33029.12,33422.3,33815.48,34208.66,34601.840000000004,34995.020000000004,35388.2,35781.38,36174.56,36567.74,36960.92,37354.1,37747.28,38140.46,38533.64,38926.82,39320.0],\"xaxis\":\"x2\",\"y\":[710122.6897777547,651323.2175842539,592523.7453907529,533724.2731972523,462105.4252447848,392349.9773811566,390017.6661488811,403775.4472207916,410432.8187588478,397016.1146529771,387025.29512972856,391779.0976097635,397153.0265260559,400937.4477948039,404324.06485564006,407710.6819164758,404980.41877778433,403415.01625448454,407484.6972226326,407689.22668987594,411554.3781907815,415408.903485778,414998.3239193333,410785.3034195007,405402.034092286,400018.7647650712,394635.49543785676,389252.22611064184,383868.9567834268,378485.6874562113,373102.41812899656,367719.1488017818,362335.8794745673,357736.4167780223,367807.49361281376,385360.5574933698,402913.6213739266,420466.68525448296,438019.7491350388,462810.85888346424,489565.689033264,516320.5191830643,543075.3493328644,569830.1794826644,596585.0096324644,623339.8397822643,650094.6699320645,676849.5000818644,703604.3302316647,730359.1603814657,757113.9905312653,783868.8206810658,810623.6508308657,837378.480980665,864133.3111304664,890888.1412802662,917642.9714300664,944397.8015798657,971152.6317296656,997907.4618794664,1024662.292029266,1051417.1221790665,1078171.952328866,1104926.7824786666,1131681.6126284667,1158436.4427782667,1185191.272928067,1211946.103077867,1238700.933227667,1265455.7633774672,1292210.5935272682,1318965.4236770673,1345720.253826868,1372475.0839766685,1399229.9141264674,1425984.7442762682,1452739.5744260687,1479494.4045758683,1506249.234725669,1533004.0648754686,1559758.8950252694,1586513.7251750694,1613268.555324868,1640023.3854746693,1666778.2156244689,1693533.045774269,1720287.8759240701,1747042.7060738704,1773797.5362236693,1800552.3663734698,1827307.196523269,1854062.0266730688,1880816.8568228693,1907571.6869726698,1934326.5171224687,1961081.3472722692,1987836.1774220688,2014591.0075718693,2041345.8377216705,2068100.6678714703,2094855.49802127,2121610.32817107],\"yaxis\":\"y2\",\"type\":\"scatter\",\"opacity\":1},{\"customdata\":[[\"</br>id: 0</br>prediction: 440696.767</br>total_bedrooms: 1.0</br></br>longitude: -122.22</br>latitude: 37.86</br>housing_median_age: 21.0</br>total_rooms: 7099.0</br>population: 2401.0</br>households: 1138.0</br>median_income: 8.3014</br>ocean_proximity: NEAR BAY</br>_original_yhat_: 451020.9776472536</br>\"],[\"</br>id: 0</br>prediction: 427069.512</br>total_bedrooms: 65.44</br></br>longitude: -122.22</br>latitude: 37.86</br>housing_median_age: 21.0</br>total_rooms: 7099.0</br>population: 2401.0</br>households: 1138.0</br>median_income: 8.3014</br>ocean_proximity: NEAR BAY</br>_original_yhat_: 451020.9776472536</br>\"],[\"</br>id: 0</br>prediction: 423003.095</br>total_bedrooms: 129.88</br></br>longitude: -122.22</br>latitude: 37.86</br>housing_median_age: 21.0</br>total_rooms: 7099.0</br>population: 2401.0</br>households: 1138.0</br>median_income: 8.3014</br>ocean_proximity: NEAR BAY</br>_original_yhat_: 451020.9776472536</br>\"],[\"</br>id: 0</br>prediction: 422660.295</br>total_bedrooms: 194.32</br></br>longitude: -122.22</br>latitude: 37.86</br>housing_median_age: 21.0</br>total_rooms: 7099.0</br>population: 2401.0</br>households: 1138.0</br>median_income: 8.3014</br>ocean_proximity: NEAR BAY</br>_original_yhat_: 451020.9776472536</br>\"],[\"</br>id: 0</br>prediction: 423836.853</br>total_bedrooms: 258.76</br></br>longitude: -122.22</br>latitude: 37.86</br>housing_median_age: 21.0</br>total_rooms: 7099.0</br>population: 2401.0</br>households: 1138.0</br>median_income: 8.3014</br>ocean_proximity: NEAR BAY</br>_original_yhat_: 451020.9776472536</br>\"],[\"</br>id: 0</br>prediction: 424803.242</br>total_bedrooms: 323.2</br></br>longitude: -122.22</br>latitude: 37.86</br>housing_median_age: 21.0</br>total_rooms: 7099.0</br>population: 2401.0</br>households: 1138.0</br>median_income: 8.3014</br>ocean_proximity: NEAR BAY</br>_original_yhat_: 451020.9776472536</br>\"],[\"</br>id: 0</br>prediction: 425629.357</br>total_bedrooms: 387.64</br></br>longitude: -122.22</br>latitude: 37.86</br>housing_median_age: 21.0</br>total_rooms: 7099.0</br>population: 2401.0</br>households: 1138.0</br>median_income: 8.3014</br>ocean_proximity: NEAR BAY</br>_original_yhat_: 451020.9776472536</br>\"],[\"</br>id: 0</br>prediction: 427541.69</br>total_bedrooms: 452.08</br></br>longitude: -122.22</br>latitude: 37.86</br>housing_median_age: 21.0</br>total_rooms: 7099.0</br>population: 2401.0</br>households: 1138.0</br>median_income: 8.3014</br>ocean_proximity: NEAR BAY</br>_original_yhat_: 451020.9776472536</br>\"],[\"</br>id: 0</br>prediction: 430753.43</br>total_bedrooms: 516.52</br></br>longitude: -122.22</br>latitude: 37.86</br>housing_median_age: 21.0</br>total_rooms: 7099.0</br>population: 2401.0</br>households: 1138.0</br>median_income: 8.3014</br>ocean_proximity: NEAR BAY</br>_original_yhat_: 451020.9776472536</br>\"],[\"</br>id: 0</br>prediction: 433666.252</br>total_bedrooms: 580.96</br></br>longitude: -122.22</br>latitude: 37.86</br>housing_median_age: 21.0</br>total_rooms: 7099.0</br>population: 2401.0</br>households: 1138.0</br>median_income: 8.3014</br>ocean_proximity: NEAR BAY</br>_original_yhat_: 451020.9776472536</br>\"],[\"</br>id: 0</br>prediction: 436336.884</br>total_bedrooms: 645.4</br></br>longitude: -122.22</br>latitude: 37.86</br>housing_median_age: 21.0</br>total_rooms: 7099.0</br>population: 2401.0</br>households: 1138.0</br>median_income: 8.3014</br>ocean_proximity: NEAR BAY</br>_original_yhat_: 451020.9776472536</br>\"],[\"</br>id: 0</br>prediction: 438806.849</br>total_bedrooms: 709.8399999999999</br></br>longitude: -122.22</br>latitude: 37.86</br>housing_median_age: 21.0</br>total_rooms: 7099.0</br>population: 2401.0</br>households: 1138.0</br>median_income: 8.3014</br>ocean_proximity: NEAR BAY</br>_original_yhat_: 451020.9776472536</br>\"],[\"</br>id: 0</br>prediction: 441107.525</br>total_bedrooms: 774.28</br></br>longitude: -122.22</br>latitude: 37.86</br>housing_median_age: 21.0</br>total_rooms: 7099.0</br>population: 2401.0</br>households: 1138.0</br>median_income: 8.3014</br>ocean_proximity: NEAR BAY</br>_original_yhat_: 451020.9776472536</br>\"],[\"</br>id: 0</br>prediction: 443263.24</br>total_bedrooms: 838.72</br></br>longitude: -122.22</br>latitude: 37.86</br>housing_median_age: 21.0</br>total_rooms: 7099.0</br>population: 2401.0</br>households: 1138.0</br>median_income: 8.3014</br>ocean_proximity: NEAR BAY</br>_original_yhat_: 451020.9776472536</br>\"],[\"</br>id: 0</br>prediction: 445293.272</br>total_bedrooms: 903.16</br></br>longitude: -122.22</br>latitude: 37.86</br>housing_median_age: 21.0</br>total_rooms: 7099.0</br>population: 2401.0</br>households: 1138.0</br>median_income: 8.3014</br>ocean_proximity: NEAR BAY</br>_original_yhat_: 451020.9776472536</br>\"],[\"</br>id: 0</br>prediction: 447213.169</br>total_bedrooms: 967.5999999999999</br></br>longitude: -122.22</br>latitude: 37.86</br>housing_median_age: 21.0</br>total_rooms: 7099.0</br>population: 2401.0</br>households: 1138.0</br>median_income: 8.3014</br>ocean_proximity: NEAR BAY</br>_original_yhat_: 451020.9776472536</br>\"],[\"</br>id: 0</br>prediction: 449035.672</br>total_bedrooms: 1032.04</br></br>longitude: -122.22</br>latitude: 37.86</br>housing_median_age: 21.0</br>total_rooms: 7099.0</br>population: 2401.0</br>households: 1138.0</br>median_income: 8.3014</br>ocean_proximity: NEAR BAY</br>_original_yhat_: 451020.9776472536</br>\"],[\"</br>id: 0</br>prediction: 450771.359</br>total_bedrooms: 1096.48</br></br>longitude: -122.22</br>latitude: 37.86</br>housing_median_age: 21.0</br>total_rooms: 7099.0</br>population: 2401.0</br>households: 1138.0</br>median_income: 8.3014</br>ocean_proximity: NEAR BAY</br>_original_yhat_: 451020.9776472536</br>\"],[\"</br>id: 0</br>prediction: 451020.978</br>total_bedrooms: 1106.0</br></br>longitude: -122.22</br>latitude: 37.86</br>housing_median_age: 21.0</br>total_rooms: 7099.0</br>population: 2401.0</br>households: 1138.0</br>median_income: 8.3014</br>ocean_proximity: NEAR BAY</br>_original_yhat_: 451020.9776472536</br>\"],[\"</br>id: 0</br>prediction: 452429.118</br>total_bedrooms: 1160.92</br></br>longitude: -122.22</br>latitude: 37.86</br>housing_median_age: 21.0</br>total_rooms: 7099.0</br>population: 2401.0</br>households: 1138.0</br>median_income: 8.3014</br>ocean_proximity: NEAR BAY</br>_original_yhat_: 451020.9776472536</br>\"],[\"</br>id: 0</br>prediction: 454016.493</br>total_bedrooms: 1225.36</br></br>longitude: -122.22</br>latitude: 37.86</br>housing_median_age: 21.0</br>total_rooms: 7099.0</br>population: 2401.0</br>households: 1138.0</br>median_income: 8.3014</br>ocean_proximity: NEAR BAY</br>_original_yhat_: 451020.9776472536</br>\"],[\"</br>id: 0</br>prediction: 455539.945</br>total_bedrooms: 1289.8</br></br>longitude: -122.22</br>latitude: 37.86</br>housing_median_age: 21.0</br>total_rooms: 7099.0</br>population: 2401.0</br>households: 1138.0</br>median_income: 8.3014</br>ocean_proximity: NEAR BAY</br>_original_yhat_: 451020.9776472536</br>\"],[\"</br>id: 0</br>prediction: 457838.853</br>total_bedrooms: 1354.24</br></br>longitude: -122.22</br>latitude: 37.86</br>housing_median_age: 21.0</br>total_rooms: 7099.0</br>population: 2401.0</br>households: 1138.0</br>median_income: 8.3014</br>ocean_proximity: NEAR BAY</br>_original_yhat_: 451020.9776472536</br>\"],[\"</br>id: 0</br>prediction: 463995.868</br>total_bedrooms: 1418.6799999999998</br></br>longitude: -122.22</br>latitude: 37.86</br>housing_median_age: 21.0</br>total_rooms: 7099.0</br>population: 2401.0</br>households: 1138.0</br>median_income: 8.3014</br>ocean_proximity: NEAR BAY</br>_original_yhat_: 451020.9776472536</br>\"],[\"</br>id: 0</br>prediction: 469938.144</br>total_bedrooms: 1483.12</br></br>longitude: -122.22</br>latitude: 37.86</br>housing_median_age: 21.0</br>total_rooms: 7099.0</br>population: 2401.0</br>households: 1138.0</br>median_income: 8.3014</br>ocean_proximity: NEAR BAY</br>_original_yhat_: 451020.9776472536</br>\"],[\"</br>id: 0</br>prediction: 475682.025</br>total_bedrooms: 1547.56</br></br>longitude: -122.22</br>latitude: 37.86</br>housing_median_age: 21.0</br>total_rooms: 7099.0</br>population: 2401.0</br>households: 1138.0</br>median_income: 8.3014</br>ocean_proximity: NEAR BAY</br>_original_yhat_: 451020.9776472536</br>\"],[\"</br>id: 0</br>prediction: 481241.993</br>total_bedrooms: 1612.0</br></br>longitude: -122.22</br>latitude: 37.86</br>housing_median_age: 21.0</br>total_rooms: 7099.0</br>population: 2401.0</br>households: 1138.0</br>median_income: 8.3014</br>ocean_proximity: NEAR BAY</br>_original_yhat_: 451020.9776472536</br>\"],[\"</br>id: 0</br>prediction: 486630.943</br>total_bedrooms: 1676.44</br></br>longitude: -122.22</br>latitude: 37.86</br>housing_median_age: 21.0</br>total_rooms: 7099.0</br>population: 2401.0</br>households: 1138.0</br>median_income: 8.3014</br>ocean_proximity: NEAR BAY</br>_original_yhat_: 451020.9776472536</br>\"],[\"</br>id: 0</br>prediction: 491860.413</br>total_bedrooms: 1740.8799999999999</br></br>longitude: -122.22</br>latitude: 37.86</br>housing_median_age: 21.0</br>total_rooms: 7099.0</br>population: 2401.0</br>households: 1138.0</br>median_income: 8.3014</br>ocean_proximity: NEAR BAY</br>_original_yhat_: 451020.9776472536</br>\"],[\"</br>id: 0</br>prediction: 496940.769</br>total_bedrooms: 1805.32</br></br>longitude: -122.22</br>latitude: 37.86</br>housing_median_age: 21.0</br>total_rooms: 7099.0</br>population: 2401.0</br>households: 1138.0</br>median_income: 8.3014</br>ocean_proximity: NEAR BAY</br>_original_yhat_: 451020.9776472536</br>\"],[\"</br>id: 0</br>prediction: 501881.361</br>total_bedrooms: 1869.76</br></br>longitude: -122.22</br>latitude: 37.86</br>housing_median_age: 21.0</br>total_rooms: 7099.0</br>population: 2401.0</br>households: 1138.0</br>median_income: 8.3014</br>ocean_proximity: NEAR BAY</br>_original_yhat_: 451020.9776472536</br>\"],[\"</br>id: 0</br>prediction: 506690.656</br>total_bedrooms: 1934.1999999999998</br></br>longitude: -122.22</br>latitude: 37.86</br>housing_median_age: 21.0</br>total_rooms: 7099.0</br>population: 2401.0</br>households: 1138.0</br>median_income: 8.3014</br>ocean_proximity: NEAR BAY</br>_original_yhat_: 451020.9776472536</br>\"],[\"</br>id: 0</br>prediction: 511376.347</br>total_bedrooms: 1998.6399999999999</br></br>longitude: -122.22</br>latitude: 37.86</br>housing_median_age: 21.0</br>total_rooms: 7099.0</br>population: 2401.0</br>households: 1138.0</br>median_income: 8.3014</br>ocean_proximity: NEAR BAY</br>_original_yhat_: 451020.9776472536</br>\"],[\"</br>id: 0</br>prediction: 515945.444</br>total_bedrooms: 2063.08</br></br>longitude: -122.22</br>latitude: 37.86</br>housing_median_age: 21.0</br>total_rooms: 7099.0</br>population: 2401.0</br>households: 1138.0</br>median_income: 8.3014</br>ocean_proximity: NEAR BAY</br>_original_yhat_: 451020.9776472536</br>\"],[\"</br>id: 0</br>prediction: 520404.357</br>total_bedrooms: 2127.52</br></br>longitude: -122.22</br>latitude: 37.86</br>housing_median_age: 21.0</br>total_rooms: 7099.0</br>population: 2401.0</br>households: 1138.0</br>median_income: 8.3014</br>ocean_proximity: NEAR BAY</br>_original_yhat_: 451020.9776472536</br>\"],[\"</br>id: 0</br>prediction: 524758.96</br>total_bedrooms: 2191.96</br></br>longitude: -122.22</br>latitude: 37.86</br>housing_median_age: 21.0</br>total_rooms: 7099.0</br>population: 2401.0</br>households: 1138.0</br>median_income: 8.3014</br>ocean_proximity: NEAR BAY</br>_original_yhat_: 451020.9776472536</br>\"],[\"</br>id: 0</br>prediction: 529014.655</br>total_bedrooms: 2256.4</br></br>longitude: -122.22</br>latitude: 37.86</br>housing_median_age: 21.0</br>total_rooms: 7099.0</br>population: 2401.0</br>households: 1138.0</br>median_income: 8.3014</br>ocean_proximity: NEAR BAY</br>_original_yhat_: 451020.9776472536</br>\"],[\"</br>id: 0</br>prediction: 533176.417</br>total_bedrooms: 2320.84</br></br>longitude: -122.22</br>latitude: 37.86</br>housing_median_age: 21.0</br>total_rooms: 7099.0</br>population: 2401.0</br>households: 1138.0</br>median_income: 8.3014</br>ocean_proximity: NEAR BAY</br>_original_yhat_: 451020.9776472536</br>\"],[\"</br>id: 0</br>prediction: 537248.844</br>total_bedrooms: 2385.2799999999997</br></br>longitude: -122.22</br>latitude: 37.86</br>housing_median_age: 21.0</br>total_rooms: 7099.0</br>population: 2401.0</br>households: 1138.0</br>median_income: 8.3014</br>ocean_proximity: NEAR BAY</br>_original_yhat_: 451020.9776472536</br>\"],[\"</br>id: 0</br>prediction: 541236.188</br>total_bedrooms: 2449.72</br></br>longitude: -122.22</br>latitude: 37.86</br>housing_median_age: 21.0</br>total_rooms: 7099.0</br>population: 2401.0</br>households: 1138.0</br>median_income: 8.3014</br>ocean_proximity: NEAR BAY</br>_original_yhat_: 451020.9776472536</br>\"],[\"</br>id: 0</br>prediction: 545142.396</br>total_bedrooms: 2514.16</br></br>longitude: -122.22</br>latitude: 37.86</br>housing_median_age: 21.0</br>total_rooms: 7099.0</br>population: 2401.0</br>households: 1138.0</br>median_income: 8.3014</br>ocean_proximity: NEAR BAY</br>_original_yhat_: 451020.9776472536</br>\"],[\"</br>id: 0</br>prediction: 548971.137</br>total_bedrooms: 2578.6</br></br>longitude: -122.22</br>latitude: 37.86</br>housing_median_age: 21.0</br>total_rooms: 7099.0</br>population: 2401.0</br>households: 1138.0</br>median_income: 8.3014</br>ocean_proximity: NEAR BAY</br>_original_yhat_: 451020.9776472536</br>\"],[\"</br>id: 0</br>prediction: 552725.824</br>total_bedrooms: 2643.04</br></br>longitude: -122.22</br>latitude: 37.86</br>housing_median_age: 21.0</br>total_rooms: 7099.0</br>population: 2401.0</br>households: 1138.0</br>median_income: 8.3014</br>ocean_proximity: NEAR BAY</br>_original_yhat_: 451020.9776472536</br>\"],[\"</br>id: 0</br>prediction: 556409.645</br>total_bedrooms: 2707.48</br></br>longitude: -122.22</br>latitude: 37.86</br>housing_median_age: 21.0</br>total_rooms: 7099.0</br>population: 2401.0</br>households: 1138.0</br>median_income: 8.3014</br>ocean_proximity: NEAR BAY</br>_original_yhat_: 451020.9776472536</br>\"],[\"</br>id: 0</br>prediction: 560025.576</br>total_bedrooms: 2771.92</br></br>longitude: -122.22</br>latitude: 37.86</br>housing_median_age: 21.0</br>total_rooms: 7099.0</br>population: 2401.0</br>households: 1138.0</br>median_income: 8.3014</br>ocean_proximity: NEAR BAY</br>_original_yhat_: 451020.9776472536</br>\"],[\"</br>id: 0</br>prediction: 563576.403</br>total_bedrooms: 2836.3599999999997</br></br>longitude: -122.22</br>latitude: 37.86</br>housing_median_age: 21.0</br>total_rooms: 7099.0</br>population: 2401.0</br>households: 1138.0</br>median_income: 8.3014</br>ocean_proximity: NEAR BAY</br>_original_yhat_: 451020.9776472536</br>\"],[\"</br>id: 0</br>prediction: 567064.738</br>total_bedrooms: 2900.7999999999997</br></br>longitude: -122.22</br>latitude: 37.86</br>housing_median_age: 21.0</br>total_rooms: 7099.0</br>population: 2401.0</br>households: 1138.0</br>median_income: 8.3014</br>ocean_proximity: NEAR BAY</br>_original_yhat_: 451020.9776472536</br>\"],[\"</br>id: 0</br>prediction: 570493.032</br>total_bedrooms: 2965.24</br></br>longitude: -122.22</br>latitude: 37.86</br>housing_median_age: 21.0</br>total_rooms: 7099.0</br>population: 2401.0</br>households: 1138.0</br>median_income: 8.3014</br>ocean_proximity: NEAR BAY</br>_original_yhat_: 451020.9776472536</br>\"],[\"</br>id: 0</br>prediction: 573863.591</br>total_bedrooms: 3029.68</br></br>longitude: -122.22</br>latitude: 37.86</br>housing_median_age: 21.0</br>total_rooms: 7099.0</br>population: 2401.0</br>households: 1138.0</br>median_income: 8.3014</br>ocean_proximity: NEAR BAY</br>_original_yhat_: 451020.9776472536</br>\"],[\"</br>id: 0</br>prediction: 577178.583</br>total_bedrooms: 3094.12</br></br>longitude: -122.22</br>latitude: 37.86</br>housing_median_age: 21.0</br>total_rooms: 7099.0</br>population: 2401.0</br>households: 1138.0</br>median_income: 8.3014</br>ocean_proximity: NEAR BAY</br>_original_yhat_: 451020.9776472536</br>\"],[\"</br>id: 0</br>prediction: 580440.054</br>total_bedrooms: 3158.56</br></br>longitude: -122.22</br>latitude: 37.86</br>housing_median_age: 21.0</br>total_rooms: 7099.0</br>population: 2401.0</br>households: 1138.0</br>median_income: 8.3014</br>ocean_proximity: NEAR BAY</br>_original_yhat_: 451020.9776472536</br>\"],[\"</br>id: 0</br>prediction: 583649.933</br>total_bedrooms: 3223.0</br></br>longitude: -122.22</br>latitude: 37.86</br>housing_median_age: 21.0</br>total_rooms: 7099.0</br>population: 2401.0</br>households: 1138.0</br>median_income: 8.3014</br>ocean_proximity: NEAR BAY</br>_original_yhat_: 451020.9776472536</br>\"],[\"</br>id: 0</br>prediction: 586810.043</br>total_bedrooms: 3287.44</br></br>longitude: -122.22</br>latitude: 37.86</br>housing_median_age: 21.0</br>total_rooms: 7099.0</br>population: 2401.0</br>households: 1138.0</br>median_income: 8.3014</br>ocean_proximity: NEAR BAY</br>_original_yhat_: 451020.9776472536</br>\"],[\"</br>id: 0</br>prediction: 589922.11</br>total_bedrooms: 3351.88</br></br>longitude: -122.22</br>latitude: 37.86</br>housing_median_age: 21.0</br>total_rooms: 7099.0</br>population: 2401.0</br>households: 1138.0</br>median_income: 8.3014</br>ocean_proximity: NEAR BAY</br>_original_yhat_: 451020.9776472536</br>\"],[\"</br>id: 0</br>prediction: 592987.766</br>total_bedrooms: 3416.3199999999997</br></br>longitude: -122.22</br>latitude: 37.86</br>housing_median_age: 21.0</br>total_rooms: 7099.0</br>population: 2401.0</br>households: 1138.0</br>median_income: 8.3014</br>ocean_proximity: NEAR BAY</br>_original_yhat_: 451020.9776472536</br>\"],[\"</br>id: 0</br>prediction: 596008.559</br>total_bedrooms: 3480.7599999999998</br></br>longitude: -122.22</br>latitude: 37.86</br>housing_median_age: 21.0</br>total_rooms: 7099.0</br>population: 2401.0</br>households: 1138.0</br>median_income: 8.3014</br>ocean_proximity: NEAR BAY</br>_original_yhat_: 451020.9776472536</br>\"],[\"</br>id: 0</br>prediction: 598985.959</br>total_bedrooms: 3545.2</br></br>longitude: -122.22</br>latitude: 37.86</br>housing_median_age: 21.0</br>total_rooms: 7099.0</br>population: 2401.0</br>households: 1138.0</br>median_income: 8.3014</br>ocean_proximity: NEAR BAY</br>_original_yhat_: 451020.9776472536</br>\"],[\"</br>id: 0</br>prediction: 601921.36</br>total_bedrooms: 3609.64</br></br>longitude: -122.22</br>latitude: 37.86</br>housing_median_age: 21.0</br>total_rooms: 7099.0</br>population: 2401.0</br>households: 1138.0</br>median_income: 8.3014</br>ocean_proximity: NEAR BAY</br>_original_yhat_: 451020.9776472536</br>\"],[\"</br>id: 0</br>prediction: 604816.089</br>total_bedrooms: 3674.08</br></br>longitude: -122.22</br>latitude: 37.86</br>housing_median_age: 21.0</br>total_rooms: 7099.0</br>population: 2401.0</br>households: 1138.0</br>median_income: 8.3014</br>ocean_proximity: NEAR BAY</br>_original_yhat_: 451020.9776472536</br>\"],[\"</br>id: 0</br>prediction: 607671.407</br>total_bedrooms: 3738.52</br></br>longitude: -122.22</br>latitude: 37.86</br>housing_median_age: 21.0</br>total_rooms: 7099.0</br>population: 2401.0</br>households: 1138.0</br>median_income: 8.3014</br>ocean_proximity: NEAR BAY</br>_original_yhat_: 451020.9776472536</br>\"],[\"</br>id: 0</br>prediction: 610488.518</br>total_bedrooms: 3802.96</br></br>longitude: -122.22</br>latitude: 37.86</br>housing_median_age: 21.0</br>total_rooms: 7099.0</br>population: 2401.0</br>households: 1138.0</br>median_income: 8.3014</br>ocean_proximity: NEAR BAY</br>_original_yhat_: 451020.9776472536</br>\"],[\"</br>id: 0</br>prediction: 613268.566</br>total_bedrooms: 3867.3999999999996</br></br>longitude: -122.22</br>latitude: 37.86</br>housing_median_age: 21.0</br>total_rooms: 7099.0</br>population: 2401.0</br>households: 1138.0</br>median_income: 8.3014</br>ocean_proximity: NEAR BAY</br>_original_yhat_: 451020.9776472536</br>\"],[\"</br>id: 0</br>prediction: 616012.645</br>total_bedrooms: 3931.8399999999997</br></br>longitude: -122.22</br>latitude: 37.86</br>housing_median_age: 21.0</br>total_rooms: 7099.0</br>population: 2401.0</br>households: 1138.0</br>median_income: 8.3014</br>ocean_proximity: NEAR BAY</br>_original_yhat_: 451020.9776472536</br>\"],[\"</br>id: 0</br>prediction: 618721.798</br>total_bedrooms: 3996.2799999999997</br></br>longitude: -122.22</br>latitude: 37.86</br>housing_median_age: 21.0</br>total_rooms: 7099.0</br>population: 2401.0</br>households: 1138.0</br>median_income: 8.3014</br>ocean_proximity: NEAR BAY</br>_original_yhat_: 451020.9776472536</br>\"],[\"</br>id: 0</br>prediction: 621397.022</br>total_bedrooms: 4060.72</br></br>longitude: -122.22</br>latitude: 37.86</br>housing_median_age: 21.0</br>total_rooms: 7099.0</br>population: 2401.0</br>households: 1138.0</br>median_income: 8.3014</br>ocean_proximity: NEAR BAY</br>_original_yhat_: 451020.9776472536</br>\"],[\"</br>id: 0</br>prediction: 624039.27</br>total_bedrooms: 4125.16</br></br>longitude: -122.22</br>latitude: 37.86</br>housing_median_age: 21.0</br>total_rooms: 7099.0</br>population: 2401.0</br>households: 1138.0</br>median_income: 8.3014</br>ocean_proximity: NEAR BAY</br>_original_yhat_: 451020.9776472536</br>\"],[\"</br>id: 0</br>prediction: 626649.455</br>total_bedrooms: 4189.599999999999</br></br>longitude: -122.22</br>latitude: 37.86</br>housing_median_age: 21.0</br>total_rooms: 7099.0</br>population: 2401.0</br>households: 1138.0</br>median_income: 8.3014</br>ocean_proximity: NEAR BAY</br>_original_yhat_: 451020.9776472536</br>\"],[\"</br>id: 0</br>prediction: 629228.449</br>total_bedrooms: 4254.04</br></br>longitude: -122.22</br>latitude: 37.86</br>housing_median_age: 21.0</br>total_rooms: 7099.0</br>population: 2401.0</br>households: 1138.0</br>median_income: 8.3014</br>ocean_proximity: NEAR BAY</br>_original_yhat_: 451020.9776472536</br>\"],[\"</br>id: 0</br>prediction: 631777.09</br>total_bedrooms: 4318.48</br></br>longitude: -122.22</br>latitude: 37.86</br>housing_median_age: 21.0</br>total_rooms: 7099.0</br>population: 2401.0</br>households: 1138.0</br>median_income: 8.3014</br>ocean_proximity: NEAR BAY</br>_original_yhat_: 451020.9776472536</br>\"],[\"</br>id: 0</br>prediction: 634296.179</br>total_bedrooms: 4382.92</br></br>longitude: -122.22</br>latitude: 37.86</br>housing_median_age: 21.0</br>total_rooms: 7099.0</br>population: 2401.0</br>households: 1138.0</br>median_income: 8.3014</br>ocean_proximity: NEAR BAY</br>_original_yhat_: 451020.9776472536</br>\"],[\"</br>id: 0</br>prediction: 636786.487</br>total_bedrooms: 4447.36</br></br>longitude: -122.22</br>latitude: 37.86</br>housing_median_age: 21.0</br>total_rooms: 7099.0</br>population: 2401.0</br>households: 1138.0</br>median_income: 8.3014</br>ocean_proximity: NEAR BAY</br>_original_yhat_: 451020.9776472536</br>\"],[\"</br>id: 0</br>prediction: 639248.751</br>total_bedrooms: 4511.8</br></br>longitude: -122.22</br>latitude: 37.86</br>housing_median_age: 21.0</br>total_rooms: 7099.0</br>population: 2401.0</br>households: 1138.0</br>median_income: 8.3014</br>ocean_proximity: NEAR BAY</br>_original_yhat_: 451020.9776472536</br>\"],[\"</br>id: 0</br>prediction: 641683.682</br>total_bedrooms: 4576.24</br></br>longitude: -122.22</br>latitude: 37.86</br>housing_median_age: 21.0</br>total_rooms: 7099.0</br>population: 2401.0</br>households: 1138.0</br>median_income: 8.3014</br>ocean_proximity: NEAR BAY</br>_original_yhat_: 451020.9776472536</br>\"],[\"</br>id: 0</br>prediction: 644091.961</br>total_bedrooms: 4640.68</br></br>longitude: -122.22</br>latitude: 37.86</br>housing_median_age: 21.0</br>total_rooms: 7099.0</br>population: 2401.0</br>households: 1138.0</br>median_income: 8.3014</br>ocean_proximity: NEAR BAY</br>_original_yhat_: 451020.9776472536</br>\"],[\"</br>id: 0</br>prediction: 646474.244</br>total_bedrooms: 4705.12</br></br>longitude: -122.22</br>latitude: 37.86</br>housing_median_age: 21.0</br>total_rooms: 7099.0</br>population: 2401.0</br>households: 1138.0</br>median_income: 8.3014</br>ocean_proximity: NEAR BAY</br>_original_yhat_: 451020.9776472536</br>\"],[\"</br>id: 0</br>prediction: 648831.162</br>total_bedrooms: 4769.5599999999995</br></br>longitude: -122.22</br>latitude: 37.86</br>housing_median_age: 21.0</br>total_rooms: 7099.0</br>population: 2401.0</br>households: 1138.0</br>median_income: 8.3014</br>ocean_proximity: NEAR BAY</br>_original_yhat_: 451020.9776472536</br>\"],[\"</br>id: 0</br>prediction: 651163.323</br>total_bedrooms: 4834.0</br></br>longitude: -122.22</br>latitude: 37.86</br>housing_median_age: 21.0</br>total_rooms: 7099.0</br>population: 2401.0</br>households: 1138.0</br>median_income: 8.3014</br>ocean_proximity: NEAR BAY</br>_original_yhat_: 451020.9776472536</br>\"],[\"</br>id: 0</br>prediction: 653471.31</br>total_bedrooms: 4898.44</br></br>longitude: -122.22</br>latitude: 37.86</br>housing_median_age: 21.0</br>total_rooms: 7099.0</br>population: 2401.0</br>households: 1138.0</br>median_income: 8.3014</br>ocean_proximity: NEAR BAY</br>_original_yhat_: 451020.9776472536</br>\"],[\"</br>id: 0</br>prediction: 655755.689</br>total_bedrooms: 4962.88</br></br>longitude: -122.22</br>latitude: 37.86</br>housing_median_age: 21.0</br>total_rooms: 7099.0</br>population: 2401.0</br>households: 1138.0</br>median_income: 8.3014</br>ocean_proximity: NEAR BAY</br>_original_yhat_: 451020.9776472536</br>\"],[\"</br>id: 0</br>prediction: 658017.001</br>total_bedrooms: 5027.32</br></br>longitude: -122.22</br>latitude: 37.86</br>housing_median_age: 21.0</br>total_rooms: 7099.0</br>population: 2401.0</br>households: 1138.0</br>median_income: 8.3014</br>ocean_proximity: NEAR BAY</br>_original_yhat_: 451020.9776472536</br>\"],[\"</br>id: 0</br>prediction: 660255.772</br>total_bedrooms: 5091.76</br></br>longitude: -122.22</br>latitude: 37.86</br>housing_median_age: 21.0</br>total_rooms: 7099.0</br>population: 2401.0</br>households: 1138.0</br>median_income: 8.3014</br>ocean_proximity: NEAR BAY</br>_original_yhat_: 451020.9776472536</br>\"],[\"</br>id: 0</br>prediction: 662472.506</br>total_bedrooms: 5156.2</br></br>longitude: -122.22</br>latitude: 37.86</br>housing_median_age: 21.0</br>total_rooms: 7099.0</br>population: 2401.0</br>households: 1138.0</br>median_income: 8.3014</br>ocean_proximity: NEAR BAY</br>_original_yhat_: 451020.9776472536</br>\"],[\"</br>id: 0</br>prediction: 664667.692</br>total_bedrooms: 5220.639999999999</br></br>longitude: -122.22</br>latitude: 37.86</br>housing_median_age: 21.0</br>total_rooms: 7099.0</br>population: 2401.0</br>households: 1138.0</br>median_income: 8.3014</br>ocean_proximity: NEAR BAY</br>_original_yhat_: 451020.9776472536</br>\"],[\"</br>id: 0</br>prediction: 666841.803</br>total_bedrooms: 5285.08</br></br>longitude: -122.22</br>latitude: 37.86</br>housing_median_age: 21.0</br>total_rooms: 7099.0</br>population: 2401.0</br>households: 1138.0</br>median_income: 8.3014</br>ocean_proximity: NEAR BAY</br>_original_yhat_: 451020.9776472536</br>\"],[\"</br>id: 0</br>prediction: 668995.292</br>total_bedrooms: 5349.5199999999995</br></br>longitude: -122.22</br>latitude: 37.86</br>housing_median_age: 21.0</br>total_rooms: 7099.0</br>population: 2401.0</br>households: 1138.0</br>median_income: 8.3014</br>ocean_proximity: NEAR BAY</br>_original_yhat_: 451020.9776472536</br>\"],[\"</br>id: 0</br>prediction: 671128.601</br>total_bedrooms: 5413.96</br></br>longitude: -122.22</br>latitude: 37.86</br>housing_median_age: 21.0</br>total_rooms: 7099.0</br>population: 2401.0</br>households: 1138.0</br>median_income: 8.3014</br>ocean_proximity: NEAR BAY</br>_original_yhat_: 451020.9776472536</br>\"],[\"</br>id: 0</br>prediction: 673242.156</br>total_bedrooms: 5478.4</br></br>longitude: -122.22</br>latitude: 37.86</br>housing_median_age: 21.0</br>total_rooms: 7099.0</br>population: 2401.0</br>households: 1138.0</br>median_income: 8.3014</br>ocean_proximity: NEAR BAY</br>_original_yhat_: 451020.9776472536</br>\"],[\"</br>id: 0</br>prediction: 675336.368</br>total_bedrooms: 5542.84</br></br>longitude: -122.22</br>latitude: 37.86</br>housing_median_age: 21.0</br>total_rooms: 7099.0</br>population: 2401.0</br>households: 1138.0</br>median_income: 8.3014</br>ocean_proximity: NEAR BAY</br>_original_yhat_: 451020.9776472536</br>\"],[\"</br>id: 0</br>prediction: 677411.637</br>total_bedrooms: 5607.28</br></br>longitude: -122.22</br>latitude: 37.86</br>housing_median_age: 21.0</br>total_rooms: 7099.0</br>population: 2401.0</br>households: 1138.0</br>median_income: 8.3014</br>ocean_proximity: NEAR BAY</br>_original_yhat_: 451020.9776472536</br>\"],[\"</br>id: 0</br>prediction: 679468.349</br>total_bedrooms: 5671.719999999999</br></br>longitude: -122.22</br>latitude: 37.86</br>housing_median_age: 21.0</br>total_rooms: 7099.0</br>population: 2401.0</br>households: 1138.0</br>median_income: 8.3014</br>ocean_proximity: NEAR BAY</br>_original_yhat_: 451020.9776472536</br>\"],[\"</br>id: 0</br>prediction: 681506.877</br>total_bedrooms: 5736.16</br></br>longitude: -122.22</br>latitude: 37.86</br>housing_median_age: 21.0</br>total_rooms: 7099.0</br>population: 2401.0</br>households: 1138.0</br>median_income: 8.3014</br>ocean_proximity: NEAR BAY</br>_original_yhat_: 451020.9776472536</br>\"],[\"</br>id: 0</br>prediction: 683527.584</br>total_bedrooms: 5800.599999999999</br></br>longitude: -122.22</br>latitude: 37.86</br>housing_median_age: 21.0</br>total_rooms: 7099.0</br>population: 2401.0</br>households: 1138.0</br>median_income: 8.3014</br>ocean_proximity: NEAR BAY</br>_original_yhat_: 451020.9776472536</br>\"],[\"</br>id: 0</br>prediction: 685530.821</br>total_bedrooms: 5865.04</br></br>longitude: -122.22</br>latitude: 37.86</br>housing_median_age: 21.0</br>total_rooms: 7099.0</br>population: 2401.0</br>households: 1138.0</br>median_income: 8.3014</br>ocean_proximity: NEAR BAY</br>_original_yhat_: 451020.9776472536</br>\"],[\"</br>id: 0</br>prediction: 687516.928</br>total_bedrooms: 5929.48</br></br>longitude: -122.22</br>latitude: 37.86</br>housing_median_age: 21.0</br>total_rooms: 7099.0</br>population: 2401.0</br>households: 1138.0</br>median_income: 8.3014</br>ocean_proximity: NEAR BAY</br>_original_yhat_: 451020.9776472536</br>\"],[\"</br>id: 0</br>prediction: 689486.236</br>total_bedrooms: 5993.92</br></br>longitude: -122.22</br>latitude: 37.86</br>housing_median_age: 21.0</br>total_rooms: 7099.0</br>population: 2401.0</br>households: 1138.0</br>median_income: 8.3014</br>ocean_proximity: NEAR BAY</br>_original_yhat_: 451020.9776472536</br>\"],[\"</br>id: 0</br>prediction: 691439.065</br>total_bedrooms: 6058.36</br></br>longitude: -122.22</br>latitude: 37.86</br>housing_median_age: 21.0</br>total_rooms: 7099.0</br>population: 2401.0</br>households: 1138.0</br>median_income: 8.3014</br>ocean_proximity: NEAR BAY</br>_original_yhat_: 451020.9776472536</br>\"],[\"</br>id: 0</br>prediction: 693375.727</br>total_bedrooms: 6122.8</br></br>longitude: -122.22</br>latitude: 37.86</br>housing_median_age: 21.0</br>total_rooms: 7099.0</br>population: 2401.0</br>households: 1138.0</br>median_income: 8.3014</br>ocean_proximity: NEAR BAY</br>_original_yhat_: 451020.9776472536</br>\"],[\"</br>id: 0</br>prediction: 695296.522</br>total_bedrooms: 6187.24</br></br>longitude: -122.22</br>latitude: 37.86</br>housing_median_age: 21.0</br>total_rooms: 7099.0</br>population: 2401.0</br>households: 1138.0</br>median_income: 8.3014</br>ocean_proximity: NEAR BAY</br>_original_yhat_: 451020.9776472536</br>\"],[\"</br>id: 0</br>prediction: 697201.745</br>total_bedrooms: 6251.679999999999</br></br>longitude: -122.22</br>latitude: 37.86</br>housing_median_age: 21.0</br>total_rooms: 7099.0</br>population: 2401.0</br>households: 1138.0</br>median_income: 8.3014</br>ocean_proximity: NEAR BAY</br>_original_yhat_: 451020.9776472536</br>\"],[\"</br>id: 0</br>prediction: 699091.679</br>total_bedrooms: 6316.12</br></br>longitude: -122.22</br>latitude: 37.86</br>housing_median_age: 21.0</br>total_rooms: 7099.0</br>population: 2401.0</br>households: 1138.0</br>median_income: 8.3014</br>ocean_proximity: NEAR BAY</br>_original_yhat_: 451020.9776472536</br>\"],[\"</br>id: 0</br>prediction: 700966.602</br>total_bedrooms: 6380.5599999999995</br></br>longitude: -122.22</br>latitude: 37.86</br>housing_median_age: 21.0</br>total_rooms: 7099.0</br>population: 2401.0</br>households: 1138.0</br>median_income: 8.3014</br>ocean_proximity: NEAR BAY</br>_original_yhat_: 451020.9776472536</br>\"],[\"</br>id: 0</br>prediction: 702826.783</br>total_bedrooms: 6445.0</br></br>longitude: -122.22</br>latitude: 37.86</br>housing_median_age: 21.0</br>total_rooms: 7099.0</br>population: 2401.0</br>households: 1138.0</br>median_income: 8.3014</br>ocean_proximity: NEAR BAY</br>_original_yhat_: 451020.9776472536</br>\"]],\"hovertemplate\":\"%{customdata[0]}<extra></extra>\",\"legendgroup\":\"MLP with onehot encoding and power transformaiton\",\"line\":{\"color\":\"#ffa58c\",\"dash\":\"solid\",\"width\":2},\"marker\":{\"symbol\":\"circle\"},\"mode\":\"lines\",\"name\":\"MLP with onehot encoding and power transformaiton\",\"orientation\":\"v\",\"showlegend\":true,\"x\":[1.0,65.44,129.88,194.32,258.76,323.2,387.64,452.08,516.52,580.96,645.4,709.8399999999999,774.28,838.72,903.16,967.5999999999999,1032.04,1096.48,1106.0,1160.92,1225.36,1289.8,1354.24,1418.6799999999998,1483.12,1547.56,1612.0,1676.44,1740.8799999999999,1805.32,1869.76,1934.1999999999998,1998.6399999999999,2063.08,2127.52,2191.96,2256.4,2320.84,2385.2799999999997,2449.72,2514.16,2578.6,2643.04,2707.48,2771.92,2836.3599999999997,2900.7999999999997,2965.24,3029.68,3094.12,3158.56,3223.0,3287.44,3351.88,3416.3199999999997,3480.7599999999998,3545.2,3609.64,3674.08,3738.52,3802.96,3867.3999999999996,3931.8399999999997,3996.2799999999997,4060.72,4125.16,4189.599999999999,4254.04,4318.48,4382.92,4447.36,4511.8,4576.24,4640.68,4705.12,4769.5599999999995,4834.0,4898.44,4962.88,5027.32,5091.76,5156.2,5220.639999999999,5285.08,5349.5199999999995,5413.96,5478.4,5542.84,5607.28,5671.719999999999,5736.16,5800.599999999999,5865.04,5929.48,5993.92,6058.36,6122.8,6187.24,6251.679999999999,6316.12,6380.5599999999995,6445.0],\"xaxis\":\"x\",\"y\":[440696.76706172846,427069.51164757257,423003.09516251466,422660.29480811645,423836.85310850135,424803.24205287424,425629.35701264243,427541.690161606,430753.4300950289,433666.25209530146,436336.8840074904,438806.84946072806,441107.52489924635,443263.2404876105,445293.2717864286,447213.1687862236,449035.6716346208,450771.3590324226,451020.97764725366,452429.1182624672,454016.4929689293,455539.94515886146,457838.8530664351,463995.8677421525,469938.1437320608,475682.0251487649,481241.9931895583,486630.94348672626,491860.4132175125,496940.76857750106,501881.3606881853,506690.6561472518,511376.3470447476,515945.44422638864,520404.3567936659,524758.9602232875,529014.6550187443,533176.4174403159,537248.8435717209,541236.1877534584,545142.3962309678,548971.1367197532,552725.8244717505,556409.6453315134,560025.5761926429,563576.403200764,567064.7379964546,570493.0322477093,573863.5906850451,577178.5828218681,580440.0535171332,583649.9325157747,586810.0430841597,589922.1098423403,592987.7658817194,596008.5592454867,598985.958839539,601921.3598333114,604816.0886028067,607671.4072619195,610488.5178228181,613268.5660214772,616012.64484041,618721.7977571124,621397.0217436256,624039.2700399084,626649.4547213304,629228.4490784734,631777.0898255912,634296.1791524165,636786.4866325585,639248.7510004335,641683.6818075252,644091.9609677482,646474.2442007591,648831.1623812647,651163.322801623,653471.3103543874,655755.6886408508,658017.0010111188,660255.7715407573,662472.505948634,664667.6924601821,666841.8026199623,668995.2920570782,671128.6012067166,673242.1559908132,675336.3684606153,677411.637403687,679468.348917712,681506.876953261,683527.5838275367,685530.8207109452,687516.928088218,689486.2361956744,691439.0654361023,693375.7267726244,695296.5221028292,697201.7446143443,699091.6791229593,700966.6023943154,702826.7834501287],\"yaxis\":\"y\",\"type\":\"scatter\",\"opacity\":1},{\"customdata\":[[\"</br>id: 0</br>prediction: 718231.608</br>total_rooms: 2.0</br></br>longitude: -122.22</br>latitude: 37.86</br>housing_median_age: 21.0</br>total_bedrooms: 1106.0</br>population: 2401.0</br>households: 1138.0</br>median_income: 8.3014</br>ocean_proximity: NEAR BAY</br>_original_yhat_: 451020.9776472536</br>\"],[\"</br>id: 0</br>prediction: 550562.443</br>total_rooms: 395.18</br></br>longitude: -122.22</br>latitude: 37.86</br>housing_median_age: 21.0</br>total_bedrooms: 1106.0</br>population: 2401.0</br>households: 1138.0</br>median_income: 8.3014</br>ocean_proximity: NEAR BAY</br>_original_yhat_: 451020.9776472536</br>\"],[\"</br>id: 0</br>prediction: 512541.719</br>total_rooms: 788.36</br></br>longitude: -122.22</br>latitude: 37.86</br>housing_median_age: 21.0</br>total_bedrooms: 1106.0</br>population: 2401.0</br>households: 1138.0</br>median_income: 8.3014</br>ocean_proximity: NEAR BAY</br>_original_yhat_: 451020.9776472536</br>\"],[\"</br>id: 0</br>prediction: 500439.382</br>total_rooms: 1181.54</br></br>longitude: -122.22</br>latitude: 37.86</br>housing_median_age: 21.0</br>total_bedrooms: 1106.0</br>population: 2401.0</br>households: 1138.0</br>median_income: 8.3014</br>ocean_proximity: NEAR BAY</br>_original_yhat_: 451020.9776472536</br>\"],[\"</br>id: 0</br>prediction: 491169.509</br>total_rooms: 1574.72</br></br>longitude: -122.22</br>latitude: 37.86</br>housing_median_age: 21.0</br>total_bedrooms: 1106.0</br>population: 2401.0</br>households: 1138.0</br>median_income: 8.3014</br>ocean_proximity: NEAR BAY</br>_original_yhat_: 451020.9776472536</br>\"],[\"</br>id: 0</br>prediction: 483562.586</br>total_rooms: 1967.9</br></br>longitude: -122.22</br>latitude: 37.86</br>housing_median_age: 21.0</br>total_bedrooms: 1106.0</br>population: 2401.0</br>households: 1138.0</br>median_income: 8.3014</br>ocean_proximity: NEAR BAY</br>_original_yhat_: 451020.9776472536</br>\"],[\"</br>id: 0</br>prediction: 477063.365</br>total_rooms: 2361.08</br></br>longitude: -122.22</br>latitude: 37.86</br>housing_median_age: 21.0</br>total_bedrooms: 1106.0</br>population: 2401.0</br>households: 1138.0</br>median_income: 8.3014</br>ocean_proximity: NEAR BAY</br>_original_yhat_: 451020.9776472536</br>\"],[\"</br>id: 0</br>prediction: 471360.996</br>total_rooms: 2754.26</br></br>longitude: -122.22</br>latitude: 37.86</br>housing_median_age: 21.0</br>total_bedrooms: 1106.0</br>population: 2401.0</br>households: 1138.0</br>median_income: 8.3014</br>ocean_proximity: NEAR BAY</br>_original_yhat_: 451020.9776472536</br>\"],[\"</br>id: 0</br>prediction: 466262.525</br>total_rooms: 3147.44</br></br>longitude: -122.22</br>latitude: 37.86</br>housing_median_age: 21.0</br>total_bedrooms: 1106.0</br>population: 2401.0</br>households: 1138.0</br>median_income: 8.3014</br>ocean_proximity: NEAR BAY</br>_original_yhat_: 451020.9776472536</br>\"],[\"</br>id: 0</br>prediction: 461639.318</br>total_rooms: 3540.62</br></br>longitude: -122.22</br>latitude: 37.86</br>housing_median_age: 21.0</br>total_bedrooms: 1106.0</br>population: 2401.0</br>households: 1138.0</br>median_income: 8.3014</br>ocean_proximity: NEAR BAY</br>_original_yhat_: 451020.9776472536</br>\"],[\"</br>id: 0</br>prediction: 457401.0</br>total_rooms: 3933.8</br></br>longitude: -122.22</br>latitude: 37.86</br>housing_median_age: 21.0</br>total_bedrooms: 1106.0</br>population: 2401.0</br>households: 1138.0</br>median_income: 8.3014</br>ocean_proximity: NEAR BAY</br>_original_yhat_: 451020.9776472536</br>\"],[\"</br>id: 0</br>prediction: 453481.466</br>total_rooms: 4326.9800000000005</br></br>longitude: -122.22</br>latitude: 37.86</br>housing_median_age: 21.0</br>total_bedrooms: 1106.0</br>population: 2401.0</br>households: 1138.0</br>median_income: 8.3014</br>ocean_proximity: NEAR BAY</br>_original_yhat_: 451020.9776472536</br>\"],[\"</br>id: 0</br>prediction: 449830.794</br>total_rooms: 4720.16</br></br>longitude: -122.22</br>latitude: 37.86</br>housing_median_age: 21.0</br>total_bedrooms: 1106.0</br>population: 2401.0</br>households: 1138.0</br>median_income: 8.3014</br>ocean_proximity: NEAR BAY</br>_original_yhat_: 451020.9776472536</br>\"],[\"</br>id: 0</br>prediction: 446410.29</br>total_rooms: 5113.34</br></br>longitude: -122.22</br>latitude: 37.86</br>housing_median_age: 21.0</br>total_bedrooms: 1106.0</br>population: 2401.0</br>households: 1138.0</br>median_income: 8.3014</br>ocean_proximity: NEAR BAY</br>_original_yhat_: 451020.9776472536</br>\"],[\"</br>id: 0</br>prediction: 443189.31</br>total_rooms: 5506.52</br></br>longitude: -122.22</br>latitude: 37.86</br>housing_median_age: 21.0</br>total_bedrooms: 1106.0</br>population: 2401.0</br>households: 1138.0</br>median_income: 8.3014</br>ocean_proximity: NEAR BAY</br>_original_yhat_: 451020.9776472536</br>\"],[\"</br>id: 0</br>prediction: 440143.143</br>total_rooms: 5899.7</br></br>longitude: -122.22</br>latitude: 37.86</br>housing_median_age: 21.0</br>total_bedrooms: 1106.0</br>population: 2401.0</br>households: 1138.0</br>median_income: 8.3014</br>ocean_proximity: NEAR BAY</br>_original_yhat_: 451020.9776472536</br>\"],[\"</br>id: 0</br>prediction: 441463.115</br>total_rooms: 6292.88</br></br>longitude: -122.22</br>latitude: 37.86</br>housing_median_age: 21.0</br>total_bedrooms: 1106.0</br>population: 2401.0</br>households: 1138.0</br>median_income: 8.3014</br>ocean_proximity: NEAR BAY</br>_original_yhat_: 451020.9776472536</br>\"],[\"</br>id: 0</br>prediction: 446237.284</br>total_rooms: 6686.06</br></br>longitude: -122.22</br>latitude: 37.86</br>housing_median_age: 21.0</br>total_bedrooms: 1106.0</br>population: 2401.0</br>households: 1138.0</br>median_income: 8.3014</br>ocean_proximity: NEAR BAY</br>_original_yhat_: 451020.9776472536</br>\"],[\"</br>id: 0</br>prediction: 450797.085</br>total_rooms: 7079.24</br></br>longitude: -122.22</br>latitude: 37.86</br>housing_median_age: 21.0</br>total_bedrooms: 1106.0</br>population: 2401.0</br>households: 1138.0</br>median_income: 8.3014</br>ocean_proximity: NEAR BAY</br>_original_yhat_: 451020.9776472536</br>\"],[\"</br>id: 0</br>prediction: 451020.978</br>total_rooms: 7099.0</br></br>longitude: -122.22</br>latitude: 37.86</br>housing_median_age: 21.0</br>total_bedrooms: 1106.0</br>population: 2401.0</br>households: 1138.0</br>median_income: 8.3014</br>ocean_proximity: NEAR BAY</br>_original_yhat_: 451020.9776472536</br>\"],[\"</br>id: 0</br>prediction: 455163.286</br>total_rooms: 7472.42</br></br>longitude: -122.22</br>latitude: 37.86</br>housing_median_age: 21.0</br>total_bedrooms: 1106.0</br>population: 2401.0</br>households: 1138.0</br>median_income: 8.3014</br>ocean_proximity: NEAR BAY</br>_original_yhat_: 451020.9776472536</br>\"],[\"</br>id: 0</br>prediction: 459353.672</br>total_rooms: 7865.6</br></br>longitude: -122.22</br>latitude: 37.86</br>housing_median_age: 21.0</br>total_bedrooms: 1106.0</br>population: 2401.0</br>households: 1138.0</br>median_income: 8.3014</br>ocean_proximity: NEAR BAY</br>_original_yhat_: 451020.9776472536</br>\"],[\"</br>id: 0</br>prediction: 463383.602</br>total_rooms: 8258.78</br></br>longitude: -122.22</br>latitude: 37.86</br>housing_median_age: 21.0</br>total_bedrooms: 1106.0</br>population: 2401.0</br>households: 1138.0</br>median_income: 8.3014</br>ocean_proximity: NEAR BAY</br>_original_yhat_: 451020.9776472536</br>\"],[\"</br>id: 0</br>prediction: 467266.439</br>total_rooms: 8651.960000000001</br></br>longitude: -122.22</br>latitude: 37.86</br>housing_median_age: 21.0</br>total_bedrooms: 1106.0</br>population: 2401.0</br>households: 1138.0</br>median_income: 8.3014</br>ocean_proximity: NEAR BAY</br>_original_yhat_: 451020.9776472536</br>\"],[\"</br>id: 0</br>prediction: 471013.884</br>total_rooms: 9045.14</br></br>longitude: -122.22</br>latitude: 37.86</br>housing_median_age: 21.0</br>total_bedrooms: 1106.0</br>population: 2401.0</br>households: 1138.0</br>median_income: 8.3014</br>ocean_proximity: NEAR BAY</br>_original_yhat_: 451020.9776472536</br>\"],[\"</br>id: 0</br>prediction: 474636.246</br>total_rooms: 9438.32</br></br>longitude: -122.22</br>latitude: 37.86</br>housing_median_age: 21.0</br>total_bedrooms: 1106.0</br>population: 2401.0</br>households: 1138.0</br>median_income: 8.3014</br>ocean_proximity: NEAR BAY</br>_original_yhat_: 451020.9776472536</br>\"],[\"</br>id: 0</br>prediction: 478142.658</br>total_rooms: 9831.5</br></br>longitude: -122.22</br>latitude: 37.86</br>housing_median_age: 21.0</br>total_bedrooms: 1106.0</br>population: 2401.0</br>households: 1138.0</br>median_income: 8.3014</br>ocean_proximity: NEAR BAY</br>_original_yhat_: 451020.9776472536</br>\"],[\"</br>id: 0</br>prediction: 481541.256</br>total_rooms: 10224.68</br></br>longitude: -122.22</br>latitude: 37.86</br>housing_median_age: 21.0</br>total_bedrooms: 1106.0</br>population: 2401.0</br>households: 1138.0</br>median_income: 8.3014</br>ocean_proximity: NEAR BAY</br>_original_yhat_: 451020.9776472536</br>\"],[\"</br>id: 0</br>prediction: 484839.313</br>total_rooms: 10617.86</br></br>longitude: -122.22</br>latitude: 37.86</br>housing_median_age: 21.0</br>total_bedrooms: 1106.0</br>population: 2401.0</br>households: 1138.0</br>median_income: 8.3014</br>ocean_proximity: NEAR BAY</br>_original_yhat_: 451020.9776472536</br>\"],[\"</br>id: 0</br>prediction: 488043.368</br>total_rooms: 11011.04</br></br>longitude: -122.22</br>latitude: 37.86</br>housing_median_age: 21.0</br>total_bedrooms: 1106.0</br>population: 2401.0</br>households: 1138.0</br>median_income: 8.3014</br>ocean_proximity: NEAR BAY</br>_original_yhat_: 451020.9776472536</br>\"],[\"</br>id: 0</br>prediction: 491159.316</br>total_rooms: 11404.22</br></br>longitude: -122.22</br>latitude: 37.86</br>housing_median_age: 21.0</br>total_bedrooms: 1106.0</br>population: 2401.0</br>households: 1138.0</br>median_income: 8.3014</br>ocean_proximity: NEAR BAY</br>_original_yhat_: 451020.9776472536</br>\"],[\"</br>id: 0</br>prediction: 494192.498</br>total_rooms: 11797.4</br></br>longitude: -122.22</br>latitude: 37.86</br>housing_median_age: 21.0</br>total_bedrooms: 1106.0</br>population: 2401.0</br>households: 1138.0</br>median_income: 8.3014</br>ocean_proximity: NEAR BAY</br>_original_yhat_: 451020.9776472536</br>\"],[\"</br>id: 0</br>prediction: 497147.762</br>total_rooms: 12190.58</br></br>longitude: -122.22</br>latitude: 37.86</br>housing_median_age: 21.0</br>total_bedrooms: 1106.0</br>population: 2401.0</br>households: 1138.0</br>median_income: 8.3014</br>ocean_proximity: NEAR BAY</br>_original_yhat_: 451020.9776472536</br>\"],[\"</br>id: 0</br>prediction: 500029.528</br>total_rooms: 12583.76</br></br>longitude: -122.22</br>latitude: 37.86</br>housing_median_age: 21.0</br>total_bedrooms: 1106.0</br>population: 2401.0</br>households: 1138.0</br>median_income: 8.3014</br>ocean_proximity: NEAR BAY</br>_original_yhat_: 451020.9776472536</br>\"],[\"</br>id: 0</br>prediction: 502841.839</br>total_rooms: 12976.94</br></br>longitude: -122.22</br>latitude: 37.86</br>housing_median_age: 21.0</br>total_bedrooms: 1106.0</br>population: 2401.0</br>households: 1138.0</br>median_income: 8.3014</br>ocean_proximity: NEAR BAY</br>_original_yhat_: 451020.9776472536</br>\"],[\"</br>id: 0</br>prediction: 505588.398</br>total_rooms: 13370.12</br></br>longitude: -122.22</br>latitude: 37.86</br>housing_median_age: 21.0</br>total_bedrooms: 1106.0</br>population: 2401.0</br>households: 1138.0</br>median_income: 8.3014</br>ocean_proximity: NEAR BAY</br>_original_yhat_: 451020.9776472536</br>\"],[\"</br>id: 0</br>prediction: 508272.609</br>total_rooms: 13763.300000000001</br></br>longitude: -122.22</br>latitude: 37.86</br>housing_median_age: 21.0</br>total_bedrooms: 1106.0</br>population: 2401.0</br>households: 1138.0</br>median_income: 8.3014</br>ocean_proximity: NEAR BAY</br>_original_yhat_: 451020.9776472536</br>\"],[\"</br>id: 0</br>prediction: 510897.61</br>total_rooms: 14156.48</br></br>longitude: -122.22</br>latitude: 37.86</br>housing_median_age: 21.0</br>total_bedrooms: 1106.0</br>population: 2401.0</br>households: 1138.0</br>median_income: 8.3014</br>ocean_proximity: NEAR BAY</br>_original_yhat_: 451020.9776472536</br>\"],[\"</br>id: 0</br>prediction: 513466.299</br>total_rooms: 14549.66</br></br>longitude: -122.22</br>latitude: 37.86</br>housing_median_age: 21.0</br>total_bedrooms: 1106.0</br>population: 2401.0</br>households: 1138.0</br>median_income: 8.3014</br>ocean_proximity: NEAR BAY</br>_original_yhat_: 451020.9776472536</br>\"],[\"</br>id: 0</br>prediction: 515981.356</br>total_rooms: 14942.84</br></br>longitude: -122.22</br>latitude: 37.86</br>housing_median_age: 21.0</br>total_bedrooms: 1106.0</br>population: 2401.0</br>households: 1138.0</br>median_income: 8.3014</br>ocean_proximity: NEAR BAY</br>_original_yhat_: 451020.9776472536</br>\"],[\"</br>id: 0</br>prediction: 518445.271</br>total_rooms: 15336.02</br></br>longitude: -122.22</br>latitude: 37.86</br>housing_median_age: 21.0</br>total_bedrooms: 1106.0</br>population: 2401.0</br>households: 1138.0</br>median_income: 8.3014</br>ocean_proximity: NEAR BAY</br>_original_yhat_: 451020.9776472536</br>\"],[\"</br>id: 0</br>prediction: 520860.354</br>total_rooms: 15729.2</br></br>longitude: -122.22</br>latitude: 37.86</br>housing_median_age: 21.0</br>total_bedrooms: 1106.0</br>population: 2401.0</br>households: 1138.0</br>median_income: 8.3014</br>ocean_proximity: NEAR BAY</br>_original_yhat_: 451020.9776472536</br>\"],[\"</br>id: 0</br>prediction: 523228.759</br>total_rooms: 16122.380000000001</br></br>longitude: -122.22</br>latitude: 37.86</br>housing_median_age: 21.0</br>total_bedrooms: 1106.0</br>population: 2401.0</br>households: 1138.0</br>median_income: 8.3014</br>ocean_proximity: NEAR BAY</br>_original_yhat_: 451020.9776472536</br>\"],[\"</br>id: 0</br>prediction: 525552.493</br>total_rooms: 16515.56</br></br>longitude: -122.22</br>latitude: 37.86</br>housing_median_age: 21.0</br>total_bedrooms: 1106.0</br>population: 2401.0</br>households: 1138.0</br>median_income: 8.3014</br>ocean_proximity: NEAR BAY</br>_original_yhat_: 451020.9776472536</br>\"],[\"</br>id: 0</br>prediction: 527833.434</br>total_rooms: 16908.74</br></br>longitude: -122.22</br>latitude: 37.86</br>housing_median_age: 21.0</br>total_bedrooms: 1106.0</br>population: 2401.0</br>households: 1138.0</br>median_income: 8.3014</br>ocean_proximity: NEAR BAY</br>_original_yhat_: 451020.9776472536</br>\"],[\"</br>id: 0</br>prediction: 530073.338</br>total_rooms: 17301.920000000002</br></br>longitude: -122.22</br>latitude: 37.86</br>housing_median_age: 21.0</br>total_bedrooms: 1106.0</br>population: 2401.0</br>households: 1138.0</br>median_income: 8.3014</br>ocean_proximity: NEAR BAY</br>_original_yhat_: 451020.9776472536</br>\"],[\"</br>id: 0</br>prediction: 532273.85</br>total_rooms: 17695.1</br></br>longitude: -122.22</br>latitude: 37.86</br>housing_median_age: 21.0</br>total_bedrooms: 1106.0</br>population: 2401.0</br>households: 1138.0</br>median_income: 8.3014</br>ocean_proximity: NEAR BAY</br>_original_yhat_: 451020.9776472536</br>\"],[\"</br>id: 0</br>prediction: 534436.516</br>total_rooms: 18088.28</br></br>longitude: -122.22</br>latitude: 37.86</br>housing_median_age: 21.0</br>total_bedrooms: 1106.0</br>population: 2401.0</br>households: 1138.0</br>median_income: 8.3014</br>ocean_proximity: NEAR BAY</br>_original_yhat_: 451020.9776472536</br>\"],[\"</br>id: 0</br>prediction: 536562.789</br>total_rooms: 18481.46</br></br>longitude: -122.22</br>latitude: 37.86</br>housing_median_age: 21.0</br>total_bedrooms: 1106.0</br>population: 2401.0</br>households: 1138.0</br>median_income: 8.3014</br>ocean_proximity: NEAR BAY</br>_original_yhat_: 451020.9776472536</br>\"],[\"</br>id: 0</br>prediction: 538654.036</br>total_rooms: 18874.64</br></br>longitude: -122.22</br>latitude: 37.86</br>housing_median_age: 21.0</br>total_bedrooms: 1106.0</br>population: 2401.0</br>households: 1138.0</br>median_income: 8.3014</br>ocean_proximity: NEAR BAY</br>_original_yhat_: 451020.9776472536</br>\"],[\"</br>id: 0</br>prediction: 540711.546</br>total_rooms: 19267.82</br></br>longitude: -122.22</br>latitude: 37.86</br>housing_median_age: 21.0</br>total_bedrooms: 1106.0</br>population: 2401.0</br>households: 1138.0</br>median_income: 8.3014</br>ocean_proximity: NEAR BAY</br>_original_yhat_: 451020.9776472536</br>\"],[\"</br>id: 0</br>prediction: 542736.535</br>total_rooms: 19661.0</br></br>longitude: -122.22</br>latitude: 37.86</br>housing_median_age: 21.0</br>total_bedrooms: 1106.0</br>population: 2401.0</br>households: 1138.0</br>median_income: 8.3014</br>ocean_proximity: NEAR BAY</br>_original_yhat_: 451020.9776472536</br>\"],[\"</br>id: 0</br>prediction: 544730.153</br>total_rooms: 20054.18</br></br>longitude: -122.22</br>latitude: 37.86</br>housing_median_age: 21.0</br>total_bedrooms: 1106.0</br>population: 2401.0</br>households: 1138.0</br>median_income: 8.3014</br>ocean_proximity: NEAR BAY</br>_original_yhat_: 451020.9776472536</br>\"],[\"</br>id: 0</br>prediction: 546693.486</br>total_rooms: 20447.36</br></br>longitude: -122.22</br>latitude: 37.86</br>housing_median_age: 21.0</br>total_bedrooms: 1106.0</br>population: 2401.0</br>households: 1138.0</br>median_income: 8.3014</br>ocean_proximity: NEAR BAY</br>_original_yhat_: 451020.9776472536</br>\"],[\"</br>id: 0</br>prediction: 548627.564</br>total_rooms: 20840.54</br></br>longitude: -122.22</br>latitude: 37.86</br>housing_median_age: 21.0</br>total_bedrooms: 1106.0</br>population: 2401.0</br>households: 1138.0</br>median_income: 8.3014</br>ocean_proximity: NEAR BAY</br>_original_yhat_: 451020.9776472536</br>\"],[\"</br>id: 0</br>prediction: 550956.704</br>total_rooms: 21233.72</br></br>longitude: -122.22</br>latitude: 37.86</br>housing_median_age: 21.0</br>total_bedrooms: 1106.0</br>population: 2401.0</br>households: 1138.0</br>median_income: 8.3014</br>ocean_proximity: NEAR BAY</br>_original_yhat_: 451020.9776472536</br>\"],[\"</br>id: 0</br>prediction: 553609.563</br>total_rooms: 21626.9</br></br>longitude: -122.22</br>latitude: 37.86</br>housing_median_age: 21.0</br>total_bedrooms: 1106.0</br>population: 2401.0</br>households: 1138.0</br>median_income: 8.3014</br>ocean_proximity: NEAR BAY</br>_original_yhat_: 451020.9776472536</br>\"],[\"</br>id: 0</br>prediction: 556225.033</br>total_rooms: 22020.08</br></br>longitude: -122.22</br>latitude: 37.86</br>housing_median_age: 21.0</br>total_bedrooms: 1106.0</br>population: 2401.0</br>households: 1138.0</br>median_income: 8.3014</br>ocean_proximity: NEAR BAY</br>_original_yhat_: 451020.9776472536</br>\"],[\"</br>id: 0</br>prediction: 558804.295</br>total_rooms: 22413.260000000002</br></br>longitude: -122.22</br>latitude: 37.86</br>housing_median_age: 21.0</br>total_bedrooms: 1106.0</br>population: 2401.0</br>households: 1138.0</br>median_income: 8.3014</br>ocean_proximity: NEAR BAY</br>_original_yhat_: 451020.9776472536</br>\"],[\"</br>id: 0</br>prediction: 561348.472</br>total_rooms: 22806.44</br></br>longitude: -122.22</br>latitude: 37.86</br>housing_median_age: 21.0</br>total_bedrooms: 1106.0</br>population: 2401.0</br>households: 1138.0</br>median_income: 8.3014</br>ocean_proximity: NEAR BAY</br>_original_yhat_: 451020.9776472536</br>\"],[\"</br>id: 0</br>prediction: 563858.635</br>total_rooms: 23199.62</br></br>longitude: -122.22</br>latitude: 37.86</br>housing_median_age: 21.0</br>total_bedrooms: 1106.0</br>population: 2401.0</br>households: 1138.0</br>median_income: 8.3014</br>ocean_proximity: NEAR BAY</br>_original_yhat_: 451020.9776472536</br>\"],[\"</br>id: 0</br>prediction: 566335.803</br>total_rooms: 23592.8</br></br>longitude: -122.22</br>latitude: 37.86</br>housing_median_age: 21.0</br>total_bedrooms: 1106.0</br>population: 2401.0</br>households: 1138.0</br>median_income: 8.3014</br>ocean_proximity: NEAR BAY</br>_original_yhat_: 451020.9776472536</br>\"],[\"</br>id: 0</br>prediction: 568780.948</br>total_rooms: 23985.98</br></br>longitude: -122.22</br>latitude: 37.86</br>housing_median_age: 21.0</br>total_bedrooms: 1106.0</br>population: 2401.0</br>households: 1138.0</br>median_income: 8.3014</br>ocean_proximity: NEAR BAY</br>_original_yhat_: 451020.9776472536</br>\"],[\"</br>id: 0</br>prediction: 571195.0</br>total_rooms: 24379.16</br></br>longitude: -122.22</br>latitude: 37.86</br>housing_median_age: 21.0</br>total_bedrooms: 1106.0</br>population: 2401.0</br>households: 1138.0</br>median_income: 8.3014</br>ocean_proximity: NEAR BAY</br>_original_yhat_: 451020.9776472536</br>\"],[\"</br>id: 0</br>prediction: 573578.847</br>total_rooms: 24772.34</br></br>longitude: -122.22</br>latitude: 37.86</br>housing_median_age: 21.0</br>total_bedrooms: 1106.0</br>population: 2401.0</br>households: 1138.0</br>median_income: 8.3014</br>ocean_proximity: NEAR BAY</br>_original_yhat_: 451020.9776472536</br>\"],[\"</br>id: 0</br>prediction: 575933.336</br>total_rooms: 25165.52</br></br>longitude: -122.22</br>latitude: 37.86</br>housing_median_age: 21.0</br>total_bedrooms: 1106.0</br>population: 2401.0</br>households: 1138.0</br>median_income: 8.3014</br>ocean_proximity: NEAR BAY</br>_original_yhat_: 451020.9776472536</br>\"],[\"</br>id: 0</br>prediction: 578259.28</br>total_rooms: 25558.7</br></br>longitude: -122.22</br>latitude: 37.86</br>housing_median_age: 21.0</br>total_bedrooms: 1106.0</br>population: 2401.0</br>households: 1138.0</br>median_income: 8.3014</br>ocean_proximity: NEAR BAY</br>_original_yhat_: 451020.9776472536</br>\"],[\"</br>id: 0</br>prediction: 580557.455</br>total_rooms: 25951.88</br></br>longitude: -122.22</br>latitude: 37.86</br>housing_median_age: 21.0</br>total_bedrooms: 1106.0</br>population: 2401.0</br>households: 1138.0</br>median_income: 8.3014</br>ocean_proximity: NEAR BAY</br>_original_yhat_: 451020.9776472536</br>\"],[\"</br>id: 0</br>prediction: 582828.607</br>total_rooms: 26345.06</br></br>longitude: -122.22</br>latitude: 37.86</br>housing_median_age: 21.0</br>total_bedrooms: 1106.0</br>population: 2401.0</br>households: 1138.0</br>median_income: 8.3014</br>ocean_proximity: NEAR BAY</br>_original_yhat_: 451020.9776472536</br>\"],[\"</br>id: 0</br>prediction: 585073.45</br>total_rooms: 26738.24</br></br>longitude: -122.22</br>latitude: 37.86</br>housing_median_age: 21.0</br>total_bedrooms: 1106.0</br>population: 2401.0</br>households: 1138.0</br>median_income: 8.3014</br>ocean_proximity: NEAR BAY</br>_original_yhat_: 451020.9776472536</br>\"],[\"</br>id: 0</br>prediction: 587292.668</br>total_rooms: 27131.420000000002</br></br>longitude: -122.22</br>latitude: 37.86</br>housing_median_age: 21.0</br>total_bedrooms: 1106.0</br>population: 2401.0</br>households: 1138.0</br>median_income: 8.3014</br>ocean_proximity: NEAR BAY</br>_original_yhat_: 451020.9776472536</br>\"],[\"</br>id: 0</br>prediction: 589486.919</br>total_rooms: 27524.600000000002</br></br>longitude: -122.22</br>latitude: 37.86</br>housing_median_age: 21.0</br>total_bedrooms: 1106.0</br>population: 2401.0</br>households: 1138.0</br>median_income: 8.3014</br>ocean_proximity: NEAR BAY</br>_original_yhat_: 451020.9776472536</br>\"],[\"</br>id: 0</br>prediction: 591656.835</br>total_rooms: 27917.78</br></br>longitude: -122.22</br>latitude: 37.86</br>housing_median_age: 21.0</br>total_bedrooms: 1106.0</br>population: 2401.0</br>households: 1138.0</br>median_income: 8.3014</br>ocean_proximity: NEAR BAY</br>_original_yhat_: 451020.9776472536</br>\"],[\"</br>id: 0</br>prediction: 593803.023</br>total_rooms: 28310.96</br></br>longitude: -122.22</br>latitude: 37.86</br>housing_median_age: 21.0</br>total_bedrooms: 1106.0</br>population: 2401.0</br>households: 1138.0</br>median_income: 8.3014</br>ocean_proximity: NEAR BAY</br>_original_yhat_: 451020.9776472536</br>\"],[\"</br>id: 0</br>prediction: 595926.066</br>total_rooms: 28704.14</br></br>longitude: -122.22</br>latitude: 37.86</br>housing_median_age: 21.0</br>total_bedrooms: 1106.0</br>population: 2401.0</br>households: 1138.0</br>median_income: 8.3014</br>ocean_proximity: NEAR BAY</br>_original_yhat_: 451020.9776472536</br>\"],[\"</br>id: 0</br>prediction: 598026.526</br>total_rooms: 29097.32</br></br>longitude: -122.22</br>latitude: 37.86</br>housing_median_age: 21.0</br>total_bedrooms: 1106.0</br>population: 2401.0</br>households: 1138.0</br>median_income: 8.3014</br>ocean_proximity: NEAR BAY</br>_original_yhat_: 451020.9776472536</br>\"],[\"</br>id: 0</br>prediction: 600104.943</br>total_rooms: 29490.5</br></br>longitude: -122.22</br>latitude: 37.86</br>housing_median_age: 21.0</br>total_bedrooms: 1106.0</br>population: 2401.0</br>households: 1138.0</br>median_income: 8.3014</br>ocean_proximity: NEAR BAY</br>_original_yhat_: 451020.9776472536</br>\"],[\"</br>id: 0</br>prediction: 602161.838</br>total_rooms: 29883.68</br></br>longitude: -122.22</br>latitude: 37.86</br>housing_median_age: 21.0</br>total_bedrooms: 1106.0</br>population: 2401.0</br>households: 1138.0</br>median_income: 8.3014</br>ocean_proximity: NEAR BAY</br>_original_yhat_: 451020.9776472536</br>\"],[\"</br>id: 0</br>prediction: 604197.713</br>total_rooms: 30276.86</br></br>longitude: -122.22</br>latitude: 37.86</br>housing_median_age: 21.0</br>total_bedrooms: 1106.0</br>population: 2401.0</br>households: 1138.0</br>median_income: 8.3014</br>ocean_proximity: NEAR BAY</br>_original_yhat_: 451020.9776472536</br>\"],[\"</br>id: 0</br>prediction: 606213.052</br>total_rooms: 30670.04</br></br>longitude: -122.22</br>latitude: 37.86</br>housing_median_age: 21.0</br>total_bedrooms: 1106.0</br>population: 2401.0</br>households: 1138.0</br>median_income: 8.3014</br>ocean_proximity: NEAR BAY</br>_original_yhat_: 451020.9776472536</br>\"],[\"</br>id: 0</br>prediction: 608208.32</br>total_rooms: 31063.22</br></br>longitude: -122.22</br>latitude: 37.86</br>housing_median_age: 21.0</br>total_bedrooms: 1106.0</br>population: 2401.0</br>households: 1138.0</br>median_income: 8.3014</br>ocean_proximity: NEAR BAY</br>_original_yhat_: 451020.9776472536</br>\"],[\"</br>id: 0</br>prediction: 610183.968</br>total_rooms: 31456.4</br></br>longitude: -122.22</br>latitude: 37.86</br>housing_median_age: 21.0</br>total_bedrooms: 1106.0</br>population: 2401.0</br>households: 1138.0</br>median_income: 8.3014</br>ocean_proximity: NEAR BAY</br>_original_yhat_: 451020.9776472536</br>\"],[\"</br>id: 0</br>prediction: 612140.431</br>total_rooms: 31849.58</br></br>longitude: -122.22</br>latitude: 37.86</br>housing_median_age: 21.0</br>total_bedrooms: 1106.0</br>population: 2401.0</br>households: 1138.0</br>median_income: 8.3014</br>ocean_proximity: NEAR BAY</br>_original_yhat_: 451020.9776472536</br>\"],[\"</br>id: 0</br>prediction: 614078.129</br>total_rooms: 32242.760000000002</br></br>longitude: -122.22</br>latitude: 37.86</br>housing_median_age: 21.0</br>total_bedrooms: 1106.0</br>population: 2401.0</br>households: 1138.0</br>median_income: 8.3014</br>ocean_proximity: NEAR BAY</br>_original_yhat_: 451020.9776472536</br>\"],[\"</br>id: 0</br>prediction: 615997.466</br>total_rooms: 32635.940000000002</br></br>longitude: -122.22</br>latitude: 37.86</br>housing_median_age: 21.0</br>total_bedrooms: 1106.0</br>population: 2401.0</br>households: 1138.0</br>median_income: 8.3014</br>ocean_proximity: NEAR BAY</br>_original_yhat_: 451020.9776472536</br>\"],[\"</br>id: 0</br>prediction: 617898.835</br>total_rooms: 33029.12</br></br>longitude: -122.22</br>latitude: 37.86</br>housing_median_age: 21.0</br>total_bedrooms: 1106.0</br>population: 2401.0</br>households: 1138.0</br>median_income: 8.3014</br>ocean_proximity: NEAR BAY</br>_original_yhat_: 451020.9776472536</br>\"],[\"</br>id: 0</br>prediction: 619782.615</br>total_rooms: 33422.3</br></br>longitude: -122.22</br>latitude: 37.86</br>housing_median_age: 21.0</br>total_bedrooms: 1106.0</br>population: 2401.0</br>households: 1138.0</br>median_income: 8.3014</br>ocean_proximity: NEAR BAY</br>_original_yhat_: 451020.9776472536</br>\"],[\"</br>id: 0</br>prediction: 621649.173</br>total_rooms: 33815.48</br></br>longitude: -122.22</br>latitude: 37.86</br>housing_median_age: 21.0</br>total_bedrooms: 1106.0</br>population: 2401.0</br>households: 1138.0</br>median_income: 8.3014</br>ocean_proximity: NEAR BAY</br>_original_yhat_: 451020.9776472536</br>\"],[\"</br>id: 0</br>prediction: 623498.863</br>total_rooms: 34208.66</br></br>longitude: -122.22</br>latitude: 37.86</br>housing_median_age: 21.0</br>total_bedrooms: 1106.0</br>population: 2401.0</br>households: 1138.0</br>median_income: 8.3014</br>ocean_proximity: NEAR BAY</br>_original_yhat_: 451020.9776472536</br>\"],[\"</br>id: 0</br>prediction: 625332.03</br>total_rooms: 34601.840000000004</br></br>longitude: -122.22</br>latitude: 37.86</br>housing_median_age: 21.0</br>total_bedrooms: 1106.0</br>population: 2401.0</br>households: 1138.0</br>median_income: 8.3014</br>ocean_proximity: NEAR BAY</br>_original_yhat_: 451020.9776472536</br>\"],[\"</br>id: 0</br>prediction: 627149.007</br>total_rooms: 34995.020000000004</br></br>longitude: -122.22</br>latitude: 37.86</br>housing_median_age: 21.0</br>total_bedrooms: 1106.0</br>population: 2401.0</br>households: 1138.0</br>median_income: 8.3014</br>ocean_proximity: NEAR BAY</br>_original_yhat_: 451020.9776472536</br>\"],[\"</br>id: 0</br>prediction: 628950.115</br>total_rooms: 35388.2</br></br>longitude: -122.22</br>latitude: 37.86</br>housing_median_age: 21.0</br>total_bedrooms: 1106.0</br>population: 2401.0</br>households: 1138.0</br>median_income: 8.3014</br>ocean_proximity: NEAR BAY</br>_original_yhat_: 451020.9776472536</br>\"],[\"</br>id: 0</br>prediction: 630735.668</br>total_rooms: 35781.38</br></br>longitude: -122.22</br>latitude: 37.86</br>housing_median_age: 21.0</br>total_bedrooms: 1106.0</br>population: 2401.0</br>households: 1138.0</br>median_income: 8.3014</br>ocean_proximity: NEAR BAY</br>_original_yhat_: 451020.9776472536</br>\"],[\"</br>id: 0</br>prediction: 632505.969</br>total_rooms: 36174.56</br></br>longitude: -122.22</br>latitude: 37.86</br>housing_median_age: 21.0</br>total_bedrooms: 1106.0</br>population: 2401.0</br>households: 1138.0</br>median_income: 8.3014</br>ocean_proximity: NEAR BAY</br>_original_yhat_: 451020.9776472536</br>\"],[\"</br>id: 0</br>prediction: 634261.31</br>total_rooms: 36567.74</br></br>longitude: -122.22</br>latitude: 37.86</br>housing_median_age: 21.0</br>total_bedrooms: 1106.0</br>population: 2401.0</br>households: 1138.0</br>median_income: 8.3014</br>ocean_proximity: NEAR BAY</br>_original_yhat_: 451020.9776472536</br>\"],[\"</br>id: 0</br>prediction: 636001.979</br>total_rooms: 36960.92</br></br>longitude: -122.22</br>latitude: 37.86</br>housing_median_age: 21.0</br>total_bedrooms: 1106.0</br>population: 2401.0</br>households: 1138.0</br>median_income: 8.3014</br>ocean_proximity: NEAR BAY</br>_original_yhat_: 451020.9776472536</br>\"],[\"</br>id: 0</br>prediction: 637728.251</br>total_rooms: 37354.1</br></br>longitude: -122.22</br>latitude: 37.86</br>housing_median_age: 21.0</br>total_bedrooms: 1106.0</br>population: 2401.0</br>households: 1138.0</br>median_income: 8.3014</br>ocean_proximity: NEAR BAY</br>_original_yhat_: 451020.9776472536</br>\"],[\"</br>id: 0</br>prediction: 639440.395</br>total_rooms: 37747.28</br></br>longitude: -122.22</br>latitude: 37.86</br>housing_median_age: 21.0</br>total_bedrooms: 1106.0</br>population: 2401.0</br>households: 1138.0</br>median_income: 8.3014</br>ocean_proximity: NEAR BAY</br>_original_yhat_: 451020.9776472536</br>\"],[\"</br>id: 0</br>prediction: 641138.673</br>total_rooms: 38140.46</br></br>longitude: -122.22</br>latitude: 37.86</br>housing_median_age: 21.0</br>total_bedrooms: 1106.0</br>population: 2401.0</br>households: 1138.0</br>median_income: 8.3014</br>ocean_proximity: NEAR BAY</br>_original_yhat_: 451020.9776472536</br>\"],[\"</br>id: 0</br>prediction: 642823.337</br>total_rooms: 38533.64</br></br>longitude: -122.22</br>latitude: 37.86</br>housing_median_age: 21.0</br>total_bedrooms: 1106.0</br>population: 2401.0</br>households: 1138.0</br>median_income: 8.3014</br>ocean_proximity: NEAR BAY</br>_original_yhat_: 451020.9776472536</br>\"],[\"</br>id: 0</br>prediction: 644494.635</br>total_rooms: 38926.82</br></br>longitude: -122.22</br>latitude: 37.86</br>housing_median_age: 21.0</br>total_bedrooms: 1106.0</br>population: 2401.0</br>households: 1138.0</br>median_income: 8.3014</br>ocean_proximity: NEAR BAY</br>_original_yhat_: 451020.9776472536</br>\"],[\"</br>id: 0</br>prediction: 646152.805</br>total_rooms: 39320.0</br></br>longitude: -122.22</br>latitude: 37.86</br>housing_median_age: 21.0</br>total_bedrooms: 1106.0</br>population: 2401.0</br>households: 1138.0</br>median_income: 8.3014</br>ocean_proximity: NEAR BAY</br>_original_yhat_: 451020.9776472536</br>\"]],\"hovertemplate\":\"%{customdata[0]}<extra></extra>\",\"legendgroup\":\"MLP with onehot encoding and power transformaiton\",\"line\":{\"color\":\"#ffa58c\",\"dash\":\"solid\",\"width\":2},\"marker\":{\"symbol\":\"circle\"},\"mode\":\"lines\",\"name\":\"MLP with onehot encoding and power transformaiton\",\"orientation\":\"v\",\"showlegend\":false,\"x\":[2.0,395.18,788.36,1181.54,1574.72,1967.9,2361.08,2754.26,3147.44,3540.62,3933.8,4326.9800000000005,4720.16,5113.34,5506.52,5899.7,6292.88,6686.06,7079.24,7099.0,7472.42,7865.6,8258.78,8651.960000000001,9045.14,9438.32,9831.5,10224.68,10617.86,11011.04,11404.22,11797.4,12190.58,12583.76,12976.94,13370.12,13763.300000000001,14156.48,14549.66,14942.84,15336.02,15729.2,16122.380000000001,16515.56,16908.74,17301.920000000002,17695.1,18088.28,18481.46,18874.64,19267.82,19661.0,20054.18,20447.36,20840.54,21233.72,21626.9,22020.08,22413.260000000002,22806.44,23199.62,23592.8,23985.98,24379.16,24772.34,25165.52,25558.7,25951.88,26345.06,26738.24,27131.420000000002,27524.600000000002,27917.78,28310.96,28704.14,29097.32,29490.5,29883.68,30276.86,30670.04,31063.22,31456.4,31849.58,32242.760000000002,32635.940000000002,33029.12,33422.3,33815.48,34208.66,34601.840000000004,34995.020000000004,35388.2,35781.38,36174.56,36567.74,36960.92,37354.1,37747.28,38140.46,38533.64,38926.82,39320.0],\"xaxis\":\"x2\",\"y\":[718231.6075932144,550562.4430741944,512541.7187808826,500439.38175256917,491169.50941778213,483562.5863499776,477063.3645754365,471360.9958605795,466262.52510183543,461639.3179497322,457400.9998284,453481.46586878115,449830.7936523215,446410.28966205736,443189.3104978016,440143.14324055344,441463.1147570314,446237.28386576194,450797.08533717407,451020.97764725366,455163.28580461896,459353.6716975201,463383.6023304081,467266.4392413531,471013.8837696086,474636.24557579705,478142.65848838416,481541.25567982736,484839.31308848213,488043.3677930294,491159.3164429969,494192.49767055636,497147.7615323684,500029.52837123425,502841.8389867264,505588.3976201134,508272.6089619348,510897.6101589544,513466.29861513723,515981.3562371301,518445.2706597883,520860.35389506555,523228.7587731417,525552.4934842023,527833.4344799473,530073.3379534008,532273.8500821985,534436.5161928621,536562.7889805415,538654.0358994575,540711.5458231277,542736.5350598572,544730.152797463,546693.4860414483,548627.5641025212,550956.704053991,553609.5628560773,556225.0329462937,558804.2949480948,561348.4722812898,563858.6348659855,566335.8025283592,568780.9481368065,571195.0004938593,573578.8470064956,575933.3361550581,578259.2797788603,580557.4551946868,582828.607162737,585073.4497131034,587292.6678445658,589486.9191063491,591656.8350724466,593803.0227172147,595926.0657001203,598026.5255667986,600104.9428729236,602161.8382368103,604197.7133261419,606213.0517837433,608208.3200968942,610183.9684142941,612140.4313144453,614078.1285288993,615997.4656235401,617898.8346408084,619782.6147055437,621649.1725969089,623498.8632886645,625332.0304598866,627149.0069780652,628950.1153563624,630735.6681866886,632505.968550124,634261.3104061024,636001.978961675,637728.251022068,639440.3953236752,641138.6728505329,642823.3371352607,644494.6345453794,646152.8045558585],\"yaxis\":\"y2\",\"type\":\"scatter\",\"opacity\":1},{\"customdata\":[[\"</br>id: 0</br>prediction: 456419.651</br>total_bedrooms: 1106.0</br></br>longitude: -122.22</br>latitude: 37.86</br>housing_median_age: 21.0</br>total_rooms: 7099.0</br>population: 2401.0</br>households: 1138.0</br>median_income: 8.3014</br>ocean_proximity: NEAR BAY</br>_original_yhat_: 456419.6510733085</br>\"],[\"</br>id: 0</br>prediction: 477045.942</br>total_bedrooms: 1106.0</br></br>longitude: -122.22</br>latitude: 37.86</br>housing_median_age: 21.0</br>total_rooms: 7099.0</br>population: 2401.0</br>households: 1138.0</br>median_income: 8.3014</br>ocean_proximity: NEAR BAY</br>_original_yhat_: 477045.9424363552</br>\"],[\"</br>id: 0</br>prediction: 407689.227</br>total_bedrooms: 1106.0</br></br>longitude: -122.22</br>latitude: 37.86</br>housing_median_age: 21.0</br>total_rooms: 7099.0</br>population: 2401.0</br>households: 1138.0</br>median_income: 8.3014</br>ocean_proximity: NEAR BAY</br>_original_yhat_: 407689.22668987606</br>\"],[\"</br>id: 0</br>prediction: 451020.978</br>total_bedrooms: 1106.0</br></br>longitude: -122.22</br>latitude: 37.86</br>housing_median_age: 21.0</br>total_rooms: 7099.0</br>population: 2401.0</br>households: 1138.0</br>median_income: 8.3014</br>ocean_proximity: NEAR BAY</br>_original_yhat_: 451020.9776472536</br>\"]],\"hovertemplate\":\"%{customdata[0]}<extra></extra>\",\"legendgroup\":\"\",\"marker\":{\"color\":\"#371ea3\",\"size\":10,\"symbol\":\"circle\"},\"mode\":\"markers\",\"name\":\"\",\"opacity\":1,\"orientation\":\"v\",\"showlegend\":false,\"x\":[1106.0,1106.0,1106.0,1106.0],\"xaxis\":\"x\",\"y\":[456419.65107330855,477045.9424363552,407689.22668987594,451020.97764725366],\"yaxis\":\"y\",\"type\":\"scatter\"},{\"customdata\":[[\"</br>id: 0</br>prediction: 456419.651</br>total_rooms: 7099.0</br></br>longitude: -122.22</br>latitude: 37.86</br>housing_median_age: 21.0</br>total_bedrooms: 1106.0</br>population: 2401.0</br>households: 1138.0</br>median_income: 8.3014</br>ocean_proximity: NEAR BAY</br>_original_yhat_: 456419.6510733085</br>\"],[\"</br>id: 0</br>prediction: 477045.942</br>total_rooms: 7099.0</br></br>longitude: -122.22</br>latitude: 37.86</br>housing_median_age: 21.0</br>total_bedrooms: 1106.0</br>population: 2401.0</br>households: 1138.0</br>median_income: 8.3014</br>ocean_proximity: NEAR BAY</br>_original_yhat_: 477045.9424363552</br>\"],[\"</br>id: 0</br>prediction: 407689.227</br>total_rooms: 7099.0</br></br>longitude: -122.22</br>latitude: 37.86</br>housing_median_age: 21.0</br>total_bedrooms: 1106.0</br>population: 2401.0</br>households: 1138.0</br>median_income: 8.3014</br>ocean_proximity: NEAR BAY</br>_original_yhat_: 407689.22668987606</br>\"],[\"</br>id: 0</br>prediction: 451020.978</br>total_rooms: 7099.0</br></br>longitude: -122.22</br>latitude: 37.86</br>housing_median_age: 21.0</br>total_bedrooms: 1106.0</br>population: 2401.0</br>households: 1138.0</br>median_income: 8.3014</br>ocean_proximity: NEAR BAY</br>_original_yhat_: 451020.9776472536</br>\"]],\"hovertemplate\":\"%{customdata[0]}<extra></extra>\",\"legendgroup\":\"\",\"marker\":{\"color\":\"#371ea3\",\"size\":10,\"symbol\":\"circle\"},\"mode\":\"markers\",\"name\":\"\",\"opacity\":1,\"orientation\":\"v\",\"showlegend\":false,\"x\":[7099.0,7099.0,7099.0,7099.0],\"xaxis\":\"x2\",\"y\":[456419.65107330855,477045.9424363552,407689.22668987594,451020.97764725366],\"yaxis\":\"y2\",\"type\":\"scatter\"}],                        {\"template\":{\"data\":{\"scatter\":[{\"type\":\"scatter\"}]}},\"xaxis\":{\"anchor\":\"y\",\"domain\":[0.0,0.475],\"title\":{\"text\":\"\"},\"showticklabels\":true,\"type\":\"linear\",\"gridwidth\":2,\"zeroline\":false,\"automargin\":true,\"ticks\":\"outside\",\"tickcolor\":\"white\",\"ticklen\":3,\"fixedrange\":true},\"yaxis\":{\"anchor\":\"x\",\"domain\":[0.0,1.0],\"title\":{\"text\":\"\"},\"type\":\"linear\",\"gridwidth\":2,\"zeroline\":false,\"automargin\":true,\"ticks\":\"outside\",\"tickcolor\":\"white\",\"ticklen\":3,\"fixedrange\":true,\"range\":[168380.7960589688,2299176.6492721704]},\"xaxis2\":{\"anchor\":\"y2\",\"domain\":[0.525,1.0],\"title\":{\"text\":\"\"},\"showticklabels\":true,\"type\":\"linear\",\"gridwidth\":2,\"zeroline\":false,\"automargin\":true,\"ticks\":\"outside\",\"tickcolor\":\"white\",\"ticklen\":3,\"fixedrange\":true},\"yaxis2\":{\"anchor\":\"x2\",\"domain\":[0.0,1.0],\"matches\":\"y\",\"showticklabels\":false,\"type\":\"linear\",\"gridwidth\":2,\"zeroline\":false,\"automargin\":true,\"ticks\":\"outside\",\"tickcolor\":\"white\",\"ticklen\":3,\"fixedrange\":true,\"range\":[168380.7960589688,2299176.6492721704],\"title\":{\"text\":\"\"}},\"annotations\":[{\"font\":{\"size\":13},\"showarrow\":false,\"text\":\"total_bedrooms\",\"x\":0.2375,\"xanchor\":\"center\",\"xref\":\"paper\",\"y\":1.0,\"yanchor\":\"bottom\",\"yref\":\"paper\"},{\"font\":{\"size\":13},\"showarrow\":false,\"text\":\"total_rooms\",\"x\":0.7625,\"xanchor\":\"center\",\"xref\":\"paper\",\"y\":1.0,\"yanchor\":\"bottom\",\"yref\":\"paper\"},{\"font\":{\"size\":13},\"showarrow\":false,\"text\":\"prediction\",\"textangle\":-90,\"x\":-0.07,\"xref\":\"paper\",\"y\":0.5,\"yref\":\"paper\"}],\"legend\":{\"title\":{\"text\":\"label\",\"font\":{\"size\":12}},\"tracegroupgap\":0,\"font\":{\"size\":11},\"orientation\":\"h\",\"yanchor\":\"bottom\",\"y\":1.0613496932515338,\"xanchor\":\"right\",\"x\":1,\"itemsizing\":\"constant\"},\"margin\":{\"t\":78,\"b\":71,\"r\":30},\"font\":{\"color\":\"#371ea3\"},\"title\":{\"font\":{\"size\":16},\"text\":\"Ceteris Paribus Profiles\",\"x\":0.15},\"hovermode\":\"closest\",\"height\":489,\"hoverlabel\":{\"bgcolor\":\"rgba(0,0,0,0.8)\"}},                        {\"displaylogo\": false, \"staticPlot\": false, \"toImageButtonOptions\": {\"height\": null, \"width\": null}, \"modeBarButtonsToRemove\": [\"sendDataToCloud\", \"lasso2d\", \"autoScale2d\", \"select2d\", \"zoom2d\", \"pan2d\", \"zoomIn2d\", \"zoomOut2d\", \"resetScale2d\", \"toggleSpikelines\", \"hoverCompareCartesian\", \"hoverClosestCartesian\"], \"responsive\": true}                    ).then(function(){\n",
       "                            \n",
       "var gd = document.getElementById('1e302cad-78d4-4169-8150-0d66655fc585');\n",
       "var x = new MutationObserver(function (mutations, observer) {{\n",
       "        var display = window.getComputedStyle(gd).display;\n",
       "        if (!display || display === 'none') {{\n",
       "            console.log([gd, 'removed!']);\n",
       "            Plotly.purge(gd);\n",
       "            observer.disconnect();\n",
       "        }}\n",
       "}});\n",
       "\n",
       "// Listen for the removal of the full notebook cells\n",
       "var notebookContainer = gd.closest('#notebook-container');\n",
       "if (notebookContainer) {{\n",
       "    x.observe(notebookContainer, {childList: true});\n",
       "}}\n",
       "\n",
       "// Listen for the clearing of the current output cell\n",
       "var outputEl = gd.closest('.output');\n",
       "if (outputEl) {{\n",
       "    x.observe(outputEl, {childList: true});\n",
       "}}\n",
       "\n",
       "                        })                };                });            </script>        </div>"
      ]
     },
     "metadata": {},
     "output_type": "display_data"
    }
   ],
   "source": [
    "cp_ordinal.plot(\n",
    "    [cp_ordinal_power, cp_hot, cp_hot_power],\n",
    "    variables=[\"total_bedrooms\", \"total_rooms\"],\n",
    ")"
   ]
  },
  {
   "cell_type": "markdown",
   "metadata": {},
   "source": [
    "## Comparing variable importance "
   ]
  },
  {
   "cell_type": "code",
   "execution_count": 46,
   "metadata": {},
   "outputs": [],
   "source": [
    "df_ordinal = exp_ordinal.model_parts().result\n",
    "df_ordinal[\"label\"] = \"ordinal\"\n",
    "df_ordinal_power = exp_ordinal_power.model_parts().result\n",
    "df_ordinal_power[\"label\"] = \"ordinal_power\"\n",
    "\n",
    "df = pd.concat([df_ordinal, df_ordinal_power])"
   ]
  },
  {
   "cell_type": "code",
   "execution_count": 50,
   "metadata": {},
   "outputs": [
    {
     "data": {
      "text/plain": [
       "<AxesSubplot:xlabel='variable', ylabel='dropout_loss'>"
      ]
     },
     "execution_count": 50,
     "metadata": {},
     "output_type": "execute_result"
    },
    {
     "data": {
      "image/png": "[encoded data removed]",
      "text/plain": [
       "<Figure size 864x1152 with 1 Axes>"
      ]
     },
     "metadata": {},
     "output_type": "display_data"
    }
   ],
   "source": [
    "sns.set(rc={\"figure.figsize\": (12, 16)})\n",
    "\n",
    "sns.barplot(x=\"variable\", y=\"dropout_loss\", hue=\"label\", data=df)"
   ]
  }
 ],
 "metadata": {
  "interpreter": {
   "hash": "ba48d6b592de4413469d41fbbc1baaa0eb6042c5d519f9b4ec7f4515281862f8"
  },
  "kernelspec": {
   "display_name": "Python 3.9.2 ('WB2022')",
   "language": "python",
   "name": "python3"
  },
  "language_info": {
   "codemirror_mode": {
    "name": "ipython",
    "version": 3
   },
   "file_extension": ".py",
   "mimetype": "text/x-python",
   "name": "python",
   "nbconvert_exporter": "python",
   "pygments_lexer": "ipython3",
   "version": "3.9.2"
  },
  "orig_nbformat": 4
 },
 "nbformat": 4,
 "nbformat_minor": 2
}
